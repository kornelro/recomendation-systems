{
 "cells": [
  {
   "cell_type": "code",
   "execution_count": null,
   "metadata": {
    "collapsed": true,
    "pycharm": {
     "is_executing": false
    }
   },
   "outputs": [],
   "source": [
    "import pandas as pd\n",
    "import matplotlib.pyplot as plt\n",
    "import seaborn as sns"
   ]
  },
  {
   "cell_type": "code",
   "execution_count": null,
   "outputs": [],
   "source": [
    "vendors = pd.read_csv(\"../data/vendors.csv\")"
   ],
   "metadata": {
    "collapsed": false,
    "pycharm": {
     "name": "#%%\n",
     "is_executing": false
    }
   }
  },
  {
   "cell_type": "code",
   "execution_count": 277,
   "outputs": [
    {
     "data": {
      "text/plain": "   id  authentication_id  latitude  longitude vendor_category_en  \\\n0   4           118597.0 -0.588596   0.754434        Restaurants   \n1  13           118608.0 -0.471654   0.744470        Restaurants   \n2  20           118616.0 -0.407527   0.643681        Restaurants   \n3  23           118619.0 -0.585385   0.753811        Restaurants   \n4  28           118624.0  0.480602   0.552850        Restaurants   \n\n   vendor_category_id  delivery_charge  serving_distance  is_open  \\\n0                 2.0              0.0               6.0      1.0   \n1                 2.0              0.7               5.0      1.0   \n2                 2.0              0.0               8.0      1.0   \n3                 2.0              0.0               5.0      1.0   \n4                 2.0              0.7              15.0      1.0   \n\n       OpeningTime  ... open_close_flags                 vendor_tag  \\\n0  11:00AM-11:30PM  ...              1.0  2,4,5,8,91,22,12,24,16,23   \n1  08:30AM-10:30PM  ...              1.0  4,41,51,34,27,15,24,16,28   \n2  08:00AM-10:45PM  ...              1.0                  4,8,91,10   \n3  10:59AM-10:30PM  ...              1.0                  5,8,30,24   \n4  11:00AM-11:45PM  ...              1.0                          5   \n\n                                     vendor_tag_name one_click_vendor  \\\n0  Arabic,Breakfast,Burgers,Desserts,Free Deliver...                Y   \n1  Breakfast,Cakes,Crepes,Italian,Pasta,Pizzas,Sa...                Y   \n2            Breakfast,Desserts,Free Delivery,Indian                Y   \n3                      Burgers,Desserts,Fries,Salads                Y   \n4                                            Burgers                Y   \n\n   country_id  city_id           created_at           updated_at device_type  \\\n0         1.0      1.0  2018-01-30 14:42:04  2020-04-07 15:12:43           3   \n1         1.0      1.0  2018-05-03 12:32:06  2020-04-05 20:46:03           3   \n2         1.0      1.0  2018-05-04 22:28:22  2020-04-07 16:35:55           3   \n3         1.0      1.0  2018-05-06 19:20:48  2020-04-02 00:56:17           3   \n4         1.0      1.0  2018-05-17 22:12:38  2020-04-05 15:57:41           3   \n\n   display_orders  \n0               1  \n1               1  \n2               1  \n3               1  \n4               1  \n\n[5 rows x 59 columns]",
      "text/html": "<div>\n<style scoped>\n    .dataframe tbody tr th:only-of-type {\n        vertical-align: middle;\n    }\n\n    .dataframe tbody tr th {\n        vertical-align: top;\n    }\n\n    .dataframe thead th {\n        text-align: right;\n    }\n</style>\n<table border=\"1\" class=\"dataframe\">\n  <thead>\n    <tr style=\"text-align: right;\">\n      <th></th>\n      <th>id</th>\n      <th>authentication_id</th>\n      <th>latitude</th>\n      <th>longitude</th>\n      <th>vendor_category_en</th>\n      <th>vendor_category_id</th>\n      <th>delivery_charge</th>\n      <th>serving_distance</th>\n      <th>is_open</th>\n      <th>OpeningTime</th>\n      <th>...</th>\n      <th>open_close_flags</th>\n      <th>vendor_tag</th>\n      <th>vendor_tag_name</th>\n      <th>one_click_vendor</th>\n      <th>country_id</th>\n      <th>city_id</th>\n      <th>created_at</th>\n      <th>updated_at</th>\n      <th>device_type</th>\n      <th>display_orders</th>\n    </tr>\n  </thead>\n  <tbody>\n    <tr>\n      <th>0</th>\n      <td>4</td>\n      <td>118597.0</td>\n      <td>-0.588596</td>\n      <td>0.754434</td>\n      <td>Restaurants</td>\n      <td>2.0</td>\n      <td>0.0</td>\n      <td>6.0</td>\n      <td>1.0</td>\n      <td>11:00AM-11:30PM</td>\n      <td>...</td>\n      <td>1.0</td>\n      <td>2,4,5,8,91,22,12,24,16,23</td>\n      <td>Arabic,Breakfast,Burgers,Desserts,Free Deliver...</td>\n      <td>Y</td>\n      <td>1.0</td>\n      <td>1.0</td>\n      <td>2018-01-30 14:42:04</td>\n      <td>2020-04-07 15:12:43</td>\n      <td>3</td>\n      <td>1</td>\n    </tr>\n    <tr>\n      <th>1</th>\n      <td>13</td>\n      <td>118608.0</td>\n      <td>-0.471654</td>\n      <td>0.744470</td>\n      <td>Restaurants</td>\n      <td>2.0</td>\n      <td>0.7</td>\n      <td>5.0</td>\n      <td>1.0</td>\n      <td>08:30AM-10:30PM</td>\n      <td>...</td>\n      <td>1.0</td>\n      <td>4,41,51,34,27,15,24,16,28</td>\n      <td>Breakfast,Cakes,Crepes,Italian,Pasta,Pizzas,Sa...</td>\n      <td>Y</td>\n      <td>1.0</td>\n      <td>1.0</td>\n      <td>2018-05-03 12:32:06</td>\n      <td>2020-04-05 20:46:03</td>\n      <td>3</td>\n      <td>1</td>\n    </tr>\n    <tr>\n      <th>2</th>\n      <td>20</td>\n      <td>118616.0</td>\n      <td>-0.407527</td>\n      <td>0.643681</td>\n      <td>Restaurants</td>\n      <td>2.0</td>\n      <td>0.0</td>\n      <td>8.0</td>\n      <td>1.0</td>\n      <td>08:00AM-10:45PM</td>\n      <td>...</td>\n      <td>1.0</td>\n      <td>4,8,91,10</td>\n      <td>Breakfast,Desserts,Free Delivery,Indian</td>\n      <td>Y</td>\n      <td>1.0</td>\n      <td>1.0</td>\n      <td>2018-05-04 22:28:22</td>\n      <td>2020-04-07 16:35:55</td>\n      <td>3</td>\n      <td>1</td>\n    </tr>\n    <tr>\n      <th>3</th>\n      <td>23</td>\n      <td>118619.0</td>\n      <td>-0.585385</td>\n      <td>0.753811</td>\n      <td>Restaurants</td>\n      <td>2.0</td>\n      <td>0.0</td>\n      <td>5.0</td>\n      <td>1.0</td>\n      <td>10:59AM-10:30PM</td>\n      <td>...</td>\n      <td>1.0</td>\n      <td>5,8,30,24</td>\n      <td>Burgers,Desserts,Fries,Salads</td>\n      <td>Y</td>\n      <td>1.0</td>\n      <td>1.0</td>\n      <td>2018-05-06 19:20:48</td>\n      <td>2020-04-02 00:56:17</td>\n      <td>3</td>\n      <td>1</td>\n    </tr>\n    <tr>\n      <th>4</th>\n      <td>28</td>\n      <td>118624.0</td>\n      <td>0.480602</td>\n      <td>0.552850</td>\n      <td>Restaurants</td>\n      <td>2.0</td>\n      <td>0.7</td>\n      <td>15.0</td>\n      <td>1.0</td>\n      <td>11:00AM-11:45PM</td>\n      <td>...</td>\n      <td>1.0</td>\n      <td>5</td>\n      <td>Burgers</td>\n      <td>Y</td>\n      <td>1.0</td>\n      <td>1.0</td>\n      <td>2018-05-17 22:12:38</td>\n      <td>2020-04-05 15:57:41</td>\n      <td>3</td>\n      <td>1</td>\n    </tr>\n  </tbody>\n</table>\n<p>5 rows × 59 columns</p>\n</div>"
     },
     "metadata": {},
     "output_type": "execute_result",
     "execution_count": 277
    }
   ],
   "source": [
    "vendors.head()"
   ],
   "metadata": {
    "collapsed": false,
    "pycharm": {
     "name": "#%%\n",
     "is_executing": false
    }
   }
  },
  {
   "cell_type": "code",
   "execution_count": 278,
   "outputs": [
    {
     "data": {
      "text/plain": "               id  authentication_id    latitude   longitude  \\\ncount  100.000000         100.000000  100.000000  100.000000   \nmean   288.840000      120050.760000    1.875505    0.803682   \nstd    242.299994        3509.069064   20.600857    4.397859   \nmin      4.000000      118597.000000   -1.787413   -1.449556   \n25%    105.750000      118702.750000   -0.809124    0.081618   \n50%    202.000000      118801.000000   -0.493421    0.527123   \n75%    387.250000      118990.250000    0.015915    0.644764   \nmax    907.000000      132953.000000  205.242327   44.210807   \n\n       vendor_category_id  delivery_charge  serving_distance    is_open  \\\ncount          100.000000       100.000000        100.000000  100.00000   \nmean             2.110000         0.413000         11.750000    0.85000   \nstd              0.314466         0.346018          4.108073    0.35887   \nmin              2.000000         0.000000          2.000000    0.00000   \n25%              2.000000         0.000000          8.000000    1.00000   \n50%              2.000000         0.700000         15.000000    1.00000   \n75%              2.000000         0.700000         15.000000    1.00000   \nmax              3.000000         0.700000         15.000000    1.00000   \n\n       prepration_time  commission  discount_percentage     status  \\\ncount        100.00000        85.0           100.000000  100.00000   \nmean          14.03000         0.0             1.100000    0.85000   \nstd            4.31688         0.0             6.299751    0.35887   \nmin            5.00000         0.0             0.000000    0.00000   \n25%           10.00000         0.0             0.000000    1.00000   \n50%           15.00000         0.0             0.000000    1.00000   \n75%           15.00000         0.0             0.000000    1.00000   \nmax           45.00000         0.0            50.000000    1.00000   \n\n         verified       rank  vendor_rating  open_close_flags  country_id  \\\ncount  100.000000  100.00000     100.000000             100.0       100.0   \nmean     0.880000    9.90000       4.350000               1.0         1.0   \nstd      0.326599    3.14466       0.248836               0.0         0.0   \nmin      0.000000    1.00000       3.200000               1.0         1.0   \n25%      1.000000   11.00000       4.200000               1.0         1.0   \n50%      1.000000   11.00000       4.400000               1.0         1.0   \n75%      1.000000   11.00000       4.500000               1.0         1.0   \nmax      1.000000   11.00000       4.800000               1.0         1.0   \n\n       city_id  device_type  display_orders  \ncount    100.0       100.00           100.0  \nmean       1.0         2.98             1.0  \nstd        0.0         0.20             0.0  \nmin        1.0         1.00             1.0  \n25%        1.0         3.00             1.0  \n50%        1.0         3.00             1.0  \n75%        1.0         3.00             1.0  \nmax        1.0         3.00             1.0  ",
      "text/html": "<div>\n<style scoped>\n    .dataframe tbody tr th:only-of-type {\n        vertical-align: middle;\n    }\n\n    .dataframe tbody tr th {\n        vertical-align: top;\n    }\n\n    .dataframe thead th {\n        text-align: right;\n    }\n</style>\n<table border=\"1\" class=\"dataframe\">\n  <thead>\n    <tr style=\"text-align: right;\">\n      <th></th>\n      <th>id</th>\n      <th>authentication_id</th>\n      <th>latitude</th>\n      <th>longitude</th>\n      <th>vendor_category_id</th>\n      <th>delivery_charge</th>\n      <th>serving_distance</th>\n      <th>is_open</th>\n      <th>prepration_time</th>\n      <th>commission</th>\n      <th>discount_percentage</th>\n      <th>status</th>\n      <th>verified</th>\n      <th>rank</th>\n      <th>vendor_rating</th>\n      <th>open_close_flags</th>\n      <th>country_id</th>\n      <th>city_id</th>\n      <th>device_type</th>\n      <th>display_orders</th>\n    </tr>\n  </thead>\n  <tbody>\n    <tr>\n      <th>count</th>\n      <td>100.000000</td>\n      <td>100.000000</td>\n      <td>100.000000</td>\n      <td>100.000000</td>\n      <td>100.000000</td>\n      <td>100.000000</td>\n      <td>100.000000</td>\n      <td>100.00000</td>\n      <td>100.00000</td>\n      <td>85.0</td>\n      <td>100.000000</td>\n      <td>100.00000</td>\n      <td>100.000000</td>\n      <td>100.00000</td>\n      <td>100.000000</td>\n      <td>100.0</td>\n      <td>100.0</td>\n      <td>100.0</td>\n      <td>100.00</td>\n      <td>100.0</td>\n    </tr>\n    <tr>\n      <th>mean</th>\n      <td>288.840000</td>\n      <td>120050.760000</td>\n      <td>1.875505</td>\n      <td>0.803682</td>\n      <td>2.110000</td>\n      <td>0.413000</td>\n      <td>11.750000</td>\n      <td>0.85000</td>\n      <td>14.03000</td>\n      <td>0.0</td>\n      <td>1.100000</td>\n      <td>0.85000</td>\n      <td>0.880000</td>\n      <td>9.90000</td>\n      <td>4.350000</td>\n      <td>1.0</td>\n      <td>1.0</td>\n      <td>1.0</td>\n      <td>2.98</td>\n      <td>1.0</td>\n    </tr>\n    <tr>\n      <th>std</th>\n      <td>242.299994</td>\n      <td>3509.069064</td>\n      <td>20.600857</td>\n      <td>4.397859</td>\n      <td>0.314466</td>\n      <td>0.346018</td>\n      <td>4.108073</td>\n      <td>0.35887</td>\n      <td>4.31688</td>\n      <td>0.0</td>\n      <td>6.299751</td>\n      <td>0.35887</td>\n      <td>0.326599</td>\n      <td>3.14466</td>\n      <td>0.248836</td>\n      <td>0.0</td>\n      <td>0.0</td>\n      <td>0.0</td>\n      <td>0.20</td>\n      <td>0.0</td>\n    </tr>\n    <tr>\n      <th>min</th>\n      <td>4.000000</td>\n      <td>118597.000000</td>\n      <td>-1.787413</td>\n      <td>-1.449556</td>\n      <td>2.000000</td>\n      <td>0.000000</td>\n      <td>2.000000</td>\n      <td>0.00000</td>\n      <td>5.00000</td>\n      <td>0.0</td>\n      <td>0.000000</td>\n      <td>0.00000</td>\n      <td>0.000000</td>\n      <td>1.00000</td>\n      <td>3.200000</td>\n      <td>1.0</td>\n      <td>1.0</td>\n      <td>1.0</td>\n      <td>1.00</td>\n      <td>1.0</td>\n    </tr>\n    <tr>\n      <th>25%</th>\n      <td>105.750000</td>\n      <td>118702.750000</td>\n      <td>-0.809124</td>\n      <td>0.081618</td>\n      <td>2.000000</td>\n      <td>0.000000</td>\n      <td>8.000000</td>\n      <td>1.00000</td>\n      <td>10.00000</td>\n      <td>0.0</td>\n      <td>0.000000</td>\n      <td>1.00000</td>\n      <td>1.000000</td>\n      <td>11.00000</td>\n      <td>4.200000</td>\n      <td>1.0</td>\n      <td>1.0</td>\n      <td>1.0</td>\n      <td>3.00</td>\n      <td>1.0</td>\n    </tr>\n    <tr>\n      <th>50%</th>\n      <td>202.000000</td>\n      <td>118801.000000</td>\n      <td>-0.493421</td>\n      <td>0.527123</td>\n      <td>2.000000</td>\n      <td>0.700000</td>\n      <td>15.000000</td>\n      <td>1.00000</td>\n      <td>15.00000</td>\n      <td>0.0</td>\n      <td>0.000000</td>\n      <td>1.00000</td>\n      <td>1.000000</td>\n      <td>11.00000</td>\n      <td>4.400000</td>\n      <td>1.0</td>\n      <td>1.0</td>\n      <td>1.0</td>\n      <td>3.00</td>\n      <td>1.0</td>\n    </tr>\n    <tr>\n      <th>75%</th>\n      <td>387.250000</td>\n      <td>118990.250000</td>\n      <td>0.015915</td>\n      <td>0.644764</td>\n      <td>2.000000</td>\n      <td>0.700000</td>\n      <td>15.000000</td>\n      <td>1.00000</td>\n      <td>15.00000</td>\n      <td>0.0</td>\n      <td>0.000000</td>\n      <td>1.00000</td>\n      <td>1.000000</td>\n      <td>11.00000</td>\n      <td>4.500000</td>\n      <td>1.0</td>\n      <td>1.0</td>\n      <td>1.0</td>\n      <td>3.00</td>\n      <td>1.0</td>\n    </tr>\n    <tr>\n      <th>max</th>\n      <td>907.000000</td>\n      <td>132953.000000</td>\n      <td>205.242327</td>\n      <td>44.210807</td>\n      <td>3.000000</td>\n      <td>0.700000</td>\n      <td>15.000000</td>\n      <td>1.00000</td>\n      <td>45.00000</td>\n      <td>0.0</td>\n      <td>50.000000</td>\n      <td>1.00000</td>\n      <td>1.000000</td>\n      <td>11.00000</td>\n      <td>4.800000</td>\n      <td>1.0</td>\n      <td>1.0</td>\n      <td>1.0</td>\n      <td>3.00</td>\n      <td>1.0</td>\n    </tr>\n  </tbody>\n</table>\n</div>"
     },
     "metadata": {},
     "output_type": "execute_result",
     "execution_count": 278
    }
   ],
   "source": [
    "vendors.describe()"
   ],
   "metadata": {
    "collapsed": false,
    "pycharm": {
     "name": "#%%\n",
     "is_executing": false
    }
   }
  },
  {
   "cell_type": "code",
   "execution_count": null,
   "outputs": [],
   "source": [
    "sns.histplot(vendors['id'])"
   ],
   "metadata": {
    "collapsed": false,
    "pycharm": {
     "name": "#%%\n",
     "is_executing": false
    }
   }
  },
  {
   "cell_type": "code",
   "execution_count": 279,
   "outputs": [
    {
     "name": "stdout",
     "text": [
      "<class 'pandas.core.frame.DataFrame'>\n",
      "RangeIndex: 100 entries, 0 to 99\n",
      "Data columns (total 59 columns):\n",
      " #   Column                Non-Null Count  Dtype  \n",
      "---  ------                --------------  -----  \n",
      " 0   id                    100 non-null    int64  \n",
      " 1   authentication_id     100 non-null    float64\n",
      " 2   latitude              100 non-null    float64\n",
      " 3   longitude             100 non-null    float64\n",
      " 4   vendor_category_en    100 non-null    object \n",
      " 5   vendor_category_id    100 non-null    float64\n",
      " 6   delivery_charge       100 non-null    float64\n",
      " 7   serving_distance      100 non-null    float64\n",
      " 8   is_open               100 non-null    float64\n",
      " 9   OpeningTime           91 non-null     object \n",
      " 10  OpeningTime2          91 non-null     object \n",
      " 11  prepration_time       100 non-null    int64  \n",
      " 12  commission            85 non-null     float64\n",
      " 13  is_akeed_delivering   100 non-null    object \n",
      " 14  discount_percentage   100 non-null    float64\n",
      " 15  status                100 non-null    float64\n",
      " 16  verified              100 non-null    int64  \n",
      " 17  rank                  100 non-null    int64  \n",
      " 18  language              85 non-null     object \n",
      " 19  vendor_rating         100 non-null    float64\n",
      " 20  sunday_from_time1     99 non-null     object \n",
      " 21  sunday_to_time1       99 non-null     object \n",
      " 22  sunday_from_time2     42 non-null     object \n",
      " 23  sunday_to_time2       42 non-null     object \n",
      " 24  monday_from_time1     100 non-null    object \n",
      " 25  monday_to_time1       100 non-null    object \n",
      " 26  monday_from_time2     42 non-null     object \n",
      " 27  monday_to_time2       42 non-null     object \n",
      " 28  tuesday_from_time1    99 non-null     object \n",
      " 29  tuesday_to_time1      99 non-null     object \n",
      " 30  tuesday_from_time2    41 non-null     object \n",
      " 31  tuesday_to_time2      41 non-null     object \n",
      " 32  wednesday_from_time1  100 non-null    object \n",
      " 33  wednesday_to_time1    100 non-null    object \n",
      " 34  wednesday_from_time2  42 non-null     object \n",
      " 35  wednesday_to_time2    42 non-null     object \n",
      " 36  thursday_from_time1   99 non-null     object \n",
      " 37  thursday_to_time1     99 non-null     object \n",
      " 38  thursday_from_time2   42 non-null     object \n",
      " 39  thursday_to_time2     42 non-null     object \n",
      " 40  friday_from_time1     96 non-null     object \n",
      " 41  friday_to_time1       96 non-null     object \n",
      " 42  friday_from_time2     45 non-null     object \n",
      " 43  friday_to_time2       45 non-null     object \n",
      " 44  saturday_from_time1   98 non-null     object \n",
      " 45  saturday_to_time1     98 non-null     object \n",
      " 46  saturday_from_time2   42 non-null     object \n",
      " 47  saturday_to_time2     42 non-null     object \n",
      " 48  primary_tags          77 non-null     object \n",
      " 49  open_close_flags      100 non-null    float64\n",
      " 50  vendor_tag            100 non-null    object \n",
      " 51  vendor_tag_name       100 non-null    object \n",
      " 52  one_click_vendor      100 non-null    object \n",
      " 53  country_id            100 non-null    float64\n",
      " 54  city_id               100 non-null    float64\n",
      " 55  created_at            100 non-null    object \n",
      " 56  updated_at            100 non-null    object \n",
      " 57  device_type           100 non-null    int64  \n",
      " 58  display_orders        100 non-null    int64  \n",
      "dtypes: float64(14), int64(6), object(39)\n",
      "memory usage: 46.2+ KB\n"
     ],
     "output_type": "stream"
    }
   ],
   "source": [
    "vendors.info()"
   ],
   "metadata": {
    "collapsed": false,
    "pycharm": {
     "name": "#%%\n",
     "is_executing": false
    }
   }
  },
  {
   "cell_type": "code",
   "execution_count": null,
   "outputs": [],
   "source": [
    "vendors['vendor_category_en'].value_counts()"
   ],
   "metadata": {
    "collapsed": false,
    "pycharm": {
     "name": "#%%\n",
     "is_executing": false
    }
   }
  },
  {
   "cell_type": "code",
   "execution_count": null,
   "outputs": [],
   "source": [
    "vendors['vendor_category_id'].value_counts()"
   ],
   "metadata": {
    "collapsed": false,
    "pycharm": {
     "name": "#%%\n",
     "is_executing": false
    }
   }
  },
  {
   "cell_type": "code",
   "execution_count": null,
   "outputs": [],
   "source": [
    "# possible row to delete - wrong\n",
    "vendors.loc[(vendors['vendor_category_id'] == 2.0 ) & ( vendors['vendor_category_en'] == 'Sweets & Bakes')]"
   ],
   "metadata": {
    "collapsed": false,
    "pycharm": {
     "name": "#%%\n",
     "is_executing": false
    }
   }
  },
  {
   "cell_type": "code",
   "execution_count": null,
   "outputs": [],
   "source": [
    "# possible delivery charge rate - 0.7 yes, 0.3 no\n",
    "vendors['delivery_charge'].value_counts()"
   ],
   "metadata": {
    "collapsed": false,
    "pycharm": {
     "name": "#%%\n",
     "is_executing": false
    }
   }
  },
  {
   "cell_type": "code",
   "execution_count": null,
   "outputs": [],
   "source": [
    "#how far can the restaurant deliver\n",
    "vendors['serving_distance'].hist()"
   ],
   "metadata": {
    "collapsed": false,
    "pycharm": {
     "name": "#%%\n",
     "is_executing": false
    }
   }
  },
  {
   "cell_type": "code",
   "execution_count": null,
   "outputs": [],
   "source": [
    "vendors['vendor_rating'].value_counts()"
   ],
   "metadata": {
    "collapsed": false,
    "pycharm": {
     "name": "#%%\n"
    }
   }
  },
  {
   "cell_type": "code",
   "execution_count": null,
   "outputs": [],
   "source": [
    "pd.factorize(vendors['OpeningTime'].apply(lambda x: str(x).split('-')[0]))"
   ],
   "metadata": {
    "collapsed": false,
    "pycharm": {
     "name": "#%%\n",
     "is_executing": false
    }
   }
  },
  {
   "cell_type": "code",
   "execution_count": null,
   "outputs": [],
   "source": [
    "pd.factorize(vendors['OpeningTime'].apply(lambda x:  str(x).split('-')[1] if len(str(x).split('-')) > 1 else 'nan'))"
   ],
   "metadata": {
    "collapsed": false,
    "pycharm": {
     "name": "#%%\n",
     "is_executing": false
    }
   }
  },
  {
   "cell_type": "code",
   "execution_count": null,
   "outputs": [],
   "source": [
    "vendors['prepration_time'].value_counts()"
   ],
   "metadata": {
    "collapsed": false,
    "pycharm": {
     "name": "#%%\n",
     "is_executing": false
    }
   }
  },
  {
   "cell_type": "code",
   "execution_count": null,
   "outputs": [],
   "source": [
    "vendors['discount_percentage'].value_counts()"
   ],
   "metadata": {
    "collapsed": false,
    "pycharm": {
     "name": "#%%\n",
     "is_executing": false
    }
   }
  },
  {
   "cell_type": "code",
   "execution_count": null,
   "outputs": [],
   "source": [
    "# pd.DataFrame(vendors['vendor_tag'].str.split().to_numpy())\n",
    "df = pd.DataFrame([pd.Series(x.split(',')) for x in vendors['vendor_tag']])\n",
    "# df.columns = ['team_{}'.format(x+1) for x in df.columns]\n",
    "df"
   ],
   "metadata": {
    "collapsed": false,
    "pycharm": {
     "name": "#%%\n",
     "is_executing": false
    }
   }
  },
  {
   "cell_type": "code",
   "execution_count": null,
   "outputs": [],
   "source": [
    "vendors['vendor_tag'] = vendors['vendor_tag'].fillna(\"0\")\n",
    "vendors['vendor_tag']"
   ],
   "metadata": {
    "collapsed": false,
    "pycharm": {
     "name": "#%%\n",
     "is_executing": false
    }
   }
  },
  {
   "cell_type": "code",
   "execution_count": null,
   "outputs": [],
   "source": [
    "vendors['vendor_tag_name'] = vendors['vendor_tag_name'].fillna(\"\")\n",
    "vendors['vendor_tag_name']\n",
    "\n"
   ],
   "metadata": {
    "collapsed": false,
    "pycharm": {
     "name": "#%%\n",
     "is_executing": false
    }
   }
  },
  {
   "cell_type": "code",
   "execution_count": null,
   "outputs": [],
   "source": [
    "tags = vendors[['vendor_tag', 'vendor_tag_name']]\n",
    "item_tags_dict = {}\n",
    "\n",
    "\n",
    "for index, row in tags.iterrows():\n",
    "    item_keys = row['vendor_tag'].split(',')\n",
    "    item_names = row['vendor_tag_name'].split(',')\n",
    "    item_names = [x.strip() for x in item_names]\n",
    "    for idx, item in enumerate(item_keys):\n",
    "        # print(item)\n",
    "        item_tags_dict[item] = item_names[idx]\n",
    "        \n",
    "item_tags_dict\n",
    "    "
   ],
   "metadata": {
    "collapsed": false,
    "pycharm": {
     "name": "#%%\n",
     "is_executing": false
    }
   }
  },
  {
   "cell_type": "code",
   "execution_count": null,
   "outputs": [],
   "source": [
    "x = pd.DataFrame(vendors['vendor_tag'].apply(lambda x: x.split(\",\")).explode())\n",
    "x['index'] = x.index\n",
    "x['value'] = 1\n",
    "x['vendor_tag'] = x['vendor_tag'].apply(lambda x: item_tags_dict[x])\n",
    "\n",
    "x"
   ],
   "metadata": {
    "collapsed": false,
    "pycharm": {
     "name": "#%%\n",
     "is_executing": false
    }
   }
  },
  {
   "cell_type": "code",
   "execution_count": 178,
   "outputs": [],
   "source": [
    "x_pivoted = x.pivot(columns='vendor_tag', values='value').reset_index().fillna(0)"
   ],
   "metadata": {
    "collapsed": false,
    "pycharm": {
     "name": "#%%\n",
     "is_executing": false
    }
   }
  },
  {
   "cell_type": "code",
   "execution_count": 179,
   "outputs": [],
   "source": [
    "result = pd.merge(vendors, x_pivoted, left_index=True, right_index=True)"
   ],
   "metadata": {
    "collapsed": false,
    "pycharm": {
     "name": "#%%\n",
     "is_executing": false
    }
   }
  },
  {
   "cell_type": "code",
   "execution_count": 185,
   "outputs": [
    {
     "data": {
      "text/plain": "   id  authentication_id  latitude  longitude vendor_category_en  \\\n0   4           118597.0 -0.588596   0.754434        Restaurants   \n1  13           118608.0 -0.471654   0.744470        Restaurants   \n2  20           118616.0 -0.407527   0.643681        Restaurants   \n3  23           118619.0 -0.585385   0.753811        Restaurants   \n4  28           118624.0  0.480602   0.552850        Restaurants   \n\n   vendor_category_id  delivery_charge  serving_distance  is_open  \\\n0                 2.0              0.0               6.0      1.0   \n1                 2.0              0.7               5.0      1.0   \n2                 2.0              0.0               8.0      1.0   \n3                 2.0              0.0               5.0      1.0   \n4                 2.0              0.7              15.0      1.0   \n\n       OpeningTime  ... Smoothies  Soups  Spanish Latte Steaks  Sushi  Sweets  \\\n0  11:00AM-11:30PM  ...       0.0    0.0            0.0    0.0    0.0     0.0   \n1  08:30AM-10:30PM  ...       0.0    1.0            0.0    0.0    0.0     0.0   \n2  08:00AM-10:45PM  ...       0.0    0.0            0.0    0.0    0.0     0.0   \n3  10:59AM-10:30PM  ...       0.0    0.0            0.0    0.0    0.0     0.0   \n4  11:00AM-11:45PM  ...       0.0    0.0            0.0    0.0    0.0     0.0   \n\n   Thai  Thali Vegetarian  Waffles  \n0   0.0    0.0        0.0      0.0  \n1   0.0    0.0        0.0      0.0  \n2   0.0    0.0        0.0      0.0  \n3   0.0    0.0        0.0      0.0  \n4   0.0    0.0        0.0      0.0  \n\n[5 rows x 128 columns]",
      "text/html": "<div>\n<style scoped>\n    .dataframe tbody tr th:only-of-type {\n        vertical-align: middle;\n    }\n\n    .dataframe tbody tr th {\n        vertical-align: top;\n    }\n\n    .dataframe thead th {\n        text-align: right;\n    }\n</style>\n<table border=\"1\" class=\"dataframe\">\n  <thead>\n    <tr style=\"text-align: right;\">\n      <th></th>\n      <th>id</th>\n      <th>authentication_id</th>\n      <th>latitude</th>\n      <th>longitude</th>\n      <th>vendor_category_en</th>\n      <th>vendor_category_id</th>\n      <th>delivery_charge</th>\n      <th>serving_distance</th>\n      <th>is_open</th>\n      <th>OpeningTime</th>\n      <th>...</th>\n      <th>Smoothies</th>\n      <th>Soups</th>\n      <th>Spanish Latte</th>\n      <th>Steaks</th>\n      <th>Sushi</th>\n      <th>Sweets</th>\n      <th>Thai</th>\n      <th>Thali</th>\n      <th>Vegetarian</th>\n      <th>Waffles</th>\n    </tr>\n  </thead>\n  <tbody>\n    <tr>\n      <th>0</th>\n      <td>4</td>\n      <td>118597.0</td>\n      <td>-0.588596</td>\n      <td>0.754434</td>\n      <td>Restaurants</td>\n      <td>2.0</td>\n      <td>0.0</td>\n      <td>6.0</td>\n      <td>1.0</td>\n      <td>11:00AM-11:30PM</td>\n      <td>...</td>\n      <td>0.0</td>\n      <td>0.0</td>\n      <td>0.0</td>\n      <td>0.0</td>\n      <td>0.0</td>\n      <td>0.0</td>\n      <td>0.0</td>\n      <td>0.0</td>\n      <td>0.0</td>\n      <td>0.0</td>\n    </tr>\n    <tr>\n      <th>1</th>\n      <td>13</td>\n      <td>118608.0</td>\n      <td>-0.471654</td>\n      <td>0.744470</td>\n      <td>Restaurants</td>\n      <td>2.0</td>\n      <td>0.7</td>\n      <td>5.0</td>\n      <td>1.0</td>\n      <td>08:30AM-10:30PM</td>\n      <td>...</td>\n      <td>0.0</td>\n      <td>1.0</td>\n      <td>0.0</td>\n      <td>0.0</td>\n      <td>0.0</td>\n      <td>0.0</td>\n      <td>0.0</td>\n      <td>0.0</td>\n      <td>0.0</td>\n      <td>0.0</td>\n    </tr>\n    <tr>\n      <th>2</th>\n      <td>20</td>\n      <td>118616.0</td>\n      <td>-0.407527</td>\n      <td>0.643681</td>\n      <td>Restaurants</td>\n      <td>2.0</td>\n      <td>0.0</td>\n      <td>8.0</td>\n      <td>1.0</td>\n      <td>08:00AM-10:45PM</td>\n      <td>...</td>\n      <td>0.0</td>\n      <td>0.0</td>\n      <td>0.0</td>\n      <td>0.0</td>\n      <td>0.0</td>\n      <td>0.0</td>\n      <td>0.0</td>\n      <td>0.0</td>\n      <td>0.0</td>\n      <td>0.0</td>\n    </tr>\n    <tr>\n      <th>3</th>\n      <td>23</td>\n      <td>118619.0</td>\n      <td>-0.585385</td>\n      <td>0.753811</td>\n      <td>Restaurants</td>\n      <td>2.0</td>\n      <td>0.0</td>\n      <td>5.0</td>\n      <td>1.0</td>\n      <td>10:59AM-10:30PM</td>\n      <td>...</td>\n      <td>0.0</td>\n      <td>0.0</td>\n      <td>0.0</td>\n      <td>0.0</td>\n      <td>0.0</td>\n      <td>0.0</td>\n      <td>0.0</td>\n      <td>0.0</td>\n      <td>0.0</td>\n      <td>0.0</td>\n    </tr>\n    <tr>\n      <th>4</th>\n      <td>28</td>\n      <td>118624.0</td>\n      <td>0.480602</td>\n      <td>0.552850</td>\n      <td>Restaurants</td>\n      <td>2.0</td>\n      <td>0.7</td>\n      <td>15.0</td>\n      <td>1.0</td>\n      <td>11:00AM-11:45PM</td>\n      <td>...</td>\n      <td>0.0</td>\n      <td>0.0</td>\n      <td>0.0</td>\n      <td>0.0</td>\n      <td>0.0</td>\n      <td>0.0</td>\n      <td>0.0</td>\n      <td>0.0</td>\n      <td>0.0</td>\n      <td>0.0</td>\n    </tr>\n  </tbody>\n</table>\n<p>5 rows × 128 columns</p>\n</div>"
     },
     "metadata": {},
     "output_type": "execute_result",
     "execution_count": 185
    }
   ],
   "source": [
    "result.head()"
   ],
   "metadata": {
    "collapsed": false,
    "pycharm": {
     "name": "#%%\n",
     "is_executing": false
    }
   }
  },
  {
   "cell_type": "markdown",
   "source": [
    "Columns to take into consideration:\n",
    "* id \n",
    "* vendor_category_id\n",
    "* delivery_charge\n",
    "* serving_distance\n",
    "* vendor_rating\n",
    "* prepration_time\n",
    "* discount_percentage\n",
    "* vendor tags"
   ],
   "metadata": {
    "collapsed": false
   }
  },
  {
   "cell_type": "code",
   "execution_count": 187,
   "outputs": [],
   "source": [
    "vendors_final = result[['id', 'vendor_category_id', 'delivery_charge', 'serving_distance', 'vendor_rating', \n",
    "                     'prepration_time',   'discount_percentage', 'American', 'Arabic', 'Asian', 'Bagels', 'Biryani',\n",
    "       'Breakfast', 'Burgers', 'Cafe', 'Cakes', 'Chinese', 'Churros', 'Coffee',\n",
    "       'Combos', 'Crepes', 'Desserts', 'Dimsum', 'Donuts', 'Family Meal',\n",
    "       'Fatayers', 'Free Delivery', 'Fresh Juices', 'Fries', 'Frozen yoghurt',\n",
    "       'Grills', 'Healthy Food', 'Hot Chocolate', 'Hot Dogs', 'Ice creams',\n",
    "       'Indian', 'Italian', 'Japanese', 'Karak', 'Kebabs', 'Kids meal',\n",
    "       'Kushari', 'Lebanese', 'Manakeesh', 'Mandazi', 'Mexican', 'Milkshakes',\n",
    "       'Mishkak', 'Mojitos', 'Omani', 'Organic', 'Pancakes', 'Pasta', 'Pastas',\n",
    "       'Pastry', 'Pizza', 'Pizzas', 'Rice', 'Rolls', 'Salads', 'Sandwiches',\n",
    "       'Seafood', 'Shawarma', 'Shuwa', 'Smoothies', 'Soups', 'Spanish Latte',\n",
    "       'Steaks', 'Sushi', 'Sweets', 'Thai', 'Thali', 'Vegetarian', 'Waffles']]"
   ],
   "metadata": {
    "collapsed": false,
    "pycharm": {
     "name": "#%%\n",
     "is_executing": false
    }
   }
  },
  {
   "cell_type": "code",
   "execution_count": 188,
   "outputs": [],
   "source": [
    "vendors_final.to_csv('vendors_cleaned.csv')"
   ],
   "metadata": {
    "collapsed": false,
    "pycharm": {
     "name": "#%%\n",
     "is_executing": false
    }
   }
  },
  {
   "cell_type": "code",
   "execution_count": 284,
   "outputs": [
    {
     "data": {
      "text/plain": "68"
     },
     "metadata": {},
     "output_type": "execute_result",
     "execution_count": 284
    }
   ],
   "source": [
    "len(item_tags_dict.keys())\n"
   ],
   "metadata": {
    "collapsed": false,
    "pycharm": {
     "name": "#%%\n",
     "is_executing": false
    }
   }
  },
  {
   "cell_type": "code",
   "execution_count": 285,
   "outputs": [
    {
     "data": {
      "text/plain": "{'2': 'Arabic',\n '4': 'Breakfast',\n '5': 'Burgers',\n '8': 'Desserts',\n '91': 'Free Delivery',\n '22': 'Grills',\n '12': 'Lebanese',\n '24': 'Salads',\n '16': 'Sandwiches',\n '23': 'Shawarma',\n '41': 'Cakes',\n '51': 'Crepes',\n '34': 'Italian',\n '27': 'Pasta',\n '15': 'Pizzas',\n '28': 'Soups',\n '10': 'Indian',\n '30': 'Fries',\n '42': 'Mexican',\n '1': 'American',\n '32': 'Milkshakes',\n '3': 'Asian',\n '9': 'Healthy Food',\n '11': 'Japanese',\n '54': 'Sushi',\n '52': 'Mojitos',\n '53': 'Mandazi',\n '13': 'Omani',\n '50': 'Manakeesh',\n '48': 'Kids meal',\n '57': 'Donuts',\n '38': 'Fresh Juices',\n '43': 'Ice creams',\n '62': 'Pancakes',\n '25': 'Waffles',\n '29': 'Hot Dogs',\n '58': 'Dimsum',\n '33': 'Rice',\n '56': 'Sweets',\n '35': 'Steaks',\n '89': 'Pizza',\n '47': 'Mishkak',\n '31': 'Biryani',\n '67': 'Thali',\n '21': 'Vegetarian',\n '63': 'Pastry',\n '17': 'Seafood',\n '0': '',\n '7': 'Chinese',\n '19': 'Thai',\n '60': 'Coffee',\n '73': 'Organic',\n '36': 'Smoothies',\n '79': 'Karak',\n '45': 'Rolls',\n '61': 'Hot Chocolate',\n '90': 'Pastas',\n '83': 'Combos',\n '26': 'Bagels',\n '80': 'Churros',\n '77': 'Shuwa',\n '64': 'Frozen yoghurt',\n '71': 'Kushari',\n '86': 'Spanish Latte',\n '49': 'Family Meal',\n '44': 'Kebabs',\n '6': 'Cafe',\n '46': 'Fatayers'}"
     },
     "metadata": {},
     "output_type": "execute_result",
     "execution_count": 285
    }
   ],
   "source": [
    "item_tags_dict\n",
    "\n"
   ],
   "metadata": {
    "collapsed": false,
    "pycharm": {
     "name": "#%%\n",
     "is_executing": false
    }
   }
  },
  {
   "cell_type": "code",
   "execution_count": null,
   "outputs": [],
   "source": [
    "\n"
   ],
   "metadata": {
    "collapsed": false,
    "pycharm": {
     "name": "#%%\n"
    }
   }
  }
 ],
 "metadata": {
  "kernelspec": {
   "display_name": "Python 3",
   "language": "python",
   "name": "python3"
  },
  "language_info": {
   "codemirror_mode": {
    "name": "ipython",
    "version": 2
   },
   "file_extension": ".py",
   "mimetype": "text/x-python",
   "name": "python",
   "nbconvert_exporter": "python",
   "pygments_lexer": "ipython2",
   "version": "2.7.6"
  },
  "pycharm": {
   "stem_cell": {
    "cell_type": "raw",
    "source": [],
    "metadata": {
     "collapsed": false
    }
   }
  }
 },
 "nbformat": 4,
 "nbformat_minor": 0
}