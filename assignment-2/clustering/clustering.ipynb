{
 "cells": [
  {
   "cell_type": "code",
   "execution_count": null,
   "metadata": {
    "collapsed": true,
    "pycharm": {
     "is_executing": false
    }
   },
   "outputs": [],
   "source": [
    "import pandas as pd\n",
    "from sklearn.cluster import KMeans, AgglomerativeClustering, DBSCAN\n",
    "from sklearn import metrics\n",
    "import matplotlib.pyplot as plt\n",
    "import seaborn as sns\n",
    "from sklearn.metrics.pairwise import cosine_similarity\n",
    "import numpy as np\n",
    "from scipy.cluster.hierarchy import dendrogram"
   ]
  },
  {
   "cell_type": "code",
   "execution_count": null,
   "outputs": [],
   "source": [
    "df = pd.read_csv('vendors_cleaned.csv', index_col=[0])"
   ],
   "metadata": {
    "collapsed": false,
    "pycharm": {
     "name": "#%%\n",
     "is_executing": false
    }
   }
  },
  {
   "cell_type": "code",
   "execution_count": null,
   "outputs": [],
   "source": [
    "df.head()\n"
   ],
   "metadata": {
    "collapsed": false,
    "pycharm": {
     "name": "#%%\n",
     "is_executing": false
    }
   }
  },
  {
   "cell_type": "markdown",
   "source": [
    "## K-means clustering\n",
    "### chosing k using 'elbow test'"
   ],
   "metadata": {
    "collapsed": false,
    "pycharm": {
     "name": "#%% md\n",
     "is_executing": false
    }
   }
  },
  {
   "cell_type": "code",
   "execution_count": null,
   "outputs": [],
   "source": [
    "# data-structure to store Sum-Of-Square-Errors\n",
    "sse = {}\n",
    "# Looping over multiple values of k from 1 to 15\n",
    "for k in range(1, 15):\n",
    "    kmeans = KMeans(n_clusters=k, init='k-means++', max_iter=100).fit(df)\n",
    "    df[\"clusters\"] = kmeans.labels_\n",
    "    sse[k] = kmeans.inertia_\n",
    "# Plotting the curve with 'k'-value vs SSE\n",
    "plt.plot(list(sse.keys()), list(sse.values()))\n",
    "plt.xlabel(\"Number of cluster\")\n",
    "plt.ylabel(\"SSE\")\n",
    "plt.savefig('elbow_method.png')"
   ],
   "metadata": {
    "collapsed": false,
    "pycharm": {
     "name": "#%%\n",
     "is_executing": false
    }
   }
  },
  {
   "cell_type": "markdown",
   "source": [
    "Sharp drop of sum of squares error was achieved with k=6"
   ],
   "metadata": {
    "collapsed": false,
    "pycharm": {
     "name": "#%% md\n",
     "is_executing": false
    }
   }
  },
  {
   "cell_type": "code",
   "execution_count": null,
   "outputs": [],
   "source": [
    "best_k = 6\n",
    "kmeans = KMeans(n_clusters=best_k, init='k-means++', max_iter=100).fit(df)\n",
    "df[\"clusters\"] = kmeans.labels_"
   ],
   "metadata": {
    "collapsed": false,
    "pycharm": {
     "name": "#%%\n",
     "is_executing": false
    }
   }
  },
  {
   "cell_type": "code",
   "execution_count": null,
   "outputs": [],
   "source": [
    "df['clusters'].value_counts()"
   ],
   "metadata": {
    "collapsed": false,
    "pycharm": {
     "name": "#%%\n",
     "is_executing": false
    }
   }
  },
  {
   "cell_type": "code",
   "execution_count": null,
   "outputs": [],
   "source": [
    "plt.figure(figsize=(20,10))\n",
    "sns.heatmap(df.loc[df['clusters'] == 0].corr())"
   ],
   "metadata": {
    "collapsed": false,
    "pycharm": {
     "name": "#%%\n",
     "is_executing": false
    }
   }
  },
  {
   "cell_type": "code",
   "execution_count": null,
   "outputs": [],
   "source": [
    "df.loc[df['clusters'] == 0].describe()\n"
   ],
   "metadata": {
    "collapsed": false,
    "pycharm": {
     "name": "#%%\n",
     "is_executing": false
    }
   }
  },
  {
   "cell_type": "markdown",
   "source": [
    "## Aglomerative clustering\n",
    "Using ward measure as linkage criterion, euclidean distance as metric used to compute linkage"
   ],
   "metadata": {
    "collapsed": false,
    "pycharm": {
     "name": "#%% md\n"
    }
   }
  },
  {
   "cell_type": "code",
   "execution_count": null,
   "outputs": [],
   "source": [
    "agglo_clustering = AgglomerativeClustering(distance_threshold=0, n_clusters=None).fit(df)\n",
    "df['agglomerative'] = agglo_clustering.labels_"
   ],
   "metadata": {
    "collapsed": false,
    "pycharm": {
     "name": "#%%\n",
     "is_executing": false
    }
   }
  },
  {
   "cell_type": "code",
   "execution_count": null,
   "outputs": [],
   "source": [
    "def plot_dendrogram(model, **kwargs):\n",
    "    # Create linkage matrix and then plot the dendrogram\n",
    "\n",
    "    # create the counts of samples under each node\n",
    "    counts = np.zeros(model.children_.shape[0])\n",
    "    n_samples = len(model.labels_)\n",
    "    for i, merge in enumerate(model.children_):\n",
    "        current_count = 0\n",
    "        for child_idx in merge:\n",
    "            if child_idx < n_samples:\n",
    "                current_count += 1  # leaf node\n",
    "            else:\n",
    "                current_count += counts[child_idx - n_samples]\n",
    "        counts[i] = current_count\n",
    "\n",
    "    linkage_matrix = np.column_stack([model.children_, model.distances_,\n",
    "                                      counts]).astype(float)\n",
    "\n",
    "    # Plot the corresponding dendrogram\n",
    "    plt.figure(figsize=(20,10))\n",
    "    dendrogram(linkage_matrix, **kwargs)\n",
    "    plt.savefig('dendogram.png')"
   ],
   "metadata": {
    "collapsed": false,
    "pycharm": {
     "name": "#%%\n",
     "is_executing": false
    }
   }
  },
  {
   "cell_type": "code",
   "execution_count": null,
   "outputs": [],
   "source": [
    "plot_dendrogram(agglo_clustering)"
   ],
   "metadata": {
    "collapsed": false,
    "pycharm": {
     "name": "#%%\n",
     "is_executing": false
    }
   }
  },
  {
   "cell_type": "code",
   "execution_count": null,
   "outputs": [],
   "source": [
    "plot_dendrogram(agglo_clustering, truncate_mode='level', p=3)"
   ],
   "metadata": {
    "collapsed": false,
    "pycharm": {
     "name": "#%%\n",
     "is_executing": false
    }
   }
  },
  {
   "cell_type": "code",
   "execution_count": 97,
   "outputs": [],
   "source": [
    "agglo_clustering = AgglomerativeClustering(n_clusters=7).fit(df)\n",
    "df['agglomerative'] = agglo_clustering.labels_"
   ],
   "metadata": {
    "collapsed": false,
    "pycharm": {
     "name": "#%%\n",
     "is_executing": false
    }
   }
  },
  {
   "cell_type": "code",
   "execution_count": null,
   "outputs": [],
   "source": [
    "df['agglomerative'].value_counts()"
   ],
   "metadata": {
    "collapsed": false,
    "pycharm": {
     "name": "#%%\n",
     "is_executing": false
    }
   }
  },
  {
   "cell_type": "code",
   "execution_count": null,
   "outputs": [],
   "source": [
    "def predict_top_n_items_for_item_id(item_id: int, n: int, model: str):\n",
    "    item_id_row = df.loc[df['id'] == item_id]\n",
    "    \n",
    "    if model == \"Kmeans\":\n",
    "        cluster_id = item_id_row['clusters'].to_numpy()[0]\n",
    "        items_with_cluster_id = df.loc[df['clusters'] == cluster_id]\n",
    "    elif model == \"Agglomerative\":\n",
    "        cluster_id = item_id_row['agglomerative'].to_numpy()[0]\n",
    "        items_with_cluster_id = df.loc[df['agglomerative'] == cluster_id]\n",
    "    similarities = {}\n",
    "    for id, item in items_with_cluster_id.iterrows():\n",
    "        similarities[item['id']] = cosine_similarity(item_id_row.to_numpy().reshape(1, -1), item.to_numpy().reshape(1, -1))\n",
    "    similarities_sorted = {k: v for k, v in sorted(similarities.items(), key=lambda item: item[1], reverse=True)[1:n+1]}\n",
    "    result = {k: v.reshape(1,)[0] for k, v in similarities_sorted.items()}\n",
    "    return result\n",
    "    "
   ],
   "metadata": {
    "collapsed": false,
    "pycharm": {
     "name": "#%%\n"
    }
   }
  },
  {
   "cell_type": "code",
   "execution_count": null,
   "outputs": [],
   "source": [
    "list_predicted_kmeans = predict_top_n_items_for_item_id(13, n=15, model=\"Kmeans\")"
   ],
   "metadata": {
    "collapsed": false,
    "pycharm": {
     "name": "#%%\n",
     "is_executing": false
    }
   }
  },
  {
   "cell_type": "code",
   "execution_count": null,
   "outputs": [],
   "source": [
    "predicted_ids = list_predicted_kmeans.keys()\n",
    "print(predicted_ids)\n",
    "df.loc[df['id'].isin(predicted_ids)]\n"
   ],
   "metadata": {
    "collapsed": false,
    "pycharm": {
     "name": "#%%\n",
     "is_executing": false
    }
   }
  },
  {
   "cell_type": "code",
   "execution_count": null,
   "outputs": [],
   "source": [
    "list_predicted_aglo = predict_top_n_items_for_item_id(13, n=15, model=\"Agglomerative\")"
   ],
   "metadata": {
    "collapsed": false,
    "pycharm": {
     "name": "#%%\n",
     "is_executing": false
    }
   }
  },
  {
   "cell_type": "code",
   "execution_count": null,
   "outputs": [],
   "source": [
    "predicted_ids = list_predicted_aglo.keys()\n",
    "print(predicted_ids)\n",
    "df.loc[df['id'].isin(predicted_ids)]\n"
   ],
   "metadata": {
    "collapsed": false,
    "pycharm": {
     "name": "#%%\n",
     "is_executing": false
    }
   }
  },
  {
   "cell_type": "code",
   "execution_count": null,
   "outputs": [],
   "source": [
    "test_user_orders = pd.read_csv('test_user_orders.csv')"
   ],
   "metadata": {
    "collapsed": false,
    "pycharm": {
     "name": "#%%\n",
     "is_executing": false
    }
   }
  },
  {
   "cell_type": "code",
   "execution_count": 101,
   "outputs": [],
   "source": [
    "from typing import List, Tuple\n",
    "\n",
    "def validate_recommendations(method: str, N: int, user_ids: List[int]) -> Tuple[int, int]:\n",
    "    precision_at_N = []\n",
    "    recall_at_N = []\n",
    "    \n",
    "    for user_id in user_ids:\n",
    "        vendor_list = test_user_orders.loc[test_user_orders['customer_id'] == user_id]['vendor_id'].to_list()\n",
    "        half = int(len(vendor_list) / 2) + 1\n",
    "        train_vendors = vendor_list[:half]\n",
    "        test_vendors = vendor_list[half:]\n",
    "        \n",
    "        all_recommended_vendors = []\n",
    "        for vendor in train_vendors:\n",
    "            predicted = predict_top_n_items_for_item_id(vendor, N, method)\n",
    "            predicted = [[k, v] for k, v in predicted.items()]\n",
    "            all_recommended_vendors.extend(predicted)\n",
    "        # print(all_recommended_vendors)\n",
    "        all_rec_filtered = [[id, sim] for [id, sim] in all_recommended_vendors if id not in train_vendors]\n",
    "        all_rec_filtered.sort(key=lambda x: x[1], reverse=True)\n",
    "        all_rec_unique = [item for n, item in enumerate(all_rec_filtered) if item[0] not in [i[0] for i in all_rec_filtered[:n]]]\n",
    "        all_rec_unique_ids = [item[0] for item in all_rec_unique]\n",
    "        \n",
    "        n_relevant = len(list(set(test_vendors).intersection(all_rec_unique_ids)))\n",
    "        n_recommended = len(all_rec_unique)\n",
    "        precision = n_relevant / n_recommended\n",
    "        recall = n_relevant/ (100 - len(train_vendors))\n",
    "            \n",
    "        precision_at_N.append(precision)\n",
    "        recall_at_N.append(recall)\n",
    "    \n",
    "    \n",
    "    # print(precision_at_N)\n",
    "    # print(recall_at_N)\n",
    "    f_p = sum(precision_at_N) / len(precision_at_N)\n",
    "    f_r = sum(recall_at_N) / len(recall_at_N)\n",
    "    \n",
    "    print(f'Precision at {N}: {round(f_p, 3)}')\n",
    "    print(f'Recall at {N}: {round(f_r, 3)}')\n",
    "    return f_p, f_r\n",
    "    "
   ],
   "metadata": {
    "collapsed": false,
    "pycharm": {
     "name": "#%%\n",
     "is_executing": false
    }
   }
  },
  {
   "cell_type": "code",
   "execution_count": 89,
   "outputs": [],
   "source": [
    "test_user_ids = test_user_orders['customer_id'].unique().tolist()"
   ],
   "metadata": {
    "collapsed": false,
    "pycharm": {
     "name": "#%%\n",
     "is_executing": false
    }
   }
  },
  {
   "cell_type": "code",
   "execution_count": 104,
   "outputs": [
    {
     "name": "stdout",
     "text": [
      "Precision at 20: 0.039\n",
      "Recall at 20: 0.011\n"
     ],
     "output_type": "stream"
    },
    {
     "data": {
      "text/plain": "(0.039123510920686784, 0.01068405399222146)"
     },
     "metadata": {},
     "output_type": "execute_result",
     "execution_count": 104
    }
   ],
   "source": [
    "validate_recommendations('Kmeans', 20, test_user_ids)\n"
   ],
   "metadata": {
    "collapsed": false,
    "pycharm": {
     "name": "#%%\n",
     "is_executing": false
    }
   }
  },
  {
   "cell_type": "code",
   "execution_count": 105,
   "outputs": [
    {
     "name": "stdout",
     "text": [
      "Precision at 20: 0.041\n",
      "Recall at 20: 0.012\n"
     ],
     "output_type": "stream"
    },
    {
     "data": {
      "text/plain": "(0.04102290173842331, 0.011759322809425762)"
     },
     "metadata": {},
     "output_type": "execute_result",
     "execution_count": 105
    }
   ],
   "source": [
    "\n",
    "validate_recommendations('Agglomerative', 20, test_user_ids)"
   ],
   "metadata": {
    "collapsed": false,
    "pycharm": {
     "name": "#%%\n",
     "is_executing": false
    }
   }
  },
  {
   "cell_type": "code",
   "execution_count": null,
   "outputs": [],
   "source": [
    "\n"
   ],
   "metadata": {
    "collapsed": false,
    "pycharm": {
     "name": "#%%\n"
    }
   }
  }
 ],
 "metadata": {
  "kernelspec": {
   "display_name": "Python 3",
   "language": "python",
   "name": "python3"
  },
  "language_info": {
   "codemirror_mode": {
    "name": "ipython",
    "version": 2
   },
   "file_extension": ".py",
   "mimetype": "text/x-python",
   "name": "python",
   "nbconvert_exporter": "python",
   "pygments_lexer": "ipython2",
   "version": "2.7.6"
  },
  "pycharm": {
   "stem_cell": {
    "cell_type": "raw",
    "source": [],
    "metadata": {
     "collapsed": false
    }
   }
  }
 },
 "nbformat": 4,
 "nbformat_minor": 0
}