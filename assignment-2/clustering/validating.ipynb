{
 "cells": [
  {
   "cell_type": "code",
   "execution_count": 3,
   "metadata": {
    "collapsed": true,
    "pycharm": {
     "is_executing": false
    }
   },
   "outputs": [],
   "source": [
    "import pandas as pd\n",
    "from sklearn.cluster import KMeans, AgglomerativeClustering, DBSCAN\n",
    "from sklearn import metrics\n",
    "import matplotlib.pyplot as plt\n",
    "import seaborn as sns\n",
    "from sklearn.metrics.pairwise import cosine_similarity\n",
    "import numpy as np\n",
    "from scipy.cluster.hierarchy import dendrogram"
   ]
  },
  {
   "cell_type": "code",
   "execution_count": 4,
   "outputs": [
    {
     "name": "stderr",
     "text": [
      "c:\\users\\askib\\pycharmprojects\\ssytemy-rekomendacyjne-1\\venv_new\\lib\\site-packages\\IPython\\core\\interactiveshell.py:3166: DtypeWarning: Columns (15,16,18,19,20) have mixed types.Specify dtype option on import or set low_memory=False.\n",
      "  interactivity=interactivity, compiler=compiler, result=result)\n"
     ],
     "output_type": "stream"
    }
   ],
   "source": [
    "orders = pd.read_csv('../data/orders.csv')"
   ],
   "metadata": {
    "collapsed": false,
    "pycharm": {
     "name": "#%%\n",
     "is_executing": false
    }
   }
  },
  {
   "cell_type": "code",
   "execution_count": 6,
   "outputs": [
    {
     "name": "stdout",
     "text": [
      "<class 'pandas.core.frame.DataFrame'>\n",
      "RangeIndex: 135303 entries, 0 to 135302\n",
      "Data columns (total 26 columns):\n",
      " #   Column                          Non-Null Count   Dtype  \n",
      "---  ------                          --------------   -----  \n",
      " 0   akeed_order_id                  135233 non-null  float64\n",
      " 1   customer_id                     135303 non-null  object \n",
      " 2   item_count                      128378 non-null  float64\n",
      " 3   grand_total                     135303 non-null  float64\n",
      " 4   payment_mode                    135303 non-null  int64  \n",
      " 5   promo_code                      4305 non-null    object \n",
      " 6   vendor_discount_amount          135303 non-null  float64\n",
      " 7   promo_code_discount_percentage  65880 non-null   float64\n",
      " 8   is_favorite                     100108 non-null  object \n",
      " 9   is_rated                        135303 non-null  object \n",
      " 10  vendor_rating                   45220 non-null   float64\n",
      " 11  driver_rating                   135303 non-null  float64\n",
      " 12  deliverydistance                135303 non-null  float64\n",
      " 13  preparationtime                 79743 non-null   float64\n",
      " 14  delivery_time                   5123 non-null    object \n",
      " 15  order_accepted_time             86955 non-null   object \n",
      " 16  driver_accepted_time            46458 non-null   object \n",
      " 17  ready_for_pickup_time           84249 non-null   object \n",
      " 18  picked_up_time                  83865 non-null   object \n",
      " 19  delivered_time                  85741 non-null   object \n",
      " 20  delivery_date                   35544 non-null   object \n",
      " 21  vendor_id                       135303 non-null  int64  \n",
      " 22  created_at                      135303 non-null  object \n",
      " 23  LOCATION_NUMBER                 135303 non-null  int64  \n",
      " 24  LOCATION_TYPE                   86410 non-null   object \n",
      " 25  CID X LOC_NUM X VENDOR          135303 non-null  object \n",
      "dtypes: float64(9), int64(3), object(14)\n",
      "memory usage: 26.8+ MB\n"
     ],
     "output_type": "stream"
    }
   ],
   "source": [
    "orders.info()"
   ],
   "metadata": {
    "collapsed": false,
    "pycharm": {
     "name": "#%%\n",
     "is_executing": false
    }
   }
  },
  {
   "cell_type": "code",
   "execution_count": 8,
   "outputs": [
    {
     "data": {
      "text/plain": "array([105, 294,  83,  90,  78, 154, 193,   4, 288,  85, 195, 161, 196,\n        75,  20, 221, 300,  81, 180, 231, 303, 225, 110, 176,  33,  23,\n       115, 113,  13, 157, 159, 289, 106, 134,  76, 104, 310,  55, 201,\n       274, 265, 304, 259, 160,  28, 250, 191, 189,  92, 192, 271, 299,\n       203, 298, 207,  43, 197, 243, 148,  66, 145, 199,  84,  82, 149,\n       188,  44,  79, 237, 356, 419, 391,  67,  86, 537, 459, 386, 295,\n       401, 398, 216, 573, 575, 577, 578, 582, 583, 547, 679, 676, 681,\n       841, 846, 858, 849, 845, 843, 856, 855, 907], dtype=int64)"
     },
     "metadata": {},
     "output_type": "execute_result",
     "execution_count": 8
    }
   ],
   "source": [
    "orders['vendor_id'].unique()"
   ],
   "metadata": {
    "collapsed": false,
    "pycharm": {
     "name": "#%%\n",
     "is_executing": false
    }
   }
  },
  {
   "cell_type": "code",
   "execution_count": 15,
   "outputs": [
    {
     "data": {
      "text/plain": "      customer_id  vendor_id  count\n0         000THBA        148      1\n1         002510Y        157      1\n2         005ECL6        237      2\n3         0075AM7        145      1\n4         009UFS1         83      1\n...           ...        ...    ...\n71479     ZZY3N0D        356      1\n71480     ZZY3N0D        419      1\n71481     ZZY3N0D        459      1\n71482     ZZY3N0D        537      1\n71483     ZZYY4EX        243      1\n\n[71484 rows x 3 columns]",
      "text/html": "<div>\n<style scoped>\n    .dataframe tbody tr th:only-of-type {\n        vertical-align: middle;\n    }\n\n    .dataframe tbody tr th {\n        vertical-align: top;\n    }\n\n    .dataframe thead th {\n        text-align: right;\n    }\n</style>\n<table border=\"1\" class=\"dataframe\">\n  <thead>\n    <tr style=\"text-align: right;\">\n      <th></th>\n      <th>customer_id</th>\n      <th>vendor_id</th>\n      <th>count</th>\n    </tr>\n  </thead>\n  <tbody>\n    <tr>\n      <th>0</th>\n      <td>000THBA</td>\n      <td>148</td>\n      <td>1</td>\n    </tr>\n    <tr>\n      <th>1</th>\n      <td>002510Y</td>\n      <td>157</td>\n      <td>1</td>\n    </tr>\n    <tr>\n      <th>2</th>\n      <td>005ECL6</td>\n      <td>237</td>\n      <td>2</td>\n    </tr>\n    <tr>\n      <th>3</th>\n      <td>0075AM7</td>\n      <td>145</td>\n      <td>1</td>\n    </tr>\n    <tr>\n      <th>4</th>\n      <td>009UFS1</td>\n      <td>83</td>\n      <td>1</td>\n    </tr>\n    <tr>\n      <th>...</th>\n      <td>...</td>\n      <td>...</td>\n      <td>...</td>\n    </tr>\n    <tr>\n      <th>71479</th>\n      <td>ZZY3N0D</td>\n      <td>356</td>\n      <td>1</td>\n    </tr>\n    <tr>\n      <th>71480</th>\n      <td>ZZY3N0D</td>\n      <td>419</td>\n      <td>1</td>\n    </tr>\n    <tr>\n      <th>71481</th>\n      <td>ZZY3N0D</td>\n      <td>459</td>\n      <td>1</td>\n    </tr>\n    <tr>\n      <th>71482</th>\n      <td>ZZY3N0D</td>\n      <td>537</td>\n      <td>1</td>\n    </tr>\n    <tr>\n      <th>71483</th>\n      <td>ZZYY4EX</td>\n      <td>243</td>\n      <td>1</td>\n    </tr>\n  </tbody>\n</table>\n<p>71484 rows × 3 columns</p>\n</div>"
     },
     "metadata": {},
     "output_type": "execute_result",
     "execution_count": 15
    }
   ],
   "source": [
    "aggregated = orders[['customer_id', 'vendor_id']].groupby(['customer_id', 'vendor_id']).size().reset_index()\n",
    "aggregated.columns = ['customer_id', 'vendor_id', 'count']\n",
    "aggregated"
   ],
   "metadata": {
    "collapsed": false,
    "pycharm": {
     "name": "#%%\n",
     "is_executing": false
    }
   }
  },
  {
   "cell_type": "code",
   "execution_count": 27,
   "outputs": [
    {
     "data": {
      "text/plain": "             vendor_count\ncustomer_id              \n000THBA                 1\n002510Y                 1\n005ECL6                 1\n0075AM7                 1\n009UFS1                 4\n...                   ...\nZZVGIVK                 2\nZZVLIB5                 4\nZZWKMGG                 1\nZZY3N0D                 8\nZZYY4EX                 1\n\n[27445 rows x 1 columns]",
      "text/html": "<div>\n<style scoped>\n    .dataframe tbody tr th:only-of-type {\n        vertical-align: middle;\n    }\n\n    .dataframe tbody tr th {\n        vertical-align: top;\n    }\n\n    .dataframe thead th {\n        text-align: right;\n    }\n</style>\n<table border=\"1\" class=\"dataframe\">\n  <thead>\n    <tr style=\"text-align: right;\">\n      <th></th>\n      <th>vendor_count</th>\n    </tr>\n    <tr>\n      <th>customer_id</th>\n      <th></th>\n    </tr>\n  </thead>\n  <tbody>\n    <tr>\n      <th>000THBA</th>\n      <td>1</td>\n    </tr>\n    <tr>\n      <th>002510Y</th>\n      <td>1</td>\n    </tr>\n    <tr>\n      <th>005ECL6</th>\n      <td>1</td>\n    </tr>\n    <tr>\n      <th>0075AM7</th>\n      <td>1</td>\n    </tr>\n    <tr>\n      <th>009UFS1</th>\n      <td>4</td>\n    </tr>\n    <tr>\n      <th>...</th>\n      <td>...</td>\n    </tr>\n    <tr>\n      <th>ZZVGIVK</th>\n      <td>2</td>\n    </tr>\n    <tr>\n      <th>ZZVLIB5</th>\n      <td>4</td>\n    </tr>\n    <tr>\n      <th>ZZWKMGG</th>\n      <td>1</td>\n    </tr>\n    <tr>\n      <th>ZZY3N0D</th>\n      <td>8</td>\n    </tr>\n    <tr>\n      <th>ZZYY4EX</th>\n      <td>1</td>\n    </tr>\n  </tbody>\n</table>\n<p>27445 rows × 1 columns</p>\n</div>"
     },
     "metadata": {},
     "output_type": "execute_result",
     "execution_count": 27
    }
   ],
   "source": [
    "x = aggregated.groupby('customer_id').size().to_frame()\n",
    "x.columns = ['vendor_count']\n",
    "x"
   ],
   "metadata": {
    "collapsed": false,
    "pycharm": {
     "name": "#%%\n",
     "is_executing": false
    }
   }
  },
  {
   "cell_type": "code",
   "execution_count": 29,
   "outputs": [
    {
     "data": {
      "text/plain": "array([[<AxesSubplot:title={'center':'vendor_count'}>]], dtype=object)"
     },
     "metadata": {},
     "output_type": "execute_result",
     "execution_count": 29
    },
    {
     "data": {
      "text/plain": "<Figure size 432x288 with 1 Axes>",
      "image/png": "[encoded data removed]"
     },
     "metadata": {
      "needs_background": "light"
     },
     "output_type": "display_data"
    }
   ],
   "source": [
    "x.loc[x['vendor_count'] >1].hist()"
   ],
   "metadata": {
    "collapsed": false,
    "pycharm": {
     "name": "#%%\n",
     "is_executing": false
    }
   }
  },
  {
   "cell_type": "code",
   "execution_count": 37,
   "outputs": [],
   "source": [
    "user_ids_to_test = x.loc[(x['vendor_count'] > 10) & (x['vendor_count'] <  15) ].index.to_list()"
   ],
   "metadata": {
    "collapsed": false,
    "pycharm": {
     "name": "#%%\n",
     "is_executing": false
    }
   }
  },
  {
   "cell_type": "code",
   "execution_count": 40,
   "outputs": [],
   "source": [
    "test_user_orders = aggregated.loc[aggregated['customer_id'].isin(user_ids_to_test[:10])]"
   ],
   "metadata": {
    "collapsed": false,
    "pycharm": {
     "name": "#%%\n",
     "is_executing": false
    }
   }
  },
  {
   "cell_type": "code",
   "execution_count": 41,
   "outputs": [
    {
     "name": "stdout",
     "text": [
      "08F2YRP\n",
      "0B3QNQ5\n",
      "0F3YWPW\n",
      "0KZXA52\n",
      "0ORMDCX\n",
      "0TJ0XYT\n",
      "0UW9NTR\n",
      "0WID5QE\n",
      "11QEV67\n",
      "13HY3SZ\n"
     ],
     "output_type": "stream"
    }
   ],
   "source": [
    "\n",
    "    \n",
    "    \n",
    "    "
   ],
   "metadata": {
    "collapsed": false,
    "pycharm": {
     "name": "#%%\n",
     "is_executing": false
    }
   }
  },
  {
   "cell_type": "code",
   "execution_count": 44,
   "outputs": [
    {
     "data": {
      "text/plain": "[33, 67, 110, 113, 134, 176, 195, 259, 298, 303, 310]"
     },
     "metadata": {},
     "output_type": "execute_result",
     "execution_count": 44
    }
   ],
   "source": [
    "\n",
    "aggregated.loc[aggregated['customer_id'] == '08F2YRP']['vendor_id'].to_list()"
   ],
   "metadata": {
    "collapsed": false,
    "pycharm": {
     "name": "#%%\n",
     "is_executing": false
    }
   }
  },
  {
   "cell_type": "code",
   "execution_count": 52,
   "outputs": [],
   "source": [
    "\n",
    "test_user_orders.to_csv('test_user_orders.csv')"
   ],
   "metadata": {
    "collapsed": false,
    "pycharm": {
     "name": "#%%\n",
     "is_executing": false
    }
   }
  },
  {
   "cell_type": "code",
   "execution_count": null,
   "outputs": [],
   "source": [
    "\n"
   ],
   "metadata": {
    "collapsed": false,
    "pycharm": {
     "name": "#%%\n"
    }
   }
  }
 ],
 "metadata": {
  "kernelspec": {
   "display_name": "Python 3",
   "language": "python",
   "name": "python3"
  },
  "language_info": {
   "codemirror_mode": {
    "name": "ipython",
    "version": 2
   },
   "file_extension": ".py",
   "mimetype": "text/x-python",
   "name": "python",
   "nbconvert_exporter": "python",
   "pygments_lexer": "ipython2",
   "version": "2.7.6"
  },
  "pycharm": {
   "stem_cell": {
    "cell_type": "raw",
    "source": [],
    "metadata": {
     "collapsed": false
    }
   }
  }
 },
 "nbformat": 4,
 "nbformat_minor": 0
}