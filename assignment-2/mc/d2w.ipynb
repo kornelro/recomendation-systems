{
 "metadata": {
  "language_info": {
   "codemirror_mode": {
    "name": "ipython",
    "version": 3
   },
   "file_extension": ".py",
   "mimetype": "text/x-python",
   "name": "python",
   "nbconvert_exporter": "python",
   "pygments_lexer": "ipython3",
   "version": "3.8.2"
  },
  "orig_nbformat": 2,
  "kernelspec": {
   "name": "python3",
   "display_name": "Python 3.8.2 64-bit",
   "metadata": {
    "interpreter": {
     "hash": "765a27d73be52ab621eab82c24f389a641221a3bd62219a217e58ddcdcfae93a"
    }
   }
  }
 },
 "nbformat": 4,
 "nbformat_minor": 2,
 "cells": [
  {
   "cell_type": "code",
   "execution_count": 1,
   "metadata": {},
   "outputs": [
    {
     "output_type": "execute_result",
     "data": {
      "text/plain": [
       "'/Users/marcelc/Documents/10_sem/pisr/pro/pisr_venv/bin/python'"
      ]
     },
     "metadata": {},
     "execution_count": 1
    }
   ],
   "source": [
    "import sys\n",
    "sys.executable"
   ]
  },
  {
   "cell_type": "code",
   "execution_count": 2,
   "metadata": {},
   "outputs": [
    {
     "output_type": "stream",
     "name": "stderr",
     "text": [
      "/Users/marcelc/Documents/10_sem/pisr/pro/pisr_venv/lib/python3.8/site-packages/gensim/similarities/__init__.py:15: UserWarning: The gensim.similarities.levenshtein submodule is disabled, because the optional Levenshtein package <https://pypi.org/project/python-Levenshtein/> is unavailable. Install Levenhstein (e.g. `pip install python-Levenshtein`) to suppress this warning.\n  warnings.warn(msg)\n"
     ]
    }
   ],
   "source": [
    "import os\n",
    "import warnings\n",
    "\n",
    "import matplotlib.pyplot as plt\n",
    "import numpy as np\n",
    "import pandas as pd\n",
    "import seaborn as sns\n",
    "from difflib import SequenceMatcher\n",
    "from gensim.models import Word2Vec\n",
    "from sklearn.feature_extraction.text import CountVectorizer, TfidfVectorizer\n",
    "from sklearn.metrics.pairwise import cosine_similarity\n",
    "\n",
    "warnings.filterwarnings('ignore')"
   ]
  },
  {
   "source": [
    "## Load data"
   ],
   "cell_type": "markdown",
   "metadata": {}
  },
  {
   "cell_type": "code",
   "execution_count": 3,
   "metadata": {},
   "outputs": [],
   "source": [
    "dir_name = '../data'"
   ]
  },
  {
   "cell_type": "code",
   "execution_count": 4,
   "metadata": {},
   "outputs": [
    {
     "output_type": "execute_result",
     "data": {
      "text/plain": [
       "  customer_id gender  status_x  verified_x         created_at_x  \\\n",
       "0     TCHWPBT   Male         1           1  2018-02-07 19:16:23   \n",
       "1     TCHWPBT   Male         1           1  2018-02-07 19:16:23   \n",
       "2     TCHWPBT   Male         1           1  2018-02-07 19:16:23   \n",
       "3     TCHWPBT   Male         1           1  2018-02-07 19:16:23   \n",
       "4     TCHWPBT   Male         1           1  2018-02-07 19:16:23   \n",
       "\n",
       "          updated_at_x  location_number location_type  latitude_x  \\\n",
       "0  2018-02-07 19:16:23                0          Work      -96.44   \n",
       "1  2018-02-07 19:16:23                0          Work      -96.44   \n",
       "2  2018-02-07 19:16:23                0          Work      -96.44   \n",
       "3  2018-02-07 19:16:23                0          Work      -96.44   \n",
       "4  2018-02-07 19:16:23                0          Work      -96.44   \n",
       "\n",
       "   longitude_x  ...  country_id  city_id         created_at_y  \\\n",
       "0        -67.2  ...         1.0      1.0  2018-01-30 14:42:04   \n",
       "1        -67.2  ...         1.0      1.0  2018-05-03 12:32:06   \n",
       "2        -67.2  ...         1.0      1.0  2018-05-04 22:28:22   \n",
       "3        -67.2  ...         1.0      1.0  2018-05-06 19:20:48   \n",
       "4        -67.2  ...         1.0      1.0  2018-05-17 22:12:38   \n",
       "\n",
       "          updated_at_y device_type  display_orders  location_number_obj  \\\n",
       "0  2020-04-07 15:12:43           3               1                    0   \n",
       "1  2020-04-05 20:46:03           3               1                    0   \n",
       "2  2020-04-07 16:35:55           3               1                    0   \n",
       "3  2020-04-02 00:56:17           3               1                    0   \n",
       "4  2020-04-05 15:57:41           3               1                    0   \n",
       "\n",
       "   id_obj  CID X LOC_NUM X VENDOR target  \n",
       "0       4         TCHWPBT X 0 X 4      0  \n",
       "1      13        TCHWPBT X 0 X 13      0  \n",
       "2      20        TCHWPBT X 0 X 20      0  \n",
       "3      23        TCHWPBT X 0 X 23      0  \n",
       "4      28        TCHWPBT X 0 X 28      0  \n",
       "\n",
       "[5 rows x 73 columns]"
      ],
      "text/html": "<div>\n<style scoped>\n    .dataframe tbody tr th:only-of-type {\n        vertical-align: middle;\n    }\n\n    .dataframe tbody tr th {\n        vertical-align: top;\n    }\n\n    .dataframe thead th {\n        text-align: right;\n    }\n</style>\n<table border=\"1\" class=\"dataframe\">\n  <thead>\n    <tr style=\"text-align: right;\">\n      <th></th>\n      <th>customer_id</th>\n      <th>gender</th>\n      <th>status_x</th>\n      <th>verified_x</th>\n      <th>created_at_x</th>\n      <th>updated_at_x</th>\n      <th>location_number</th>\n      <th>location_type</th>\n      <th>latitude_x</th>\n      <th>longitude_x</th>\n      <th>...</th>\n      <th>country_id</th>\n      <th>city_id</th>\n      <th>created_at_y</th>\n      <th>updated_at_y</th>\n      <th>device_type</th>\n      <th>display_orders</th>\n      <th>location_number_obj</th>\n      <th>id_obj</th>\n      <th>CID X LOC_NUM X VENDOR</th>\n      <th>target</th>\n    </tr>\n  </thead>\n  <tbody>\n    <tr>\n      <th>0</th>\n      <td>TCHWPBT</td>\n      <td>Male</td>\n      <td>1</td>\n      <td>1</td>\n      <td>2018-02-07 19:16:23</td>\n      <td>2018-02-07 19:16:23</td>\n      <td>0</td>\n      <td>Work</td>\n      <td>-96.44</td>\n      <td>-67.2</td>\n      <td>...</td>\n      <td>1.0</td>\n      <td>1.0</td>\n      <td>2018-01-30 14:42:04</td>\n      <td>2020-04-07 15:12:43</td>\n      <td>3</td>\n      <td>1</td>\n      <td>0</td>\n      <td>4</td>\n      <td>TCHWPBT X 0 X 4</td>\n      <td>0</td>\n    </tr>\n    <tr>\n      <th>1</th>\n      <td>TCHWPBT</td>\n      <td>Male</td>\n      <td>1</td>\n      <td>1</td>\n      <td>2018-02-07 19:16:23</td>\n      <td>2018-02-07 19:16:23</td>\n      <td>0</td>\n      <td>Work</td>\n      <td>-96.44</td>\n      <td>-67.2</td>\n      <td>...</td>\n      <td>1.0</td>\n      <td>1.0</td>\n      <td>2018-05-03 12:32:06</td>\n      <td>2020-04-05 20:46:03</td>\n      <td>3</td>\n      <td>1</td>\n      <td>0</td>\n      <td>13</td>\n      <td>TCHWPBT X 0 X 13</td>\n      <td>0</td>\n    </tr>\n    <tr>\n      <th>2</th>\n      <td>TCHWPBT</td>\n      <td>Male</td>\n      <td>1</td>\n      <td>1</td>\n      <td>2018-02-07 19:16:23</td>\n      <td>2018-02-07 19:16:23</td>\n      <td>0</td>\n      <td>Work</td>\n      <td>-96.44</td>\n      <td>-67.2</td>\n      <td>...</td>\n      <td>1.0</td>\n      <td>1.0</td>\n      <td>2018-05-04 22:28:22</td>\n      <td>2020-04-07 16:35:55</td>\n      <td>3</td>\n      <td>1</td>\n      <td>0</td>\n      <td>20</td>\n      <td>TCHWPBT X 0 X 20</td>\n      <td>0</td>\n    </tr>\n    <tr>\n      <th>3</th>\n      <td>TCHWPBT</td>\n      <td>Male</td>\n      <td>1</td>\n      <td>1</td>\n      <td>2018-02-07 19:16:23</td>\n      <td>2018-02-07 19:16:23</td>\n      <td>0</td>\n      <td>Work</td>\n      <td>-96.44</td>\n      <td>-67.2</td>\n      <td>...</td>\n      <td>1.0</td>\n      <td>1.0</td>\n      <td>2018-05-06 19:20:48</td>\n      <td>2020-04-02 00:56:17</td>\n      <td>3</td>\n      <td>1</td>\n      <td>0</td>\n      <td>23</td>\n      <td>TCHWPBT X 0 X 23</td>\n      <td>0</td>\n    </tr>\n    <tr>\n      <th>4</th>\n      <td>TCHWPBT</td>\n      <td>Male</td>\n      <td>1</td>\n      <td>1</td>\n      <td>2018-02-07 19:16:23</td>\n      <td>2018-02-07 19:16:23</td>\n      <td>0</td>\n      <td>Work</td>\n      <td>-96.44</td>\n      <td>-67.2</td>\n      <td>...</td>\n      <td>1.0</td>\n      <td>1.0</td>\n      <td>2018-05-17 22:12:38</td>\n      <td>2020-04-05 15:57:41</td>\n      <td>3</td>\n      <td>1</td>\n      <td>0</td>\n      <td>28</td>\n      <td>TCHWPBT X 0 X 28</td>\n      <td>0</td>\n    </tr>\n  </tbody>\n</table>\n<p>5 rows × 73 columns</p>\n</div>"
     },
     "metadata": {},
     "execution_count": 4
    }
   ],
   "source": [
    "file_name = 'train_full.csv'\n",
    "train_full = pd.read_csv(os.path.join(dir_name, file_name))\n",
    "train_full.head()"
   ]
  },
  {
   "cell_type": "code",
   "execution_count": 5,
   "metadata": {},
   "outputs": [
    {
     "output_type": "stream",
     "name": "stdout",
     "text": [
      "<class 'pandas.core.frame.DataFrame'>\nRangeIndex: 5802400 entries, 0 to 5802399\nData columns (total 73 columns):\n #   Column                  Dtype  \n---  ------                  -----  \n 0   customer_id             object \n 1   gender                  object \n 2   status_x                int64  \n 3   verified_x              int64  \n 4   created_at_x            object \n 5   updated_at_x            object \n 6   location_number         int64  \n 7   location_type           object \n 8   latitude_x              float64\n 9   longitude_x             float64\n 10  id                      int64  \n 11  authentication_id       float64\n 12  latitude_y              float64\n 13  longitude_y             float64\n 14  vendor_category_en      object \n 15  vendor_category_id      float64\n 16  delivery_charge         float64\n 17  serving_distance        float64\n 18  is_open                 float64\n 19  OpeningTime             object \n 20  OpeningTime2            object \n 21  prepration_time         int64  \n 22  commission              float64\n 23  is_akeed_delivering     object \n 24  discount_percentage     float64\n 25  status_y                float64\n 26  verified_y              int64  \n 27  rank                    int64  \n 28  language                object \n 29  vendor_rating           float64\n 30  sunday_from_time1       object \n 31  sunday_to_time1         object \n 32  sunday_from_time2       object \n 33  sunday_to_time2         object \n 34  monday_from_time1       object \n 35  monday_to_time1         object \n 36  monday_from_time2       object \n 37  monday_to_time2         object \n 38  tuesday_from_time1      object \n 39  tuesday_to_time1        object \n 40  tuesday_from_time2      object \n 41  tuesday_to_time2        object \n 42  wednesday_from_time1    object \n 43  wednesday_to_time1      object \n 44  wednesday_from_time2    object \n 45  wednesday_to_time2      object \n 46  thursday_from_time1     object \n 47  thursday_to_time1       object \n 48  thursday_from_time2     object \n 49  thursday_to_time2       object \n 50  friday_from_time1       object \n 51  friday_to_time1         object \n 52  friday_from_time2       object \n 53  friday_to_time2         object \n 54  saturday_from_time1     object \n 55  saturday_to_time1       object \n 56  saturday_from_time2     object \n 57  saturday_to_time2       object \n 58  primary_tags            object \n 59  open_close_flags        float64\n 60  vendor_tag              object \n 61  vendor_tag_name         object \n 62  one_click_vendor        object \n 63  country_id              float64\n 64  city_id                 float64\n 65  created_at_y            object \n 66  updated_at_y            object \n 67  device_type             int64  \n 68  display_orders          int64  \n 69  location_number_obj     int64  \n 70  id_obj                  int64  \n 71  CID X LOC_NUM X VENDOR  object \n 72  target                  int64  \ndtypes: float64(16), int64(12), object(45)\nmemory usage: 3.2+ GB\n"
     ]
    }
   ],
   "source": [
    "train_full.info()"
   ]
  },
  {
   "cell_type": "code",
   "execution_count": 6,
   "metadata": {},
   "outputs": [
    {
     "output_type": "execute_result",
     "data": {
      "text/plain": [
       "   akeed_order_id customer_id  item_count  grand_total  payment_mode  \\\n",
       "0        163238.0     92PEE24         1.0          7.6             2   \n",
       "1        163240.0     QS68UD8         1.0          8.7             1   \n",
       "2        163241.0     MB7VY5F         2.0         14.4             1   \n",
       "3        163244.0     KDJ951Y         1.0          7.1             1   \n",
       "4        163245.0     BAL0RVT         4.0         27.2             1   \n",
       "\n",
       "  promo_code  vendor_discount_amount  promo_code_discount_percentage  \\\n",
       "0        NaN                     0.0                             NaN   \n",
       "1        NaN                     0.0                             NaN   \n",
       "2        NaN                     0.0                             NaN   \n",
       "3        NaN                     0.0                             NaN   \n",
       "4        NaN                     0.0                             NaN   \n",
       "\n",
       "  is_favorite is_rated  ...  driver_accepted_time  ready_for_pickup_time  \\\n",
       "0         NaN       No  ...                   NaN                    NaN   \n",
       "1         NaN       No  ...                   NaN                    NaN   \n",
       "2         NaN       No  ...                   NaN                    NaN   \n",
       "3         NaN       No  ...                   NaN                    NaN   \n",
       "4         NaN       No  ...                   NaN                    NaN   \n",
       "\n",
       "   picked_up_time  delivered_time        delivery_date vendor_id  \\\n",
       "0             NaN             NaN  2019-07-31 05:30:00       105   \n",
       "1             NaN             NaN  2019-07-31 05:30:00       294   \n",
       "2             NaN             NaN  2019-07-31 05:30:00        83   \n",
       "3             NaN             NaN  2019-07-31 05:30:00        90   \n",
       "4             NaN             NaN  2019-07-31 05:30:00        83   \n",
       "\n",
       "            created_at LOCATION_NUMBER LOCATION_TYPE CID X LOC_NUM X VENDOR  \n",
       "0  2019-08-01 05:30:16               0           NaN      92PEE24 X 0 X 105  \n",
       "1  2019-08-01 05:31:10               0          Work      QS68UD8 X 0 X 294  \n",
       "2  2019-08-01 05:31:33               0           NaN       MB7VY5F X 0 X 83  \n",
       "3  2019-08-01 05:34:54               0          Home       KDJ951Y X 0 X 90  \n",
       "4  2019-08-01 05:35:51               0          Work       BAL0RVT X 0 X 83  \n",
       "\n",
       "[5 rows x 26 columns]"
      ],
      "text/html": "<div>\n<style scoped>\n    .dataframe tbody tr th:only-of-type {\n        vertical-align: middle;\n    }\n\n    .dataframe tbody tr th {\n        vertical-align: top;\n    }\n\n    .dataframe thead th {\n        text-align: right;\n    }\n</style>\n<table border=\"1\" class=\"dataframe\">\n  <thead>\n    <tr style=\"text-align: right;\">\n      <th></th>\n      <th>akeed_order_id</th>\n      <th>customer_id</th>\n      <th>item_count</th>\n      <th>grand_total</th>\n      <th>payment_mode</th>\n      <th>promo_code</th>\n      <th>vendor_discount_amount</th>\n      <th>promo_code_discount_percentage</th>\n      <th>is_favorite</th>\n      <th>is_rated</th>\n      <th>...</th>\n      <th>driver_accepted_time</th>\n      <th>ready_for_pickup_time</th>\n      <th>picked_up_time</th>\n      <th>delivered_time</th>\n      <th>delivery_date</th>\n      <th>vendor_id</th>\n      <th>created_at</th>\n      <th>LOCATION_NUMBER</th>\n      <th>LOCATION_TYPE</th>\n      <th>CID X LOC_NUM X VENDOR</th>\n    </tr>\n  </thead>\n  <tbody>\n    <tr>\n      <th>0</th>\n      <td>163238.0</td>\n      <td>92PEE24</td>\n      <td>1.0</td>\n      <td>7.6</td>\n      <td>2</td>\n      <td>NaN</td>\n      <td>0.0</td>\n      <td>NaN</td>\n      <td>NaN</td>\n      <td>No</td>\n      <td>...</td>\n      <td>NaN</td>\n      <td>NaN</td>\n      <td>NaN</td>\n      <td>NaN</td>\n      <td>2019-07-31 05:30:00</td>\n      <td>105</td>\n      <td>2019-08-01 05:30:16</td>\n      <td>0</td>\n      <td>NaN</td>\n      <td>92PEE24 X 0 X 105</td>\n    </tr>\n    <tr>\n      <th>1</th>\n      <td>163240.0</td>\n      <td>QS68UD8</td>\n      <td>1.0</td>\n      <td>8.7</td>\n      <td>1</td>\n      <td>NaN</td>\n      <td>0.0</td>\n      <td>NaN</td>\n      <td>NaN</td>\n      <td>No</td>\n      <td>...</td>\n      <td>NaN</td>\n      <td>NaN</td>\n      <td>NaN</td>\n      <td>NaN</td>\n      <td>2019-07-31 05:30:00</td>\n      <td>294</td>\n      <td>2019-08-01 05:31:10</td>\n      <td>0</td>\n      <td>Work</td>\n      <td>QS68UD8 X 0 X 294</td>\n    </tr>\n    <tr>\n      <th>2</th>\n      <td>163241.0</td>\n      <td>MB7VY5F</td>\n      <td>2.0</td>\n      <td>14.4</td>\n      <td>1</td>\n      <td>NaN</td>\n      <td>0.0</td>\n      <td>NaN</td>\n      <td>NaN</td>\n      <td>No</td>\n      <td>...</td>\n      <td>NaN</td>\n      <td>NaN</td>\n      <td>NaN</td>\n      <td>NaN</td>\n      <td>2019-07-31 05:30:00</td>\n      <td>83</td>\n      <td>2019-08-01 05:31:33</td>\n      <td>0</td>\n      <td>NaN</td>\n      <td>MB7VY5F X 0 X 83</td>\n    </tr>\n    <tr>\n      <th>3</th>\n      <td>163244.0</td>\n      <td>KDJ951Y</td>\n      <td>1.0</td>\n      <td>7.1</td>\n      <td>1</td>\n      <td>NaN</td>\n      <td>0.0</td>\n      <td>NaN</td>\n      <td>NaN</td>\n      <td>No</td>\n      <td>...</td>\n      <td>NaN</td>\n      <td>NaN</td>\n      <td>NaN</td>\n      <td>NaN</td>\n      <td>2019-07-31 05:30:00</td>\n      <td>90</td>\n      <td>2019-08-01 05:34:54</td>\n      <td>0</td>\n      <td>Home</td>\n      <td>KDJ951Y X 0 X 90</td>\n    </tr>\n    <tr>\n      <th>4</th>\n      <td>163245.0</td>\n      <td>BAL0RVT</td>\n      <td>4.0</td>\n      <td>27.2</td>\n      <td>1</td>\n      <td>NaN</td>\n      <td>0.0</td>\n      <td>NaN</td>\n      <td>NaN</td>\n      <td>No</td>\n      <td>...</td>\n      <td>NaN</td>\n      <td>NaN</td>\n      <td>NaN</td>\n      <td>NaN</td>\n      <td>2019-07-31 05:30:00</td>\n      <td>83</td>\n      <td>2019-08-01 05:35:51</td>\n      <td>0</td>\n      <td>Work</td>\n      <td>BAL0RVT X 0 X 83</td>\n    </tr>\n  </tbody>\n</table>\n<p>5 rows × 26 columns</p>\n</div>"
     },
     "metadata": {},
     "execution_count": 6
    }
   ],
   "source": [
    "file_name = 'orders.csv'\n",
    "orders = pd.read_csv(os.path.join(dir_name, file_name))\n",
    "orders.head()"
   ]
  },
  {
   "cell_type": "code",
   "execution_count": 7,
   "metadata": {},
   "outputs": [
    {
     "output_type": "stream",
     "name": "stdout",
     "text": [
      "<class 'pandas.core.frame.DataFrame'>\nRangeIndex: 135303 entries, 0 to 135302\nData columns (total 26 columns):\n #   Column                          Non-Null Count   Dtype  \n---  ------                          --------------   -----  \n 0   akeed_order_id                  135233 non-null  float64\n 1   customer_id                     135303 non-null  object \n 2   item_count                      128378 non-null  float64\n 3   grand_total                     135303 non-null  float64\n 4   payment_mode                    135303 non-null  int64  \n 5   promo_code                      4305 non-null    object \n 6   vendor_discount_amount          135303 non-null  float64\n 7   promo_code_discount_percentage  65880 non-null   float64\n 8   is_favorite                     100108 non-null  object \n 9   is_rated                        135303 non-null  object \n 10  vendor_rating                   45220 non-null   float64\n 11  driver_rating                   135303 non-null  float64\n 12  deliverydistance                135303 non-null  float64\n 13  preparationtime                 79743 non-null   float64\n 14  delivery_time                   5123 non-null    object \n 15  order_accepted_time             86955 non-null   object \n 16  driver_accepted_time            46458 non-null   object \n 17  ready_for_pickup_time           84249 non-null   object \n 18  picked_up_time                  83865 non-null   object \n 19  delivered_time                  85741 non-null   object \n 20  delivery_date                   35544 non-null   object \n 21  vendor_id                       135303 non-null  int64  \n 22  created_at                      135303 non-null  object \n 23  LOCATION_NUMBER                 135303 non-null  int64  \n 24  LOCATION_TYPE                   86410 non-null   object \n 25  CID X LOC_NUM X VENDOR          135303 non-null  object \ndtypes: float64(9), int64(3), object(14)\nmemory usage: 26.8+ MB\n"
     ]
    }
   ],
   "source": [
    "orders.info()"
   ]
  },
  {
   "source": [
    "## Filter columns and join datasets"
   ],
   "cell_type": "markdown",
   "metadata": {}
  },
  {
   "cell_type": "code",
   "execution_count": 11,
   "metadata": {},
   "outputs": [
    {
     "output_type": "stream",
     "name": "stdout",
     "text": [
      "(5802400, 11)\n"
     ]
    },
    {
     "output_type": "execute_result",
     "data": {
      "text/plain": [
       "  customer_id gender location_type  id      OpeningTime language  mean_rating  \\\n",
       "0     TCHWPBT   Male          Work   4  11:00AM-11:30PM       EN          4.4   \n",
       "1     TCHWPBT   Male          Work  13  08:30AM-10:30PM       EN          4.7   \n",
       "2     TCHWPBT   Male          Work  20  08:00AM-10:45PM       EN          4.5   \n",
       "3     TCHWPBT   Male          Work  23  10:59AM-10:30PM       EN          4.5   \n",
       "4     TCHWPBT   Male          Work  28  11:00AM-11:45PM       EN          4.4   \n",
       "\n",
       "   serving_distance                                    vendor_tag_name  \\\n",
       "0               6.0  Arabic,Breakfast,Burgers,Desserts,Free Deliver...   \n",
       "1               5.0  Breakfast,Cakes,Crepes,Italian,Pasta,Pizzas,Sa...   \n",
       "2               8.0            Breakfast,Desserts,Free Delivery,Indian   \n",
       "3               5.0                      Burgers,Desserts,Fries,Salads   \n",
       "4              15.0                                            Burgers   \n",
       "\n",
       "   delivery_charge         all  \n",
       "0              0.0   TCHWPBT_4  \n",
       "1              0.7  TCHWPBT_13  \n",
       "2              0.0  TCHWPBT_20  \n",
       "3              0.0  TCHWPBT_23  \n",
       "4              0.7  TCHWPBT_28  "
      ],
      "text/html": "<div>\n<style scoped>\n    .dataframe tbody tr th:only-of-type {\n        vertical-align: middle;\n    }\n\n    .dataframe tbody tr th {\n        vertical-align: top;\n    }\n\n    .dataframe thead th {\n        text-align: right;\n    }\n</style>\n<table border=\"1\" class=\"dataframe\">\n  <thead>\n    <tr style=\"text-align: right;\">\n      <th></th>\n      <th>customer_id</th>\n      <th>gender</th>\n      <th>location_type</th>\n      <th>id</th>\n      <th>OpeningTime</th>\n      <th>language</th>\n      <th>mean_rating</th>\n      <th>serving_distance</th>\n      <th>vendor_tag_name</th>\n      <th>delivery_charge</th>\n      <th>all</th>\n    </tr>\n  </thead>\n  <tbody>\n    <tr>\n      <th>0</th>\n      <td>TCHWPBT</td>\n      <td>Male</td>\n      <td>Work</td>\n      <td>4</td>\n      <td>11:00AM-11:30PM</td>\n      <td>EN</td>\n      <td>4.4</td>\n      <td>6.0</td>\n      <td>Arabic,Breakfast,Burgers,Desserts,Free Deliver...</td>\n      <td>0.0</td>\n      <td>TCHWPBT_4</td>\n    </tr>\n    <tr>\n      <th>1</th>\n      <td>TCHWPBT</td>\n      <td>Male</td>\n      <td>Work</td>\n      <td>13</td>\n      <td>08:30AM-10:30PM</td>\n      <td>EN</td>\n      <td>4.7</td>\n      <td>5.0</td>\n      <td>Breakfast,Cakes,Crepes,Italian,Pasta,Pizzas,Sa...</td>\n      <td>0.7</td>\n      <td>TCHWPBT_13</td>\n    </tr>\n    <tr>\n      <th>2</th>\n      <td>TCHWPBT</td>\n      <td>Male</td>\n      <td>Work</td>\n      <td>20</td>\n      <td>08:00AM-10:45PM</td>\n      <td>EN</td>\n      <td>4.5</td>\n      <td>8.0</td>\n      <td>Breakfast,Desserts,Free Delivery,Indian</td>\n      <td>0.0</td>\n      <td>TCHWPBT_20</td>\n    </tr>\n    <tr>\n      <th>3</th>\n      <td>TCHWPBT</td>\n      <td>Male</td>\n      <td>Work</td>\n      <td>23</td>\n      <td>10:59AM-10:30PM</td>\n      <td>EN</td>\n      <td>4.5</td>\n      <td>5.0</td>\n      <td>Burgers,Desserts,Fries,Salads</td>\n      <td>0.0</td>\n      <td>TCHWPBT_23</td>\n    </tr>\n    <tr>\n      <th>4</th>\n      <td>TCHWPBT</td>\n      <td>Male</td>\n      <td>Work</td>\n      <td>28</td>\n      <td>11:00AM-11:45PM</td>\n      <td>EN</td>\n      <td>4.4</td>\n      <td>15.0</td>\n      <td>Burgers</td>\n      <td>0.7</td>\n      <td>TCHWPBT_28</td>\n    </tr>\n  </tbody>\n</table>\n</div>"
     },
     "metadata": {},
     "execution_count": 11
    }
   ],
   "source": [
    "# Choose some columns from train_full (train_full.csv)\n",
    "# vendor_rating - > mean_rating\n",
    "ds_train_full = train_full[['customer_id', 'gender', 'location_type', 'id', 'OpeningTime', 'language', 'vendor_rating', 'serving_distance', 'vendor_tag_name', 'delivery_charge']]\n",
    "ds_train_full.rename(columns = {\"vendor_rating\": \"mean_rating\"}, inplace = True)\n",
    "\n",
    "# Make derived variables 'all' with id and customer_id columns\n",
    "cols = ['customer_id', 'id']\n",
    "ds_train_full['all'] = ds_train_full[cols].apply(lambda row: '_'.join(row.values.astype(str)), axis=1)\n",
    "\n",
    "print(ds_train_full.shape)\n",
    "ds_train_full.head()"
   ]
  },
  {
   "cell_type": "code",
   "execution_count": 12,
   "metadata": {},
   "outputs": [
    {
     "output_type": "stream",
     "name": "stdout",
     "text": [
      "(3452300, 11)\n"
     ]
    }
   ],
   "source": [
    "# Drop duplicates based 'all' derived variables\n",
    "ds_train_full.drop_duplicates(['all'], inplace=True)\n",
    "print(ds_train_full.shape)"
   ]
  },
  {
   "cell_type": "code",
   "execution_count": 13,
   "metadata": {},
   "outputs": [
    {
     "output_type": "stream",
     "name": "stdout",
     "text": [
      "(135303, 7)\n"
     ]
    },
    {
     "output_type": "execute_result",
     "data": {
      "text/plain": [
       "   akeed_order_id customer_id   id  item_count  grand_total  vendor_rating  \\\n",
       "0        163238.0     92PEE24  105         1.0          7.6            NaN   \n",
       "1        163240.0     QS68UD8  294         1.0          8.7            NaN   \n",
       "2        163241.0     MB7VY5F   83         2.0         14.4            NaN   \n",
       "3        163244.0     KDJ951Y   90         1.0          7.1            NaN   \n",
       "4        163245.0     BAL0RVT   83         4.0         27.2            NaN   \n",
       "\n",
       "           all  \n",
       "0  92PEE24_105  \n",
       "1  QS68UD8_294  \n",
       "2   MB7VY5F_83  \n",
       "3   KDJ951Y_90  \n",
       "4   BAL0RVT_83  "
      ],
      "text/html": "<div>\n<style scoped>\n    .dataframe tbody tr th:only-of-type {\n        vertical-align: middle;\n    }\n\n    .dataframe tbody tr th {\n        vertical-align: top;\n    }\n\n    .dataframe thead th {\n        text-align: right;\n    }\n</style>\n<table border=\"1\" class=\"dataframe\">\n  <thead>\n    <tr style=\"text-align: right;\">\n      <th></th>\n      <th>akeed_order_id</th>\n      <th>customer_id</th>\n      <th>id</th>\n      <th>item_count</th>\n      <th>grand_total</th>\n      <th>vendor_rating</th>\n      <th>all</th>\n    </tr>\n  </thead>\n  <tbody>\n    <tr>\n      <th>0</th>\n      <td>163238.0</td>\n      <td>92PEE24</td>\n      <td>105</td>\n      <td>1.0</td>\n      <td>7.6</td>\n      <td>NaN</td>\n      <td>92PEE24_105</td>\n    </tr>\n    <tr>\n      <th>1</th>\n      <td>163240.0</td>\n      <td>QS68UD8</td>\n      <td>294</td>\n      <td>1.0</td>\n      <td>8.7</td>\n      <td>NaN</td>\n      <td>QS68UD8_294</td>\n    </tr>\n    <tr>\n      <th>2</th>\n      <td>163241.0</td>\n      <td>MB7VY5F</td>\n      <td>83</td>\n      <td>2.0</td>\n      <td>14.4</td>\n      <td>NaN</td>\n      <td>MB7VY5F_83</td>\n    </tr>\n    <tr>\n      <th>3</th>\n      <td>163244.0</td>\n      <td>KDJ951Y</td>\n      <td>90</td>\n      <td>1.0</td>\n      <td>7.1</td>\n      <td>NaN</td>\n      <td>KDJ951Y_90</td>\n    </tr>\n    <tr>\n      <th>4</th>\n      <td>163245.0</td>\n      <td>BAL0RVT</td>\n      <td>83</td>\n      <td>4.0</td>\n      <td>27.2</td>\n      <td>NaN</td>\n      <td>BAL0RVT_83</td>\n    </tr>\n  </tbody>\n</table>\n</div>"
     },
     "metadata": {},
     "execution_count": 13
    }
   ],
   "source": [
    "# Choose some columns from orders (orders.csv)\n",
    "# vendor_id - > id\n",
    "ds_orders = orders[['akeed_order_id', 'customer_id', 'vendor_id', 'item_count', 'grand_total', 'vendor_rating']][:]\n",
    "ds_orders.rename(columns = {\"vendor_id\": \"id\"}, inplace = True)\n",
    "\n",
    "# Make derived variables 'all' with id and customer_id columns\n",
    "cols = ['customer_id', 'id']\n",
    "ds_orders['all'] = ds_orders[cols].apply(lambda row: '_'.join(row.values.astype(str)), axis=1)\n",
    "\n",
    "print(ds_orders.shape)\n",
    "ds_orders.head()"
   ]
  },
  {
   "cell_type": "code",
   "execution_count": 14,
   "metadata": {},
   "outputs": [
    {
     "output_type": "stream",
     "name": "stdout",
     "text": [
      "(3452300, 11)\n(135303, 7)\n"
     ]
    }
   ],
   "source": [
    "# The number of rows is dropped duplicate rows\n",
    "print(ds_train_full.shape)\n",
    "print(ds_orders.shape)"
   ]
  },
  {
   "cell_type": "code",
   "execution_count": 15,
   "metadata": {},
   "outputs": [
    {
     "output_type": "stream",
     "name": "stdout",
     "text": [
      "(132027, 17)\n"
     ]
    },
    {
     "output_type": "execute_result",
     "data": {
      "text/plain": [
       "  customer_id_x gender location_type  id_x      OpeningTime language  \\\n",
       "0       TCHWPBT   Male          Work   113  10:59AM-10:59PM       EN   \n",
       "1       TCHWPBT   Male          Work   237  08:30PM-11:59PM       EN   \n",
       "2       ZGFSYCZ   Male          Home     4  11:00AM-11:30PM       EN   \n",
       "3       ZGFSYCZ   Male          Home    28  11:00AM-11:45PM       EN   \n",
       "4       ZGFSYCZ   Male          Home    28  11:00AM-11:45PM       EN   \n",
       "\n",
       "   mean_rating  serving_distance  \\\n",
       "0          4.7              15.0   \n",
       "1          4.6              15.0   \n",
       "2          4.4               6.0   \n",
       "3          4.4              15.0   \n",
       "4          4.4              15.0   \n",
       "\n",
       "                                     vendor_tag_name  delivery_charge  \\\n",
       "0               Arabic,Desserts,Free Delivery,Indian              0.0   \n",
       "1  American,Burgers,Desserts,Donuts,Fries,Pasta,S...              0.7   \n",
       "2  Arabic,Breakfast,Burgers,Desserts,Free Deliver...              0.0   \n",
       "3                                            Burgers              0.7   \n",
       "4                                            Burgers              0.7   \n",
       "\n",
       "           all  akeed_order_id customer_id_y  id_y  item_count  grand_total  \\\n",
       "0  TCHWPBT_113        200434.0       TCHWPBT   113         NaN          7.9   \n",
       "1  TCHWPBT_237        170654.0       TCHWPBT   237         1.0          5.4   \n",
       "2    ZGFSYCZ_4         11439.0       ZGFSYCZ     4         NaN         23.6   \n",
       "3   ZGFSYCZ_28        171022.0       ZGFSYCZ    28         3.0          7.9   \n",
       "4   ZGFSYCZ_28        151462.0       ZGFSYCZ    28         2.0          7.3   \n",
       "\n",
       "   vendor_rating  \n",
       "0            5.0  \n",
       "1            NaN  \n",
       "2            NaN  \n",
       "3            NaN  \n",
       "4            NaN  "
      ],
      "text/html": "<div>\n<style scoped>\n    .dataframe tbody tr th:only-of-type {\n        vertical-align: middle;\n    }\n\n    .dataframe tbody tr th {\n        vertical-align: top;\n    }\n\n    .dataframe thead th {\n        text-align: right;\n    }\n</style>\n<table border=\"1\" class=\"dataframe\">\n  <thead>\n    <tr style=\"text-align: right;\">\n      <th></th>\n      <th>customer_id_x</th>\n      <th>gender</th>\n      <th>location_type</th>\n      <th>id_x</th>\n      <th>OpeningTime</th>\n      <th>language</th>\n      <th>mean_rating</th>\n      <th>serving_distance</th>\n      <th>vendor_tag_name</th>\n      <th>delivery_charge</th>\n      <th>all</th>\n      <th>akeed_order_id</th>\n      <th>customer_id_y</th>\n      <th>id_y</th>\n      <th>item_count</th>\n      <th>grand_total</th>\n      <th>vendor_rating</th>\n    </tr>\n  </thead>\n  <tbody>\n    <tr>\n      <th>0</th>\n      <td>TCHWPBT</td>\n      <td>Male</td>\n      <td>Work</td>\n      <td>113</td>\n      <td>10:59AM-10:59PM</td>\n      <td>EN</td>\n      <td>4.7</td>\n      <td>15.0</td>\n      <td>Arabic,Desserts,Free Delivery,Indian</td>\n      <td>0.0</td>\n      <td>TCHWPBT_113</td>\n      <td>200434.0</td>\n      <td>TCHWPBT</td>\n      <td>113</td>\n      <td>NaN</td>\n      <td>7.9</td>\n      <td>5.0</td>\n    </tr>\n    <tr>\n      <th>1</th>\n      <td>TCHWPBT</td>\n      <td>Male</td>\n      <td>Work</td>\n      <td>237</td>\n      <td>08:30PM-11:59PM</td>\n      <td>EN</td>\n      <td>4.6</td>\n      <td>15.0</td>\n      <td>American,Burgers,Desserts,Donuts,Fries,Pasta,S...</td>\n      <td>0.7</td>\n      <td>TCHWPBT_237</td>\n      <td>170654.0</td>\n      <td>TCHWPBT</td>\n      <td>237</td>\n      <td>1.0</td>\n      <td>5.4</td>\n      <td>NaN</td>\n    </tr>\n    <tr>\n      <th>2</th>\n      <td>ZGFSYCZ</td>\n      <td>Male</td>\n      <td>Home</td>\n      <td>4</td>\n      <td>11:00AM-11:30PM</td>\n      <td>EN</td>\n      <td>4.4</td>\n      <td>6.0</td>\n      <td>Arabic,Breakfast,Burgers,Desserts,Free Deliver...</td>\n      <td>0.0</td>\n      <td>ZGFSYCZ_4</td>\n      <td>11439.0</td>\n      <td>ZGFSYCZ</td>\n      <td>4</td>\n      <td>NaN</td>\n      <td>23.6</td>\n      <td>NaN</td>\n    </tr>\n    <tr>\n      <th>3</th>\n      <td>ZGFSYCZ</td>\n      <td>Male</td>\n      <td>Home</td>\n      <td>28</td>\n      <td>11:00AM-11:45PM</td>\n      <td>EN</td>\n      <td>4.4</td>\n      <td>15.0</td>\n      <td>Burgers</td>\n      <td>0.7</td>\n      <td>ZGFSYCZ_28</td>\n      <td>171022.0</td>\n      <td>ZGFSYCZ</td>\n      <td>28</td>\n      <td>3.0</td>\n      <td>7.9</td>\n      <td>NaN</td>\n    </tr>\n    <tr>\n      <th>4</th>\n      <td>ZGFSYCZ</td>\n      <td>Male</td>\n      <td>Home</td>\n      <td>28</td>\n      <td>11:00AM-11:45PM</td>\n      <td>EN</td>\n      <td>4.4</td>\n      <td>15.0</td>\n      <td>Burgers</td>\n      <td>0.7</td>\n      <td>ZGFSYCZ_28</td>\n      <td>151462.0</td>\n      <td>ZGFSYCZ</td>\n      <td>28</td>\n      <td>2.0</td>\n      <td>7.3</td>\n      <td>NaN</td>\n    </tr>\n  </tbody>\n</table>\n</div>"
     },
     "metadata": {},
     "execution_count": 15
    }
   ],
   "source": [
    "df1 = pd.merge(ds_train_full, ds_orders, on='all', how='inner')\n",
    "\n",
    "print(df1.shape)\n",
    "df1.head()"
   ]
  },
  {
   "cell_type": "code",
   "execution_count": 16,
   "metadata": {},
   "outputs": [],
   "source": [
    "# Change some columns name and drop the same column\n",
    "df1.rename(columns={\"customer_id_x\": \"customer_id\"}, inplace=True)\n",
    "df1.rename(columns={\"id_x\": \"vendor_id\"}, inplace=True)\n",
    "df1.drop(['customer_id_y', 'id_y'], axis=1, inplace=True)"
   ]
  },
  {
   "cell_type": "code",
   "execution_count": 18,
   "metadata": {},
   "outputs": [
    {
     "output_type": "stream",
     "name": "stdout",
     "text": [
      "(3452300, 3)\n"
     ]
    },
    {
     "output_type": "execute_result",
     "data": {
      "text/plain": [
       "  customer_id  vendor_id                                    vendor_tag_name\n",
       "0     TCHWPBT          4  Arabic,Breakfast,Burgers,Desserts,Free Deliver...\n",
       "1     TCHWPBT         13  Breakfast,Cakes,Crepes,Italian,Pasta,Pizzas,Sa...\n",
       "2     TCHWPBT         20            Breakfast,Desserts,Free Delivery,Indian\n",
       "3     TCHWPBT         23                      Burgers,Desserts,Fries,Salads\n",
       "4     TCHWPBT         28                                            Burgers"
      ],
      "text/html": "<div>\n<style scoped>\n    .dataframe tbody tr th:only-of-type {\n        vertical-align: middle;\n    }\n\n    .dataframe tbody tr th {\n        vertical-align: top;\n    }\n\n    .dataframe thead th {\n        text-align: right;\n    }\n</style>\n<table border=\"1\" class=\"dataframe\">\n  <thead>\n    <tr style=\"text-align: right;\">\n      <th></th>\n      <th>customer_id</th>\n      <th>vendor_id</th>\n      <th>vendor_tag_name</th>\n    </tr>\n  </thead>\n  <tbody>\n    <tr>\n      <th>0</th>\n      <td>TCHWPBT</td>\n      <td>4</td>\n      <td>Arabic,Breakfast,Burgers,Desserts,Free Deliver...</td>\n    </tr>\n    <tr>\n      <th>1</th>\n      <td>TCHWPBT</td>\n      <td>13</td>\n      <td>Breakfast,Cakes,Crepes,Italian,Pasta,Pizzas,Sa...</td>\n    </tr>\n    <tr>\n      <th>2</th>\n      <td>TCHWPBT</td>\n      <td>20</td>\n      <td>Breakfast,Desserts,Free Delivery,Indian</td>\n    </tr>\n    <tr>\n      <th>3</th>\n      <td>TCHWPBT</td>\n      <td>23</td>\n      <td>Burgers,Desserts,Fries,Salads</td>\n    </tr>\n    <tr>\n      <th>4</th>\n      <td>TCHWPBT</td>\n      <td>28</td>\n      <td>Burgers</td>\n    </tr>\n  </tbody>\n</table>\n</div>"
     },
     "metadata": {},
     "execution_count": 18
    }
   ],
   "source": [
    "# Choose some columns from ds_train_full(cleaned data)\n",
    "df2 = ds_train_full[['customer_id', 'id', 'vendor_tag_name']]\n",
    "df2.rename(columns={'id': 'vendor_id'}, inplace=True)\n",
    "\n",
    "print(df2.shape)\n",
    "df2.head()"
   ]
  },
  {
   "source": [
    "### Data cleaning"
   ],
   "cell_type": "markdown",
   "metadata": {}
  },
  {
   "cell_type": "code",
   "execution_count": 19,
   "metadata": {},
   "outputs": [
    {
     "output_type": "stream",
     "name": "stdout",
     "text": [
      "serving_distance\n\tcount: 0\n\tpercentage: 0.0\n\ndelivery_charge\n\tcount: 0\n\tpercentage: 0.0\n\nitem_count\n\tcount: 6750\n\tpercentage: 0.05112590606466859\n\ngrand_total\n\tcount: 0\n\tpercentage: 0.0\n\nvendor_rating\n\tcount: 87951\n\tpercentage: 0.6661591947101729\n\n"
     ]
    }
   ],
   "source": [
    "cols = ['serving_distance', 'delivery_charge', 'item_count', 'grand_total', 'vendor_rating']\n",
    "\n",
    "def null_check(x):\n",
    "    null = np.count_nonzero(\n",
    "        df1[x].isnull()\n",
    "    )\n",
    "    return null, null/df1.shape[0]\n",
    "\n",
    "for i in cols:\n",
    "    count, percentage = null_check(i)\n",
    "    print(f'{i}\\n\\tcount: {count}\\n\\tpercentage: {percentage}\\n')"
   ]
  },
  {
   "cell_type": "code",
   "execution_count": 20,
   "metadata": {},
   "outputs": [],
   "source": [
    "# Drop language columns\n",
    "df1.drop(['language'], axis=1, inplace=True)\n",
    "\n",
    "# Remove null of gender columns\n",
    "df1 = df1[\n",
    "    df1['gender'].notnull()\n",
    "].reset_index(drop=True)"
   ]
  },
  {
   "cell_type": "code",
   "execution_count": 21,
   "metadata": {},
   "outputs": [],
   "source": [
    "# gender - > one-hot encoding (int)\n",
    "sex = pd.get_dummies(\n",
    "    df1[\"gender\"], \n",
    "    columns=['gender'],\n",
    "    prefix=\"sex\",\n",
    "    drop_first=True\n",
    ")\n",
    "\n",
    "df1 = pd.concat([df1, sex], axis=1)\n",
    "\n",
    "# Drop the raw 'gender' column(char)\n",
    "df1.drop(['gender'], axis=1, inplace=True)"
   ]
  },
  {
   "cell_type": "code",
   "execution_count": 22,
   "metadata": {},
   "outputs": [
    {
     "output_type": "execute_result",
     "data": {
      "text/plain": [
       "sex_Male\n",
       "1           97382\n",
       "0            7167\n",
       "dtype: int64"
      ]
     },
     "metadata": {},
     "execution_count": 22
    }
   ],
   "source": [
    "sex.value_counts()"
   ]
  },
  {
   "cell_type": "code",
   "execution_count": 23,
   "metadata": {},
   "outputs": [],
   "source": [
    "df1.rename(columns={'vendor_rating': 'rating'}, inplace=True)"
   ]
  },
  {
   "cell_type": "code",
   "execution_count": 24,
   "metadata": {},
   "outputs": [
    {
     "output_type": "stream",
     "name": "stdout",
     "text": [
      "(104549, 14)\n"
     ]
    },
    {
     "output_type": "execute_result",
     "data": {
      "text/plain": [
       "  customer_id location_type  vendor_id      OpeningTime  mean_rating  \\\n",
       "0     TCHWPBT          Work        113  10:59AM-10:59PM          4.7   \n",
       "1     TCHWPBT          Work        237  08:30PM-11:59PM          4.6   \n",
       "2     ZGFSYCZ          Home          4  11:00AM-11:30PM          4.4   \n",
       "3     ZGFSYCZ          Home         28  11:00AM-11:45PM          4.4   \n",
       "4     ZGFSYCZ          Home         28  11:00AM-11:45PM          4.4   \n",
       "\n",
       "   serving_distance                                    vendor_tag_name  \\\n",
       "0              15.0               Arabic,Desserts,Free Delivery,Indian   \n",
       "1              15.0  American,Burgers,Desserts,Donuts,Fries,Pasta,S...   \n",
       "2               6.0  Arabic,Breakfast,Burgers,Desserts,Free Deliver...   \n",
       "3              15.0                                            Burgers   \n",
       "4              15.0                                            Burgers   \n",
       "\n",
       "   delivery_charge          all  akeed_order_id  item_count  grand_total  \\\n",
       "0              0.0  TCHWPBT_113        200434.0         NaN          7.9   \n",
       "1              0.7  TCHWPBT_237        170654.0         1.0          5.4   \n",
       "2              0.0    ZGFSYCZ_4         11439.0         NaN         23.6   \n",
       "3              0.7   ZGFSYCZ_28        171022.0         3.0          7.9   \n",
       "4              0.7   ZGFSYCZ_28        151462.0         2.0          7.3   \n",
       "\n",
       "   rating  sex_Male  \n",
       "0     5.0         1  \n",
       "1     NaN         1  \n",
       "2     NaN         1  \n",
       "3     NaN         1  \n",
       "4     NaN         1  "
      ],
      "text/html": "<div>\n<style scoped>\n    .dataframe tbody tr th:only-of-type {\n        vertical-align: middle;\n    }\n\n    .dataframe tbody tr th {\n        vertical-align: top;\n    }\n\n    .dataframe thead th {\n        text-align: right;\n    }\n</style>\n<table border=\"1\" class=\"dataframe\">\n  <thead>\n    <tr style=\"text-align: right;\">\n      <th></th>\n      <th>customer_id</th>\n      <th>location_type</th>\n      <th>vendor_id</th>\n      <th>OpeningTime</th>\n      <th>mean_rating</th>\n      <th>serving_distance</th>\n      <th>vendor_tag_name</th>\n      <th>delivery_charge</th>\n      <th>all</th>\n      <th>akeed_order_id</th>\n      <th>item_count</th>\n      <th>grand_total</th>\n      <th>rating</th>\n      <th>sex_Male</th>\n    </tr>\n  </thead>\n  <tbody>\n    <tr>\n      <th>0</th>\n      <td>TCHWPBT</td>\n      <td>Work</td>\n      <td>113</td>\n      <td>10:59AM-10:59PM</td>\n      <td>4.7</td>\n      <td>15.0</td>\n      <td>Arabic,Desserts,Free Delivery,Indian</td>\n      <td>0.0</td>\n      <td>TCHWPBT_113</td>\n      <td>200434.0</td>\n      <td>NaN</td>\n      <td>7.9</td>\n      <td>5.0</td>\n      <td>1</td>\n    </tr>\n    <tr>\n      <th>1</th>\n      <td>TCHWPBT</td>\n      <td>Work</td>\n      <td>237</td>\n      <td>08:30PM-11:59PM</td>\n      <td>4.6</td>\n      <td>15.0</td>\n      <td>American,Burgers,Desserts,Donuts,Fries,Pasta,S...</td>\n      <td>0.7</td>\n      <td>TCHWPBT_237</td>\n      <td>170654.0</td>\n      <td>1.0</td>\n      <td>5.4</td>\n      <td>NaN</td>\n      <td>1</td>\n    </tr>\n    <tr>\n      <th>2</th>\n      <td>ZGFSYCZ</td>\n      <td>Home</td>\n      <td>4</td>\n      <td>11:00AM-11:30PM</td>\n      <td>4.4</td>\n      <td>6.0</td>\n      <td>Arabic,Breakfast,Burgers,Desserts,Free Deliver...</td>\n      <td>0.0</td>\n      <td>ZGFSYCZ_4</td>\n      <td>11439.0</td>\n      <td>NaN</td>\n      <td>23.6</td>\n      <td>NaN</td>\n      <td>1</td>\n    </tr>\n    <tr>\n      <th>3</th>\n      <td>ZGFSYCZ</td>\n      <td>Home</td>\n      <td>28</td>\n      <td>11:00AM-11:45PM</td>\n      <td>4.4</td>\n      <td>15.0</td>\n      <td>Burgers</td>\n      <td>0.7</td>\n      <td>ZGFSYCZ_28</td>\n      <td>171022.0</td>\n      <td>3.0</td>\n      <td>7.9</td>\n      <td>NaN</td>\n      <td>1</td>\n    </tr>\n    <tr>\n      <th>4</th>\n      <td>ZGFSYCZ</td>\n      <td>Home</td>\n      <td>28</td>\n      <td>11:00AM-11:45PM</td>\n      <td>4.4</td>\n      <td>15.0</td>\n      <td>Burgers</td>\n      <td>0.7</td>\n      <td>ZGFSYCZ_28</td>\n      <td>151462.0</td>\n      <td>2.0</td>\n      <td>7.3</td>\n      <td>NaN</td>\n      <td>1</td>\n    </tr>\n  </tbody>\n</table>\n</div>"
     },
     "metadata": {},
     "execution_count": 24
    }
   ],
   "source": [
    "print(df1.shape)\n",
    "df1.head()"
   ]
  },
  {
   "cell_type": "code",
   "execution_count": 27,
   "metadata": {},
   "outputs": [
    {
     "output_type": "stream",
     "name": "stdout",
     "text": [
      "(104549, 4)\n"
     ]
    },
    {
     "output_type": "execute_result",
     "data": {
      "text/plain": [
       "  customer_id  vendor_id      OpeningTime  \\\n",
       "0     TCHWPBT        113  10:59AM-10:59PM   \n",
       "1     TCHWPBT        237  08:30PM-11:59PM   \n",
       "2     ZGFSYCZ          4  11:00AM-11:30PM   \n",
       "3     ZGFSYCZ         28  11:00AM-11:45PM   \n",
       "4     ZGFSYCZ         28  11:00AM-11:45PM   \n",
       "\n",
       "                                     vendor_tag_name  \n",
       "0               Arabic,Desserts,Free Delivery,Indian  \n",
       "1  American,Burgers,Desserts,Donuts,Fries,Pasta,S...  \n",
       "2  Arabic,Breakfast,Burgers,Desserts,Free Deliver...  \n",
       "3                                            Burgers  \n",
       "4                                            Burgers  "
      ],
      "text/html": "<div>\n<style scoped>\n    .dataframe tbody tr th:only-of-type {\n        vertical-align: middle;\n    }\n\n    .dataframe tbody tr th {\n        vertical-align: top;\n    }\n\n    .dataframe thead th {\n        text-align: right;\n    }\n</style>\n<table border=\"1\" class=\"dataframe\">\n  <thead>\n    <tr style=\"text-align: right;\">\n      <th></th>\n      <th>customer_id</th>\n      <th>vendor_id</th>\n      <th>OpeningTime</th>\n      <th>vendor_tag_name</th>\n    </tr>\n  </thead>\n  <tbody>\n    <tr>\n      <th>0</th>\n      <td>TCHWPBT</td>\n      <td>113</td>\n      <td>10:59AM-10:59PM</td>\n      <td>Arabic,Desserts,Free Delivery,Indian</td>\n    </tr>\n    <tr>\n      <th>1</th>\n      <td>TCHWPBT</td>\n      <td>237</td>\n      <td>08:30PM-11:59PM</td>\n      <td>American,Burgers,Desserts,Donuts,Fries,Pasta,S...</td>\n    </tr>\n    <tr>\n      <th>2</th>\n      <td>ZGFSYCZ</td>\n      <td>4</td>\n      <td>11:00AM-11:30PM</td>\n      <td>Arabic,Breakfast,Burgers,Desserts,Free Deliver...</td>\n    </tr>\n    <tr>\n      <th>3</th>\n      <td>ZGFSYCZ</td>\n      <td>28</td>\n      <td>11:00AM-11:45PM</td>\n      <td>Burgers</td>\n    </tr>\n    <tr>\n      <th>4</th>\n      <td>ZGFSYCZ</td>\n      <td>28</td>\n      <td>11:00AM-11:45PM</td>\n      <td>Burgers</td>\n    </tr>\n  </tbody>\n</table>\n</div>"
     },
     "metadata": {},
     "execution_count": 27
    }
   ],
   "source": [
    "train_contents = df1[['customer_id', 'vendor_id', 'OpeningTime', 'vendor_tag_name']]\n",
    "\n",
    "print(train_contents.shape)\n",
    "train_contents.head()"
   ]
  },
  {
   "source": [
    "### Preprocessing the 'OpeningTime' column"
   ],
   "cell_type": "markdown",
   "metadata": {}
  },
  {
   "cell_type": "code",
   "execution_count": 28,
   "metadata": {},
   "outputs": [
    {
     "output_type": "stream",
     "name": "stdout",
     "text": [
      "open:\n['10:59AM', '08:30PM', '11:00AM', '11.30am', '09:00AM', '11AM', '10:00AM', '08:00AM', '12:00PM', '9', '', '11:59AM', '09:59AM', '05:00PM', '09:00 AM', '01.00PM', '05:30PM', '08:30AM', '8:00AM', '11:15AM', '9:00AM', '7:58AM', '04:59PM', '00:01AM', '9am', '04:00PM', '06:15AM', '06:00PM', '11:30AM']\nclose:\n['10:59PM', '11:59PM', '11:30PM', '11:45PM', '10:30PM', '3:50pm', '11:00PM', '11PM', '3:30PM', '07:00PM', '111:00PM', '22', '', '2:15 am', '12:30PM', '10:45PM', '11:15PM', '11:45 PM', '02:.00AM', '09:30PM', '09:45PM', '08:00pm ', '03:00PM', '04:00PM', '10:00PM', '11:59PM ', '09:01AM', '11:45', '11:01PM', '01:00AM', '10pm', '1:45PM', '10:45PM ', '12:00PM', '11.59 PM']\n"
     ]
    }
   ],
   "source": [
    "# Split 'Openingtime' column to 2 columns (open / close)\n",
    "train_contents['OpeningTime'].fillna('-', inplace=True) \n",
    "\n",
    "time_split = train_contents['OpeningTime'].str.split('-')\n",
    "open_time = time_split.str.get(0)\n",
    "close_time = time_split.str.get(1)\n",
    "\n",
    "train_contents['open'] = open_time\n",
    "train_contents['close'] = close_time\n",
    "\n",
    "# Fill the blank to null value\n",
    "train_contents['open'].fillna('',inplace=True) \n",
    "train_contents['close'].fillna('',inplace=True)\n",
    "\n",
    "print(f'open:\\n{list(train_contents.open.unique())}')\n",
    "print(f'close:\\n{list(train_contents.close.unique())}')"
   ]
  },
  {
   "source": [
    "### Make new columns 'morning, afternoon, evening' based open and close time"
   ],
   "cell_type": "markdown",
   "metadata": {}
  },
  {
   "cell_type": "code",
   "execution_count": 29,
   "metadata": {},
   "outputs": [
    {
     "output_type": "execute_result",
     "data": {
      "text/plain": [
       "  customer_id  vendor_id      OpeningTime  \\\n",
       "0     TCHWPBT        113  10:59AM-10:59PM   \n",
       "1     TCHWPBT        237  08:30PM-11:59PM   \n",
       "2     ZGFSYCZ          4  11:00AM-11:30PM   \n",
       "3     ZGFSYCZ         28  11:00AM-11:45PM   \n",
       "4     ZGFSYCZ         28  11:00AM-11:45PM   \n",
       "\n",
       "                                     vendor_tag_name     open    close  \\\n",
       "0               Arabic,Desserts,Free Delivery,Indian  10:59AM  10:59PM   \n",
       "1  American,Burgers,Desserts,Donuts,Fries,Pasta,S...  08:30PM  11:59PM   \n",
       "2  Arabic,Breakfast,Burgers,Desserts,Free Deliver...  11:00AM  11:30PM   \n",
       "3                                            Burgers  11:00AM  11:45PM   \n",
       "4                                            Burgers  11:00AM  11:45PM   \n",
       "\n",
       "   morning  afternoon  evening  \n",
       "0      1.0        1.0      1.0  \n",
       "1      0.0        0.0      1.0  \n",
       "2      0.0        1.0      1.0  \n",
       "3      0.0        1.0      1.0  \n",
       "4      0.0        1.0      1.0  "
      ],
      "text/html": "<div>\n<style scoped>\n    .dataframe tbody tr th:only-of-type {\n        vertical-align: middle;\n    }\n\n    .dataframe tbody tr th {\n        vertical-align: top;\n    }\n\n    .dataframe thead th {\n        text-align: right;\n    }\n</style>\n<table border=\"1\" class=\"dataframe\">\n  <thead>\n    <tr style=\"text-align: right;\">\n      <th></th>\n      <th>customer_id</th>\n      <th>vendor_id</th>\n      <th>OpeningTime</th>\n      <th>vendor_tag_name</th>\n      <th>open</th>\n      <th>close</th>\n      <th>morning</th>\n      <th>afternoon</th>\n      <th>evening</th>\n    </tr>\n  </thead>\n  <tbody>\n    <tr>\n      <th>0</th>\n      <td>TCHWPBT</td>\n      <td>113</td>\n      <td>10:59AM-10:59PM</td>\n      <td>Arabic,Desserts,Free Delivery,Indian</td>\n      <td>10:59AM</td>\n      <td>10:59PM</td>\n      <td>1.0</td>\n      <td>1.0</td>\n      <td>1.0</td>\n    </tr>\n    <tr>\n      <th>1</th>\n      <td>TCHWPBT</td>\n      <td>237</td>\n      <td>08:30PM-11:59PM</td>\n      <td>American,Burgers,Desserts,Donuts,Fries,Pasta,S...</td>\n      <td>08:30PM</td>\n      <td>11:59PM</td>\n      <td>0.0</td>\n      <td>0.0</td>\n      <td>1.0</td>\n    </tr>\n    <tr>\n      <th>2</th>\n      <td>ZGFSYCZ</td>\n      <td>4</td>\n      <td>11:00AM-11:30PM</td>\n      <td>Arabic,Breakfast,Burgers,Desserts,Free Deliver...</td>\n      <td>11:00AM</td>\n      <td>11:30PM</td>\n      <td>0.0</td>\n      <td>1.0</td>\n      <td>1.0</td>\n    </tr>\n    <tr>\n      <th>3</th>\n      <td>ZGFSYCZ</td>\n      <td>28</td>\n      <td>11:00AM-11:45PM</td>\n      <td>Burgers</td>\n      <td>11:00AM</td>\n      <td>11:45PM</td>\n      <td>0.0</td>\n      <td>1.0</td>\n      <td>1.0</td>\n    </tr>\n    <tr>\n      <th>4</th>\n      <td>ZGFSYCZ</td>\n      <td>28</td>\n      <td>11:00AM-11:45PM</td>\n      <td>Burgers</td>\n      <td>11:00AM</td>\n      <td>11:45PM</td>\n      <td>0.0</td>\n      <td>1.0</td>\n      <td>1.0</td>\n    </tr>\n  </tbody>\n</table>\n</div>"
     },
     "metadata": {},
     "execution_count": 29
    }
   ],
   "source": [
    "def morning_func(x):\n",
    "    if x == '':\n",
    "        return None\n",
    "    else:\n",
    "        x1 = int(x[:2].replace(':', '').replace('a', ''))\n",
    "        x2 = x[-2:]\n",
    "        if (x1 >= 7 and x1 <= 10) and x2 == ('AM' or 'am'): \n",
    "            return 1\n",
    "        elif x1 <= 10 and len(x) <= 2:\n",
    "            return 1\n",
    "        else:\n",
    "            return 0\n",
    "\n",
    "def afternoon_func(x):\n",
    "    if x == '':\n",
    "        return None\n",
    "    else:\n",
    "        x1 = int(x[:2].replace(':', '').replace('a', ''))\n",
    "        x2 = x[-2:]\n",
    "        if x1 <= 1 and x2 == 'PM': \n",
    "            return 1\n",
    "        elif x1 == 12 and x2 == 'PM':\n",
    "            return 1\n",
    "        elif x2 == ('AM' or 'am'):\n",
    "            return 1\n",
    "        elif x1 <= 10 and len(x) <= 2:\n",
    "            return 1\n",
    "        else:\n",
    "            return 0\n",
    "\n",
    "def evening_func(x) :\n",
    "    if x == '':\n",
    "        return None\n",
    "    else:\n",
    "        x1 = int(x[:2].replace(':', ''))\n",
    "        x2 = x[-2:]\n",
    "        if (x1 >= 6 and x2 == 'PM') or x2 == ('Am' or 'am'):\n",
    "            return 1\n",
    "        elif x1 >= 22 and len(x) <= 2:\n",
    "            return 1      \n",
    "        else:\n",
    "            return 0\n",
    "\n",
    "train_contents['morning'] = train_contents['open'].apply(morning_func)\n",
    "train_contents['afternoon'] = train_contents['open'].apply(afternoon_func)\n",
    "train_contents['evening'] = train_contents['close'].apply(evening_func)\n",
    "\n",
    "train_contents.head()"
   ]
  },
  {
   "source": [
    "### If the 'breakfast' is in the vendor_tag_name and the morning value is null(blank), fill the morning and afternoon values to 1"
   ],
   "cell_type": "markdown",
   "metadata": {}
  },
  {
   "cell_type": "code",
   "execution_count": 30,
   "metadata": {},
   "outputs": [
    {
     "output_type": "stream",
     "name": "stdout",
     "text": [
      "vendor_tag_name\n\tcount: 1611\n\tpercentage: 0.015409042649857962\n\nvendor_tag_name\n\tcount: 0\n\tpercentage: 0.0\n\n"
     ]
    }
   ],
   "source": [
    "# Check the null ratio of 'vendor_tag_name' \n",
    "null = np.count_nonzero(\n",
    "    train_contents['vendor_tag_name'].isnull()\n",
    ")\n",
    "print(f'vendor_tag_name\\n\\tcount: {null}\\n\\tpercentage: {null/train_contents.shape[0]}\\n')\n",
    "\n",
    "# Remove the null value\n",
    "train_contents = train_contents[\n",
    "    train_contents['vendor_tag_name'].notnull()\n",
    "].reset_index(drop=True)\n",
    "\n",
    "null = np.count_nonzero(\n",
    "    train_contents['vendor_tag_name'].isnull()\n",
    ")\n",
    "print(f'vendor_tag_name\\n\\tcount: {null}\\n\\tpercentage: {null/train_contents.shape[0]}\\n')"
   ]
  },
  {
   "cell_type": "code",
   "execution_count": 31,
   "metadata": {},
   "outputs": [
    {
     "output_type": "execute_result",
     "data": {
      "text/plain": [
       "0            [arabic, desserts, free delivery, indian]\n",
       "1    [american, burgers, desserts, donuts, fries, p...\n",
       "2    [arabic, breakfast, burgers, desserts, free de...\n",
       "3                                            [burgers]\n",
       "4                                            [burgers]\n",
       "Name: vendor_tag, dtype: object"
      ]
     },
     "metadata": {},
     "execution_count": 31
    }
   ],
   "source": [
    "# Cleaning 'vendor_tag_name'\n",
    "\n",
    "# Change all of the chars to lower char  \n",
    "train_contents['vendor_tag_name'] = train_contents['vendor_tag_name'].apply(\n",
    "    lambda x:x.lower()\n",
    ")\n",
    "\n",
    "# str -> list\n",
    "train_contents['vendor_tag'] = train_contents['vendor_tag_name'].str.split(',')\n",
    "\n",
    "train_contents['vendor_tag'].head()"
   ]
  },
  {
   "cell_type": "code",
   "execution_count": 32,
   "metadata": {},
   "outputs": [],
   "source": [
    "# If 'breakfast' is in the tag, then add the morning\n",
    "def breakfast_in_tags(tags, x2):\n",
    "    if any('breakfast' in i for i in tags) and np.isnan(x2) == True:\n",
    "        return 1\n",
    "    else:\n",
    "        return x2\n",
    "\n",
    "train_contents['morning_2'] = train_contents.apply(\n",
    "    lambda x: breakfast_in_tags(x['vendor_tag'], x['morning']), \n",
    "    axis=1\n",
    ")\n",
    "\n",
    "# afternoon 1 / remainders are not changed\n",
    "for i in range(len(train_contents['afternoon'])):\n",
    "    if (np.isnan(train_contents['morning'][i]) == True) and (train_contents['morning_2'][i] == 1.0):\n",
    "        train_contents['afternoon'][i] = 1\n",
    "    else:\n",
    "        pass\n",
    "\n",
    "# evening 0 / remainders are not changed\n",
    "for i in range(len(train_contents['evening'])):\n",
    "    if (np.isnan(train_contents['morning'][i]) == True) and (train_contents['morning_2'][i] == 1.0):\n",
    "        train_contents['evening'][i] = 0\n",
    "    else:\n",
    "        pass"
   ]
  },
  {
   "cell_type": "code",
   "execution_count": 33,
   "metadata": {},
   "outputs": [
    {
     "output_type": "stream",
     "name": "stdout",
     "text": [
      "morning_2\n\tcount: 487\n\tpercentage: 0.004731003128096524\n\nmorning_2\n\tcount: 0\n\tpercentage: 0.0\n\n"
     ]
    }
   ],
   "source": [
    "# Check the null ratio of 'vendor_tag_name' \n",
    "null = np.count_nonzero(\n",
    "    train_contents['morning_2'].isnull()\n",
    ")\n",
    "print(f'morning_2\\n\\tcount: {null}\\n\\tpercentage: {null/train_contents.shape[0]}\\n')\n",
    "\n",
    "# Remove the null value\n",
    "train_contents = train_contents[\n",
    "    train_contents['morning_2'].notnull()\n",
    "].reset_index(drop=True)\n",
    "\n",
    "null = np.count_nonzero(\n",
    "    train_contents['morning_2'].isnull()\n",
    ")\n",
    "print(f'morning_2\\n\\tcount: {null}\\n\\tpercentage: {null/train_contents.shape[0]}\\n')\n",
    "\n",
    "train_contents.drop(['morning'], axis=1, inplace=True)\n",
    "train_contents.rename(columns={'morning_2': 'morning'}, inplace=True)"
   ]
  },
  {
   "cell_type": "code",
   "execution_count": 35,
   "metadata": {},
   "outputs": [
    {
     "output_type": "stream",
     "name": "stdout",
     "text": [
      "(102451, 10)\n"
     ]
    },
    {
     "output_type": "execute_result",
     "data": {
      "text/plain": [
       "  customer_id  vendor_id      OpeningTime  \\\n",
       "0     TCHWPBT        113  10:59AM-10:59PM   \n",
       "1     TCHWPBT        237  08:30PM-11:59PM   \n",
       "2     ZGFSYCZ          4  11:00AM-11:30PM   \n",
       "3     ZGFSYCZ         28  11:00AM-11:45PM   \n",
       "4     ZGFSYCZ         28  11:00AM-11:45PM   \n",
       "\n",
       "                                     vendor_tag_name     open    close  \\\n",
       "0               arabic,desserts,free delivery,indian  10:59AM  10:59PM   \n",
       "1  american,burgers,desserts,donuts,fries,pasta,s...  08:30PM  11:59PM   \n",
       "2  arabic,breakfast,burgers,desserts,free deliver...  11:00AM  11:30PM   \n",
       "3                                            burgers  11:00AM  11:45PM   \n",
       "4                                            burgers  11:00AM  11:45PM   \n",
       "\n",
       "   afternoon  evening                                         vendor_tag  \\\n",
       "0        1.0      1.0          [arabic, desserts, free delivery, indian]   \n",
       "1        0.0      1.0  [american, burgers, desserts, donuts, fries, p...   \n",
       "2        1.0      1.0  [arabic, breakfast, burgers, desserts, free de...   \n",
       "3        1.0      1.0                                          [burgers]   \n",
       "4        1.0      1.0                                          [burgers]   \n",
       "\n",
       "   morning  \n",
       "0      1.0  \n",
       "1      0.0  \n",
       "2      0.0  \n",
       "3      0.0  \n",
       "4      0.0  "
      ],
      "text/html": "<div>\n<style scoped>\n    .dataframe tbody tr th:only-of-type {\n        vertical-align: middle;\n    }\n\n    .dataframe tbody tr th {\n        vertical-align: top;\n    }\n\n    .dataframe thead th {\n        text-align: right;\n    }\n</style>\n<table border=\"1\" class=\"dataframe\">\n  <thead>\n    <tr style=\"text-align: right;\">\n      <th></th>\n      <th>customer_id</th>\n      <th>vendor_id</th>\n      <th>OpeningTime</th>\n      <th>vendor_tag_name</th>\n      <th>open</th>\n      <th>close</th>\n      <th>afternoon</th>\n      <th>evening</th>\n      <th>vendor_tag</th>\n      <th>morning</th>\n    </tr>\n  </thead>\n  <tbody>\n    <tr>\n      <th>0</th>\n      <td>TCHWPBT</td>\n      <td>113</td>\n      <td>10:59AM-10:59PM</td>\n      <td>arabic,desserts,free delivery,indian</td>\n      <td>10:59AM</td>\n      <td>10:59PM</td>\n      <td>1.0</td>\n      <td>1.0</td>\n      <td>[arabic, desserts, free delivery, indian]</td>\n      <td>1.0</td>\n    </tr>\n    <tr>\n      <th>1</th>\n      <td>TCHWPBT</td>\n      <td>237</td>\n      <td>08:30PM-11:59PM</td>\n      <td>american,burgers,desserts,donuts,fries,pasta,s...</td>\n      <td>08:30PM</td>\n      <td>11:59PM</td>\n      <td>0.0</td>\n      <td>1.0</td>\n      <td>[american, burgers, desserts, donuts, fries, p...</td>\n      <td>0.0</td>\n    </tr>\n    <tr>\n      <th>2</th>\n      <td>ZGFSYCZ</td>\n      <td>4</td>\n      <td>11:00AM-11:30PM</td>\n      <td>arabic,breakfast,burgers,desserts,free deliver...</td>\n      <td>11:00AM</td>\n      <td>11:30PM</td>\n      <td>1.0</td>\n      <td>1.0</td>\n      <td>[arabic, breakfast, burgers, desserts, free de...</td>\n      <td>0.0</td>\n    </tr>\n    <tr>\n      <th>3</th>\n      <td>ZGFSYCZ</td>\n      <td>28</td>\n      <td>11:00AM-11:45PM</td>\n      <td>burgers</td>\n      <td>11:00AM</td>\n      <td>11:45PM</td>\n      <td>1.0</td>\n      <td>1.0</td>\n      <td>[burgers]</td>\n      <td>0.0</td>\n    </tr>\n    <tr>\n      <th>4</th>\n      <td>ZGFSYCZ</td>\n      <td>28</td>\n      <td>11:00AM-11:45PM</td>\n      <td>burgers</td>\n      <td>11:00AM</td>\n      <td>11:45PM</td>\n      <td>1.0</td>\n      <td>1.0</td>\n      <td>[burgers]</td>\n      <td>0.0</td>\n    </tr>\n  </tbody>\n</table>\n</div>"
     },
     "metadata": {},
     "execution_count": 35
    }
   ],
   "source": [
    "print(train_contents.shape)\n",
    "train_contents.head()"
   ]
  },
  {
   "source": [
    "## Recomendation system"
   ],
   "cell_type": "markdown",
   "metadata": {}
  },
  {
   "cell_type": "code",
   "execution_count": 36,
   "metadata": {},
   "outputs": [],
   "source": [
    "# strip 'vendor_tag' column\n",
    "train_contents['vendor_tag'] = train_contents['vendor_tag'].apply(\n",
    "    lambda x: [str.lower(i.replace(' ', '')) for i in x]\n",
    ")"
   ]
  },
  {
   "cell_type": "code",
   "execution_count": 37,
   "metadata": {},
   "outputs": [
    {
     "output_type": "stream",
     "name": "stdout",
     "text": [
      "Similarity of pasta and pastas: 0.9090909090909091\nSimilarity of pasta and pastry: 0.7272727272727273\nSimilarity of pizza and pizzas: 0.9090909090909091\nSimilarity of soups and shuwa: 0.4\nSimilarity of shawarma and shuwa: 0.6153846153846154\nSimilarity of thali and thai: 0.8888888888888888\nSimilarity of milkshakes and mishkak: 0.7058823529411765\n"
     ]
    }
   ],
   "source": [
    "# Check similar words\n",
    "def print_SM_similarity(word_1, word_2):\n",
    "    ratio = SequenceMatcher(None, word_1, word_2).ratio()\n",
    "    print(f'Similarity of {word_1} and {word_2}: {ratio}')\n",
    "\n",
    "print_SM_similarity('pasta', 'pastas')\n",
    "print_SM_similarity('pasta', 'pastry')\n",
    "print_SM_similarity('pizza', 'pizzas')\n",
    "print_SM_similarity('soups', 'shuwa')\n",
    "print_SM_similarity('shawarma', 'shuwa')\n",
    "print_SM_similarity('thali', 'thai')\n",
    "print_SM_similarity('milkshakes', 'mishkak')"
   ]
  },
  {
   "cell_type": "code",
   "execution_count": 38,
   "metadata": {},
   "outputs": [
    {
     "output_type": "execute_result",
     "data": {
      "text/plain": [
       "  customer_id  vendor_id      OpeningTime  \\\n",
       "0     TCHWPBT        113  10:59AM-10:59PM   \n",
       "1     TCHWPBT        237  08:30PM-11:59PM   \n",
       "2     ZGFSYCZ          4  11:00AM-11:30PM   \n",
       "3     ZGFSYCZ         28  11:00AM-11:45PM   \n",
       "4     ZGFSYCZ         28  11:00AM-11:45PM   \n",
       "\n",
       "                                     vendor_tag_name     open    close  \\\n",
       "0               arabic,desserts,free delivery,indian  10:59AM  10:59PM   \n",
       "1  american,burgers,desserts,donuts,fries,pasta,s...  08:30PM  11:59PM   \n",
       "2  arabic,breakfast,burgers,desserts,free deliver...  11:00AM  11:30PM   \n",
       "3                                            burgers  11:00AM  11:45PM   \n",
       "4                                            burgers  11:00AM  11:45PM   \n",
       "\n",
       "   afternoon  evening                                         vendor_tag  \\\n",
       "0        1.0      1.0           [arabic, desserts, freedelivery, indian]   \n",
       "1        0.0      1.0  [american, burgers, desserts, donuts, fries, p...   \n",
       "2        1.0      1.0  [arabic, breakfast, burgers, desserts, freedel...   \n",
       "3        1.0      1.0                                          [burgers]   \n",
       "4        1.0      1.0                                          [burgers]   \n",
       "\n",
       "   morning                                       vendor_tag_1  \n",
       "0      1.0                arabic desserts freedelivery indian  \n",
       "1      0.0  american burgers desserts donuts fries pasta s...  \n",
       "2      0.0  arabic breakfast burgers desserts freedelivery...  \n",
       "3      0.0                                            burgers  \n",
       "4      0.0                                            burgers  "
      ],
      "text/html": "<div>\n<style scoped>\n    .dataframe tbody tr th:only-of-type {\n        vertical-align: middle;\n    }\n\n    .dataframe tbody tr th {\n        vertical-align: top;\n    }\n\n    .dataframe thead th {\n        text-align: right;\n    }\n</style>\n<table border=\"1\" class=\"dataframe\">\n  <thead>\n    <tr style=\"text-align: right;\">\n      <th></th>\n      <th>customer_id</th>\n      <th>vendor_id</th>\n      <th>OpeningTime</th>\n      <th>vendor_tag_name</th>\n      <th>open</th>\n      <th>close</th>\n      <th>afternoon</th>\n      <th>evening</th>\n      <th>vendor_tag</th>\n      <th>morning</th>\n      <th>vendor_tag_1</th>\n    </tr>\n  </thead>\n  <tbody>\n    <tr>\n      <th>0</th>\n      <td>TCHWPBT</td>\n      <td>113</td>\n      <td>10:59AM-10:59PM</td>\n      <td>arabic,desserts,free delivery,indian</td>\n      <td>10:59AM</td>\n      <td>10:59PM</td>\n      <td>1.0</td>\n      <td>1.0</td>\n      <td>[arabic, desserts, freedelivery, indian]</td>\n      <td>1.0</td>\n      <td>arabic desserts freedelivery indian</td>\n    </tr>\n    <tr>\n      <th>1</th>\n      <td>TCHWPBT</td>\n      <td>237</td>\n      <td>08:30PM-11:59PM</td>\n      <td>american,burgers,desserts,donuts,fries,pasta,s...</td>\n      <td>08:30PM</td>\n      <td>11:59PM</td>\n      <td>0.0</td>\n      <td>1.0</td>\n      <td>[american, burgers, desserts, donuts, fries, p...</td>\n      <td>0.0</td>\n      <td>american burgers desserts donuts fries pasta s...</td>\n    </tr>\n    <tr>\n      <th>2</th>\n      <td>ZGFSYCZ</td>\n      <td>4</td>\n      <td>11:00AM-11:30PM</td>\n      <td>arabic,breakfast,burgers,desserts,free deliver...</td>\n      <td>11:00AM</td>\n      <td>11:30PM</td>\n      <td>1.0</td>\n      <td>1.0</td>\n      <td>[arabic, breakfast, burgers, desserts, freedel...</td>\n      <td>0.0</td>\n      <td>arabic breakfast burgers desserts freedelivery...</td>\n    </tr>\n    <tr>\n      <th>3</th>\n      <td>ZGFSYCZ</td>\n      <td>28</td>\n      <td>11:00AM-11:45PM</td>\n      <td>burgers</td>\n      <td>11:00AM</td>\n      <td>11:45PM</td>\n      <td>1.0</td>\n      <td>1.0</td>\n      <td>[burgers]</td>\n      <td>0.0</td>\n      <td>burgers</td>\n    </tr>\n    <tr>\n      <th>4</th>\n      <td>ZGFSYCZ</td>\n      <td>28</td>\n      <td>11:00AM-11:45PM</td>\n      <td>burgers</td>\n      <td>11:00AM</td>\n      <td>11:45PM</td>\n      <td>1.0</td>\n      <td>1.0</td>\n      <td>[burgers]</td>\n      <td>0.0</td>\n      <td>burgers</td>\n    </tr>\n  </tbody>\n</table>\n</div>"
     },
     "metadata": {},
     "execution_count": 38
    }
   ],
   "source": [
    "# change the word when similarity is over than 0.8 \n",
    "train_contents['vendor_tag'] = train_contents['vendor_tag'].apply(\n",
    "    lambda x: [i.replace('pastas', 'pasta') for i in x]\n",
    ")\n",
    "train_contents['vendor_tag'] = train_contents['vendor_tag'].apply(\n",
    "    lambda x: [i.replace('pizzas', 'pizza') for i in x]\n",
    ")\n",
    "train_contents['vendor_tag'] = train_contents['vendor_tag'].apply(\n",
    "    lambda x: [i.replace('thali', 'thai') for i in x]\n",
    ")\n",
    "\n",
    "train_contents['vendor_tag_1'] = train_contents['vendor_tag'].apply(\n",
    "    lambda x:' '.join(x)\n",
    ")\n",
    "\n",
    "train_contents.head()"
   ]
  },
  {
   "cell_type": "code",
   "execution_count": 39,
   "metadata": {},
   "outputs": [
    {
     "output_type": "execute_result",
     "data": {
      "text/plain": [
       "113    5792\n",
       "105    4822\n",
       "84     4163\n",
       "79     4046\n",
       "78     3688\n",
       "       ... \n",
       "295     390\n",
       "582     387\n",
       "841     379\n",
       "845     365\n",
       "843     339\n",
       "Name: vendor_id, Length: 95, dtype: int64"
      ]
     },
     "metadata": {},
     "execution_count": 39
    }
   ],
   "source": [
    "train_contents['vendor_id'].value_counts()"
   ]
  },
  {
   "cell_type": "code",
   "execution_count": 40,
   "metadata": {},
   "outputs": [
    {
     "output_type": "stream",
     "name": "stdout",
     "text": [
      "(95, 11)\n"
     ]
    }
   ],
   "source": [
    "prepared_df = train_contents.drop_duplicates('vendor_id', keep='first', inplace=False)\n",
    "prepared_df['vendor_id'] = prepared_df['vendor_id'].astype(str)\n",
    "\n",
    "print(prepared_df.shape)\n",
    "prepared_df_cp1 = prepared_df[:]"
   ]
  },
  {
   "source": [
    "### TF-IDF (vendor tags)"
   ],
   "cell_type": "markdown",
   "metadata": {}
  },
  {
   "cell_type": "code",
   "execution_count": 41,
   "metadata": {},
   "outputs": [
    {
     "output_type": "execute_result",
     "data": {
      "text/plain": [
       "          customer_id      OpeningTime  \\\n",
       "vendor_id                                \n",
       "113           TCHWPBT  10:59AM-10:59PM   \n",
       "237           TCHWPBT  08:30PM-11:59PM   \n",
       "4             ZGFSYCZ  11:00AM-11:30PM   \n",
       "28            ZGFSYCZ  11:00AM-11:45PM   \n",
       "33            ZGFSYCZ  11:00AM-10:30PM   \n",
       "\n",
       "                                             vendor_tag_name     open  \\\n",
       "vendor_id                                                               \n",
       "113                     arabic,desserts,free delivery,indian  10:59AM   \n",
       "237        american,burgers,desserts,donuts,fries,pasta,s...  08:30PM   \n",
       "4          arabic,breakfast,burgers,desserts,free deliver...  11:00AM   \n",
       "28                                                   burgers  11:00AM   \n",
       "33                                          desserts,mexican  11:00AM   \n",
       "\n",
       "             close  afternoon  evening  \\\n",
       "vendor_id                                \n",
       "113        10:59PM        1.0      1.0   \n",
       "237        11:59PM        0.0      1.0   \n",
       "4          11:30PM        1.0      1.0   \n",
       "28         11:45PM        1.0      1.0   \n",
       "33         10:30PM        1.0      1.0   \n",
       "\n",
       "                                                  vendor_tag  morning  \\\n",
       "vendor_id                                                               \n",
       "113                 [arabic, desserts, freedelivery, indian]      1.0   \n",
       "237        [american, burgers, desserts, donuts, fries, p...      0.0   \n",
       "4          [arabic, breakfast, burgers, desserts, freedel...      0.0   \n",
       "28                                                 [burgers]      0.0   \n",
       "33                                       [desserts, mexican]      0.0   \n",
       "\n",
       "                                                vendor_tag_1  \n",
       "vendor_id                                                     \n",
       "113                      arabic desserts freedelivery indian  \n",
       "237        american burgers desserts donuts fries pasta s...  \n",
       "4          arabic breakfast burgers desserts freedelivery...  \n",
       "28                                                   burgers  \n",
       "33                                          desserts mexican  "
      ],
      "text/html": "<div>\n<style scoped>\n    .dataframe tbody tr th:only-of-type {\n        vertical-align: middle;\n    }\n\n    .dataframe tbody tr th {\n        vertical-align: top;\n    }\n\n    .dataframe thead th {\n        text-align: right;\n    }\n</style>\n<table border=\"1\" class=\"dataframe\">\n  <thead>\n    <tr style=\"text-align: right;\">\n      <th></th>\n      <th>customer_id</th>\n      <th>OpeningTime</th>\n      <th>vendor_tag_name</th>\n      <th>open</th>\n      <th>close</th>\n      <th>afternoon</th>\n      <th>evening</th>\n      <th>vendor_tag</th>\n      <th>morning</th>\n      <th>vendor_tag_1</th>\n    </tr>\n    <tr>\n      <th>vendor_id</th>\n      <th></th>\n      <th></th>\n      <th></th>\n      <th></th>\n      <th></th>\n      <th></th>\n      <th></th>\n      <th></th>\n      <th></th>\n      <th></th>\n    </tr>\n  </thead>\n  <tbody>\n    <tr>\n      <th>113</th>\n      <td>TCHWPBT</td>\n      <td>10:59AM-10:59PM</td>\n      <td>arabic,desserts,free delivery,indian</td>\n      <td>10:59AM</td>\n      <td>10:59PM</td>\n      <td>1.0</td>\n      <td>1.0</td>\n      <td>[arabic, desserts, freedelivery, indian]</td>\n      <td>1.0</td>\n      <td>arabic desserts freedelivery indian</td>\n    </tr>\n    <tr>\n      <th>237</th>\n      <td>TCHWPBT</td>\n      <td>08:30PM-11:59PM</td>\n      <td>american,burgers,desserts,donuts,fries,pasta,s...</td>\n      <td>08:30PM</td>\n      <td>11:59PM</td>\n      <td>0.0</td>\n      <td>1.0</td>\n      <td>[american, burgers, desserts, donuts, fries, p...</td>\n      <td>0.0</td>\n      <td>american burgers desserts donuts fries pasta s...</td>\n    </tr>\n    <tr>\n      <th>4</th>\n      <td>ZGFSYCZ</td>\n      <td>11:00AM-11:30PM</td>\n      <td>arabic,breakfast,burgers,desserts,free deliver...</td>\n      <td>11:00AM</td>\n      <td>11:30PM</td>\n      <td>1.0</td>\n      <td>1.0</td>\n      <td>[arabic, breakfast, burgers, desserts, freedel...</td>\n      <td>0.0</td>\n      <td>arabic breakfast burgers desserts freedelivery...</td>\n    </tr>\n    <tr>\n      <th>28</th>\n      <td>ZGFSYCZ</td>\n      <td>11:00AM-11:45PM</td>\n      <td>burgers</td>\n      <td>11:00AM</td>\n      <td>11:45PM</td>\n      <td>1.0</td>\n      <td>1.0</td>\n      <td>[burgers]</td>\n      <td>0.0</td>\n      <td>burgers</td>\n    </tr>\n    <tr>\n      <th>33</th>\n      <td>ZGFSYCZ</td>\n      <td>11:00AM-10:30PM</td>\n      <td>desserts,mexican</td>\n      <td>11:00AM</td>\n      <td>10:30PM</td>\n      <td>1.0</td>\n      <td>1.0</td>\n      <td>[desserts, mexican]</td>\n      <td>0.0</td>\n      <td>desserts mexican</td>\n    </tr>\n  </tbody>\n</table>\n</div>"
     },
     "metadata": {},
     "execution_count": 41
    }
   ],
   "source": [
    "prepared_df.set_index('vendor_id', inplace=True)\n",
    "prepared_df.head()"
   ]
  },
  {
   "cell_type": "code",
   "execution_count": 42,
   "metadata": {},
   "outputs": [
    {
     "output_type": "stream",
     "name": "stdout",
     "text": [
      "{'arabic': 1, 'desserts': 14, 'freedelivery': 18, 'indian': 27, 'american': 0, 'burgers': 6, 'donuts': 16, 'fries': 20, 'pasta': 44, 'salads': 49, 'sandwiches': 50, 'breakfast': 5, 'grills': 22, 'lebanese': 34, 'shawarma': 52, 'mexican': 37, 'asian': 2, 'healthyfood': 23, 'japanese': 29, 'sushi': 58, 'hotdogs': 25, 'biryani': 4, 'soups': 55, 'freshjuices': 19, 'smoothies': 54, 'cakes': 8, 'coffee': 11, 'hotchocolate': 24, 'bagels': 3, 'kidsmeal': 32, 'pizza': 46, 'familymeal': 17, 'kebabs': 31, 'rice': 47, 'cafe': 7, 'icecreams': 26, 'italian': 28, 'sweets': 59, 'thai': 60, 'vegetarian': 61, 'milkshakes': 38, 'mandazi': 36, 'omani': 41, 'steaks': 57, 'frozenyoghurt': 21, 'mojitos': 40, 'mishkak': 39, 'organic': 42, 'manakeesh': 35, 'crepes': 13, 'pancakes': 43, 'waffles': 62, 'chinese': 9, 'dimsum': 15, 'churros': 10, 'spanishlatte': 56, 'pastry': 45, 'seafood': 51, 'rolls': 48, 'karak': 30, 'combos': 12, 'kushari': 33, 'shuwa': 53}\n"
     ]
    }
   ],
   "source": [
    "vectorizer = TfidfVectorizer()\n",
    "count_matrix = vectorizer.fit_transform(prepared_df['vendor_tag_1'])\n",
    "print(vectorizer.vocabulary_)"
   ]
  },
  {
   "cell_type": "code",
   "execution_count": 43,
   "metadata": {},
   "outputs": [
    {
     "output_type": "execute_result",
     "data": {
      "text/plain": [
       "0    113\n",
       "1    237\n",
       "2      4\n",
       "3     28\n",
       "4     33\n",
       "Name: vendor_id, dtype: object"
      ]
     },
     "metadata": {},
     "execution_count": 43
    }
   ],
   "source": [
    "indices = pd.Series(prepared_df.index)\n",
    "indices[:5]"
   ]
  },
  {
   "cell_type": "code",
   "execution_count": 44,
   "metadata": {},
   "outputs": [],
   "source": [
    "cosine_sim = cosine_similarity(count_matrix, count_matrix)"
   ]
  },
  {
   "cell_type": "code",
   "execution_count": 45,
   "metadata": {},
   "outputs": [],
   "source": [
    "prepared_df = prepared_df.reset_index()\n",
    "\n",
    "def get_recommendations_df(vendor_id, cosine_sim=cosine_sim):\n",
    "    indices = pd.Series(prepared_df.index, index = prepared_df['vendor_id']).drop_duplicates() \n",
    "    # get index from vendor_id\n",
    "    idx = indices[vendor_id]\n",
    "\n",
    "    recommendations_df = prepared_df[[\n",
    "        'vendor_id', 'vendor_tag_name', 'open', 'close', 'morning', 'afternoon', 'evening'\n",
    "    ]]\n",
    "\n",
    "    # cosin_similarity\n",
    "    sim_scores = list(cosine_sim[idx])\n",
    "    recommendations_df['sim_score'] = sim_scores\n",
    "    return recommendations_df.sort_values(['sim_score'], ascending=False).head(11).reset_index()\n",
    "\n",
    "\n",
    "def get_recommendations(vendor_id, cosine_sim=cosine_sim):\n",
    "    indices = pd.Series(prepared_df.index, index = prepared_df['vendor_id']).drop_duplicates() \n",
    "    # get index from vendor_id\n",
    "    idx = indices[vendor_id]\n",
    "\n",
    "    # cosin_similarity\n",
    "    sim_scores = list(enumerate(cosine_sim[idx]))\n",
    "    sim_scores = sorted(sim_scores, key=lambda x: x[1], reverse=True)\n",
    "\n",
    "    # most similar vendor_id (10)\n",
    "    sim_scores = sim_scores[1:11]\n",
    "\n",
    "    return sim_scores"
   ]
  },
  {
   "cell_type": "code",
   "execution_count": 46,
   "metadata": {},
   "outputs": [
    {
     "output_type": "execute_result",
     "data": {
      "text/plain": [
       "    index vendor_id                                    vendor_tag_name  \\\n",
       "0       0       113               arabic,desserts,free delivery,indian   \n",
       "1      36        20            breakfast,desserts,free delivery,indian   \n",
       "2      61       149                                             arabic   \n",
       "3      30        83                   breakfast,desserts,salads,arabic   \n",
       "4      42        66           breakfast,burgers,desserts,indian,salads   \n",
       "5       8       201                      biryani,desserts,indian,soups   \n",
       "6       2         4  arabic,breakfast,burgers,desserts,free deliver...   \n",
       "7      73       180  arabic,grills,indian,pasta,salads,seafood,soup...   \n",
       "8      78       145                           arabic,pizzas,sandwiches   \n",
       "9      56       207  arabic,biryani,chinese,grills,indian,rice,sala...   \n",
       "10     23        79    burgers,desserts,free delivery,pasta,sandwiches   \n",
       "\n",
       "       open    close  morning  afternoon  evening  sim_score  \n",
       "0   10:59AM  10:59PM      1.0        1.0      1.0   1.000000  \n",
       "1   08:00AM  10:45PM      1.0        1.0      1.0   0.718061  \n",
       "2   11:15AM  10:30PM      0.0        1.0      1.0   0.578124  \n",
       "3   11:00AM  11:00PM      0.0        1.0      1.0   0.501533  \n",
       "4   05:00PM  11:00PM      0.0        0.0      1.0   0.481316  \n",
       "5   11:00AM   3:50pm      0.0        1.0      0.0   0.422081  \n",
       "6   11:00AM  11:30PM      0.0        1.0      1.0   0.412896  \n",
       "7   11:00AM  11:00PM      0.0        1.0      1.0   0.386587  \n",
       "8   04:00PM  11:45PM      0.0        0.0      1.0   0.367570  \n",
       "9   11:00AM  04:00PM      0.0        1.0      0.0   0.354010  \n",
       "10  11:59AM  2:15 am      0.0        1.0      0.0   0.347966  "
      ],
      "text/html": "<div>\n<style scoped>\n    .dataframe tbody tr th:only-of-type {\n        vertical-align: middle;\n    }\n\n    .dataframe tbody tr th {\n        vertical-align: top;\n    }\n\n    .dataframe thead th {\n        text-align: right;\n    }\n</style>\n<table border=\"1\" class=\"dataframe\">\n  <thead>\n    <tr style=\"text-align: right;\">\n      <th></th>\n      <th>index</th>\n      <th>vendor_id</th>\n      <th>vendor_tag_name</th>\n      <th>open</th>\n      <th>close</th>\n      <th>morning</th>\n      <th>afternoon</th>\n      <th>evening</th>\n      <th>sim_score</th>\n    </tr>\n  </thead>\n  <tbody>\n    <tr>\n      <th>0</th>\n      <td>0</td>\n      <td>113</td>\n      <td>arabic,desserts,free delivery,indian</td>\n      <td>10:59AM</td>\n      <td>10:59PM</td>\n      <td>1.0</td>\n      <td>1.0</td>\n      <td>1.0</td>\n      <td>1.000000</td>\n    </tr>\n    <tr>\n      <th>1</th>\n      <td>36</td>\n      <td>20</td>\n      <td>breakfast,desserts,free delivery,indian</td>\n      <td>08:00AM</td>\n      <td>10:45PM</td>\n      <td>1.0</td>\n      <td>1.0</td>\n      <td>1.0</td>\n      <td>0.718061</td>\n    </tr>\n    <tr>\n      <th>2</th>\n      <td>61</td>\n      <td>149</td>\n      <td>arabic</td>\n      <td>11:15AM</td>\n      <td>10:30PM</td>\n      <td>0.0</td>\n      <td>1.0</td>\n      <td>1.0</td>\n      <td>0.578124</td>\n    </tr>\n    <tr>\n      <th>3</th>\n      <td>30</td>\n      <td>83</td>\n      <td>breakfast,desserts,salads,arabic</td>\n      <td>11:00AM</td>\n      <td>11:00PM</td>\n      <td>0.0</td>\n      <td>1.0</td>\n      <td>1.0</td>\n      <td>0.501533</td>\n    </tr>\n    <tr>\n      <th>4</th>\n      <td>42</td>\n      <td>66</td>\n      <td>breakfast,burgers,desserts,indian,salads</td>\n      <td>05:00PM</td>\n      <td>11:00PM</td>\n      <td>0.0</td>\n      <td>0.0</td>\n      <td>1.0</td>\n      <td>0.481316</td>\n    </tr>\n    <tr>\n      <th>5</th>\n      <td>8</td>\n      <td>201</td>\n      <td>biryani,desserts,indian,soups</td>\n      <td>11:00AM</td>\n      <td>3:50pm</td>\n      <td>0.0</td>\n      <td>1.0</td>\n      <td>0.0</td>\n      <td>0.422081</td>\n    </tr>\n    <tr>\n      <th>6</th>\n      <td>2</td>\n      <td>4</td>\n      <td>arabic,breakfast,burgers,desserts,free deliver...</td>\n      <td>11:00AM</td>\n      <td>11:30PM</td>\n      <td>0.0</td>\n      <td>1.0</td>\n      <td>1.0</td>\n      <td>0.412896</td>\n    </tr>\n    <tr>\n      <th>7</th>\n      <td>73</td>\n      <td>180</td>\n      <td>arabic,grills,indian,pasta,salads,seafood,soup...</td>\n      <td>11:00AM</td>\n      <td>11:00PM</td>\n      <td>0.0</td>\n      <td>1.0</td>\n      <td>1.0</td>\n      <td>0.386587</td>\n    </tr>\n    <tr>\n      <th>8</th>\n      <td>78</td>\n      <td>145</td>\n      <td>arabic,pizzas,sandwiches</td>\n      <td>04:00PM</td>\n      <td>11:45PM</td>\n      <td>0.0</td>\n      <td>0.0</td>\n      <td>1.0</td>\n      <td>0.367570</td>\n    </tr>\n    <tr>\n      <th>9</th>\n      <td>56</td>\n      <td>207</td>\n      <td>arabic,biryani,chinese,grills,indian,rice,sala...</td>\n      <td>11:00AM</td>\n      <td>04:00PM</td>\n      <td>0.0</td>\n      <td>1.0</td>\n      <td>0.0</td>\n      <td>0.354010</td>\n    </tr>\n    <tr>\n      <th>10</th>\n      <td>23</td>\n      <td>79</td>\n      <td>burgers,desserts,free delivery,pasta,sandwiches</td>\n      <td>11:59AM</td>\n      <td>2:15 am</td>\n      <td>0.0</td>\n      <td>1.0</td>\n      <td>0.0</td>\n      <td>0.347966</td>\n    </tr>\n  </tbody>\n</table>\n</div>"
     },
     "metadata": {},
     "execution_count": 46
    }
   ],
   "source": [
    "get_recommendations_df('113')"
   ]
  },
  {
   "source": [
    "### TF-IDF (vendor tags + time tags)"
   ],
   "cell_type": "markdown",
   "metadata": {}
  },
  {
   "cell_type": "code",
   "execution_count": 47,
   "metadata": {},
   "outputs": [
    {
     "output_type": "execute_result",
     "data": {
      "text/plain": [
       "  vendor_id customer_id                                         vendor_tag  \\\n",
       "0       113     TCHWPBT           [arabic, desserts, freedelivery, indian]   \n",
       "1       237     TCHWPBT  [american, burgers, desserts, donuts, fries, p...   \n",
       "2         4     ZGFSYCZ  [arabic, breakfast, burgers, desserts, freedel...   \n",
       "3        28     ZGFSYCZ                                          [burgers]   \n",
       "4        33     ZGFSYCZ                                [desserts, mexican]   \n",
       "\n",
       "                                        vendor_tag_1  \\\n",
       "0                arabic desserts freedelivery indian   \n",
       "1  american burgers desserts donuts fries pasta s...   \n",
       "2  arabic breakfast burgers desserts freedelivery...   \n",
       "3                                            burgers   \n",
       "4                                   desserts mexican   \n",
       "\n",
       "                                     vendor_tag_name  \\\n",
       "0               arabic,desserts,free delivery,indian   \n",
       "1  american,burgers,desserts,donuts,fries,pasta,s...   \n",
       "2  arabic,breakfast,burgers,desserts,free deliver...   \n",
       "3                                            burgers   \n",
       "4                                   desserts,mexican   \n",
       "\n",
       "                         time  \n",
       "0   morning afternoon evening  \n",
       "1                     evening  \n",
       "2           afternoon evening  \n",
       "3           afternoon evening  \n",
       "4           afternoon evening  "
      ],
      "text/html": "<div>\n<style scoped>\n    .dataframe tbody tr th:only-of-type {\n        vertical-align: middle;\n    }\n\n    .dataframe tbody tr th {\n        vertical-align: top;\n    }\n\n    .dataframe thead th {\n        text-align: right;\n    }\n</style>\n<table border=\"1\" class=\"dataframe\">\n  <thead>\n    <tr style=\"text-align: right;\">\n      <th></th>\n      <th>vendor_id</th>\n      <th>customer_id</th>\n      <th>vendor_tag</th>\n      <th>vendor_tag_1</th>\n      <th>vendor_tag_name</th>\n      <th>time</th>\n    </tr>\n  </thead>\n  <tbody>\n    <tr>\n      <th>0</th>\n      <td>113</td>\n      <td>TCHWPBT</td>\n      <td>[arabic, desserts, freedelivery, indian]</td>\n      <td>arabic desserts freedelivery indian</td>\n      <td>arabic,desserts,free delivery,indian</td>\n      <td>morning afternoon evening</td>\n    </tr>\n    <tr>\n      <th>1</th>\n      <td>237</td>\n      <td>TCHWPBT</td>\n      <td>[american, burgers, desserts, donuts, fries, p...</td>\n      <td>american burgers desserts donuts fries pasta s...</td>\n      <td>american,burgers,desserts,donuts,fries,pasta,s...</td>\n      <td>evening</td>\n    </tr>\n    <tr>\n      <th>2</th>\n      <td>4</td>\n      <td>ZGFSYCZ</td>\n      <td>[arabic, breakfast, burgers, desserts, freedel...</td>\n      <td>arabic breakfast burgers desserts freedelivery...</td>\n      <td>arabic,breakfast,burgers,desserts,free deliver...</td>\n      <td>afternoon evening</td>\n    </tr>\n    <tr>\n      <th>3</th>\n      <td>28</td>\n      <td>ZGFSYCZ</td>\n      <td>[burgers]</td>\n      <td>burgers</td>\n      <td>burgers</td>\n      <td>afternoon evening</td>\n    </tr>\n    <tr>\n      <th>4</th>\n      <td>33</td>\n      <td>ZGFSYCZ</td>\n      <td>[desserts, mexican]</td>\n      <td>desserts mexican</td>\n      <td>desserts,mexican</td>\n      <td>afternoon evening</td>\n    </tr>\n  </tbody>\n</table>\n</div>"
     },
     "metadata": {},
     "execution_count": 47
    }
   ],
   "source": [
    "cols = ['morning', 'afternoon', 'evening']\n",
    "\n",
    "prepared_df['time'] = ''\n",
    "for col_name in cols:\n",
    "    prepared_df.loc[prepared_df[col_name] == 1, 'time'] = prepared_df['time'] + ' ' + col_name\n",
    "\n",
    "prepared_df = prepared_df[['vendor_id', 'customer_id', 'vendor_tag', 'vendor_tag_1', 'vendor_tag_name', 'time']]\n",
    "prepared_df.head()"
   ]
  },
  {
   "cell_type": "code",
   "execution_count": 48,
   "metadata": {},
   "outputs": [
    {
     "output_type": "execute_result",
     "data": {
      "text/plain": [
       "  vendor_id customer_id                                         vendor_tag  \\\n",
       "0       113     TCHWPBT           [arabic, desserts, freedelivery, indian]   \n",
       "1       237     TCHWPBT  [american, burgers, desserts, donuts, fries, p...   \n",
       "2         4     ZGFSYCZ  [arabic, breakfast, burgers, desserts, freedel...   \n",
       "3        28     ZGFSYCZ                                          [burgers]   \n",
       "4        33     ZGFSYCZ                                [desserts, mexican]   \n",
       "\n",
       "                                        vendor_tag_1  \\\n",
       "0                arabic desserts freedelivery indian   \n",
       "1  american burgers desserts donuts fries pasta s...   \n",
       "2  arabic breakfast burgers desserts freedelivery...   \n",
       "3                                            burgers   \n",
       "4                                   desserts mexican   \n",
       "\n",
       "                                     vendor_tag_name  \\\n",
       "0               arabic,desserts,free delivery,indian   \n",
       "1  american,burgers,desserts,donuts,fries,pasta,s...   \n",
       "2  arabic,breakfast,burgers,desserts,free deliver...   \n",
       "3                                            burgers   \n",
       "4                                   desserts,mexican   \n",
       "\n",
       "                            time  \n",
       "0  [morning, afternoon, evening]  \n",
       "1                      [evening]  \n",
       "2           [afternoon, evening]  \n",
       "3           [afternoon, evening]  \n",
       "4           [afternoon, evening]  "
      ],
      "text/html": "<div>\n<style scoped>\n    .dataframe tbody tr th:only-of-type {\n        vertical-align: middle;\n    }\n\n    .dataframe tbody tr th {\n        vertical-align: top;\n    }\n\n    .dataframe thead th {\n        text-align: right;\n    }\n</style>\n<table border=\"1\" class=\"dataframe\">\n  <thead>\n    <tr style=\"text-align: right;\">\n      <th></th>\n      <th>vendor_id</th>\n      <th>customer_id</th>\n      <th>vendor_tag</th>\n      <th>vendor_tag_1</th>\n      <th>vendor_tag_name</th>\n      <th>time</th>\n    </tr>\n  </thead>\n  <tbody>\n    <tr>\n      <th>0</th>\n      <td>113</td>\n      <td>TCHWPBT</td>\n      <td>[arabic, desserts, freedelivery, indian]</td>\n      <td>arabic desserts freedelivery indian</td>\n      <td>arabic,desserts,free delivery,indian</td>\n      <td>[morning, afternoon, evening]</td>\n    </tr>\n    <tr>\n      <th>1</th>\n      <td>237</td>\n      <td>TCHWPBT</td>\n      <td>[american, burgers, desserts, donuts, fries, p...</td>\n      <td>american burgers desserts donuts fries pasta s...</td>\n      <td>american,burgers,desserts,donuts,fries,pasta,s...</td>\n      <td>[evening]</td>\n    </tr>\n    <tr>\n      <th>2</th>\n      <td>4</td>\n      <td>ZGFSYCZ</td>\n      <td>[arabic, breakfast, burgers, desserts, freedel...</td>\n      <td>arabic breakfast burgers desserts freedelivery...</td>\n      <td>arabic,breakfast,burgers,desserts,free deliver...</td>\n      <td>[afternoon, evening]</td>\n    </tr>\n    <tr>\n      <th>3</th>\n      <td>28</td>\n      <td>ZGFSYCZ</td>\n      <td>[burgers]</td>\n      <td>burgers</td>\n      <td>burgers</td>\n      <td>[afternoon, evening]</td>\n    </tr>\n    <tr>\n      <th>4</th>\n      <td>33</td>\n      <td>ZGFSYCZ</td>\n      <td>[desserts, mexican]</td>\n      <td>desserts mexican</td>\n      <td>desserts,mexican</td>\n      <td>[afternoon, evening]</td>\n    </tr>\n  </tbody>\n</table>\n</div>"
     },
     "metadata": {},
     "execution_count": 48
    }
   ],
   "source": [
    "# 'time' column : str -> list\n",
    "prepared_df['time'] = prepared_df['time'].str.split(' ')\n",
    "\n",
    "def remove_blank(lists):\n",
    "    return [key for key in lists if key != '']\n",
    "\n",
    "prepared_df['time'] = prepared_df['time'].apply(\n",
    "    lambda x: remove_blank(x)\n",
    ")\n",
    "\n",
    "prepared_df.head()"
   ]
  },
  {
   "cell_type": "code",
   "execution_count": 49,
   "metadata": {},
   "outputs": [],
   "source": [
    "# combine 'vendor_tag' with 'time' (str for w2v)\n",
    "prepared_df['time_1'] = prepared_df['time'].apply(\n",
    "    lambda x:' '.join(x)\n",
    ")\n",
    "\n",
    "prepared_df['vendor_time_tag'] = prepared_df[['vendor_tag_1', 'time_1']].apply(\n",
    "    lambda x: ' '.join(x),\n",
    "    axis=1\n",
    ")\n",
    "\n",
    "prepared_df = prepared_df[['vendor_id', 'customer_id', 'vendor_time_tag', 'vendor_tag', 'vendor_tag_1', 'vendor_tag_name', 'time']]\n",
    "\n",
    "prepared_df_cp2 = prepared_df[:]"
   ]
  },
  {
   "cell_type": "code",
   "execution_count": 50,
   "metadata": {},
   "outputs": [
    {
     "output_type": "stream",
     "name": "stdout",
     "text": [
      "{'arabic': 2, 'desserts': 15, 'freedelivery': 20, 'indian': 29, 'morning': 43, 'afternoon': 0, 'evening': 18, 'american': 1, 'burgers': 7, 'donuts': 17, 'fries': 22, 'pasta': 47, 'salads': 52, 'sandwiches': 53, 'breakfast': 6, 'grills': 24, 'lebanese': 36, 'shawarma': 55, 'mexican': 39, 'asian': 3, 'healthyfood': 25, 'japanese': 31, 'sushi': 61, 'hotdogs': 27, 'biryani': 5, 'soups': 58, 'freshjuices': 21, 'smoothies': 57, 'cakes': 9, 'coffee': 12, 'hotchocolate': 26, 'bagels': 4, 'kidsmeal': 34, 'pizza': 49, 'familymeal': 19, 'kebabs': 33, 'rice': 50, 'cafe': 8, 'icecreams': 28, 'italian': 30, 'sweets': 62, 'thai': 63, 'vegetarian': 64, 'milkshakes': 40, 'mandazi': 38, 'omani': 44, 'steaks': 60, 'frozenyoghurt': 23, 'mojitos': 42, 'mishkak': 41, 'organic': 45, 'manakeesh': 37, 'crepes': 14, 'pancakes': 46, 'waffles': 65, 'chinese': 10, 'dimsum': 16, 'churros': 11, 'spanishlatte': 59, 'pastry': 48, 'seafood': 54, 'rolls': 51, 'karak': 32, 'combos': 13, 'kushari': 35, 'shuwa': 56}\n"
     ]
    }
   ],
   "source": [
    "vectorizer = TfidfVectorizer()\n",
    "count_matrix = vectorizer.fit_transform(prepared_df['vendor_time_tag'])\n",
    "print(vectorizer.vocabulary_)"
   ]
  },
  {
   "cell_type": "code",
   "execution_count": 51,
   "metadata": {},
   "outputs": [],
   "source": [
    "prepared_df.set_index('vendor_id', inplace=True)\n",
    "indices = pd.Series(prepared_df.index)\n",
    "cosine_sim = cosine_similarity(count_matrix, count_matrix)"
   ]
  },
  {
   "cell_type": "code",
   "execution_count": 52,
   "metadata": {},
   "outputs": [
    {
     "output_type": "execute_result",
     "data": {
      "text/plain": [
       "'arabic desserts freedelivery indian morning afternoon evening'"
      ]
     },
     "metadata": {},
     "execution_count": 52
    }
   ],
   "source": [
    "prepared_df.iloc[0]['vendor_time_tag']"
   ]
  },
  {
   "cell_type": "code",
   "execution_count": 53,
   "metadata": {},
   "outputs": [],
   "source": [
    "prepared_df = prepared_df.reset_index()\n",
    "\n",
    "def get_recommendations_df(vendor_id, cosine_sim=cosine_sim):\n",
    "    indices = pd.Series(prepared_df.index, index = prepared_df['vendor_id']).drop_duplicates() \n",
    "    # get index from vendor_id\n",
    "    idx = indices[vendor_id]\n",
    "\n",
    "    recommendations_df = prepared_df[[\n",
    "        'vendor_id', 'vendor_tag_name', 'time', #'time_tag'\n",
    "    ]]\n",
    "    # recommendations_df.rename(columns={'time_tag': 'vendor_tag + time'}, inplace=True)\n",
    "\n",
    "    # cosin_similarity\n",
    "    sim_scores = list(cosine_sim[idx])\n",
    "    recommendations_df['sim_score'] = sim_scores\n",
    "    return recommendations_df.sort_values(['sim_score'], ascending=False).head(11).reset_index()\n",
    "\n",
    "\n",
    "def get_recommendations(vendor_id, cosine_sim=cosine_sim):\n",
    "    indices = pd.Series(prepared_df.index, index = prepared_df['vendor_id']).drop_duplicates() \n",
    "    # get index from vendor_id\n",
    "    idx = indices[vendor_id]\n",
    "\n",
    "    # cosin_similarity\n",
    "    sim_scores = list(enumerate(cosine_sim[idx]))\n",
    "    sim_scores = sorted(sim_scores, key=lambda x: x[1], reverse=True)\n",
    "\n",
    "    # most similar vendor_id (10)\n",
    "    sim_scores = sim_scores[1:11]\n",
    "\n",
    "    return sim_scores"
   ]
  },
  {
   "cell_type": "code",
   "execution_count": 54,
   "metadata": {},
   "outputs": [
    {
     "output_type": "execute_result",
     "data": {
      "text/plain": [
       "    index vendor_id                                    vendor_tag_name  \\\n",
       "0       0       113               arabic,desserts,free delivery,indian   \n",
       "1      36        20            breakfast,desserts,free delivery,indian   \n",
       "2      61       149                                             arabic   \n",
       "3      30        83                   breakfast,desserts,salads,arabic   \n",
       "4      42        66           breakfast,burgers,desserts,indian,salads   \n",
       "5       2         4  arabic,breakfast,burgers,desserts,free deliver...   \n",
       "6       8       201                      biryani,desserts,indian,soups   \n",
       "7      18       676                biryani,desserts,indian,kebabs,rice   \n",
       "8      63       679                biryani,desserts,indian,kebabs,rice   \n",
       "9      82       681                biryani,desserts,indian,kebabs,rice   \n",
       "10     73       180  arabic,grills,indian,pasta,salads,seafood,soup...   \n",
       "\n",
       "                             time  sim_score  \n",
       "0   [morning, afternoon, evening]   1.000000  \n",
       "1   [morning, afternoon, evening]   0.764622  \n",
       "2            [afternoon, evening]   0.602083  \n",
       "3            [afternoon, evening]   0.528275  \n",
       "4                       [evening]   0.479594  \n",
       "5            [afternoon, evening]   0.427004  \n",
       "6                     [afternoon]   0.415421  \n",
       "7   [morning, afternoon, evening]   0.409469  \n",
       "8   [morning, afternoon, evening]   0.409469  \n",
       "9   [morning, afternoon, evening]   0.409469  \n",
       "10           [afternoon, evening]   0.398413  "
      ],
      "text/html": "<div>\n<style scoped>\n    .dataframe tbody tr th:only-of-type {\n        vertical-align: middle;\n    }\n\n    .dataframe tbody tr th {\n        vertical-align: top;\n    }\n\n    .dataframe thead th {\n        text-align: right;\n    }\n</style>\n<table border=\"1\" class=\"dataframe\">\n  <thead>\n    <tr style=\"text-align: right;\">\n      <th></th>\n      <th>index</th>\n      <th>vendor_id</th>\n      <th>vendor_tag_name</th>\n      <th>time</th>\n      <th>sim_score</th>\n    </tr>\n  </thead>\n  <tbody>\n    <tr>\n      <th>0</th>\n      <td>0</td>\n      <td>113</td>\n      <td>arabic,desserts,free delivery,indian</td>\n      <td>[morning, afternoon, evening]</td>\n      <td>1.000000</td>\n    </tr>\n    <tr>\n      <th>1</th>\n      <td>36</td>\n      <td>20</td>\n      <td>breakfast,desserts,free delivery,indian</td>\n      <td>[morning, afternoon, evening]</td>\n      <td>0.764622</td>\n    </tr>\n    <tr>\n      <th>2</th>\n      <td>61</td>\n      <td>149</td>\n      <td>arabic</td>\n      <td>[afternoon, evening]</td>\n      <td>0.602083</td>\n    </tr>\n    <tr>\n      <th>3</th>\n      <td>30</td>\n      <td>83</td>\n      <td>breakfast,desserts,salads,arabic</td>\n      <td>[afternoon, evening]</td>\n      <td>0.528275</td>\n    </tr>\n    <tr>\n      <th>4</th>\n      <td>42</td>\n      <td>66</td>\n      <td>breakfast,burgers,desserts,indian,salads</td>\n      <td>[evening]</td>\n      <td>0.479594</td>\n    </tr>\n    <tr>\n      <th>5</th>\n      <td>2</td>\n      <td>4</td>\n      <td>arabic,breakfast,burgers,desserts,free deliver...</td>\n      <td>[afternoon, evening]</td>\n      <td>0.427004</td>\n    </tr>\n    <tr>\n      <th>6</th>\n      <td>8</td>\n      <td>201</td>\n      <td>biryani,desserts,indian,soups</td>\n      <td>[afternoon]</td>\n      <td>0.415421</td>\n    </tr>\n    <tr>\n      <th>7</th>\n      <td>18</td>\n      <td>676</td>\n      <td>biryani,desserts,indian,kebabs,rice</td>\n      <td>[morning, afternoon, evening]</td>\n      <td>0.409469</td>\n    </tr>\n    <tr>\n      <th>8</th>\n      <td>63</td>\n      <td>679</td>\n      <td>biryani,desserts,indian,kebabs,rice</td>\n      <td>[morning, afternoon, evening]</td>\n      <td>0.409469</td>\n    </tr>\n    <tr>\n      <th>9</th>\n      <td>82</td>\n      <td>681</td>\n      <td>biryani,desserts,indian,kebabs,rice</td>\n      <td>[morning, afternoon, evening]</td>\n      <td>0.409469</td>\n    </tr>\n    <tr>\n      <th>10</th>\n      <td>73</td>\n      <td>180</td>\n      <td>arabic,grills,indian,pasta,salads,seafood,soup...</td>\n      <td>[afternoon, evening]</td>\n      <td>0.398413</td>\n    </tr>\n  </tbody>\n</table>\n</div>"
     },
     "metadata": {},
     "execution_count": 54
    }
   ],
   "source": [
    "get_recommendations_df('113')"
   ]
  },
  {
   "source": [
    "## doc2vec (vendor tags)"
   ],
   "cell_type": "markdown",
   "metadata": {}
  },
  {
   "cell_type": "code",
   "execution_count": 71,
   "metadata": {},
   "outputs": [
    {
     "output_type": "execute_result",
     "data": {
      "text/plain": [
       "dict_keys(['desserts', 'sandwiches', 'burgers', 'salads', 'american', 'breakfast', 'freedelivery', 'fries', 'freshjuices', 'pasta', 'soups', 'kidsmeal', 'mojitos', 'arabic', 'shawarma', 'grills', 'milkshakes', 'icecreams', 'indian', 'pizza', 'rice', 'smoothies', 'cafe', 'biryani', 'healthyfood', 'hotdogs', 'coffee', 'donuts', 'italian', 'lebanese', 'asian', 'steaks', 'cakes', 'hotchocolate', 'omani', 'thai', 'mexican', 'sweets', 'pancakes', 'crepes', 'kebabs', 'waffles', 'mishkak', 'rolls', 'japanese', 'shuwa', 'sushi', 'dimsum', 'combos', 'karak', 'seafood', 'pastry', 'spanishlatte', 'churros', 'chinese', 'bagels', 'manakeesh', 'organic', 'frozenyoghurt', 'mandazi', 'vegetarian', 'kushari', 'familymeal'])"
      ]
     },
     "metadata": {},
     "execution_count": 71
    }
   ],
   "source": [
    "prepared_df = prepared_df_cp1[:]\n",
    "\n",
    "prepared_df.set_index('vendor_id', inplace=True)\n",
    "\n",
    "# Embedding using word2vec\n",
    "corpus = prepared_df['vendor_tag']\n",
    "model = Word2Vec(vector_size=10, window=1, min_count=1, workers=4) # size=4, vector_size=100\n",
    "model.build_vocab(corpus)\n",
    "\n",
    "word_vectors = model.wv\n",
    "vocabs = word_vectors.key_to_index.keys()\n",
    "vocabs"
   ]
  },
  {
   "cell_type": "code",
   "execution_count": 74,
   "metadata": {},
   "outputs": [
    {
     "output_type": "execute_result",
     "data": {
      "text/plain": [
       "[('coffee', 0.7669479846954346),\n",
       " ('cakes', 0.5804667472839355),\n",
       " ('kushari', 0.5380702614784241),\n",
       " ('grills', 0.5289870500564575),\n",
       " ('freshjuices', 0.5241568684577942),\n",
       " ('sushi', 0.47192177176475525),\n",
       " ('pancakes', 0.4576573967933655),\n",
       " ('vegetarian', 0.4463181495666504),\n",
       " ('omani', 0.4188254177570343),\n",
       " ('bagels', 0.3994538187980652)]"
      ]
     },
     "metadata": {},
     "execution_count": 74
    }
   ],
   "source": [
    "word_vectors.most_similar('donuts')"
   ]
  },
  {
   "cell_type": "code",
   "execution_count": 90,
   "metadata": {},
   "outputs": [
    {
     "output_type": "stream",
     "name": "stdout",
     "text": [
      "Number of document vector: 95\n"
     ]
    }
   ],
   "source": [
    "# Mean of word vector\n",
    "def vectors(document_list):\n",
    "    document_embedding_list = []\n",
    "\n",
    "    for line in document_list:\n",
    "        doc2vec = None\n",
    "        count = 0\n",
    "        for word in line.split():\n",
    "            if word in model.wv.key_to_index:\n",
    "                count += 1\n",
    "                if doc2vec is None:\n",
    "                    doc2vec = model.wv[word]\n",
    "                else:\n",
    "                    doc2vec = doc2vec + model.wv[word]\n",
    "\n",
    "        if doc2vec is not None:\n",
    "            doc2vec = doc2vec / count\n",
    "            document_embedding_list.append(doc2vec)\n",
    "    return document_embedding_list\n",
    "\n",
    "document_embedding_list = vectors(prepared_df['vendor_tag_1'])\n",
    "print('Number of document vector:', len(document_embedding_list))"
   ]
  },
  {
   "cell_type": "code",
   "execution_count": 92,
   "metadata": {},
   "outputs": [
    {
     "output_type": "stream",
     "name": "stdout",
     "text": [
      "Shape of cosine similarity matrix: (95, 95)\n"
     ]
    }
   ],
   "source": [
    "cosine_sim = cosine_similarity(document_embedding_list, document_embedding_list)\n",
    "\n",
    "print('Shape of cosine similarity matrix:', cosine_sim.shape)"
   ]
  },
  {
   "cell_type": "code",
   "execution_count": 94,
   "metadata": {},
   "outputs": [],
   "source": [
    "prepared_df = prepared_df.reset_index()\n",
    "\n",
    "def get_recommendations_df(vendor_id, cosine_sim=cosine_sim):\n",
    "    indices = pd.Series(prepared_df.index, index = prepared_df['vendor_id']).drop_duplicates() \n",
    "    # get index from vendor_id\n",
    "    idx = indices[vendor_id]\n",
    "\n",
    "    recommendations_df = prepared_df[[\n",
    "        'vendor_id', 'vendor_tag_name', 'open', 'close', 'morning', 'afternoon', 'evening'\n",
    "    ]]\n",
    "\n",
    "    # cosin_similarity\n",
    "    sim_scores = list(cosine_sim[idx])\n",
    "    recommendations_df['sim_score'] = sim_scores\n",
    "    return recommendations_df.sort_values(['sim_score'], ascending=False).head(11).reset_index()\n",
    "\n",
    "\n",
    "def get_recommendations(vendor_id, cosine_sim=cosine_sim):\n",
    "    indices = pd.Series(prepared_df.index, index = prepared_df['vendor_id']).drop_duplicates() \n",
    "    # get index from vendor_id\n",
    "    idx = indices[vendor_id]\n",
    "\n",
    "    # cosin_similarity\n",
    "    sim_scores = list(enumerate(cosine_sim[idx]))\n",
    "    sim_scores = sorted(sim_scores, key=lambda x: x[1], reverse=True)\n",
    "\n",
    "    # most similar vendor_id (10)\n",
    "    sim_scores = sim_scores[1:11]\n",
    "\n",
    "    return sim_scores"
   ]
  },
  {
   "cell_type": "code",
   "execution_count": 95,
   "metadata": {},
   "outputs": [
    {
     "output_type": "execute_result",
     "data": {
      "text/plain": [
       "    index vendor_id                                    vendor_tag_name  \\\n",
       "0       0       113               arabic,desserts,free delivery,indian   \n",
       "1      30        83                   breakfast,desserts,salads,arabic   \n",
       "2      56       207  arabic,biryani,chinese,grills,indian,rice,sala...   \n",
       "3      73       180  arabic,grills,indian,pasta,salads,seafood,soup...   \n",
       "4       2         4  arabic,breakfast,burgers,desserts,free deliver...   \n",
       "5      87       197                       free delivery,mexican,salads   \n",
       "6      49       288              asian,desserts,rice,salads,soups,thai   \n",
       "7      91       849  american,breakfast,burgers,cafe,desserts,free ...   \n",
       "8      19       845  american,breakfast,burgers,cafe,desserts,free ...   \n",
       "9      35       841  american,breakfast,burgers,cafe,desserts,free ...   \n",
       "10     57       846  american,breakfast,burgers,cafe,desserts,free ...   \n",
       "\n",
       "       open     close  morning  afternoon  evening  sim_score  \n",
       "0   10:59AM   10:59PM      1.0        1.0      1.0   1.000000  \n",
       "1   11:00AM   11:00PM      0.0        1.0      1.0   0.720379  \n",
       "2   11:00AM   04:00PM      0.0        1.0      0.0   0.681693  \n",
       "3   11:00AM   11:00PM      0.0        1.0      1.0   0.622312  \n",
       "4   11:00AM   11:30PM      0.0        1.0      1.0   0.610906  \n",
       "5   11:59AM  10:45PM       0.0        1.0      0.0   0.588871  \n",
       "6   11:15AM   03:00PM      0.0        1.0      0.0   0.531793  \n",
       "7                          1.0        1.0      0.0   0.513213  \n",
       "8                          1.0        1.0      0.0   0.513213  \n",
       "9                          1.0        1.0      0.0   0.513213  \n",
       "10                         1.0        1.0      0.0   0.513213  "
      ],
      "text/html": "<div>\n<style scoped>\n    .dataframe tbody tr th:only-of-type {\n        vertical-align: middle;\n    }\n\n    .dataframe tbody tr th {\n        vertical-align: top;\n    }\n\n    .dataframe thead th {\n        text-align: right;\n    }\n</style>\n<table border=\"1\" class=\"dataframe\">\n  <thead>\n    <tr style=\"text-align: right;\">\n      <th></th>\n      <th>index</th>\n      <th>vendor_id</th>\n      <th>vendor_tag_name</th>\n      <th>open</th>\n      <th>close</th>\n      <th>morning</th>\n      <th>afternoon</th>\n      <th>evening</th>\n      <th>sim_score</th>\n    </tr>\n  </thead>\n  <tbody>\n    <tr>\n      <th>0</th>\n      <td>0</td>\n      <td>113</td>\n      <td>arabic,desserts,free delivery,indian</td>\n      <td>10:59AM</td>\n      <td>10:59PM</td>\n      <td>1.0</td>\n      <td>1.0</td>\n      <td>1.0</td>\n      <td>1.000000</td>\n    </tr>\n    <tr>\n      <th>1</th>\n      <td>30</td>\n      <td>83</td>\n      <td>breakfast,desserts,salads,arabic</td>\n      <td>11:00AM</td>\n      <td>11:00PM</td>\n      <td>0.0</td>\n      <td>1.0</td>\n      <td>1.0</td>\n      <td>0.720379</td>\n    </tr>\n    <tr>\n      <th>2</th>\n      <td>56</td>\n      <td>207</td>\n      <td>arabic,biryani,chinese,grills,indian,rice,sala...</td>\n      <td>11:00AM</td>\n      <td>04:00PM</td>\n      <td>0.0</td>\n      <td>1.0</td>\n      <td>0.0</td>\n      <td>0.681693</td>\n    </tr>\n    <tr>\n      <th>3</th>\n      <td>73</td>\n      <td>180</td>\n      <td>arabic,grills,indian,pasta,salads,seafood,soup...</td>\n      <td>11:00AM</td>\n      <td>11:00PM</td>\n      <td>0.0</td>\n      <td>1.0</td>\n      <td>1.0</td>\n      <td>0.622312</td>\n    </tr>\n    <tr>\n      <th>4</th>\n      <td>2</td>\n      <td>4</td>\n      <td>arabic,breakfast,burgers,desserts,free deliver...</td>\n      <td>11:00AM</td>\n      <td>11:30PM</td>\n      <td>0.0</td>\n      <td>1.0</td>\n      <td>1.0</td>\n      <td>0.610906</td>\n    </tr>\n    <tr>\n      <th>5</th>\n      <td>87</td>\n      <td>197</td>\n      <td>free delivery,mexican,salads</td>\n      <td>11:59AM</td>\n      <td>10:45PM</td>\n      <td>0.0</td>\n      <td>1.0</td>\n      <td>0.0</td>\n      <td>0.588871</td>\n    </tr>\n    <tr>\n      <th>6</th>\n      <td>49</td>\n      <td>288</td>\n      <td>asian,desserts,rice,salads,soups,thai</td>\n      <td>11:15AM</td>\n      <td>03:00PM</td>\n      <td>0.0</td>\n      <td>1.0</td>\n      <td>0.0</td>\n      <td>0.531793</td>\n    </tr>\n    <tr>\n      <th>7</th>\n      <td>91</td>\n      <td>849</td>\n      <td>american,breakfast,burgers,cafe,desserts,free ...</td>\n      <td></td>\n      <td></td>\n      <td>1.0</td>\n      <td>1.0</td>\n      <td>0.0</td>\n      <td>0.513213</td>\n    </tr>\n    <tr>\n      <th>8</th>\n      <td>19</td>\n      <td>845</td>\n      <td>american,breakfast,burgers,cafe,desserts,free ...</td>\n      <td></td>\n      <td></td>\n      <td>1.0</td>\n      <td>1.0</td>\n      <td>0.0</td>\n      <td>0.513213</td>\n    </tr>\n    <tr>\n      <th>9</th>\n      <td>35</td>\n      <td>841</td>\n      <td>american,breakfast,burgers,cafe,desserts,free ...</td>\n      <td></td>\n      <td></td>\n      <td>1.0</td>\n      <td>1.0</td>\n      <td>0.0</td>\n      <td>0.513213</td>\n    </tr>\n    <tr>\n      <th>10</th>\n      <td>57</td>\n      <td>846</td>\n      <td>american,breakfast,burgers,cafe,desserts,free ...</td>\n      <td></td>\n      <td></td>\n      <td>1.0</td>\n      <td>1.0</td>\n      <td>0.0</td>\n      <td>0.513213</td>\n    </tr>\n  </tbody>\n</table>\n</div>"
     },
     "metadata": {},
     "execution_count": 95
    }
   ],
   "source": [
    "get_recommendations_df('113')"
   ]
  },
  {
   "source": [
    "## doc2vec (vendor tags + time tags)"
   ],
   "cell_type": "markdown",
   "metadata": {}
  },
  {
   "cell_type": "code",
   "execution_count": 96,
   "metadata": {},
   "outputs": [],
   "source": [
    "prepared_df = prepared_df_cp2[:]\n",
    "\n",
    "prepared_df['vendor_time_tag_list'] = prepared_df['vendor_time_tag'].str.split(' ')\n",
    "\n",
    "# Embedding using word2vec\n",
    "corpus = prepared_df['vendor_time_tag_list']\n",
    "model = Word2Vec(vector_size=10, window=1, min_count=1, workers=4)\n",
    "model.build_vocab(corpus)\n",
    "\n",
    "word_vectors = model.wv\n",
    "vocabs = word_vectors.key_to_index.keys()"
   ]
  },
  {
   "cell_type": "code",
   "execution_count": 98,
   "metadata": {},
   "outputs": [
    {
     "output_type": "execute_result",
     "data": {
      "text/plain": [
       "[('lebanese', 0.7082822918891907),\n",
       " ('mandazi', 0.6942909955978394),\n",
       " ('american', 0.6656001806259155),\n",
       " ('morning', 0.6470872163772583),\n",
       " ('coffee', 0.6158733367919922),\n",
       " ('frozenyoghurt', 0.4895918369293213),\n",
       " ('organic', 0.486417293548584),\n",
       " ('kushari', 0.4756469428539276),\n",
       " ('waffles', 0.44109442830085754),\n",
       " ('sweets', 0.4300115704536438)]"
      ]
     },
     "metadata": {},
     "execution_count": 98
    }
   ],
   "source": [
    "word_vectors.most_similar('donuts')"
   ]
  },
  {
   "cell_type": "code",
   "execution_count": 101,
   "metadata": {},
   "outputs": [
    {
     "output_type": "stream",
     "name": "stdout",
     "text": [
      "Number of document vector: 95\nShape of cosine similarity matrix: (95, 95)\n"
     ]
    }
   ],
   "source": [
    "# Mean of word vector\n",
    "def vectors(document_list):\n",
    "    document_embedding_list = []\n",
    "\n",
    "    for line in document_list:\n",
    "        doc2vec = None\n",
    "        count = 0\n",
    "        for word in line.split():\n",
    "            if word in model.wv.key_to_index:\n",
    "                count += 1\n",
    "                if doc2vec is None:\n",
    "                    doc2vec = model.wv[word]\n",
    "                else:\n",
    "                    doc2vec = doc2vec + model.wv[word]\n",
    "\n",
    "        if doc2vec is not None:\n",
    "            doc2vec = doc2vec / count\n",
    "            document_embedding_list.append(doc2vec)\n",
    "    return document_embedding_list\n",
    "\n",
    "document_embedding_list = vectors(prepared_df['vendor_time_tag'])\n",
    "print('Number of document vector:', len(document_embedding_list))\n",
    "\n",
    "cosine_sim = cosine_similarity(document_embedding_list, document_embedding_list)\n",
    "print('Shape of cosine similarity matrix:', cosine_sim.shape)"
   ]
  },
  {
   "cell_type": "code",
   "execution_count": 102,
   "metadata": {},
   "outputs": [],
   "source": [
    "prepared_df = prepared_df.reset_index()\n",
    "\n",
    "def get_recommendations_df(vendor_id, cosine_sim=cosine_sim):\n",
    "    indices = pd.Series(prepared_df.index, index = prepared_df['vendor_id']).drop_duplicates() \n",
    "    # get index from vendor_id\n",
    "    idx = indices[vendor_id]\n",
    "\n",
    "    recommendations_df = prepared_df[[\n",
    "        'vendor_id', 'vendor_tag_name', 'time', #'time_tag'\n",
    "    ]]\n",
    "    # recommendations_df.rename(columns={'time_tag': 'vendor_tag + time'}, inplace=True)\n",
    "\n",
    "    # cosin_similarity\n",
    "    sim_scores = list(cosine_sim[idx])\n",
    "    recommendations_df['sim_score'] = sim_scores\n",
    "    return recommendations_df.sort_values(['sim_score'], ascending=False).head(11).reset_index()\n",
    "\n",
    "\n",
    "def get_recommendations(vendor_id, cosine_sim=cosine_sim):\n",
    "    indices = pd.Series(prepared_df.index, index = prepared_df['vendor_id']).drop_duplicates() \n",
    "    # get index from vendor_id\n",
    "    idx = indices[vendor_id]\n",
    "\n",
    "    # cosin_similarity\n",
    "    sim_scores = list(enumerate(cosine_sim[idx]))\n",
    "    sim_scores = sorted(sim_scores, key=lambda x: x[1], reverse=True)\n",
    "\n",
    "    # most similar vendor_id (10)\n",
    "    sim_scores = sim_scores[1:11]\n",
    "\n",
    "    return sim_scores"
   ]
  },
  {
   "cell_type": "code",
   "execution_count": 103,
   "metadata": {},
   "outputs": [
    {
     "output_type": "execute_result",
     "data": {
      "text/plain": [
       "    index vendor_id                                    vendor_tag_name  \\\n",
       "0       0       113               arabic,desserts,free delivery,indian   \n",
       "1      36        20            breakfast,desserts,free delivery,indian   \n",
       "2      57       846  american,breakfast,burgers,cafe,desserts,free ...   \n",
       "3      21       858  american,breakfast,burgers,cafe,desserts,free ...   \n",
       "4      35       841  american,breakfast,burgers,cafe,desserts,free ...   \n",
       "5      19       845  american,breakfast,burgers,cafe,desserts,free ...   \n",
       "6      20       856  american,breakfast,burgers,cafe,desserts,free ...   \n",
       "7      86       843  american,breakfast,burgers,cafe,desserts,free ...   \n",
       "8      91       849  american,breakfast,burgers,cafe,desserts,free ...   \n",
       "9      83       294      burgers,desserts,free delivery,grills,mexican   \n",
       "10     53        86  cakes,crepes,desserts,donuts,fresh juices,ice ...   \n",
       "\n",
       "                             time  sim_score  \n",
       "0   [morning, afternoon, evening]   1.000000  \n",
       "1   [morning, afternoon, evening]   0.858929  \n",
       "2            [morning, afternoon]   0.851622  \n",
       "3            [morning, afternoon]   0.851622  \n",
       "4            [morning, afternoon]   0.851622  \n",
       "5            [morning, afternoon]   0.851622  \n",
       "6            [morning, afternoon]   0.851622  \n",
       "7            [morning, afternoon]   0.851622  \n",
       "8            [morning, afternoon]   0.851622  \n",
       "9   [morning, afternoon, evening]   0.817694  \n",
       "10  [morning, afternoon, evening]   0.786465  "
      ],
      "text/html": "<div>\n<style scoped>\n    .dataframe tbody tr th:only-of-type {\n        vertical-align: middle;\n    }\n\n    .dataframe tbody tr th {\n        vertical-align: top;\n    }\n\n    .dataframe thead th {\n        text-align: right;\n    }\n</style>\n<table border=\"1\" class=\"dataframe\">\n  <thead>\n    <tr style=\"text-align: right;\">\n      <th></th>\n      <th>index</th>\n      <th>vendor_id</th>\n      <th>vendor_tag_name</th>\n      <th>time</th>\n      <th>sim_score</th>\n    </tr>\n  </thead>\n  <tbody>\n    <tr>\n      <th>0</th>\n      <td>0</td>\n      <td>113</td>\n      <td>arabic,desserts,free delivery,indian</td>\n      <td>[morning, afternoon, evening]</td>\n      <td>1.000000</td>\n    </tr>\n    <tr>\n      <th>1</th>\n      <td>36</td>\n      <td>20</td>\n      <td>breakfast,desserts,free delivery,indian</td>\n      <td>[morning, afternoon, evening]</td>\n      <td>0.858929</td>\n    </tr>\n    <tr>\n      <th>2</th>\n      <td>57</td>\n      <td>846</td>\n      <td>american,breakfast,burgers,cafe,desserts,free ...</td>\n      <td>[morning, afternoon]</td>\n      <td>0.851622</td>\n    </tr>\n    <tr>\n      <th>3</th>\n      <td>21</td>\n      <td>858</td>\n      <td>american,breakfast,burgers,cafe,desserts,free ...</td>\n      <td>[morning, afternoon]</td>\n      <td>0.851622</td>\n    </tr>\n    <tr>\n      <th>4</th>\n      <td>35</td>\n      <td>841</td>\n      <td>american,breakfast,burgers,cafe,desserts,free ...</td>\n      <td>[morning, afternoon]</td>\n      <td>0.851622</td>\n    </tr>\n    <tr>\n      <th>5</th>\n      <td>19</td>\n      <td>845</td>\n      <td>american,breakfast,burgers,cafe,desserts,free ...</td>\n      <td>[morning, afternoon]</td>\n      <td>0.851622</td>\n    </tr>\n    <tr>\n      <th>6</th>\n      <td>20</td>\n      <td>856</td>\n      <td>american,breakfast,burgers,cafe,desserts,free ...</td>\n      <td>[morning, afternoon]</td>\n      <td>0.851622</td>\n    </tr>\n    <tr>\n      <th>7</th>\n      <td>86</td>\n      <td>843</td>\n      <td>american,breakfast,burgers,cafe,desserts,free ...</td>\n      <td>[morning, afternoon]</td>\n      <td>0.851622</td>\n    </tr>\n    <tr>\n      <th>8</th>\n      <td>91</td>\n      <td>849</td>\n      <td>american,breakfast,burgers,cafe,desserts,free ...</td>\n      <td>[morning, afternoon]</td>\n      <td>0.851622</td>\n    </tr>\n    <tr>\n      <th>9</th>\n      <td>83</td>\n      <td>294</td>\n      <td>burgers,desserts,free delivery,grills,mexican</td>\n      <td>[morning, afternoon, evening]</td>\n      <td>0.817694</td>\n    </tr>\n    <tr>\n      <th>10</th>\n      <td>53</td>\n      <td>86</td>\n      <td>cakes,crepes,desserts,donuts,fresh juices,ice ...</td>\n      <td>[morning, afternoon, evening]</td>\n      <td>0.786465</td>\n    </tr>\n  </tbody>\n</table>\n</div>"
     },
     "metadata": {},
     "execution_count": 103
    }
   ],
   "source": [
    "get_recommendations_df('113')"
   ]
  }
 ]
}