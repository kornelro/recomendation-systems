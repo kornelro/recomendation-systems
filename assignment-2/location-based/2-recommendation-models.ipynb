{
 "metadata": {
  "language_info": {
   "codemirror_mode": {
    "name": "ipython",
    "version": 3
   },
   "file_extension": ".py",
   "mimetype": "text/x-python",
   "name": "python",
   "nbconvert_exporter": "python",
   "pygments_lexer": "ipython3",
   "version": "3.8.5-final"
  },
  "orig_nbformat": 2,
  "kernelspec": {
   "name": "python38564bitcbvenvvenv8b92165c445340c4a3f0c4a5c7329f24",
   "display_name": "Python 3.8.5 64-bit ('cb-venv': venv)",
   "language": "python"
  }
 },
 "nbformat": 4,
 "nbformat_minor": 2,
 "cells": [
  {
   "cell_type": "code",
   "execution_count": 1,
   "metadata": {},
   "outputs": [],
   "source": [
    "import os\n",
    "import sys\n",
    "module_path = os.path.abspath(os.path.join('..')+'/location-based/src')\n",
    "if module_path not in sys.path:\n",
    "    sys.path.append(module_path)"
   ]
  },
  {
   "cell_type": "code",
   "execution_count": 2,
   "metadata": {},
   "outputs": [],
   "source": [
    "import pandas as pd\n",
    "from src.models import RandomModel, DistanceModel, ClusterModel, GravityModel\n",
    "from src.validator import Validator"
   ]
  },
  {
   "source": [
    "# 2 - Recommendation models"
   ],
   "cell_type": "markdown",
   "metadata": {}
  },
  {
   "cell_type": "code",
   "execution_count": 3,
   "metadata": {},
   "outputs": [],
   "source": [
    "SEED = 123"
   ]
  },
  {
   "cell_type": "code",
   "execution_count": 4,
   "metadata": {},
   "outputs": [],
   "source": [
    "orders = pd.read_csv('./data-processed/processed_orders.csv', index_col=0)\n",
    "vendors = pd.read_csv('../data/vendors.csv')"
   ]
  },
  {
   "cell_type": "code",
   "execution_count": 5,
   "metadata": {},
   "outputs": [
    {
     "output_type": "stream",
     "name": "stderr",
     "text": [
      "  0%|          | 15/95060 [00:00<10:47, 146.85it/s]\n",
      "Making grid...\n",
      "\n",
      "Finding nearest aggregated points...\n",
      "100%|██████████| 95060/95060 [04:58<00:00, 318.90it/s]\n",
      "\n",
      "Spliting data...\n",
      "\n",
      "Validator is ready!\n",
      "\n"
     ]
    }
   ],
   "source": [
    "validator = Validator(\n",
    "    orders=orders,\n",
    "    vendors=vendors,\n",
    "    grid_x_n_points=100,\n",
    "    grid_y_n_points=100,\n",
    "    test_size=1,\n",
    "    random_seed=SEED\n",
    ")"
   ]
  },
  {
   "source": [
    "## Base model\n",
    "We will use again random model - this time as base model for compariosion purpose."
   ],
   "cell_type": "markdown",
   "metadata": {}
  },
  {
   "cell_type": "code",
   "execution_count": 6,
   "metadata": {},
   "outputs": [],
   "source": [
    "model = RandomModel(\n",
    "    vendors=vendors,\n",
    "    random_seed=SEED\n",
    ")"
   ]
  },
  {
   "cell_type": "code",
   "execution_count": 7,
   "metadata": {},
   "outputs": [
    {
     "output_type": "stream",
     "name": "stdout",
     "text": [
      "\n",
      "Fitting model...\n",
      "\n",
      "Validating model...\n",
      "\n",
      "Recall@10:  0.101\n",
      "Precision@10:  0.11\n",
      "MAP:  0.034\n"
     ]
    }
   ],
   "source": [
    "k = 10\n",
    "\n",
    "precision, recall, mean_avg_prec = validator.validate(model, k)\n",
    "\n",
    "print()\n",
    "print('Recall@'+str(k)+': ',round(recall, 3))\n",
    "print('Precision@'+str(k)+': ',round(precision, 3))\n",
    "print('MAP: ', round(mean_avg_prec, 3))"
   ]
  },
  {
   "cell_type": "code",
   "execution_count": 8,
   "metadata": {},
   "outputs": [
    {
     "output_type": "stream",
     "name": "stdout",
     "text": [
      "\n",
      "Fitting model...\n",
      "\n",
      "Validating model...\n",
      "\n",
      "Recall@20:  0.22\n",
      "Precision@20:  0.12\n",
      "MAP:  0.053\n"
     ]
    }
   ],
   "source": [
    "k = 20\n",
    "\n",
    "precision, recall, mean_avg_prec = validator.validate(model, k)\n",
    "\n",
    "print()\n",
    "print('Recall@'+str(k)+': ',round(recall, 3))\n",
    "print('Precision@'+str(k)+': ',round(precision, 3))\n",
    "print('MAP: ', round(mean_avg_prec, 3))"
   ]
  },
  {
   "source": [
    "## Distance model\n",
    "The simplest model - reccomends the nearest vendors."
   ],
   "cell_type": "markdown",
   "metadata": {}
  },
  {
   "source": [
    "model = DistanceModel(\n",
    "    vendors=vendors,\n",
    "    random_seed=SEED\n",
    ")"
   ],
   "cell_type": "code",
   "metadata": {},
   "execution_count": 9,
   "outputs": []
  },
  {
   "cell_type": "code",
   "execution_count": 10,
   "metadata": {},
   "outputs": [
    {
     "output_type": "stream",
     "name": "stdout",
     "text": [
      "\n",
      "Fitting model...\n",
      "\n",
      "Validating model...\n",
      "\n",
      "Recall@10:  0.276\n",
      "Precision@10:  0.3\n",
      "MAP:  0.215\n"
     ]
    }
   ],
   "source": [
    "k = 10\n",
    "\n",
    "precision, recall, mean_avg_prec = validator.validate(model, k)\n",
    "\n",
    "print()\n",
    "print('Recall@'+str(k)+': ',round(recall, 3))\n",
    "print('Precision@'+str(k)+': ',round(precision, 3))\n",
    "print('MAP: ', round(mean_avg_prec, 3))"
   ]
  },
  {
   "cell_type": "code",
   "execution_count": 11,
   "metadata": {},
   "outputs": [
    {
     "output_type": "stream",
     "name": "stdout",
     "text": [
      "\n",
      "Fitting model...\n",
      "\n",
      "Validating model...\n",
      "\n",
      "Recall@20:  0.46\n",
      "Precision@20:  0.25\n",
      "MAP:  0.273\n"
     ]
    }
   ],
   "source": [
    "k = 20\n",
    "\n",
    "precision, recall, mean_avg_prec = validator.validate(model, k)\n",
    "\n",
    "print()\n",
    "print('Recall@'+str(k)+': ',round(recall, 3))\n",
    "print('Precision@'+str(k)+': ',round(precision, 3))\n",
    "print('MAP: ', round(mean_avg_prec, 3))"
   ]
  },
  {
   "source": [
    "## Cluster model\n",
    "Clusters the vendors using their locations and then recommends vendors from the nearest cluster with the highest ratings."
   ],
   "cell_type": "markdown",
   "metadata": {}
  },
  {
   "source": [
    "### 3 clusters"
   ],
   "cell_type": "markdown",
   "metadata": {}
  },
  {
   "cell_type": "code",
   "execution_count": 12,
   "metadata": {},
   "outputs": [],
   "source": [
    "model = ClusterModel(\n",
    "    n_clusters=3,\n",
    "    vendors=vendors,\n",
    "    random_seed=SEED\n",
    ")"
   ]
  },
  {
   "cell_type": "code",
   "execution_count": 13,
   "metadata": {},
   "outputs": [
    {
     "output_type": "stream",
     "name": "stdout",
     "text": [
      "\n",
      "Fitting model...\n",
      "\n",
      "Validating model...\n",
      "\n",
      "Recall@10:  0.091\n",
      "Precision@10:  0.099\n",
      "MAP:  0.031\n"
     ]
    }
   ],
   "source": [
    "k = 10\n",
    "\n",
    "precision, recall, mean_avg_prec = validator.validate(model, k)\n",
    "\n",
    "print()\n",
    "print('Recall@'+str(k)+': ',round(recall, 3))\n",
    "print('Precision@'+str(k)+': ',round(precision, 3))\n",
    "print('MAP: ', round(mean_avg_prec, 3))"
   ]
  },
  {
   "cell_type": "code",
   "execution_count": 14,
   "metadata": {},
   "outputs": [
    {
     "output_type": "stream",
     "name": "stdout",
     "text": [
      "\n",
      "Fitting model...\n",
      "\n",
      "Validating model...\n",
      "\n",
      "Recall@20:  0.193\n",
      "Precision@20:  0.105\n",
      "MAP:  0.049\n"
     ]
    }
   ],
   "source": [
    "k = 20\n",
    "\n",
    "precision, recall, mean_avg_prec = validator.validate(model, k)\n",
    "\n",
    "print()\n",
    "print('Recall@'+str(k)+': ',round(recall, 3))\n",
    "print('Precision@'+str(k)+': ',round(precision, 3))\n",
    "print('MAP: ', round(mean_avg_prec, 3))"
   ]
  },
  {
   "source": [
    "### 6 clusters"
   ],
   "cell_type": "markdown",
   "metadata": {}
  },
  {
   "cell_type": "code",
   "execution_count": 15,
   "metadata": {},
   "outputs": [],
   "source": [
    "model = ClusterModel(\n",
    "    n_clusters=6,\n",
    "    vendors=vendors,\n",
    "    random_seed=SEED\n",
    ")"
   ]
  },
  {
   "cell_type": "code",
   "execution_count": 16,
   "metadata": {},
   "outputs": [
    {
     "output_type": "stream",
     "name": "stdout",
     "text": [
      "\n",
      "Fitting model...\n",
      "\n",
      "Validating model...\n",
      "\n",
      "Recall@10:  0.091\n",
      "Precision@10:  0.099\n",
      "MAP:  0.031\n"
     ]
    }
   ],
   "source": [
    "k = 10\n",
    "\n",
    "precision, recall, mean_avg_prec = validator.validate(model, k)\n",
    "\n",
    "print()\n",
    "print('Recall@'+str(k)+': ',round(recall, 3))\n",
    "print('Precision@'+str(k)+': ',round(precision, 3))\n",
    "print('MAP: ', round(mean_avg_prec, 3))"
   ]
  },
  {
   "cell_type": "code",
   "execution_count": 17,
   "metadata": {},
   "outputs": [
    {
     "output_type": "stream",
     "name": "stdout",
     "text": [
      "\n",
      "Fitting model...\n",
      "\n",
      "Validating model...\n",
      "\n",
      "Recall@20:  0.193\n",
      "Precision@20:  0.105\n",
      "MAP:  0.049\n"
     ]
    }
   ],
   "source": [
    "k = 20\n",
    "\n",
    "precision, recall, mean_avg_prec = validator.validate(model, k)\n",
    "\n",
    "print()\n",
    "print('Recall@'+str(k)+': ',round(recall, 3))\n",
    "print('Precision@'+str(k)+': ',round(precision, 3))\n",
    "print('MAP: ', round(mean_avg_prec, 3))"
   ]
  },
  {
   "source": [
    "## Gravity model  \n",
    "Recommends vendors using gravity model with vendors' ratings as mass."
   ],
   "cell_type": "markdown",
   "metadata": {}
  },
  {
   "cell_type": "code",
   "execution_count": 18,
   "metadata": {},
   "outputs": [],
   "source": [
    "model = GravityModel(\n",
    "    vendors=vendors,\n",
    "    random_seed=SEED\n",
    ")"
   ]
  },
  {
   "cell_type": "code",
   "execution_count": 19,
   "metadata": {},
   "outputs": [
    {
     "output_type": "stream",
     "name": "stdout",
     "text": [
      "\n",
      "Fitting model...\n",
      "\n",
      "Validating model...\n",
      "\n",
      "Recall@10:  0.278\n",
      "Precision@10:  0.302\n",
      "MAP:  0.215\n"
     ]
    }
   ],
   "source": [
    "k = 10\n",
    "\n",
    "precision, recall, mean_avg_prec = validator.validate(model, k)\n",
    "\n",
    "print()\n",
    "print('Recall@'+str(k)+': ',round(recall, 3))\n",
    "print('Precision@'+str(k)+': ',round(precision, 3))\n",
    "print('MAP: ', round(mean_avg_prec, 3))"
   ]
  },
  {
   "cell_type": "code",
   "execution_count": 20,
   "metadata": {},
   "outputs": [
    {
     "output_type": "stream",
     "name": "stdout",
     "text": [
      "\n",
      "Fitting model...\n",
      "\n",
      "Validating model...\n",
      "\n",
      "Recall@20:  0.459\n",
      "Precision@20:  0.249\n",
      "MAP:  0.272\n"
     ]
    }
   ],
   "source": [
    "k = 20\n",
    "\n",
    "precision, recall, mean_avg_prec = validator.validate(model, k)\n",
    "\n",
    "print()\n",
    "print('Recall@'+str(k)+': ',round(recall, 3))\n",
    "print('Precision@'+str(k)+': ',round(precision, 3))\n",
    "print('MAP: ', round(mean_avg_prec, 3))"
   ]
  },
  {
   "cell_type": "code",
   "execution_count": null,
   "metadata": {},
   "outputs": [],
   "source": []
  }
 ]
}