{
 "metadata": {
  "language_info": {
   "codemirror_mode": {
    "name": "ipython",
    "version": 3
   },
   "file_extension": ".py",
   "mimetype": "text/x-python",
   "name": "python",
   "nbconvert_exporter": "python",
   "pygments_lexer": "ipython3",
   "version": "3.8.5-final"
  },
  "orig_nbformat": 2,
  "kernelspec": {
   "name": "python38564bitcbvenvvenv8b92165c445340c4a3f0c4a5c7329f24",
   "display_name": "Python 3.8.5 64-bit ('cb-venv': venv)",
   "language": "python"
  }
 },
 "nbformat": 4,
 "nbformat_minor": 2,
 "cells": [
  {
   "cell_type": "code",
   "execution_count": 1,
   "metadata": {},
   "outputs": [],
   "source": [
    "import pandas as pd\n",
    "from ast import literal_eval\n",
    "from tqdm import tqdm\n",
    "from abc import ABC, abstractmethod\n",
    "from typing import List\n",
    "from sklearn.feature_extraction.text import CountVectorizer, TfidfVectorizer\n",
    "from sklearn.metrics.pairwise import cosine_similarity\n",
    "import numpy as np"
   ]
  },
  {
   "cell_type": "code",
   "execution_count": 2,
   "metadata": {},
   "outputs": [],
   "source": [
    "tqdm.pandas()"
   ]
  },
  {
   "source": [
    "# Content-based movies recommendations"
   ],
   "cell_type": "markdown",
   "metadata": {}
  },
  {
   "source": [
    "## 1. Data loading and processing"
   ],
   "cell_type": "markdown",
   "metadata": {}
  },
  {
   "source": [
    "### Ratings"
   ],
   "cell_type": "markdown",
   "metadata": {}
  },
  {
   "cell_type": "code",
   "execution_count": 3,
   "metadata": {},
   "outputs": [],
   "source": [
    "ratings = pd.read_csv(\"../data/ratings_small.csv\")"
   ]
  },
  {
   "cell_type": "code",
   "execution_count": 4,
   "metadata": {},
   "outputs": [
    {
     "output_type": "execute_result",
     "data": {
      "text/plain": [
       "   userId  movieId  rating   timestamp\n",
       "0       1       31     2.5  1260759144\n",
       "1       1     1029     3.0  1260759179\n",
       "2       1     1061     3.0  1260759182\n",
       "3       1     1129     2.0  1260759185\n",
       "4       1     1172     4.0  1260759205"
      ],
      "text/html": "<div>\n<style scoped>\n    .dataframe tbody tr th:only-of-type {\n        vertical-align: middle;\n    }\n\n    .dataframe tbody tr th {\n        vertical-align: top;\n    }\n\n    .dataframe thead th {\n        text-align: right;\n    }\n</style>\n<table border=\"1\" class=\"dataframe\">\n  <thead>\n    <tr style=\"text-align: right;\">\n      <th></th>\n      <th>userId</th>\n      <th>movieId</th>\n      <th>rating</th>\n      <th>timestamp</th>\n    </tr>\n  </thead>\n  <tbody>\n    <tr>\n      <th>0</th>\n      <td>1</td>\n      <td>31</td>\n      <td>2.5</td>\n      <td>1260759144</td>\n    </tr>\n    <tr>\n      <th>1</th>\n      <td>1</td>\n      <td>1029</td>\n      <td>3.0</td>\n      <td>1260759179</td>\n    </tr>\n    <tr>\n      <th>2</th>\n      <td>1</td>\n      <td>1061</td>\n      <td>3.0</td>\n      <td>1260759182</td>\n    </tr>\n    <tr>\n      <th>3</th>\n      <td>1</td>\n      <td>1129</td>\n      <td>2.0</td>\n      <td>1260759185</td>\n    </tr>\n    <tr>\n      <th>4</th>\n      <td>1</td>\n      <td>1172</td>\n      <td>4.0</td>\n      <td>1260759205</td>\n    </tr>\n  </tbody>\n</table>\n</div>"
     },
     "metadata": {},
     "execution_count": 4
    }
   ],
   "source": [
    "ratings.head()"
   ]
  },
  {
   "cell_type": "code",
   "execution_count": 5,
   "metadata": {},
   "outputs": [],
   "source": [
    "ratings.columns = ['user_id', 'movie_id', 'rating', 'timestamp']"
   ]
  },
  {
   "source": [
    "### Links"
   ],
   "cell_type": "markdown",
   "metadata": {}
  },
  {
   "cell_type": "code",
   "execution_count": 6,
   "metadata": {},
   "outputs": [],
   "source": [
    "links = pd.read_csv(\"../data/links_small.csv\")"
   ]
  },
  {
   "cell_type": "code",
   "execution_count": 7,
   "metadata": {},
   "outputs": [
    {
     "output_type": "execute_result",
     "data": {
      "text/plain": [
       "   movieId  imdbId   tmdbId\n",
       "0        1  114709    862.0\n",
       "1        2  113497   8844.0\n",
       "2        3  113228  15602.0\n",
       "3        4  114885  31357.0\n",
       "4        5  113041  11862.0"
      ],
      "text/html": "<div>\n<style scoped>\n    .dataframe tbody tr th:only-of-type {\n        vertical-align: middle;\n    }\n\n    .dataframe tbody tr th {\n        vertical-align: top;\n    }\n\n    .dataframe thead th {\n        text-align: right;\n    }\n</style>\n<table border=\"1\" class=\"dataframe\">\n  <thead>\n    <tr style=\"text-align: right;\">\n      <th></th>\n      <th>movieId</th>\n      <th>imdbId</th>\n      <th>tmdbId</th>\n    </tr>\n  </thead>\n  <tbody>\n    <tr>\n      <th>0</th>\n      <td>1</td>\n      <td>114709</td>\n      <td>862.0</td>\n    </tr>\n    <tr>\n      <th>1</th>\n      <td>2</td>\n      <td>113497</td>\n      <td>8844.0</td>\n    </tr>\n    <tr>\n      <th>2</th>\n      <td>3</td>\n      <td>113228</td>\n      <td>15602.0</td>\n    </tr>\n    <tr>\n      <th>3</th>\n      <td>4</td>\n      <td>114885</td>\n      <td>31357.0</td>\n    </tr>\n    <tr>\n      <th>4</th>\n      <td>5</td>\n      <td>113041</td>\n      <td>11862.0</td>\n    </tr>\n  </tbody>\n</table>\n</div>"
     },
     "metadata": {},
     "execution_count": 7
    }
   ],
   "source": [
    "links.head()"
   ]
  },
  {
   "cell_type": "code",
   "execution_count": 8,
   "metadata": {},
   "outputs": [
    {
     "output_type": "stream",
     "name": "stdout",
     "text": [
      "<class 'pandas.core.frame.DataFrame'>\nRangeIndex: 9125 entries, 0 to 9124\nData columns (total 3 columns):\n #   Column   Non-Null Count  Dtype  \n---  ------   --------------  -----  \n 0   movieId  9125 non-null   int64  \n 1   imdbId   9125 non-null   int64  \n 2   tmdbId   9112 non-null   float64\ndtypes: float64(1), int64(2)\nmemory usage: 214.0 KB\n"
     ]
    }
   ],
   "source": [
    "links.info()"
   ]
  },
  {
   "cell_type": "code",
   "execution_count": 9,
   "metadata": {},
   "outputs": [],
   "source": [
    "links.columns = ['movie_id', 'imbd_id', 'tmbd_id']\n",
    "links=links.dropna()"
   ]
  },
  {
   "cell_type": "code",
   "execution_count": 10,
   "metadata": {},
   "outputs": [],
   "source": [
    "links['tmbd_id'] = links['tmbd_id'].astype('int')\n",
    "links['movie_id'] = links['movie_id'].astype('int')"
   ]
  },
  {
   "cell_type": "code",
   "execution_count": 11,
   "metadata": {},
   "outputs": [
    {
     "output_type": "stream",
     "name": "stdout",
     "text": [
      "<class 'pandas.core.frame.DataFrame'>\nInt64Index: 9112 entries, 0 to 9124\nData columns (total 3 columns):\n #   Column    Non-Null Count  Dtype\n---  ------    --------------  -----\n 0   movie_id  9112 non-null   int64\n 1   imbd_id   9112 non-null   int64\n 2   tmbd_id   9112 non-null   int64\ndtypes: int64(3)\nmemory usage: 284.8 KB\n"
     ]
    }
   ],
   "source": [
    "links.info()"
   ]
  },
  {
   "source": [
    "### Movies"
   ],
   "cell_type": "markdown",
   "metadata": {}
  },
  {
   "source": [
    "#### Metadata"
   ],
   "cell_type": "markdown",
   "metadata": {}
  },
  {
   "cell_type": "code",
   "execution_count": 12,
   "metadata": {},
   "outputs": [
    {
     "output_type": "stream",
     "name": "stderr",
     "text": [
      "/home/kornel/Projects/recomendation-systems/cb-venv/lib/python3.8/site-packages/IPython/core/interactiveshell.py:3165: DtypeWarning: Columns (10) have mixed types.Specify dtype option on import or set low_memory=False.\n  has_raised = await self.run_ast_nodes(code_ast.body, cell_name,\n"
     ]
    }
   ],
   "source": [
    "metadata = pd.read_csv(\"../data/movies_metadata.csv\")"
   ]
  },
  {
   "cell_type": "code",
   "execution_count": 13,
   "metadata": {},
   "outputs": [
    {
     "output_type": "execute_result",
     "data": {
      "text/plain": [
       "   adult                              belongs_to_collection    budget  \\\n",
       "0  False  {'id': 10194, 'name': 'Toy Story Collection', ...  30000000   \n",
       "1  False                                                NaN  65000000   \n",
       "2  False  {'id': 119050, 'name': 'Grumpy Old Men Collect...         0   \n",
       "3  False                                                NaN  16000000   \n",
       "4  False  {'id': 96871, 'name': 'Father of the Bride Col...         0   \n",
       "\n",
       "                                              genres  \\\n",
       "0  [{'id': 16, 'name': 'Animation'}, {'id': 35, '...   \n",
       "1  [{'id': 12, 'name': 'Adventure'}, {'id': 14, '...   \n",
       "2  [{'id': 10749, 'name': 'Romance'}, {'id': 35, ...   \n",
       "3  [{'id': 35, 'name': 'Comedy'}, {'id': 18, 'nam...   \n",
       "4                     [{'id': 35, 'name': 'Comedy'}]   \n",
       "\n",
       "                               homepage     id    imdb_id original_language  \\\n",
       "0  http://toystory.disney.com/toy-story    862  tt0114709                en   \n",
       "1                                   NaN   8844  tt0113497                en   \n",
       "2                                   NaN  15602  tt0113228                en   \n",
       "3                                   NaN  31357  tt0114885                en   \n",
       "4                                   NaN  11862  tt0113041                en   \n",
       "\n",
       "                original_title  \\\n",
       "0                    Toy Story   \n",
       "1                      Jumanji   \n",
       "2             Grumpier Old Men   \n",
       "3            Waiting to Exhale   \n",
       "4  Father of the Bride Part II   \n",
       "\n",
       "                                            overview  ... release_date  \\\n",
       "0  Led by Woody, Andy's toys live happily in his ...  ...   1995-10-30   \n",
       "1  When siblings Judy and Peter discover an encha...  ...   1995-12-15   \n",
       "2  A family wedding reignites the ancient feud be...  ...   1995-12-22   \n",
       "3  Cheated on, mistreated and stepped on, the wom...  ...   1995-12-22   \n",
       "4  Just when George Banks has recovered from his ...  ...   1995-02-10   \n",
       "\n",
       "       revenue runtime                                   spoken_languages  \\\n",
       "0  373554033.0    81.0           [{'iso_639_1': 'en', 'name': 'English'}]   \n",
       "1  262797249.0   104.0  [{'iso_639_1': 'en', 'name': 'English'}, {'iso...   \n",
       "2          0.0   101.0           [{'iso_639_1': 'en', 'name': 'English'}]   \n",
       "3   81452156.0   127.0           [{'iso_639_1': 'en', 'name': 'English'}]   \n",
       "4   76578911.0   106.0           [{'iso_639_1': 'en', 'name': 'English'}]   \n",
       "\n",
       "     status                                            tagline  \\\n",
       "0  Released                                                NaN   \n",
       "1  Released          Roll the dice and unleash the excitement!   \n",
       "2  Released  Still Yelling. Still Fighting. Still Ready for...   \n",
       "3  Released  Friends are the people who let you be yourself...   \n",
       "4  Released  Just When His World Is Back To Normal... He's ...   \n",
       "\n",
       "                         title  video vote_average vote_count  \n",
       "0                    Toy Story  False          7.7     5415.0  \n",
       "1                      Jumanji  False          6.9     2413.0  \n",
       "2             Grumpier Old Men  False          6.5       92.0  \n",
       "3            Waiting to Exhale  False          6.1       34.0  \n",
       "4  Father of the Bride Part II  False          5.7      173.0  \n",
       "\n",
       "[5 rows x 24 columns]"
      ],
      "text/html": "<div>\n<style scoped>\n    .dataframe tbody tr th:only-of-type {\n        vertical-align: middle;\n    }\n\n    .dataframe tbody tr th {\n        vertical-align: top;\n    }\n\n    .dataframe thead th {\n        text-align: right;\n    }\n</style>\n<table border=\"1\" class=\"dataframe\">\n  <thead>\n    <tr style=\"text-align: right;\">\n      <th></th>\n      <th>adult</th>\n      <th>belongs_to_collection</th>\n      <th>budget</th>\n      <th>genres</th>\n      <th>homepage</th>\n      <th>id</th>\n      <th>imdb_id</th>\n      <th>original_language</th>\n      <th>original_title</th>\n      <th>overview</th>\n      <th>...</th>\n      <th>release_date</th>\n      <th>revenue</th>\n      <th>runtime</th>\n      <th>spoken_languages</th>\n      <th>status</th>\n      <th>tagline</th>\n      <th>title</th>\n      <th>video</th>\n      <th>vote_average</th>\n      <th>vote_count</th>\n    </tr>\n  </thead>\n  <tbody>\n    <tr>\n      <th>0</th>\n      <td>False</td>\n      <td>{'id': 10194, 'name': 'Toy Story Collection', ...</td>\n      <td>30000000</td>\n      <td>[{'id': 16, 'name': 'Animation'}, {'id': 35, '...</td>\n      <td>http://toystory.disney.com/toy-story</td>\n      <td>862</td>\n      <td>tt0114709</td>\n      <td>en</td>\n      <td>Toy Story</td>\n      <td>Led by Woody, Andy's toys live happily in his ...</td>\n      <td>...</td>\n      <td>1995-10-30</td>\n      <td>373554033.0</td>\n      <td>81.0</td>\n      <td>[{'iso_639_1': 'en', 'name': 'English'}]</td>\n      <td>Released</td>\n      <td>NaN</td>\n      <td>Toy Story</td>\n      <td>False</td>\n      <td>7.7</td>\n      <td>5415.0</td>\n    </tr>\n    <tr>\n      <th>1</th>\n      <td>False</td>\n      <td>NaN</td>\n      <td>65000000</td>\n      <td>[{'id': 12, 'name': 'Adventure'}, {'id': 14, '...</td>\n      <td>NaN</td>\n      <td>8844</td>\n      <td>tt0113497</td>\n      <td>en</td>\n      <td>Jumanji</td>\n      <td>When siblings Judy and Peter discover an encha...</td>\n      <td>...</td>\n      <td>1995-12-15</td>\n      <td>262797249.0</td>\n      <td>104.0</td>\n      <td>[{'iso_639_1': 'en', 'name': 'English'}, {'iso...</td>\n      <td>Released</td>\n      <td>Roll the dice and unleash the excitement!</td>\n      <td>Jumanji</td>\n      <td>False</td>\n      <td>6.9</td>\n      <td>2413.0</td>\n    </tr>\n    <tr>\n      <th>2</th>\n      <td>False</td>\n      <td>{'id': 119050, 'name': 'Grumpy Old Men Collect...</td>\n      <td>0</td>\n      <td>[{'id': 10749, 'name': 'Romance'}, {'id': 35, ...</td>\n      <td>NaN</td>\n      <td>15602</td>\n      <td>tt0113228</td>\n      <td>en</td>\n      <td>Grumpier Old Men</td>\n      <td>A family wedding reignites the ancient feud be...</td>\n      <td>...</td>\n      <td>1995-12-22</td>\n      <td>0.0</td>\n      <td>101.0</td>\n      <td>[{'iso_639_1': 'en', 'name': 'English'}]</td>\n      <td>Released</td>\n      <td>Still Yelling. Still Fighting. Still Ready for...</td>\n      <td>Grumpier Old Men</td>\n      <td>False</td>\n      <td>6.5</td>\n      <td>92.0</td>\n    </tr>\n    <tr>\n      <th>3</th>\n      <td>False</td>\n      <td>NaN</td>\n      <td>16000000</td>\n      <td>[{'id': 35, 'name': 'Comedy'}, {'id': 18, 'nam...</td>\n      <td>NaN</td>\n      <td>31357</td>\n      <td>tt0114885</td>\n      <td>en</td>\n      <td>Waiting to Exhale</td>\n      <td>Cheated on, mistreated and stepped on, the wom...</td>\n      <td>...</td>\n      <td>1995-12-22</td>\n      <td>81452156.0</td>\n      <td>127.0</td>\n      <td>[{'iso_639_1': 'en', 'name': 'English'}]</td>\n      <td>Released</td>\n      <td>Friends are the people who let you be yourself...</td>\n      <td>Waiting to Exhale</td>\n      <td>False</td>\n      <td>6.1</td>\n      <td>34.0</td>\n    </tr>\n    <tr>\n      <th>4</th>\n      <td>False</td>\n      <td>{'id': 96871, 'name': 'Father of the Bride Col...</td>\n      <td>0</td>\n      <td>[{'id': 35, 'name': 'Comedy'}]</td>\n      <td>NaN</td>\n      <td>11862</td>\n      <td>tt0113041</td>\n      <td>en</td>\n      <td>Father of the Bride Part II</td>\n      <td>Just when George Banks has recovered from his ...</td>\n      <td>...</td>\n      <td>1995-02-10</td>\n      <td>76578911.0</td>\n      <td>106.0</td>\n      <td>[{'iso_639_1': 'en', 'name': 'English'}]</td>\n      <td>Released</td>\n      <td>Just When His World Is Back To Normal... He's ...</td>\n      <td>Father of the Bride Part II</td>\n      <td>False</td>\n      <td>5.7</td>\n      <td>173.0</td>\n    </tr>\n  </tbody>\n</table>\n<p>5 rows × 24 columns</p>\n</div>"
     },
     "metadata": {},
     "execution_count": 13
    }
   ],
   "source": [
    "metadata.head()"
   ]
  },
  {
   "cell_type": "code",
   "execution_count": 14,
   "metadata": {},
   "outputs": [
    {
     "output_type": "stream",
     "name": "stdout",
     "text": [
      "<class 'pandas.core.frame.DataFrame'>\nRangeIndex: 45466 entries, 0 to 45465\nData columns (total 24 columns):\n #   Column                 Non-Null Count  Dtype  \n---  ------                 --------------  -----  \n 0   adult                  45466 non-null  object \n 1   belongs_to_collection  4494 non-null   object \n 2   budget                 45466 non-null  object \n 3   genres                 45466 non-null  object \n 4   homepage               7782 non-null   object \n 5   id                     45466 non-null  object \n 6   imdb_id                45449 non-null  object \n 7   original_language      45455 non-null  object \n 8   original_title         45466 non-null  object \n 9   overview               44512 non-null  object \n 10  popularity             45461 non-null  object \n 11  poster_path            45080 non-null  object \n 12  production_companies   45463 non-null  object \n 13  production_countries   45463 non-null  object \n 14  release_date           45379 non-null  object \n 15  revenue                45460 non-null  float64\n 16  runtime                45203 non-null  float64\n 17  spoken_languages       45460 non-null  object \n 18  status                 45379 non-null  object \n 19  tagline                20412 non-null  object \n 20  title                  45460 non-null  object \n 21  video                  45460 non-null  object \n 22  vote_average           45460 non-null  float64\n 23  vote_count             45460 non-null  float64\ndtypes: float64(4), object(20)\nmemory usage: 8.3+ MB\n"
     ]
    }
   ],
   "source": [
    "metadata.info()"
   ]
  },
  {
   "cell_type": "code",
   "execution_count": 15,
   "metadata": {},
   "outputs": [
    {
     "output_type": "stream",
     "name": "stderr",
     "text": [
      "100%|██████████| 45463/45463 [00:02<00:00, 21811.51it/s]\n",
      "100%|██████████| 45463/45463 [00:00<00:00, 46086.71it/s]\n"
     ]
    }
   ],
   "source": [
    "# drop 3 incorrect rows\n",
    "metadata = metadata.drop([19730, 29503, 35587])\n",
    "\n",
    "# genres column\n",
    "metadata['genres'] = metadata.progress_apply(lambda row: [x['name'].replace(' ', '_').lower() for x in literal_eval(row['genres'])], axis=1)\n",
    "\n",
    "# collection column\n",
    "metadata['belongs_to_collection'].fillna('{\\'name\\': \\'\\'}', inplace=True)\n",
    "metadata['collection'] = metadata.progress_apply(lambda row: literal_eval(row['belongs_to_collection'])['name'], axis=1)\n",
    "\n",
    "# movie decrisption\n",
    "metadata['overview'].fillna('', inplace=True)\n",
    "metadata['tagline'].fillna('', inplace=True)\n",
    "metadata['description'] = metadata['overview'] + metadata['tagline']\n",
    "\n",
    "# select interesting columns\n",
    "col = ['id', 'title', 'collection', 'description', 'genres']\n",
    "metadata = metadata[col]"
   ]
  },
  {
   "cell_type": "code",
   "execution_count": 16,
   "metadata": {},
   "outputs": [
    {
     "output_type": "execute_result",
     "data": {
      "text/plain": [
       "      id                        title                      collection  \\\n",
       "0    862                    Toy Story            Toy Story Collection   \n",
       "1   8844                      Jumanji                                   \n",
       "2  15602             Grumpier Old Men       Grumpy Old Men Collection   \n",
       "3  31357            Waiting to Exhale                                   \n",
       "4  11862  Father of the Bride Part II  Father of the Bride Collection   \n",
       "\n",
       "                                         description  \\\n",
       "0  Led by Woody, Andy's toys live happily in his ...   \n",
       "1  When siblings Judy and Peter discover an encha...   \n",
       "2  A family wedding reignites the ancient feud be...   \n",
       "3  Cheated on, mistreated and stepped on, the wom...   \n",
       "4  Just when George Banks has recovered from his ...   \n",
       "\n",
       "                         genres  \n",
       "0   [animation, comedy, family]  \n",
       "1  [adventure, fantasy, family]  \n",
       "2             [romance, comedy]  \n",
       "3      [comedy, drama, romance]  \n",
       "4                      [comedy]  "
      ],
      "text/html": "<div>\n<style scoped>\n    .dataframe tbody tr th:only-of-type {\n        vertical-align: middle;\n    }\n\n    .dataframe tbody tr th {\n        vertical-align: top;\n    }\n\n    .dataframe thead th {\n        text-align: right;\n    }\n</style>\n<table border=\"1\" class=\"dataframe\">\n  <thead>\n    <tr style=\"text-align: right;\">\n      <th></th>\n      <th>id</th>\n      <th>title</th>\n      <th>collection</th>\n      <th>description</th>\n      <th>genres</th>\n    </tr>\n  </thead>\n  <tbody>\n    <tr>\n      <th>0</th>\n      <td>862</td>\n      <td>Toy Story</td>\n      <td>Toy Story Collection</td>\n      <td>Led by Woody, Andy's toys live happily in his ...</td>\n      <td>[animation, comedy, family]</td>\n    </tr>\n    <tr>\n      <th>1</th>\n      <td>8844</td>\n      <td>Jumanji</td>\n      <td></td>\n      <td>When siblings Judy and Peter discover an encha...</td>\n      <td>[adventure, fantasy, family]</td>\n    </tr>\n    <tr>\n      <th>2</th>\n      <td>15602</td>\n      <td>Grumpier Old Men</td>\n      <td>Grumpy Old Men Collection</td>\n      <td>A family wedding reignites the ancient feud be...</td>\n      <td>[romance, comedy]</td>\n    </tr>\n    <tr>\n      <th>3</th>\n      <td>31357</td>\n      <td>Waiting to Exhale</td>\n      <td></td>\n      <td>Cheated on, mistreated and stepped on, the wom...</td>\n      <td>[comedy, drama, romance]</td>\n    </tr>\n    <tr>\n      <th>4</th>\n      <td>11862</td>\n      <td>Father of the Bride Part II</td>\n      <td>Father of the Bride Collection</td>\n      <td>Just when George Banks has recovered from his ...</td>\n      <td>[comedy]</td>\n    </tr>\n  </tbody>\n</table>\n</div>"
     },
     "metadata": {},
     "execution_count": 16
    }
   ],
   "source": [
    "metadata.head()"
   ]
  },
  {
   "cell_type": "code",
   "execution_count": 17,
   "metadata": {},
   "outputs": [
    {
     "output_type": "stream",
     "name": "stdout",
     "text": [
      "<class 'pandas.core.frame.DataFrame'>\nInt64Index: 45463 entries, 0 to 45465\nData columns (total 5 columns):\n #   Column       Non-Null Count  Dtype \n---  ------       --------------  ----- \n 0   id           45463 non-null  object\n 1   title        45460 non-null  object\n 2   collection   45463 non-null  object\n 3   description  45463 non-null  object\n 4   genres       45463 non-null  object\ndtypes: object(5)\nmemory usage: 2.1+ MB\n"
     ]
    }
   ],
   "source": [
    "metadata.info()"
   ]
  },
  {
   "source": [
    "#### credits"
   ],
   "cell_type": "markdown",
   "metadata": {}
  },
  {
   "cell_type": "code",
   "execution_count": 18,
   "metadata": {},
   "outputs": [],
   "source": [
    "creds = pd.read_csv('./../data/credits.csv')"
   ]
  },
  {
   "cell_type": "code",
   "execution_count": 19,
   "metadata": {},
   "outputs": [
    {
     "output_type": "execute_result",
     "data": {
      "text/plain": [
       "                                                cast  \\\n",
       "0  [{'cast_id': 14, 'character': 'Woody (voice)',...   \n",
       "1  [{'cast_id': 1, 'character': 'Alan Parrish', '...   \n",
       "2  [{'cast_id': 2, 'character': 'Max Goldman', 'c...   \n",
       "3  [{'cast_id': 1, 'character': \"Savannah 'Vannah...   \n",
       "4  [{'cast_id': 1, 'character': 'George Banks', '...   \n",
       "\n",
       "                                                crew     id  \n",
       "0  [{'credit_id': '52fe4284c3a36847f8024f49', 'de...    862  \n",
       "1  [{'credit_id': '52fe44bfc3a36847f80a7cd1', 'de...   8844  \n",
       "2  [{'credit_id': '52fe466a9251416c75077a89', 'de...  15602  \n",
       "3  [{'credit_id': '52fe44779251416c91011acb', 'de...  31357  \n",
       "4  [{'credit_id': '52fe44959251416c75039ed7', 'de...  11862  "
      ],
      "text/html": "<div>\n<style scoped>\n    .dataframe tbody tr th:only-of-type {\n        vertical-align: middle;\n    }\n\n    .dataframe tbody tr th {\n        vertical-align: top;\n    }\n\n    .dataframe thead th {\n        text-align: right;\n    }\n</style>\n<table border=\"1\" class=\"dataframe\">\n  <thead>\n    <tr style=\"text-align: right;\">\n      <th></th>\n      <th>cast</th>\n      <th>crew</th>\n      <th>id</th>\n    </tr>\n  </thead>\n  <tbody>\n    <tr>\n      <th>0</th>\n      <td>[{'cast_id': 14, 'character': 'Woody (voice)',...</td>\n      <td>[{'credit_id': '52fe4284c3a36847f8024f49', 'de...</td>\n      <td>862</td>\n    </tr>\n    <tr>\n      <th>1</th>\n      <td>[{'cast_id': 1, 'character': 'Alan Parrish', '...</td>\n      <td>[{'credit_id': '52fe44bfc3a36847f80a7cd1', 'de...</td>\n      <td>8844</td>\n    </tr>\n    <tr>\n      <th>2</th>\n      <td>[{'cast_id': 2, 'character': 'Max Goldman', 'c...</td>\n      <td>[{'credit_id': '52fe466a9251416c75077a89', 'de...</td>\n      <td>15602</td>\n    </tr>\n    <tr>\n      <th>3</th>\n      <td>[{'cast_id': 1, 'character': \"Savannah 'Vannah...</td>\n      <td>[{'credit_id': '52fe44779251416c91011acb', 'de...</td>\n      <td>31357</td>\n    </tr>\n    <tr>\n      <th>4</th>\n      <td>[{'cast_id': 1, 'character': 'George Banks', '...</td>\n      <td>[{'credit_id': '52fe44959251416c75039ed7', 'de...</td>\n      <td>11862</td>\n    </tr>\n  </tbody>\n</table>\n</div>"
     },
     "metadata": {},
     "execution_count": 19
    }
   ],
   "source": [
    "creds.head()"
   ]
  },
  {
   "cell_type": "code",
   "execution_count": 20,
   "metadata": {},
   "outputs": [
    {
     "output_type": "stream",
     "name": "stdout",
     "text": [
      "<class 'pandas.core.frame.DataFrame'>\nRangeIndex: 45476 entries, 0 to 45475\nData columns (total 3 columns):\n #   Column  Non-Null Count  Dtype \n---  ------  --------------  ----- \n 0   cast    45476 non-null  object\n 1   crew    45476 non-null  object\n 2   id      45476 non-null  int64 \ndtypes: int64(1), object(2)\nmemory usage: 1.0+ MB\n"
     ]
    }
   ],
   "source": [
    "creds.info()"
   ]
  },
  {
   "cell_type": "code",
   "execution_count": 21,
   "metadata": {},
   "outputs": [
    {
     "output_type": "stream",
     "name": "stderr",
     "text": [
      "100%|██████████| 45476/45476 [00:15<00:00, 2914.36it/s]\n",
      "100%|██████████| 45476/45476 [00:12<00:00, 3726.36it/s]\n"
     ]
    }
   ],
   "source": [
    "creds['cast'] = creds.progress_apply(lambda row: [x['name'].replace(' ', '_').lower() for x in literal_eval(row['cast'])[0:10]], axis=1)\n",
    "creds['crew'] = creds.progress_apply(lambda row: [x['name'].replace(' ', '_').lower() for x in literal_eval(row['crew'])[0:10]], axis=1)"
   ]
  },
  {
   "cell_type": "code",
   "execution_count": 22,
   "metadata": {},
   "outputs": [
    {
     "output_type": "execute_result",
     "data": {
      "text/plain": [
       "                                                cast  \\\n",
       "0  [tom_hanks, tim_allen, don_rickles, jim_varney...   \n",
       "1  [robin_williams, jonathan_hyde, kirsten_dunst,...   \n",
       "2  [walter_matthau, jack_lemmon, ann-margret, sop...   \n",
       "3  [whitney_houston, angela_bassett, loretta_devi...   \n",
       "4  [steve_martin, diane_keaton, martin_short, kim...   \n",
       "\n",
       "                                                crew     id  \n",
       "0  [john_lasseter, joss_whedon, andrew_stanton, j...    862  \n",
       "1  [larry_j._franco, jonathan_hensleigh, james_ho...   8844  \n",
       "2  [howard_deutch, mark_steven_johnson, mark_stev...  15602  \n",
       "3  [forest_whitaker, ronald_bass, ronald_bass, ez...  31357  \n",
       "4  [alan_silvestri, elliot_davis, nancy_meyers, n...  11862  "
      ],
      "text/html": "<div>\n<style scoped>\n    .dataframe tbody tr th:only-of-type {\n        vertical-align: middle;\n    }\n\n    .dataframe tbody tr th {\n        vertical-align: top;\n    }\n\n    .dataframe thead th {\n        text-align: right;\n    }\n</style>\n<table border=\"1\" class=\"dataframe\">\n  <thead>\n    <tr style=\"text-align: right;\">\n      <th></th>\n      <th>cast</th>\n      <th>crew</th>\n      <th>id</th>\n    </tr>\n  </thead>\n  <tbody>\n    <tr>\n      <th>0</th>\n      <td>[tom_hanks, tim_allen, don_rickles, jim_varney...</td>\n      <td>[john_lasseter, joss_whedon, andrew_stanton, j...</td>\n      <td>862</td>\n    </tr>\n    <tr>\n      <th>1</th>\n      <td>[robin_williams, jonathan_hyde, kirsten_dunst,...</td>\n      <td>[larry_j._franco, jonathan_hensleigh, james_ho...</td>\n      <td>8844</td>\n    </tr>\n    <tr>\n      <th>2</th>\n      <td>[walter_matthau, jack_lemmon, ann-margret, sop...</td>\n      <td>[howard_deutch, mark_steven_johnson, mark_stev...</td>\n      <td>15602</td>\n    </tr>\n    <tr>\n      <th>3</th>\n      <td>[whitney_houston, angela_bassett, loretta_devi...</td>\n      <td>[forest_whitaker, ronald_bass, ronald_bass, ez...</td>\n      <td>31357</td>\n    </tr>\n    <tr>\n      <th>4</th>\n      <td>[steve_martin, diane_keaton, martin_short, kim...</td>\n      <td>[alan_silvestri, elliot_davis, nancy_meyers, n...</td>\n      <td>11862</td>\n    </tr>\n  </tbody>\n</table>\n</div>"
     },
     "metadata": {},
     "execution_count": 22
    }
   ],
   "source": [
    "creds.head()"
   ]
  },
  {
   "source": [
    "#### keywords"
   ],
   "cell_type": "markdown",
   "metadata": {}
  },
  {
   "cell_type": "code",
   "execution_count": 23,
   "metadata": {},
   "outputs": [],
   "source": [
    "keywords = pd.read_csv('../data/keywords.csv')"
   ]
  },
  {
   "cell_type": "code",
   "execution_count": 24,
   "metadata": {},
   "outputs": [
    {
     "output_type": "execute_result",
     "data": {
      "text/plain": [
       "      id                                           keywords\n",
       "0    862  [{'id': 931, 'name': 'jealousy'}, {'id': 4290,...\n",
       "1   8844  [{'id': 10090, 'name': 'board game'}, {'id': 1...\n",
       "2  15602  [{'id': 1495, 'name': 'fishing'}, {'id': 12392...\n",
       "3  31357  [{'id': 818, 'name': 'based on novel'}, {'id':...\n",
       "4  11862  [{'id': 1009, 'name': 'baby'}, {'id': 1599, 'n..."
      ],
      "text/html": "<div>\n<style scoped>\n    .dataframe tbody tr th:only-of-type {\n        vertical-align: middle;\n    }\n\n    .dataframe tbody tr th {\n        vertical-align: top;\n    }\n\n    .dataframe thead th {\n        text-align: right;\n    }\n</style>\n<table border=\"1\" class=\"dataframe\">\n  <thead>\n    <tr style=\"text-align: right;\">\n      <th></th>\n      <th>id</th>\n      <th>keywords</th>\n    </tr>\n  </thead>\n  <tbody>\n    <tr>\n      <th>0</th>\n      <td>862</td>\n      <td>[{'id': 931, 'name': 'jealousy'}, {'id': 4290,...</td>\n    </tr>\n    <tr>\n      <th>1</th>\n      <td>8844</td>\n      <td>[{'id': 10090, 'name': 'board game'}, {'id': 1...</td>\n    </tr>\n    <tr>\n      <th>2</th>\n      <td>15602</td>\n      <td>[{'id': 1495, 'name': 'fishing'}, {'id': 12392...</td>\n    </tr>\n    <tr>\n      <th>3</th>\n      <td>31357</td>\n      <td>[{'id': 818, 'name': 'based on novel'}, {'id':...</td>\n    </tr>\n    <tr>\n      <th>4</th>\n      <td>11862</td>\n      <td>[{'id': 1009, 'name': 'baby'}, {'id': 1599, 'n...</td>\n    </tr>\n  </tbody>\n</table>\n</div>"
     },
     "metadata": {},
     "execution_count": 24
    }
   ],
   "source": [
    "keywords.head()"
   ]
  },
  {
   "cell_type": "code",
   "execution_count": 25,
   "metadata": {},
   "outputs": [
    {
     "output_type": "stream",
     "name": "stdout",
     "text": [
      "<class 'pandas.core.frame.DataFrame'>\nRangeIndex: 46419 entries, 0 to 46418\nData columns (total 2 columns):\n #   Column    Non-Null Count  Dtype \n---  ------    --------------  ----- \n 0   id        46419 non-null  int64 \n 1   keywords  46419 non-null  object\ndtypes: int64(1), object(1)\nmemory usage: 725.4+ KB\n"
     ]
    }
   ],
   "source": [
    "keywords.info()"
   ]
  },
  {
   "cell_type": "code",
   "execution_count": 26,
   "metadata": {},
   "outputs": [
    {
     "output_type": "stream",
     "name": "stderr",
     "text": [
      "100%|██████████| 46419/46419 [00:02<00:00, 21561.09it/s]\n"
     ]
    }
   ],
   "source": [
    "keywords['keywords'] = keywords.progress_apply(lambda row: [x['name'].replace(' ', '_').lower() for x in literal_eval(row['keywords'])[0:10]], axis=1)"
   ]
  },
  {
   "cell_type": "code",
   "execution_count": 27,
   "metadata": {},
   "outputs": [
    {
     "output_type": "execute_result",
     "data": {
      "text/plain": [
       "      id                                           keywords\n",
       "0    862  [jealousy, toy, boy, friendship, friends, riva...\n",
       "1   8844  [board_game, disappearance, based_on_children'...\n",
       "2  15602  [fishing, best_friend, duringcreditsstinger, o...\n",
       "3  31357  [based_on_novel, interracial_relationship, sin...\n",
       "4  11862  [baby, midlife_crisis, confidence, aging, daug..."
      ],
      "text/html": "<div>\n<style scoped>\n    .dataframe tbody tr th:only-of-type {\n        vertical-align: middle;\n    }\n\n    .dataframe tbody tr th {\n        vertical-align: top;\n    }\n\n    .dataframe thead th {\n        text-align: right;\n    }\n</style>\n<table border=\"1\" class=\"dataframe\">\n  <thead>\n    <tr style=\"text-align: right;\">\n      <th></th>\n      <th>id</th>\n      <th>keywords</th>\n    </tr>\n  </thead>\n  <tbody>\n    <tr>\n      <th>0</th>\n      <td>862</td>\n      <td>[jealousy, toy, boy, friendship, friends, riva...</td>\n    </tr>\n    <tr>\n      <th>1</th>\n      <td>8844</td>\n      <td>[board_game, disappearance, based_on_children'...</td>\n    </tr>\n    <tr>\n      <th>2</th>\n      <td>15602</td>\n      <td>[fishing, best_friend, duringcreditsstinger, o...</td>\n    </tr>\n    <tr>\n      <th>3</th>\n      <td>31357</td>\n      <td>[based_on_novel, interracial_relationship, sin...</td>\n    </tr>\n    <tr>\n      <th>4</th>\n      <td>11862</td>\n      <td>[baby, midlife_crisis, confidence, aging, daug...</td>\n    </tr>\n  </tbody>\n</table>\n</div>"
     },
     "metadata": {},
     "execution_count": 27
    }
   ],
   "source": [
    "keywords.head()"
   ]
  },
  {
   "source": [
    "#### Merge data"
   ],
   "cell_type": "markdown",
   "metadata": {}
  },
  {
   "cell_type": "code",
   "execution_count": 28,
   "metadata": {},
   "outputs": [],
   "source": [
    "metadata['id'] = metadata['id'].astype('float64')\n",
    "movies = pd.merge(metadata, creds, on='id')\n",
    "movies = pd.merge(movies, keywords, on='id').dropna()"
   ]
  },
  {
   "cell_type": "code",
   "execution_count": 29,
   "metadata": {},
   "outputs": [],
   "source": [
    "columns = ['id', 'title', 'collection', 'description', 'genres', 'keywords', 'cast', 'crew']\n",
    "movies = movies[columns]"
   ]
  },
  {
   "cell_type": "code",
   "execution_count": 30,
   "metadata": {},
   "outputs": [
    {
     "output_type": "execute_result",
     "data": {
      "text/plain": [
       "        id                        title                      collection  \\\n",
       "0    862.0                    Toy Story            Toy Story Collection   \n",
       "1   8844.0                      Jumanji                                   \n",
       "2  15602.0             Grumpier Old Men       Grumpy Old Men Collection   \n",
       "3  31357.0            Waiting to Exhale                                   \n",
       "4  11862.0  Father of the Bride Part II  Father of the Bride Collection   \n",
       "\n",
       "                                         description  \\\n",
       "0  Led by Woody, Andy's toys live happily in his ...   \n",
       "1  When siblings Judy and Peter discover an encha...   \n",
       "2  A family wedding reignites the ancient feud be...   \n",
       "3  Cheated on, mistreated and stepped on, the wom...   \n",
       "4  Just when George Banks has recovered from his ...   \n",
       "\n",
       "                         genres  \\\n",
       "0   [animation, comedy, family]   \n",
       "1  [adventure, fantasy, family]   \n",
       "2             [romance, comedy]   \n",
       "3      [comedy, drama, romance]   \n",
       "4                      [comedy]   \n",
       "\n",
       "                                            keywords  \\\n",
       "0  [jealousy, toy, boy, friendship, friends, riva...   \n",
       "1  [board_game, disappearance, based_on_children'...   \n",
       "2  [fishing, best_friend, duringcreditsstinger, o...   \n",
       "3  [based_on_novel, interracial_relationship, sin...   \n",
       "4  [baby, midlife_crisis, confidence, aging, daug...   \n",
       "\n",
       "                                                cast  \\\n",
       "0  [tom_hanks, tim_allen, don_rickles, jim_varney...   \n",
       "1  [robin_williams, jonathan_hyde, kirsten_dunst,...   \n",
       "2  [walter_matthau, jack_lemmon, ann-margret, sop...   \n",
       "3  [whitney_houston, angela_bassett, loretta_devi...   \n",
       "4  [steve_martin, diane_keaton, martin_short, kim...   \n",
       "\n",
       "                                                crew  \n",
       "0  [john_lasseter, joss_whedon, andrew_stanton, j...  \n",
       "1  [larry_j._franco, jonathan_hensleigh, james_ho...  \n",
       "2  [howard_deutch, mark_steven_johnson, mark_stev...  \n",
       "3  [forest_whitaker, ronald_bass, ronald_bass, ez...  \n",
       "4  [alan_silvestri, elliot_davis, nancy_meyers, n...  "
      ],
      "text/html": "<div>\n<style scoped>\n    .dataframe tbody tr th:only-of-type {\n        vertical-align: middle;\n    }\n\n    .dataframe tbody tr th {\n        vertical-align: top;\n    }\n\n    .dataframe thead th {\n        text-align: right;\n    }\n</style>\n<table border=\"1\" class=\"dataframe\">\n  <thead>\n    <tr style=\"text-align: right;\">\n      <th></th>\n      <th>id</th>\n      <th>title</th>\n      <th>collection</th>\n      <th>description</th>\n      <th>genres</th>\n      <th>keywords</th>\n      <th>cast</th>\n      <th>crew</th>\n    </tr>\n  </thead>\n  <tbody>\n    <tr>\n      <th>0</th>\n      <td>862.0</td>\n      <td>Toy Story</td>\n      <td>Toy Story Collection</td>\n      <td>Led by Woody, Andy's toys live happily in his ...</td>\n      <td>[animation, comedy, family]</td>\n      <td>[jealousy, toy, boy, friendship, friends, riva...</td>\n      <td>[tom_hanks, tim_allen, don_rickles, jim_varney...</td>\n      <td>[john_lasseter, joss_whedon, andrew_stanton, j...</td>\n    </tr>\n    <tr>\n      <th>1</th>\n      <td>8844.0</td>\n      <td>Jumanji</td>\n      <td></td>\n      <td>When siblings Judy and Peter discover an encha...</td>\n      <td>[adventure, fantasy, family]</td>\n      <td>[board_game, disappearance, based_on_children'...</td>\n      <td>[robin_williams, jonathan_hyde, kirsten_dunst,...</td>\n      <td>[larry_j._franco, jonathan_hensleigh, james_ho...</td>\n    </tr>\n    <tr>\n      <th>2</th>\n      <td>15602.0</td>\n      <td>Grumpier Old Men</td>\n      <td>Grumpy Old Men Collection</td>\n      <td>A family wedding reignites the ancient feud be...</td>\n      <td>[romance, comedy]</td>\n      <td>[fishing, best_friend, duringcreditsstinger, o...</td>\n      <td>[walter_matthau, jack_lemmon, ann-margret, sop...</td>\n      <td>[howard_deutch, mark_steven_johnson, mark_stev...</td>\n    </tr>\n    <tr>\n      <th>3</th>\n      <td>31357.0</td>\n      <td>Waiting to Exhale</td>\n      <td></td>\n      <td>Cheated on, mistreated and stepped on, the wom...</td>\n      <td>[comedy, drama, romance]</td>\n      <td>[based_on_novel, interracial_relationship, sin...</td>\n      <td>[whitney_houston, angela_bassett, loretta_devi...</td>\n      <td>[forest_whitaker, ronald_bass, ronald_bass, ez...</td>\n    </tr>\n    <tr>\n      <th>4</th>\n      <td>11862.0</td>\n      <td>Father of the Bride Part II</td>\n      <td>Father of the Bride Collection</td>\n      <td>Just when George Banks has recovered from his ...</td>\n      <td>[comedy]</td>\n      <td>[baby, midlife_crisis, confidence, aging, daug...</td>\n      <td>[steve_martin, diane_keaton, martin_short, kim...</td>\n      <td>[alan_silvestri, elliot_davis, nancy_meyers, n...</td>\n    </tr>\n  </tbody>\n</table>\n</div>"
     },
     "metadata": {},
     "execution_count": 30
    }
   ],
   "source": [
    "movies.head()"
   ]
  },
  {
   "cell_type": "code",
   "execution_count": 31,
   "metadata": {},
   "outputs": [
    {
     "output_type": "stream",
     "name": "stdout",
     "text": [
      "<class 'pandas.core.frame.DataFrame'>\nInt64Index: 46624 entries, 0 to 46627\nData columns (total 8 columns):\n #   Column       Non-Null Count  Dtype  \n---  ------       --------------  -----  \n 0   id           46624 non-null  float64\n 1   title        46624 non-null  object \n 2   collection   46624 non-null  object \n 3   description  46624 non-null  object \n 4   genres       46624 non-null  object \n 5   keywords     46624 non-null  object \n 6   cast         46624 non-null  object \n 7   crew         46624 non-null  object \ndtypes: float64(1), object(7)\nmemory usage: 3.2+ MB\n"
     ]
    }
   ],
   "source": [
    "movies.info()"
   ]
  },
  {
   "source": [
    "#### Transform id to that used in ratings csv. Drop movies not rated in ratings_small. Drop row duplicated by movie_id."
   ],
   "cell_type": "markdown",
   "metadata": {}
  },
  {
   "cell_type": "code",
   "execution_count": 32,
   "metadata": {},
   "outputs": [],
   "source": [
    "movies = movies.rename(columns={'id': 'tmbd_id'})\n",
    "movies['tmbd_id'] = movies['tmbd_id'].astype('int')\n",
    "movies = pd.merge(links, movies, on='tmbd_id')\n",
    "movies = movies.drop(columns=['imbd_id', 'tmbd_id'])"
   ]
  },
  {
   "cell_type": "code",
   "execution_count": 33,
   "metadata": {},
   "outputs": [],
   "source": [
    "movies = movies[movies['movie_id'].isin(links['movie_id'])]"
   ]
  },
  {
   "cell_type": "code",
   "execution_count": 34,
   "metadata": {},
   "outputs": [],
   "source": [
    "movies = movies.drop_duplicates('movie_id')"
   ]
  },
  {
   "cell_type": "code",
   "execution_count": 35,
   "metadata": {},
   "outputs": [
    {
     "output_type": "execute_result",
     "data": {
      "text/plain": [
       "   movie_id                        title                      collection  \\\n",
       "0         1                    Toy Story            Toy Story Collection   \n",
       "1         2                      Jumanji                                   \n",
       "2         3             Grumpier Old Men       Grumpy Old Men Collection   \n",
       "3         4            Waiting to Exhale                                   \n",
       "4         5  Father of the Bride Part II  Father of the Bride Collection   \n",
       "\n",
       "                                         description  \\\n",
       "0  Led by Woody, Andy's toys live happily in his ...   \n",
       "1  When siblings Judy and Peter discover an encha...   \n",
       "2  A family wedding reignites the ancient feud be...   \n",
       "3  Cheated on, mistreated and stepped on, the wom...   \n",
       "4  Just when George Banks has recovered from his ...   \n",
       "\n",
       "                         genres  \\\n",
       "0   [animation, comedy, family]   \n",
       "1  [adventure, fantasy, family]   \n",
       "2             [romance, comedy]   \n",
       "3      [comedy, drama, romance]   \n",
       "4                      [comedy]   \n",
       "\n",
       "                                            keywords  \\\n",
       "0  [jealousy, toy, boy, friendship, friends, riva...   \n",
       "1  [board_game, disappearance, based_on_children'...   \n",
       "2  [fishing, best_friend, duringcreditsstinger, o...   \n",
       "3  [based_on_novel, interracial_relationship, sin...   \n",
       "4  [baby, midlife_crisis, confidence, aging, daug...   \n",
       "\n",
       "                                                cast  \\\n",
       "0  [tom_hanks, tim_allen, don_rickles, jim_varney...   \n",
       "1  [robin_williams, jonathan_hyde, kirsten_dunst,...   \n",
       "2  [walter_matthau, jack_lemmon, ann-margret, sop...   \n",
       "3  [whitney_houston, angela_bassett, loretta_devi...   \n",
       "4  [steve_martin, diane_keaton, martin_short, kim...   \n",
       "\n",
       "                                                crew  \n",
       "0  [john_lasseter, joss_whedon, andrew_stanton, j...  \n",
       "1  [larry_j._franco, jonathan_hensleigh, james_ho...  \n",
       "2  [howard_deutch, mark_steven_johnson, mark_stev...  \n",
       "3  [forest_whitaker, ronald_bass, ronald_bass, ez...  \n",
       "4  [alan_silvestri, elliot_davis, nancy_meyers, n...  "
      ],
      "text/html": "<div>\n<style scoped>\n    .dataframe tbody tr th:only-of-type {\n        vertical-align: middle;\n    }\n\n    .dataframe tbody tr th {\n        vertical-align: top;\n    }\n\n    .dataframe thead th {\n        text-align: right;\n    }\n</style>\n<table border=\"1\" class=\"dataframe\">\n  <thead>\n    <tr style=\"text-align: right;\">\n      <th></th>\n      <th>movie_id</th>\n      <th>title</th>\n      <th>collection</th>\n      <th>description</th>\n      <th>genres</th>\n      <th>keywords</th>\n      <th>cast</th>\n      <th>crew</th>\n    </tr>\n  </thead>\n  <tbody>\n    <tr>\n      <th>0</th>\n      <td>1</td>\n      <td>Toy Story</td>\n      <td>Toy Story Collection</td>\n      <td>Led by Woody, Andy's toys live happily in his ...</td>\n      <td>[animation, comedy, family]</td>\n      <td>[jealousy, toy, boy, friendship, friends, riva...</td>\n      <td>[tom_hanks, tim_allen, don_rickles, jim_varney...</td>\n      <td>[john_lasseter, joss_whedon, andrew_stanton, j...</td>\n    </tr>\n    <tr>\n      <th>1</th>\n      <td>2</td>\n      <td>Jumanji</td>\n      <td></td>\n      <td>When siblings Judy and Peter discover an encha...</td>\n      <td>[adventure, fantasy, family]</td>\n      <td>[board_game, disappearance, based_on_children'...</td>\n      <td>[robin_williams, jonathan_hyde, kirsten_dunst,...</td>\n      <td>[larry_j._franco, jonathan_hensleigh, james_ho...</td>\n    </tr>\n    <tr>\n      <th>2</th>\n      <td>3</td>\n      <td>Grumpier Old Men</td>\n      <td>Grumpy Old Men Collection</td>\n      <td>A family wedding reignites the ancient feud be...</td>\n      <td>[romance, comedy]</td>\n      <td>[fishing, best_friend, duringcreditsstinger, o...</td>\n      <td>[walter_matthau, jack_lemmon, ann-margret, sop...</td>\n      <td>[howard_deutch, mark_steven_johnson, mark_stev...</td>\n    </tr>\n    <tr>\n      <th>3</th>\n      <td>4</td>\n      <td>Waiting to Exhale</td>\n      <td></td>\n      <td>Cheated on, mistreated and stepped on, the wom...</td>\n      <td>[comedy, drama, romance]</td>\n      <td>[based_on_novel, interracial_relationship, sin...</td>\n      <td>[whitney_houston, angela_bassett, loretta_devi...</td>\n      <td>[forest_whitaker, ronald_bass, ronald_bass, ez...</td>\n    </tr>\n    <tr>\n      <th>4</th>\n      <td>5</td>\n      <td>Father of the Bride Part II</td>\n      <td>Father of the Bride Collection</td>\n      <td>Just when George Banks has recovered from his ...</td>\n      <td>[comedy]</td>\n      <td>[baby, midlife_crisis, confidence, aging, daug...</td>\n      <td>[steve_martin, diane_keaton, martin_short, kim...</td>\n      <td>[alan_silvestri, elliot_davis, nancy_meyers, n...</td>\n    </tr>\n  </tbody>\n</table>\n</div>"
     },
     "metadata": {},
     "execution_count": 35
    }
   ],
   "source": [
    "movies.head()"
   ]
  },
  {
   "cell_type": "code",
   "execution_count": 36,
   "metadata": {},
   "outputs": [
    {
     "output_type": "stream",
     "name": "stdout",
     "text": [
      "<class 'pandas.core.frame.DataFrame'>\nInt64Index: 9082 entries, 0 to 9218\nData columns (total 8 columns):\n #   Column       Non-Null Count  Dtype \n---  ------       --------------  ----- \n 0   movie_id     9082 non-null   int64 \n 1   title        9082 non-null   object\n 2   collection   9082 non-null   object\n 3   description  9082 non-null   object\n 4   genres       9082 non-null   object\n 5   keywords     9082 non-null   object\n 6   cast         9082 non-null   object\n 7   crew         9082 non-null   object\ndtypes: int64(1), object(7)\nmemory usage: 638.6+ KB\n"
     ]
    }
   ],
   "source": [
    "movies.info()"
   ]
  },
  {
   "source": [
    "#### Helper dicts"
   ],
   "cell_type": "markdown",
   "metadata": {}
  },
  {
   "cell_type": "code",
   "execution_count": 37,
   "metadata": {},
   "outputs": [
    {
     "output_type": "stream",
     "name": "stderr",
     "text": [
      "100%|██████████| 9082/9082 [00:02<00:00, 4488.54it/s]\n"
     ]
    }
   ],
   "source": [
    "title_by_df_id = {}\n",
    "# movie_id_by_df_id = {}\n",
    "df_id_by_movie_id = {}\n",
    "\n",
    "for i in tqdm(range(len(movies))):\n",
    "    title = movies.iloc[i]['title']\n",
    "    movie_id = movies.iloc[i]['movie_id']\n",
    "    title_by_df_id[i] = title\n",
    "    # movie_id_by_df_id[i] = movie_id\n",
    "    df_id_by_movie_id[movie_id] = i"
   ]
  },
  {
   "source": [
    "## 2. Recomendation framework"
   ],
   "cell_type": "markdown",
   "metadata": {}
  },
  {
   "cell_type": "code",
   "execution_count": 38,
   "metadata": {},
   "outputs": [],
   "source": [
    "class BinaryRecommender():\n",
    "\n",
    "    def __init__(\n",
    "        self,\n",
    "        movies_data: pd.DataFrame = movies\n",
    "    ):\n",
    "        self.movies = movies_data\n",
    "        self.cosine_sim_matrix = None\n",
    "        # cosine_sim_matrix to implement in sub classes\n",
    "\n",
    "    def recommend(\n",
    "        self,\n",
    "        movie_id: float,\n",
    "        n: int = 10\n",
    "    ) -> List[float]:\n",
    "\n",
    "        df_id = df_id_by_movie_id[movie_id]\n",
    "        sim_row = self.cosine_sim_matrix[df_id]\n",
    "        top_df_ids = np.argsort(sim_row)[::-1][1:n+1]\n",
    "        # top_titles = list(map(lambda x: title_by_df_id[x], top_df_ids))\n",
    "\n",
    "        return top_df_ids\n",
    "\n",
    "    def validate(\n",
    "        self\n",
    "    ):\n",
    "        print('Recommendations for Toy Story:')\n",
    "        recommendations = self.recommend(1)\n",
    "        display(self.movies.iloc[recommendations])"
   ]
  },
  {
   "source": [
    "## 3. Recommendation systems"
   ],
   "cell_type": "markdown",
   "metadata": {}
  },
  {
   "source": [
    "### 3.1. Description-based reccomendation"
   ],
   "cell_type": "markdown",
   "metadata": {}
  },
  {
   "cell_type": "code",
   "execution_count": 39,
   "metadata": {},
   "outputs": [],
   "source": [
    "class DescriptionBasedRecommender(BinaryRecommender):\n",
    "    # Description based movie recommender\n",
    "\n",
    "    def __init__(\n",
    "        self,\n",
    "        vectorizer,\n",
    "        movies_data: pd.DataFrame = movies\n",
    "    ):\n",
    "        super().__init__(movies_data)\n",
    "        \n",
    "        vec = vectorizer()\n",
    "        features_matrix = vec.fit_transform(self.movies['description'])\n",
    "        self.cosine_sim_matrix = cosine_similarity(features_matrix)"
   ]
  },
  {
   "cell_type": "code",
   "execution_count": 40,
   "metadata": {},
   "outputs": [
    {
     "output_type": "stream",
     "name": "stdout",
     "text": [
      "Recommendations for Toy Story:\n"
     ]
    },
    {
     "output_type": "display_data",
     "data": {
      "text/plain": "      movie_id                   title            collection  \\\n2522      3114             Toy Story 2  Toy Story Collection   \n7621     78499             Toy Story 3  Toy Story Collection   \n5407      8199                  Ugetsu                         \n4306      5690  Grave of the Fireflies                         \n7170     64620             Frost/Nixon                         \n5788     26122                 Onibaba                         \n1960      2434       Down in the Delta                         \n6080     31410                Downfall                         \n6034     30749            Hotel Rwanda                         \n7221     66246          Uuno Turhapuro        Uuno Turhapuro   \n\n                                            description  \\\n2522  Andy heads off to Cowboy Camp, leaving his toy...   \n7621  Woody, Buzz, and the rest of Andy's toys haven...   \n5407  In the civil wars of 16th century Japan, two a...   \n4306  In the latter part of World War II, a boy and ...   \n7170  For three years after being forced from office...   \n5788  In medieval times, on a remote plain, a widow ...   \n1960  Rosa Lynn sends her druggie daughter Loretta a...   \n6080  In April of 1945, Germany stands at the brink ...   \n6034  Inspired by true events, this film takes place...   \n7221  Uuno goes with his wife to spend summer holida...   \n\n                           genres  \\\n2522  [animation, comedy, family]   \n7621  [animation, family, comedy]   \n5407    [fantasy, drama, mystery]   \n4306      [animation, drama, war]   \n7170             [drama, history]   \n5788                     [horror]   \n1960                      [drama]   \n6080        [drama, history, war]   \n6034        [drama, history, war]   \n7221                     [comedy]   \n\n                                               keywords  \\\n2522  [museum, prosecution, identity_crisis, airplan...   \n7621  [hostage, college, toy, barbie, animation, esc...   \n5407  [japan, based_on_novel, samurai, greed, bigamy...   \n4306  [japan, brother_sister_relationship, hunger, w...   \n7170  [camera, lie, scandal, watergate_scandal, rich...   \n5788  [women, jealousy, samurai, deserter, hold-up_r...   \n1960                                   [woman_director]   \n6080  [berlin, poison, dictator, clerk, ideology, wo...   \n6034  [rwanda, refugee, refugee_camp, militia, murde...   \n7221                                                 []   \n\n                                                   cast  \\\n2522  [tom_hanks, tim_allen, joan_cusack, kelsey_gra...   \n7621  [tom_hanks, tim_allen, ned_beatty, joan_cusack...   \n5407  [masayuki_mori, machiko_kyô, kinuyo_tanaka, ei...   \n4306  [tsutomu_tatsumi, ayano_shiraishi, yoshiko_shi...   \n7170  [michael_sheen, frank_langella, kevin_bacon, s...   \n5788  [nobuko_otowa, jitsuko_yoshimura, kei_satô, ju...   \n1960  [alfre_woodard, al_freeman,_jr., esther_rolle,...   \n6080  [bruno_ganz, alexandra_maria_lara, corinna_har...   \n6034  [don_cheadle, sophie_okonedo, nick_nolte, fana...   \n7221  [vesa-matti_loiri, marjatta_raita, spede_pasan...   \n\n                                                   crew  \n2522  [andrew_stanton, andrew_stanton, lee_unkrich, ...  \n7621  [andrew_stanton, lee_unkrich, lee_unkrich, joh...  \n5407  [masaichi_nagata, fumio_hayasaka, kazuo_miyaga...  \n4306  [isao_takahata, isao_takahata, takeshi_seyama,...  \n7170  [hans_zimmer, brian_grazer, tim_bevan, eric_fe...  \n5788  [kaneto_shindô, kaneto_shindô, kaneto_shindô, ...  \n1960                        [maya_angelou, myron_goble]  \n6080  [oskar_roehler, bernd_eichinger, bernd_eiching...  \n6034  [nicholas_meyer, terry_george, terry_george, t...  \n7221                      [ere_kokkonen, spede_pasanen]  ",
      "text/html": "<div>\n<style scoped>\n    .dataframe tbody tr th:only-of-type {\n        vertical-align: middle;\n    }\n\n    .dataframe tbody tr th {\n        vertical-align: top;\n    }\n\n    .dataframe thead th {\n        text-align: right;\n    }\n</style>\n<table border=\"1\" class=\"dataframe\">\n  <thead>\n    <tr style=\"text-align: right;\">\n      <th></th>\n      <th>movie_id</th>\n      <th>title</th>\n      <th>collection</th>\n      <th>description</th>\n      <th>genres</th>\n      <th>keywords</th>\n      <th>cast</th>\n      <th>crew</th>\n    </tr>\n  </thead>\n  <tbody>\n    <tr>\n      <th>2522</th>\n      <td>3114</td>\n      <td>Toy Story 2</td>\n      <td>Toy Story Collection</td>\n      <td>Andy heads off to Cowboy Camp, leaving his toy...</td>\n      <td>[animation, comedy, family]</td>\n      <td>[museum, prosecution, identity_crisis, airplan...</td>\n      <td>[tom_hanks, tim_allen, joan_cusack, kelsey_gra...</td>\n      <td>[andrew_stanton, andrew_stanton, lee_unkrich, ...</td>\n    </tr>\n    <tr>\n      <th>7621</th>\n      <td>78499</td>\n      <td>Toy Story 3</td>\n      <td>Toy Story Collection</td>\n      <td>Woody, Buzz, and the rest of Andy's toys haven...</td>\n      <td>[animation, family, comedy]</td>\n      <td>[hostage, college, toy, barbie, animation, esc...</td>\n      <td>[tom_hanks, tim_allen, ned_beatty, joan_cusack...</td>\n      <td>[andrew_stanton, lee_unkrich, lee_unkrich, joh...</td>\n    </tr>\n    <tr>\n      <th>5407</th>\n      <td>8199</td>\n      <td>Ugetsu</td>\n      <td></td>\n      <td>In the civil wars of 16th century Japan, two a...</td>\n      <td>[fantasy, drama, mystery]</td>\n      <td>[japan, based_on_novel, samurai, greed, bigamy...</td>\n      <td>[masayuki_mori, machiko_kyô, kinuyo_tanaka, ei...</td>\n      <td>[masaichi_nagata, fumio_hayasaka, kazuo_miyaga...</td>\n    </tr>\n    <tr>\n      <th>4306</th>\n      <td>5690</td>\n      <td>Grave of the Fireflies</td>\n      <td></td>\n      <td>In the latter part of World War II, a boy and ...</td>\n      <td>[animation, drama, war]</td>\n      <td>[japan, brother_sister_relationship, hunger, w...</td>\n      <td>[tsutomu_tatsumi, ayano_shiraishi, yoshiko_shi...</td>\n      <td>[isao_takahata, isao_takahata, takeshi_seyama,...</td>\n    </tr>\n    <tr>\n      <th>7170</th>\n      <td>64620</td>\n      <td>Frost/Nixon</td>\n      <td></td>\n      <td>For three years after being forced from office...</td>\n      <td>[drama, history]</td>\n      <td>[camera, lie, scandal, watergate_scandal, rich...</td>\n      <td>[michael_sheen, frank_langella, kevin_bacon, s...</td>\n      <td>[hans_zimmer, brian_grazer, tim_bevan, eric_fe...</td>\n    </tr>\n    <tr>\n      <th>5788</th>\n      <td>26122</td>\n      <td>Onibaba</td>\n      <td></td>\n      <td>In medieval times, on a remote plain, a widow ...</td>\n      <td>[horror]</td>\n      <td>[women, jealousy, samurai, deserter, hold-up_r...</td>\n      <td>[nobuko_otowa, jitsuko_yoshimura, kei_satô, ju...</td>\n      <td>[kaneto_shindô, kaneto_shindô, kaneto_shindô, ...</td>\n    </tr>\n    <tr>\n      <th>1960</th>\n      <td>2434</td>\n      <td>Down in the Delta</td>\n      <td></td>\n      <td>Rosa Lynn sends her druggie daughter Loretta a...</td>\n      <td>[drama]</td>\n      <td>[woman_director]</td>\n      <td>[alfre_woodard, al_freeman,_jr., esther_rolle,...</td>\n      <td>[maya_angelou, myron_goble]</td>\n    </tr>\n    <tr>\n      <th>6080</th>\n      <td>31410</td>\n      <td>Downfall</td>\n      <td></td>\n      <td>In April of 1945, Germany stands at the brink ...</td>\n      <td>[drama, history, war]</td>\n      <td>[berlin, poison, dictator, clerk, ideology, wo...</td>\n      <td>[bruno_ganz, alexandra_maria_lara, corinna_har...</td>\n      <td>[oskar_roehler, bernd_eichinger, bernd_eiching...</td>\n    </tr>\n    <tr>\n      <th>6034</th>\n      <td>30749</td>\n      <td>Hotel Rwanda</td>\n      <td></td>\n      <td>Inspired by true events, this film takes place...</td>\n      <td>[drama, history, war]</td>\n      <td>[rwanda, refugee, refugee_camp, militia, murde...</td>\n      <td>[don_cheadle, sophie_okonedo, nick_nolte, fana...</td>\n      <td>[nicholas_meyer, terry_george, terry_george, t...</td>\n    </tr>\n    <tr>\n      <th>7221</th>\n      <td>66246</td>\n      <td>Uuno Turhapuro</td>\n      <td>Uuno Turhapuro</td>\n      <td>Uuno goes with his wife to spend summer holida...</td>\n      <td>[comedy]</td>\n      <td>[]</td>\n      <td>[vesa-matti_loiri, marjatta_raita, spede_pasan...</td>\n      <td>[ere_kokkonen, spede_pasanen]</td>\n    </tr>\n  </tbody>\n</table>\n</div>"
     },
     "metadata": {}
    }
   ],
   "source": [
    "cbr = DescriptionBasedRecommender(CountVectorizer)\n",
    "cbr.validate()"
   ]
  },
  {
   "cell_type": "code",
   "execution_count": 41,
   "metadata": {},
   "outputs": [
    {
     "output_type": "stream",
     "name": "stdout",
     "text": [
      "Recommendations for Toy Story:\n"
     ]
    },
    {
     "output_type": "display_data",
     "data": {
      "text/plain": "      movie_id                   title            collection  \\\n7621     78499             Toy Story 3  Toy Story Collection   \n2522      3114             Toy Story 2  Toy Story Collection   \n6259     35836  The 40 Year Old Virgin                         \n2567      3174         Man on the Moon                         \n910       1103   Rebel Without a Cause                         \n4749      6584  What's Up, Tiger Lily?                         \n6700     51174            Factory Girl                         \n6627     49220  For Your Consideration                         \n1015      1244               Manhattan                         \n1619      2041               Condorman                         \n\n                                            description  \\\n7621  Woody, Buzz, and the rest of Andy's toys haven...   \n2522  Andy heads off to Cowboy Camp, leaving his toy...   \n6259  Andy Stitzer has a pleasant life with a nice a...   \n2567  A film about the life and career of the eccent...   \n910   After moving to a new town, troublemaking teen...   \n4749  In comic Woody Allen's film debut, he took the...   \n6700  In the mid-1960s, wealthy debutant Edie Sedgwi...   \n6627  Three actors learn that their respective perfo...   \n1015  The life of a divorced television writer datin...   \n1619  Comic artist and writer Woody performs a simpl...   \n\n                           genres  \\\n7621  [animation, family, comedy]   \n2522  [animation, comedy, family]   \n6259            [comedy, romance]   \n2567     [comedy, drama, romance]   \n910                       [drama]   \n4749             [action, comedy]   \n6700                      [drama]   \n6627              [comedy, drama]   \n1015     [comedy, drama, romance]   \n1619  [comedy, action, adventure]   \n\n                                               keywords  \\\n7621  [hostage, college, toy, barbie, animation, esc...   \n2522  [museum, prosecution, identity_crisis, airplan...   \n6259                               [first_time, virgin]   \n2567               [show_business, comedian, wrestling]   \n910   [individual, rebel, street_gang, car_race, par...   \n4749                                            [spoof]   \n6700  [new_york, alcohol, sex, infidelity, nudity, a...   \n6627                                                 []   \n1015  [new_york, adultery, based_on_novel, lolita, l...   \n1619                                          [mission]   \n\n                                                   cast  \\\n7621  [tom_hanks, tim_allen, ned_beatty, joan_cusack...   \n2522  [tom_hanks, tim_allen, joan_cusack, kelsey_gra...   \n6259  [steve_carell, catherine_keener, paul_rudd, ro...   \n2567  [jim_carrey, courtney_love, bob_zmuda, danny_d...   \n910   [james_dean, natalie_wood, sal_mineo, ann_dora...   \n4749  [tatsuya_mihashi, akiko_wakabayashi, mie_hama,...   \n6700  [sienna_miller, guy_pearce, hayden_christensen...   \n6627  [catherine_o'hara, harry_shearer, parker_posey...   \n1015  [woody_allen, diane_keaton, michael_murphy, ma...   \n1619  [michael_crawford, oliver_reed, barbara_carrer...   \n\n                                                   crew  \n7621  [andrew_stanton, lee_unkrich, lee_unkrich, joh...  \n2522  [andrew_stanton, andrew_stanton, lee_unkrich, ...  \n6259  [steve_carell, zachary_woodlee, judd_apatow, j...  \n2567  [miloš_forman, scott_alexander, larry_karaszew...  \n910   [nicholas_ray, david_weisbart, nicholas_ray, i...  \n4749                  [woody_allen, senkichi_taniguchi]  \n6700  [ed_shearmur, john_dunn, george_hickenlooper, ...  \n6627  [christopher_guest, christopher_guest, eugene_...  \n1015  [woody_allen, woody_allen, marshall_brickman, ...  \n1619  [charles_jarrott, marc_stirdivant, henry_manci...  ",
      "text/html": "<div>\n<style scoped>\n    .dataframe tbody tr th:only-of-type {\n        vertical-align: middle;\n    }\n\n    .dataframe tbody tr th {\n        vertical-align: top;\n    }\n\n    .dataframe thead th {\n        text-align: right;\n    }\n</style>\n<table border=\"1\" class=\"dataframe\">\n  <thead>\n    <tr style=\"text-align: right;\">\n      <th></th>\n      <th>movie_id</th>\n      <th>title</th>\n      <th>collection</th>\n      <th>description</th>\n      <th>genres</th>\n      <th>keywords</th>\n      <th>cast</th>\n      <th>crew</th>\n    </tr>\n  </thead>\n  <tbody>\n    <tr>\n      <th>7621</th>\n      <td>78499</td>\n      <td>Toy Story 3</td>\n      <td>Toy Story Collection</td>\n      <td>Woody, Buzz, and the rest of Andy's toys haven...</td>\n      <td>[animation, family, comedy]</td>\n      <td>[hostage, college, toy, barbie, animation, esc...</td>\n      <td>[tom_hanks, tim_allen, ned_beatty, joan_cusack...</td>\n      <td>[andrew_stanton, lee_unkrich, lee_unkrich, joh...</td>\n    </tr>\n    <tr>\n      <th>2522</th>\n      <td>3114</td>\n      <td>Toy Story 2</td>\n      <td>Toy Story Collection</td>\n      <td>Andy heads off to Cowboy Camp, leaving his toy...</td>\n      <td>[animation, comedy, family]</td>\n      <td>[museum, prosecution, identity_crisis, airplan...</td>\n      <td>[tom_hanks, tim_allen, joan_cusack, kelsey_gra...</td>\n      <td>[andrew_stanton, andrew_stanton, lee_unkrich, ...</td>\n    </tr>\n    <tr>\n      <th>6259</th>\n      <td>35836</td>\n      <td>The 40 Year Old Virgin</td>\n      <td></td>\n      <td>Andy Stitzer has a pleasant life with a nice a...</td>\n      <td>[comedy, romance]</td>\n      <td>[first_time, virgin]</td>\n      <td>[steve_carell, catherine_keener, paul_rudd, ro...</td>\n      <td>[steve_carell, zachary_woodlee, judd_apatow, j...</td>\n    </tr>\n    <tr>\n      <th>2567</th>\n      <td>3174</td>\n      <td>Man on the Moon</td>\n      <td></td>\n      <td>A film about the life and career of the eccent...</td>\n      <td>[comedy, drama, romance]</td>\n      <td>[show_business, comedian, wrestling]</td>\n      <td>[jim_carrey, courtney_love, bob_zmuda, danny_d...</td>\n      <td>[miloš_forman, scott_alexander, larry_karaszew...</td>\n    </tr>\n    <tr>\n      <th>910</th>\n      <td>1103</td>\n      <td>Rebel Without a Cause</td>\n      <td></td>\n      <td>After moving to a new town, troublemaking teen...</td>\n      <td>[drama]</td>\n      <td>[individual, rebel, street_gang, car_race, par...</td>\n      <td>[james_dean, natalie_wood, sal_mineo, ann_dora...</td>\n      <td>[nicholas_ray, david_weisbart, nicholas_ray, i...</td>\n    </tr>\n    <tr>\n      <th>4749</th>\n      <td>6584</td>\n      <td>What's Up, Tiger Lily?</td>\n      <td></td>\n      <td>In comic Woody Allen's film debut, he took the...</td>\n      <td>[action, comedy]</td>\n      <td>[spoof]</td>\n      <td>[tatsuya_mihashi, akiko_wakabayashi, mie_hama,...</td>\n      <td>[woody_allen, senkichi_taniguchi]</td>\n    </tr>\n    <tr>\n      <th>6700</th>\n      <td>51174</td>\n      <td>Factory Girl</td>\n      <td></td>\n      <td>In the mid-1960s, wealthy debutant Edie Sedgwi...</td>\n      <td>[drama]</td>\n      <td>[new_york, alcohol, sex, infidelity, nudity, a...</td>\n      <td>[sienna_miller, guy_pearce, hayden_christensen...</td>\n      <td>[ed_shearmur, john_dunn, george_hickenlooper, ...</td>\n    </tr>\n    <tr>\n      <th>6627</th>\n      <td>49220</td>\n      <td>For Your Consideration</td>\n      <td></td>\n      <td>Three actors learn that their respective perfo...</td>\n      <td>[comedy, drama]</td>\n      <td>[]</td>\n      <td>[catherine_o'hara, harry_shearer, parker_posey...</td>\n      <td>[christopher_guest, christopher_guest, eugene_...</td>\n    </tr>\n    <tr>\n      <th>1015</th>\n      <td>1244</td>\n      <td>Manhattan</td>\n      <td></td>\n      <td>The life of a divorced television writer datin...</td>\n      <td>[comedy, drama, romance]</td>\n      <td>[new_york, adultery, based_on_novel, lolita, l...</td>\n      <td>[woody_allen, diane_keaton, michael_murphy, ma...</td>\n      <td>[woody_allen, woody_allen, marshall_brickman, ...</td>\n    </tr>\n    <tr>\n      <th>1619</th>\n      <td>2041</td>\n      <td>Condorman</td>\n      <td></td>\n      <td>Comic artist and writer Woody performs a simpl...</td>\n      <td>[comedy, action, adventure]</td>\n      <td>[mission]</td>\n      <td>[michael_crawford, oliver_reed, barbara_carrer...</td>\n      <td>[charles_jarrott, marc_stirdivant, henry_manci...</td>\n    </tr>\n  </tbody>\n</table>\n</div>"
     },
     "metadata": {}
    }
   ],
   "source": [
    "cbr = DescriptionBasedRecommender(TfidfVectorizer)\n",
    "cbr.validate()"
   ]
  },
  {
   "source": [
    "### 3.2. Genres and keywords based recommendation"
   ],
   "cell_type": "markdown",
   "metadata": {}
  },
  {
   "cell_type": "code",
   "execution_count": 42,
   "metadata": {},
   "outputs": [],
   "source": [
    "class GenresAndKeywordsBasedRecommender(BinaryRecommender):\n",
    "    # Recommender based on genres and keywords\n",
    "\n",
    "    def __init__(\n",
    "        self,\n",
    "        vectorizer,\n",
    "        movies_data: pd.DataFrame = movies\n",
    "    ):\n",
    "        super().__init__(movies_data)\n",
    "        \n",
    "        vec = vectorizer()\n",
    "        features_matrix = vec.fit_transform(\n",
    "            (self.movies['genres'] + self.movies['keywords']).apply(lambda x: ' '.join(x))\n",
    "        )\n",
    "        self.cosine_sim_matrix = cosine_similarity(features_matrix)"
   ]
  },
  {
   "cell_type": "code",
   "execution_count": 43,
   "metadata": {},
   "outputs": [
    {
     "output_type": "stream",
     "name": "stdout",
     "text": [
      "Recommendations for Toy Story:\n"
     ]
    },
    {
     "output_type": "display_data",
     "data": {
      "text/plain": "      movie_id                                             title  \\\n1432      1822                                  Meet the Deedles   \n2751      3429                                 Creature Comforts   \n7621     78499                                       Toy Story 3   \n4186      5480                                   Stuart Little 2   \n5279      7790  Bon Voyage, Charlie Brown (and Don't Come Back!)   \n1199      1460                                     That Darn Cat   \n220        248                                        Houseguest   \n5953     27369                                   Is It Fall Yet?   \n7328     69685                                Is It College Yet?   \n433        486                                   Life With Mikey   \n\n                    collection  \\\n1432                             \n2751                             \n7621      Toy Story Collection   \n4186  Stuart Little Collection   \n5279                             \n1199                             \n220                              \n5953                             \n7328                             \n433                              \n\n                                            description  \\\n1432  Two surfers end up as Yellowstone park rangers...   \n2751  Interviews with the public are used to put wor...   \n7621  Woody, Buzz, and the rest of Andy's toys haven...   \n4186  Stuart, an adorable white mouse, still lives h...   \n5279  Charlie Brown, Linus, Peppermint Patty and Mar...   \n1199  While making his nightly rounds in the neighbo...   \n220   In hot water with the mob over an unpaid debt,...   \n5953  Is It Fall Yet? continues the series' running ...   \n7328  All vile things must come to an end, and for D...   \n433   Michael Chapman was once a child TV star. But ...   \n\n                                      genres  \\\n1432             [animation, comedy, family]   \n2751             [animation, comedy, family]   \n7621             [animation, family, comedy]   \n4186  [family, adventure, animation, comedy]   \n5279             [animation, comedy, family]   \n1199                        [comedy, family]   \n220                         [comedy, family]   \n5953                     [animation, comedy]   \n7328                     [animation, comedy]   \n433                         [comedy, family]   \n\n                                               keywords  \\\n1432                                                 []   \n2751                                        [animation]   \n7621  [hostage, college, toy, barbie, animation, esc...   \n4186          [mouse, falcon, bird, friendship, family]   \n5279                                          [peanuts]   \n1199                                                 []   \n220                                                  []   \n5953                                                 []   \n7328                                                 []   \n433                                                  []   \n\n                                                   cast  \\\n1432  [paul_walker, john_ashton, dennis_hopper, eric...   \n2751                                                 []   \n7621  [tom_hanks, tim_allen, ned_beatty, joan_cusack...   \n4186  [michael_j._fox, geena_davis, hugh_laurie, jon...   \n5279  [arrin_skelley, laura_planting, casey_carlson,...   \n1199  [christina_ricci, doug_e._doug, dean_jones, pe...   \n220   [sinbad, phil_hartman, jeffrey_jones, kim_grei...   \n5953                   [tracy_grandstaff, wendy_hoopes]   \n7328                   [tracy_grandstaff, wendy_hoopes]   \n433   [michael_j._fox, christina_vidal, nathan_lane,...   \n\n                                                   crew  \n1432  [steve_boyum, jim_herzfeld, steve_bartek, davi...  \n2751                                        [nick_park]  \n7621  [andrew_stanton, lee_unkrich, lee_unkrich, joh...  \n4186  [alan_silvestri, douglas_wick, priscilla_nedd-...  \n5279     [phil_roman, bill_melendez, charles_m._schulz]  \n1199                                       [bob_spiers]  \n220                                    [randall_miller]  \n5953  [karen_disher, peggy_nicoll, guy_moore, glenn_...  \n7328                                     [karen_disher]  \n433    [james_lapine, william_ivey_long, marc_lawrence]  ",
      "text/html": "<div>\n<style scoped>\n    .dataframe tbody tr th:only-of-type {\n        vertical-align: middle;\n    }\n\n    .dataframe tbody tr th {\n        vertical-align: top;\n    }\n\n    .dataframe thead th {\n        text-align: right;\n    }\n</style>\n<table border=\"1\" class=\"dataframe\">\n  <thead>\n    <tr style=\"text-align: right;\">\n      <th></th>\n      <th>movie_id</th>\n      <th>title</th>\n      <th>collection</th>\n      <th>description</th>\n      <th>genres</th>\n      <th>keywords</th>\n      <th>cast</th>\n      <th>crew</th>\n    </tr>\n  </thead>\n  <tbody>\n    <tr>\n      <th>1432</th>\n      <td>1822</td>\n      <td>Meet the Deedles</td>\n      <td></td>\n      <td>Two surfers end up as Yellowstone park rangers...</td>\n      <td>[animation, comedy, family]</td>\n      <td>[]</td>\n      <td>[paul_walker, john_ashton, dennis_hopper, eric...</td>\n      <td>[steve_boyum, jim_herzfeld, steve_bartek, davi...</td>\n    </tr>\n    <tr>\n      <th>2751</th>\n      <td>3429</td>\n      <td>Creature Comforts</td>\n      <td></td>\n      <td>Interviews with the public are used to put wor...</td>\n      <td>[animation, comedy, family]</td>\n      <td>[animation]</td>\n      <td>[]</td>\n      <td>[nick_park]</td>\n    </tr>\n    <tr>\n      <th>7621</th>\n      <td>78499</td>\n      <td>Toy Story 3</td>\n      <td>Toy Story Collection</td>\n      <td>Woody, Buzz, and the rest of Andy's toys haven...</td>\n      <td>[animation, family, comedy]</td>\n      <td>[hostage, college, toy, barbie, animation, esc...</td>\n      <td>[tom_hanks, tim_allen, ned_beatty, joan_cusack...</td>\n      <td>[andrew_stanton, lee_unkrich, lee_unkrich, joh...</td>\n    </tr>\n    <tr>\n      <th>4186</th>\n      <td>5480</td>\n      <td>Stuart Little 2</td>\n      <td>Stuart Little Collection</td>\n      <td>Stuart, an adorable white mouse, still lives h...</td>\n      <td>[family, adventure, animation, comedy]</td>\n      <td>[mouse, falcon, bird, friendship, family]</td>\n      <td>[michael_j._fox, geena_davis, hugh_laurie, jon...</td>\n      <td>[alan_silvestri, douglas_wick, priscilla_nedd-...</td>\n    </tr>\n    <tr>\n      <th>5279</th>\n      <td>7790</td>\n      <td>Bon Voyage, Charlie Brown (and Don't Come Back!)</td>\n      <td></td>\n      <td>Charlie Brown, Linus, Peppermint Patty and Mar...</td>\n      <td>[animation, comedy, family]</td>\n      <td>[peanuts]</td>\n      <td>[arrin_skelley, laura_planting, casey_carlson,...</td>\n      <td>[phil_roman, bill_melendez, charles_m._schulz]</td>\n    </tr>\n    <tr>\n      <th>1199</th>\n      <td>1460</td>\n      <td>That Darn Cat</td>\n      <td></td>\n      <td>While making his nightly rounds in the neighbo...</td>\n      <td>[comedy, family]</td>\n      <td>[]</td>\n      <td>[christina_ricci, doug_e._doug, dean_jones, pe...</td>\n      <td>[bob_spiers]</td>\n    </tr>\n    <tr>\n      <th>220</th>\n      <td>248</td>\n      <td>Houseguest</td>\n      <td></td>\n      <td>In hot water with the mob over an unpaid debt,...</td>\n      <td>[comedy, family]</td>\n      <td>[]</td>\n      <td>[sinbad, phil_hartman, jeffrey_jones, kim_grei...</td>\n      <td>[randall_miller]</td>\n    </tr>\n    <tr>\n      <th>5953</th>\n      <td>27369</td>\n      <td>Is It Fall Yet?</td>\n      <td></td>\n      <td>Is It Fall Yet? continues the series' running ...</td>\n      <td>[animation, comedy]</td>\n      <td>[]</td>\n      <td>[tracy_grandstaff, wendy_hoopes]</td>\n      <td>[karen_disher, peggy_nicoll, guy_moore, glenn_...</td>\n    </tr>\n    <tr>\n      <th>7328</th>\n      <td>69685</td>\n      <td>Is It College Yet?</td>\n      <td></td>\n      <td>All vile things must come to an end, and for D...</td>\n      <td>[animation, comedy]</td>\n      <td>[]</td>\n      <td>[tracy_grandstaff, wendy_hoopes]</td>\n      <td>[karen_disher]</td>\n    </tr>\n    <tr>\n      <th>433</th>\n      <td>486</td>\n      <td>Life With Mikey</td>\n      <td></td>\n      <td>Michael Chapman was once a child TV star. But ...</td>\n      <td>[comedy, family]</td>\n      <td>[]</td>\n      <td>[michael_j._fox, christina_vidal, nathan_lane,...</td>\n      <td>[james_lapine, william_ivey_long, marc_lawrence]</td>\n    </tr>\n  </tbody>\n</table>\n</div>"
     },
     "metadata": {}
    }
   ],
   "source": [
    "cbr = GenresAndKeywordsBasedRecommender(CountVectorizer)\n",
    "cbr.validate()"
   ]
  },
  {
   "cell_type": "code",
   "execution_count": 44,
   "metadata": {},
   "outputs": [
    {
     "output_type": "stream",
     "name": "stdout",
     "text": [
      "Recommendations for Toy Story:\n"
     ]
    },
    {
     "output_type": "display_data",
     "data": {
      "text/plain": "      movie_id                  title            collection  \\\n7621     78499            Toy Story 3  Toy Story Collection   \n1432      1822       Meet the Deedles                         \n8143     95441                    Ted        Ted Collection   \n3742      4749     3 Ninjas Kick Back   3 Ninjas Collection   \n2751      3429      Creature Comforts                         \n4168      5448  Hey Arnold! The Movie                         \n848       1026    So Dear to My Heart                         \n6125     32153     Once Upon a Forest                         \n7139     63479              Sex Drive                         \n7991     90866                   Hugo                         \n\n                                            description  \\\n7621  Woody, Buzz, and the rest of Andy's toys haven...   \n1432  Two surfers end up as Yellowstone park rangers...   \n8143  John Bennett, a man whose childhood wish of br...   \n3742  During a championship baseball match, the thre...   \n2751  Interviews with the public are used to put wor...   \n4168  When a powerful developer named Mr. Scheck wan...   \n848   The tale of Jeremiah Kincaid and his quest to ...   \n6125  A young mouse, mole and hedgehog risk their li...   \n7139  A high school senior drives cross-country with...   \n7991  Hugo is an orphan boy living in the walls of a...   \n\n                                   genres  \\\n7621          [animation, family, comedy]   \n1432          [animation, comedy, family]   \n8143                    [comedy, fantasy]   \n3742  [adventure, action, comedy, family]   \n2751          [animation, comedy, family]   \n4168                  [animation, family]   \n848            [animation, drama, family]   \n6125       [animation, family, adventure]   \n7139         [comedy, adventure, romance]   \n7991           [adventure, drama, family]   \n\n                                               keywords  \\\n7621  [hostage, college, toy, barbie, animation, esc...   \n1432                                                 []   \n8143  [friendship, love, teddy_bear, toy_comes_to_li...   \n3742  [underdog, hero, friendship, treasure_hunt, fr...   \n2751                                        [animation]   \n4168                                                 []   \n848                                                  []   \n6125                               [friendship, animal]   \n7139  [sex, jealousy, virgin, nudity, community, fri...   \n7991  [library, clock, film_director, key, toy, boy,...   \n\n                                                   cast  \\\n7621  [tom_hanks, tim_allen, ned_beatty, joan_cusack...   \n1432  [paul_walker, john_ashton, dennis_hopper, eric...   \n8143  [mark_wahlberg, mila_kunis, seth_macfarlane, j...   \n3742  [victor_wong, max_elliott_slade, sean_fox, j._...   \n2751                                                 []   \n4168  [spencer_klein, francesca_smith, jamil_walker_...   \n848   [bobby_driscoll, luana_patten, beulah_bondi, b...   \n6125  [michael_crawford, ben_vereen, ellen_blain, be...   \n7139  [josh_zuckerman, amanda_crew, clark_duke, jame...   \n7991  [ben_kingsley, sacha_baron_cohen, asa_butterfi...   \n\n                                                   crew  \n7621  [andrew_stanton, lee_unkrich, lee_unkrich, joh...  \n1432  [steve_boyum, jim_herzfeld, steve_bartek, davi...  \n8143  [sheila_jaffe, jeff_freeman, debra_mcguire, mi...  \n3742               [charles_t._kanganis, mark_saltzman]  \n2751                                        [nick_park]  \n4168  [tuck_tucker, clint_bond_jr., craig_bartlett, ...  \n848   [ted_sears, harold_d._schuster, hamilton_luske...  \n6125  [charles_grosvenor, rae_lambert, al_holter, ri...  \n7139  [lisa_beach, sarah_katzman, george_folsey_jr.,...  \n7991  [johnny_depp, robert_richardson, howard_shore,...  ",
      "text/html": "<div>\n<style scoped>\n    .dataframe tbody tr th:only-of-type {\n        vertical-align: middle;\n    }\n\n    .dataframe tbody tr th {\n        vertical-align: top;\n    }\n\n    .dataframe thead th {\n        text-align: right;\n    }\n</style>\n<table border=\"1\" class=\"dataframe\">\n  <thead>\n    <tr style=\"text-align: right;\">\n      <th></th>\n      <th>movie_id</th>\n      <th>title</th>\n      <th>collection</th>\n      <th>description</th>\n      <th>genres</th>\n      <th>keywords</th>\n      <th>cast</th>\n      <th>crew</th>\n    </tr>\n  </thead>\n  <tbody>\n    <tr>\n      <th>7621</th>\n      <td>78499</td>\n      <td>Toy Story 3</td>\n      <td>Toy Story Collection</td>\n      <td>Woody, Buzz, and the rest of Andy's toys haven...</td>\n      <td>[animation, family, comedy]</td>\n      <td>[hostage, college, toy, barbie, animation, esc...</td>\n      <td>[tom_hanks, tim_allen, ned_beatty, joan_cusack...</td>\n      <td>[andrew_stanton, lee_unkrich, lee_unkrich, joh...</td>\n    </tr>\n    <tr>\n      <th>1432</th>\n      <td>1822</td>\n      <td>Meet the Deedles</td>\n      <td></td>\n      <td>Two surfers end up as Yellowstone park rangers...</td>\n      <td>[animation, comedy, family]</td>\n      <td>[]</td>\n      <td>[paul_walker, john_ashton, dennis_hopper, eric...</td>\n      <td>[steve_boyum, jim_herzfeld, steve_bartek, davi...</td>\n    </tr>\n    <tr>\n      <th>8143</th>\n      <td>95441</td>\n      <td>Ted</td>\n      <td>Ted Collection</td>\n      <td>John Bennett, a man whose childhood wish of br...</td>\n      <td>[comedy, fantasy]</td>\n      <td>[friendship, love, teddy_bear, toy_comes_to_li...</td>\n      <td>[mark_wahlberg, mila_kunis, seth_macfarlane, j...</td>\n      <td>[sheila_jaffe, jeff_freeman, debra_mcguire, mi...</td>\n    </tr>\n    <tr>\n      <th>3742</th>\n      <td>4749</td>\n      <td>3 Ninjas Kick Back</td>\n      <td>3 Ninjas Collection</td>\n      <td>During a championship baseball match, the thre...</td>\n      <td>[adventure, action, comedy, family]</td>\n      <td>[underdog, hero, friendship, treasure_hunt, fr...</td>\n      <td>[victor_wong, max_elliott_slade, sean_fox, j._...</td>\n      <td>[charles_t._kanganis, mark_saltzman]</td>\n    </tr>\n    <tr>\n      <th>2751</th>\n      <td>3429</td>\n      <td>Creature Comforts</td>\n      <td></td>\n      <td>Interviews with the public are used to put wor...</td>\n      <td>[animation, comedy, family]</td>\n      <td>[animation]</td>\n      <td>[]</td>\n      <td>[nick_park]</td>\n    </tr>\n    <tr>\n      <th>4168</th>\n      <td>5448</td>\n      <td>Hey Arnold! The Movie</td>\n      <td></td>\n      <td>When a powerful developer named Mr. Scheck wan...</td>\n      <td>[animation, family]</td>\n      <td>[]</td>\n      <td>[spencer_klein, francesca_smith, jamil_walker_...</td>\n      <td>[tuck_tucker, clint_bond_jr., craig_bartlett, ...</td>\n    </tr>\n    <tr>\n      <th>848</th>\n      <td>1026</td>\n      <td>So Dear to My Heart</td>\n      <td></td>\n      <td>The tale of Jeremiah Kincaid and his quest to ...</td>\n      <td>[animation, drama, family]</td>\n      <td>[]</td>\n      <td>[bobby_driscoll, luana_patten, beulah_bondi, b...</td>\n      <td>[ted_sears, harold_d._schuster, hamilton_luske...</td>\n    </tr>\n    <tr>\n      <th>6125</th>\n      <td>32153</td>\n      <td>Once Upon a Forest</td>\n      <td></td>\n      <td>A young mouse, mole and hedgehog risk their li...</td>\n      <td>[animation, family, adventure]</td>\n      <td>[friendship, animal]</td>\n      <td>[michael_crawford, ben_vereen, ellen_blain, be...</td>\n      <td>[charles_grosvenor, rae_lambert, al_holter, ri...</td>\n    </tr>\n    <tr>\n      <th>7139</th>\n      <td>63479</td>\n      <td>Sex Drive</td>\n      <td></td>\n      <td>A high school senior drives cross-country with...</td>\n      <td>[comedy, adventure, romance]</td>\n      <td>[sex, jealousy, virgin, nudity, community, fri...</td>\n      <td>[josh_zuckerman, amanda_crew, clark_duke, jame...</td>\n      <td>[lisa_beach, sarah_katzman, george_folsey_jr.,...</td>\n    </tr>\n    <tr>\n      <th>7991</th>\n      <td>90866</td>\n      <td>Hugo</td>\n      <td></td>\n      <td>Hugo is an orphan boy living in the walls of a...</td>\n      <td>[adventure, drama, family]</td>\n      <td>[library, clock, film_director, key, toy, boy,...</td>\n      <td>[ben_kingsley, sacha_baron_cohen, asa_butterfi...</td>\n      <td>[johnny_depp, robert_richardson, howard_shore,...</td>\n    </tr>\n  </tbody>\n</table>\n</div>"
     },
     "metadata": {}
    }
   ],
   "source": [
    "cbr = GenresAndKeywordsBasedRecommender(TfidfVectorizer)\n",
    "cbr.validate()"
   ]
  },
  {
   "source": [
    "### 3.3. Cast and crew based recommendation"
   ],
   "cell_type": "markdown",
   "metadata": {}
  },
  {
   "cell_type": "code",
   "execution_count": 45,
   "metadata": {},
   "outputs": [],
   "source": [
    "class CastAndCrewBasedRecommender(BinaryRecommender):\n",
    "    # Recommender based on cast and crew\n",
    "\n",
    "    def __init__(\n",
    "        self,\n",
    "        vectorizer,\n",
    "        movies_data: pd.DataFrame = movies\n",
    "    ):\n",
    "        super().__init__(movies_data)\n",
    "        \n",
    "        vec = vectorizer()\n",
    "        features_matrix = vec.fit_transform(\n",
    "            (self.movies['cast'] + self.movies['crew']).apply(lambda x: ' '.join(x))\n",
    "        )\n",
    "        self.cosine_sim_matrix = cosine_similarity(features_matrix)"
   ]
  },
  {
   "cell_type": "code",
   "execution_count": 46,
   "metadata": {},
   "outputs": [
    {
     "output_type": "stream",
     "name": "stdout",
     "text": [
      "Recommendations for Toy Story:\n"
     ]
    },
    {
     "output_type": "display_data",
     "data": {
      "text/plain": "      movie_id                 title                 collection  \\\n2522      3114           Toy Story 2       Toy Story Collection   \n7621     78499           Toy Story 3       Toy Story Collection   \n8503    106022  Toy Story of Terror!                              \n4650      6377          Finding Nemo    Finding Nemo Collection   \n1883      2355          A Bug's Life                              \n6378     42191              Luxo Jr.                              \n7037     60069                WALL·E                              \n3825      4886        Monsters, Inc.  Monsters, Inc. Collection   \n9182    157296          Finding Dory    Finding Nemo Collection   \n8139     95311                Presto                              \n\n                                            description  \\\n2522  Andy heads off to Cowboy Camp, leaving his toy...   \n7621  Woody, Buzz, and the rest of Andy's toys haven...   \n8503  What starts out as a fun road trip for the Toy...   \n4650  Nemo, an adventurous young clownfish, is unexp...   \n1883  On behalf of \"oppressed bugs everywhere,\" an i...   \n6378  A baby lamp finds a ball to play with and it's...   \n7037  WALL·E is the last robot left on an Earth that...   \n3825  James Sullivan and Mike Wazowski are monsters,...   \n9182  Dory is reunited with her friends Nemo and Mar...   \n8139  Dignity. Poise. Mystery. We expect nothing les...   \n\n                                      genres  \\\n2522             [animation, comedy, family]   \n7621             [animation, family, comedy]   \n8503             [animation, comedy, family]   \n4650                     [animation, family]   \n1883  [adventure, animation, comedy, family]   \n6378                             [animation]   \n7037                     [animation, family]   \n3825             [animation, comedy, family]   \n9182  [adventure, animation, comedy, family]   \n8139                     [animation, family]   \n\n                                               keywords  \\\n2522  [museum, prosecution, identity_crisis, airplan...   \n7621  [hostage, college, toy, barbie, animation, esc...   \n8503                           [halloween, toys, short]   \n4650  [father_son_relationship, harbor, underwater, ...   \n1883  [winter, fight, ant, invention, collector, ant...   \n6378  [luxo_lamps, beach_ball, father_and_child, short]   \n7037                                  [romantic_comedy]   \n3825  [monster, infant, energy_supply, company, riva...   \n9182  [fish, amnesia, sequel, animation, talking_ani...   \n8139  [stage, banjo, magic, bunny, rabbi, rope, resc...   \n\n                                                   cast  \\\n2522  [tom_hanks, tim_allen, joan_cusack, kelsey_gra...   \n7621  [tom_hanks, tim_allen, ned_beatty, joan_cusack...   \n8503  [tom_hanks, tim_allen, kristen_schaal, carl_we...   \n4650  [albert_brooks, ellen_degeneres, alexander_gou...   \n1883  [kevin_spacey, julia_louis-dreyfus, hayden_pan...   \n6378                                                 []   \n7037  [ben_burtt, elissa_knight, jeff_garlin, fred_w...   \n3825  [john_goodman, billy_crystal, mary_gibbs, stev...   \n9182  [ellen_degeneres, albert_brooks, hayden_rolenc...   \n8139                                   [doug_sweetland]   \n\n                                                   crew  \n2522  [andrew_stanton, andrew_stanton, lee_unkrich, ...  \n7621  [andrew_stanton, lee_unkrich, lee_unkrich, joh...  \n8503  [angus_maclane, john_lasseter, andrew_stanton,...  \n4650  [andrew_stanton, andrew_stanton, andrew_stanto...  \n1883  [andrew_stanton, andrew_stanton, andrew_stanto...  \n6378      [john_lasseter, john_lasseter, john_lasseter]  \n7037  [andrew_stanton, andrew_stanton, andrew_stanto...  \n3825  [darla_k._anderson, john_lasseter, andrew_stan...  \n9182  [andrew_stanton, andrew_stanton, andrew_stanto...  \n8139  [andrew_stanton, lee_unkrich, john_lasseter, h...  ",
      "text/html": "<div>\n<style scoped>\n    .dataframe tbody tr th:only-of-type {\n        vertical-align: middle;\n    }\n\n    .dataframe tbody tr th {\n        vertical-align: top;\n    }\n\n    .dataframe thead th {\n        text-align: right;\n    }\n</style>\n<table border=\"1\" class=\"dataframe\">\n  <thead>\n    <tr style=\"text-align: right;\">\n      <th></th>\n      <th>movie_id</th>\n      <th>title</th>\n      <th>collection</th>\n      <th>description</th>\n      <th>genres</th>\n      <th>keywords</th>\n      <th>cast</th>\n      <th>crew</th>\n    </tr>\n  </thead>\n  <tbody>\n    <tr>\n      <th>2522</th>\n      <td>3114</td>\n      <td>Toy Story 2</td>\n      <td>Toy Story Collection</td>\n      <td>Andy heads off to Cowboy Camp, leaving his toy...</td>\n      <td>[animation, comedy, family]</td>\n      <td>[museum, prosecution, identity_crisis, airplan...</td>\n      <td>[tom_hanks, tim_allen, joan_cusack, kelsey_gra...</td>\n      <td>[andrew_stanton, andrew_stanton, lee_unkrich, ...</td>\n    </tr>\n    <tr>\n      <th>7621</th>\n      <td>78499</td>\n      <td>Toy Story 3</td>\n      <td>Toy Story Collection</td>\n      <td>Woody, Buzz, and the rest of Andy's toys haven...</td>\n      <td>[animation, family, comedy]</td>\n      <td>[hostage, college, toy, barbie, animation, esc...</td>\n      <td>[tom_hanks, tim_allen, ned_beatty, joan_cusack...</td>\n      <td>[andrew_stanton, lee_unkrich, lee_unkrich, joh...</td>\n    </tr>\n    <tr>\n      <th>8503</th>\n      <td>106022</td>\n      <td>Toy Story of Terror!</td>\n      <td></td>\n      <td>What starts out as a fun road trip for the Toy...</td>\n      <td>[animation, comedy, family]</td>\n      <td>[halloween, toys, short]</td>\n      <td>[tom_hanks, tim_allen, kristen_schaal, carl_we...</td>\n      <td>[angus_maclane, john_lasseter, andrew_stanton,...</td>\n    </tr>\n    <tr>\n      <th>4650</th>\n      <td>6377</td>\n      <td>Finding Nemo</td>\n      <td>Finding Nemo Collection</td>\n      <td>Nemo, an adventurous young clownfish, is unexp...</td>\n      <td>[animation, family]</td>\n      <td>[father_son_relationship, harbor, underwater, ...</td>\n      <td>[albert_brooks, ellen_degeneres, alexander_gou...</td>\n      <td>[andrew_stanton, andrew_stanton, andrew_stanto...</td>\n    </tr>\n    <tr>\n      <th>1883</th>\n      <td>2355</td>\n      <td>A Bug's Life</td>\n      <td></td>\n      <td>On behalf of \"oppressed bugs everywhere,\" an i...</td>\n      <td>[adventure, animation, comedy, family]</td>\n      <td>[winter, fight, ant, invention, collector, ant...</td>\n      <td>[kevin_spacey, julia_louis-dreyfus, hayden_pan...</td>\n      <td>[andrew_stanton, andrew_stanton, andrew_stanto...</td>\n    </tr>\n    <tr>\n      <th>6378</th>\n      <td>42191</td>\n      <td>Luxo Jr.</td>\n      <td></td>\n      <td>A baby lamp finds a ball to play with and it's...</td>\n      <td>[animation]</td>\n      <td>[luxo_lamps, beach_ball, father_and_child, short]</td>\n      <td>[]</td>\n      <td>[john_lasseter, john_lasseter, john_lasseter]</td>\n    </tr>\n    <tr>\n      <th>7037</th>\n      <td>60069</td>\n      <td>WALL·E</td>\n      <td></td>\n      <td>WALL·E is the last robot left on an Earth that...</td>\n      <td>[animation, family]</td>\n      <td>[romantic_comedy]</td>\n      <td>[ben_burtt, elissa_knight, jeff_garlin, fred_w...</td>\n      <td>[andrew_stanton, andrew_stanton, andrew_stanto...</td>\n    </tr>\n    <tr>\n      <th>3825</th>\n      <td>4886</td>\n      <td>Monsters, Inc.</td>\n      <td>Monsters, Inc. Collection</td>\n      <td>James Sullivan and Mike Wazowski are monsters,...</td>\n      <td>[animation, comedy, family]</td>\n      <td>[monster, infant, energy_supply, company, riva...</td>\n      <td>[john_goodman, billy_crystal, mary_gibbs, stev...</td>\n      <td>[darla_k._anderson, john_lasseter, andrew_stan...</td>\n    </tr>\n    <tr>\n      <th>9182</th>\n      <td>157296</td>\n      <td>Finding Dory</td>\n      <td>Finding Nemo Collection</td>\n      <td>Dory is reunited with her friends Nemo and Mar...</td>\n      <td>[adventure, animation, comedy, family]</td>\n      <td>[fish, amnesia, sequel, animation, talking_ani...</td>\n      <td>[ellen_degeneres, albert_brooks, hayden_rolenc...</td>\n      <td>[andrew_stanton, andrew_stanton, andrew_stanto...</td>\n    </tr>\n    <tr>\n      <th>8139</th>\n      <td>95311</td>\n      <td>Presto</td>\n      <td></td>\n      <td>Dignity. Poise. Mystery. We expect nothing les...</td>\n      <td>[animation, family]</td>\n      <td>[stage, banjo, magic, bunny, rabbi, rope, resc...</td>\n      <td>[doug_sweetland]</td>\n      <td>[andrew_stanton, lee_unkrich, john_lasseter, h...</td>\n    </tr>\n  </tbody>\n</table>\n</div>"
     },
     "metadata": {}
    }
   ],
   "source": [
    "cbr = CastAndCrewBasedRecommender(CountVectorizer)\n",
    "cbr.validate()"
   ]
  },
  {
   "cell_type": "code",
   "execution_count": 47,
   "metadata": {},
   "outputs": [
    {
     "output_type": "stream",
     "name": "stdout",
     "text": [
      "Recommendations for Toy Story:\n"
     ]
    },
    {
     "output_type": "display_data",
     "data": {
      "text/plain": "      movie_id                           title                 collection  \\\n2522      3114                     Toy Story 2       Toy Story Collection   \n7621     78499                     Toy Story 3       Toy Story Collection   \n8503    106022            Toy Story of Terror!                              \n4650      6377                    Finding Nemo    Finding Nemo Collection   \n1883      2355                    A Bug's Life                              \n6378     42191                        Luxo Jr.                              \n7037     60069                          WALL·E                              \n3825      4886                  Monsters, Inc.  Monsters, Inc. Collection   \n9182    157296                    Finding Dory    Finding Nemo Collection   \n7239     66934  Dr. Horrible's Sing-Along Blog                              \n\n                                            description  \\\n2522  Andy heads off to Cowboy Camp, leaving his toy...   \n7621  Woody, Buzz, and the rest of Andy's toys haven...   \n8503  What starts out as a fun road trip for the Toy...   \n4650  Nemo, an adventurous young clownfish, is unexp...   \n1883  On behalf of \"oppressed bugs everywhere,\" an i...   \n6378  A baby lamp finds a ball to play with and it's...   \n7037  WALL·E is the last robot left on an Earth that...   \n3825  James Sullivan and Mike Wazowski are monsters,...   \n9182  Dory is reunited with her friends Nemo and Mar...   \n7239  Dr. Horrible, an aspiring supervillain with hi...   \n\n                                                 genres  \\\n2522                        [animation, comedy, family]   \n7621                        [animation, family, comedy]   \n8503                        [animation, comedy, family]   \n4650                                [animation, family]   \n1883             [adventure, animation, comedy, family]   \n6378                                        [animation]   \n7037                                [animation, family]   \n3825                        [animation, comedy, family]   \n9182             [adventure, animation, comedy, family]   \n7239  [adventure, action, comedy, science_fiction, m...   \n\n                                               keywords  \\\n2522  [museum, prosecution, identity_crisis, airplan...   \n7621  [hostage, college, toy, barbie, animation, esc...   \n8503                           [halloween, toys, short]   \n4650  [father_son_relationship, harbor, underwater, ...   \n1883  [winter, fight, ant, invention, collector, ant...   \n6378  [luxo_lamps, beach_ball, father_and_child, short]   \n7037                                  [romantic_comedy]   \n3825  [monster, infant, energy_supply, company, riva...   \n9182  [fish, amnesia, sequel, animation, talking_ani...   \n7239  [anti_hero, musical, parody, mad_scientist, su...   \n\n                                                   cast  \\\n2522  [tom_hanks, tim_allen, joan_cusack, kelsey_gra...   \n7621  [tom_hanks, tim_allen, ned_beatty, joan_cusack...   \n8503  [tom_hanks, tim_allen, kristen_schaal, carl_we...   \n4650  [albert_brooks, ellen_degeneres, alexander_gou...   \n1883  [kevin_spacey, julia_louis-dreyfus, hayden_pan...   \n6378                                                 []   \n7037  [ben_burtt, elissa_knight, jeff_garlin, fred_w...   \n3825  [john_goodman, billy_crystal, mary_gibbs, stev...   \n9182  [ellen_degeneres, albert_brooks, hayden_rolenc...   \n7239  [neil_patrick_harris, nathan_fillion, felicia_...   \n\n                                                   crew  \n2522  [andrew_stanton, andrew_stanton, lee_unkrich, ...  \n7621  [andrew_stanton, lee_unkrich, lee_unkrich, joh...  \n8503  [angus_maclane, john_lasseter, andrew_stanton,...  \n4650  [andrew_stanton, andrew_stanton, andrew_stanto...  \n1883  [andrew_stanton, andrew_stanton, andrew_stanto...  \n6378      [john_lasseter, john_lasseter, john_lasseter]  \n7037  [andrew_stanton, andrew_stanton, andrew_stanto...  \n3825  [darla_k._anderson, john_lasseter, andrew_stan...  \n9182  [andrew_stanton, andrew_stanton, andrew_stanto...  \n7239  [joss_whedon, joss_whedon, joss_whedon, jed_wh...  ",
      "text/html": "<div>\n<style scoped>\n    .dataframe tbody tr th:only-of-type {\n        vertical-align: middle;\n    }\n\n    .dataframe tbody tr th {\n        vertical-align: top;\n    }\n\n    .dataframe thead th {\n        text-align: right;\n    }\n</style>\n<table border=\"1\" class=\"dataframe\">\n  <thead>\n    <tr style=\"text-align: right;\">\n      <th></th>\n      <th>movie_id</th>\n      <th>title</th>\n      <th>collection</th>\n      <th>description</th>\n      <th>genres</th>\n      <th>keywords</th>\n      <th>cast</th>\n      <th>crew</th>\n    </tr>\n  </thead>\n  <tbody>\n    <tr>\n      <th>2522</th>\n      <td>3114</td>\n      <td>Toy Story 2</td>\n      <td>Toy Story Collection</td>\n      <td>Andy heads off to Cowboy Camp, leaving his toy...</td>\n      <td>[animation, comedy, family]</td>\n      <td>[museum, prosecution, identity_crisis, airplan...</td>\n      <td>[tom_hanks, tim_allen, joan_cusack, kelsey_gra...</td>\n      <td>[andrew_stanton, andrew_stanton, lee_unkrich, ...</td>\n    </tr>\n    <tr>\n      <th>7621</th>\n      <td>78499</td>\n      <td>Toy Story 3</td>\n      <td>Toy Story Collection</td>\n      <td>Woody, Buzz, and the rest of Andy's toys haven...</td>\n      <td>[animation, family, comedy]</td>\n      <td>[hostage, college, toy, barbie, animation, esc...</td>\n      <td>[tom_hanks, tim_allen, ned_beatty, joan_cusack...</td>\n      <td>[andrew_stanton, lee_unkrich, lee_unkrich, joh...</td>\n    </tr>\n    <tr>\n      <th>8503</th>\n      <td>106022</td>\n      <td>Toy Story of Terror!</td>\n      <td></td>\n      <td>What starts out as a fun road trip for the Toy...</td>\n      <td>[animation, comedy, family]</td>\n      <td>[halloween, toys, short]</td>\n      <td>[tom_hanks, tim_allen, kristen_schaal, carl_we...</td>\n      <td>[angus_maclane, john_lasseter, andrew_stanton,...</td>\n    </tr>\n    <tr>\n      <th>4650</th>\n      <td>6377</td>\n      <td>Finding Nemo</td>\n      <td>Finding Nemo Collection</td>\n      <td>Nemo, an adventurous young clownfish, is unexp...</td>\n      <td>[animation, family]</td>\n      <td>[father_son_relationship, harbor, underwater, ...</td>\n      <td>[albert_brooks, ellen_degeneres, alexander_gou...</td>\n      <td>[andrew_stanton, andrew_stanton, andrew_stanto...</td>\n    </tr>\n    <tr>\n      <th>1883</th>\n      <td>2355</td>\n      <td>A Bug's Life</td>\n      <td></td>\n      <td>On behalf of \"oppressed bugs everywhere,\" an i...</td>\n      <td>[adventure, animation, comedy, family]</td>\n      <td>[winter, fight, ant, invention, collector, ant...</td>\n      <td>[kevin_spacey, julia_louis-dreyfus, hayden_pan...</td>\n      <td>[andrew_stanton, andrew_stanton, andrew_stanto...</td>\n    </tr>\n    <tr>\n      <th>6378</th>\n      <td>42191</td>\n      <td>Luxo Jr.</td>\n      <td></td>\n      <td>A baby lamp finds a ball to play with and it's...</td>\n      <td>[animation]</td>\n      <td>[luxo_lamps, beach_ball, father_and_child, short]</td>\n      <td>[]</td>\n      <td>[john_lasseter, john_lasseter, john_lasseter]</td>\n    </tr>\n    <tr>\n      <th>7037</th>\n      <td>60069</td>\n      <td>WALL·E</td>\n      <td></td>\n      <td>WALL·E is the last robot left on an Earth that...</td>\n      <td>[animation, family]</td>\n      <td>[romantic_comedy]</td>\n      <td>[ben_burtt, elissa_knight, jeff_garlin, fred_w...</td>\n      <td>[andrew_stanton, andrew_stanton, andrew_stanto...</td>\n    </tr>\n    <tr>\n      <th>3825</th>\n      <td>4886</td>\n      <td>Monsters, Inc.</td>\n      <td>Monsters, Inc. Collection</td>\n      <td>James Sullivan and Mike Wazowski are monsters,...</td>\n      <td>[animation, comedy, family]</td>\n      <td>[monster, infant, energy_supply, company, riva...</td>\n      <td>[john_goodman, billy_crystal, mary_gibbs, stev...</td>\n      <td>[darla_k._anderson, john_lasseter, andrew_stan...</td>\n    </tr>\n    <tr>\n      <th>9182</th>\n      <td>157296</td>\n      <td>Finding Dory</td>\n      <td>Finding Nemo Collection</td>\n      <td>Dory is reunited with her friends Nemo and Mar...</td>\n      <td>[adventure, animation, comedy, family]</td>\n      <td>[fish, amnesia, sequel, animation, talking_ani...</td>\n      <td>[ellen_degeneres, albert_brooks, hayden_rolenc...</td>\n      <td>[andrew_stanton, andrew_stanton, andrew_stanto...</td>\n    </tr>\n    <tr>\n      <th>7239</th>\n      <td>66934</td>\n      <td>Dr. Horrible's Sing-Along Blog</td>\n      <td></td>\n      <td>Dr. Horrible, an aspiring supervillain with hi...</td>\n      <td>[adventure, action, comedy, science_fiction, m...</td>\n      <td>[anti_hero, musical, parody, mad_scientist, su...</td>\n      <td>[neil_patrick_harris, nathan_fillion, felicia_...</td>\n      <td>[joss_whedon, joss_whedon, joss_whedon, jed_wh...</td>\n    </tr>\n  </tbody>\n</table>\n</div>"
     },
     "metadata": {}
    }
   ],
   "source": [
    "cbr = CastAndCrewBasedRecommender(TfidfVectorizer)\n",
    "cbr.validate()"
   ]
  },
  {
   "source": [
    "### 3.4. All metadata based recommendation"
   ],
   "cell_type": "markdown",
   "metadata": {}
  },
  {
   "cell_type": "code",
   "execution_count": 48,
   "metadata": {},
   "outputs": [],
   "source": [
    "class AllMetadataBasedRecommender(BinaryRecommender):\n",
    "    # Recommender based on all previous used metadata\n",
    "\n",
    "    def __init__(\n",
    "        self,\n",
    "        vectorizer,\n",
    "        movies_data: pd.DataFrame = movies\n",
    "    ):\n",
    "        super().__init__(movies_data)\n",
    "        \n",
    "        vec = vectorizer()\n",
    "        \n",
    "        genres_keywords = (self.movies['genres'] + self.movies['keywords']).apply(lambda x: ' '.join(x))\n",
    "        cast_crew = (self.movies['cast'] + self.movies['crew']).apply(lambda x: ' '.join(x))\n",
    "        data = (self.movies['description'] + ' ' + genres_keywords + ' ' + cast_crew)\n",
    "\n",
    "        features_matrix = vec.fit_transform(data)\n",
    "        self.cosine_sim_matrix = cosine_similarity(features_matrix)"
   ]
  },
  {
   "cell_type": "code",
   "execution_count": 54,
   "metadata": {},
   "outputs": [
    {
     "output_type": "stream",
     "name": "stdout",
     "text": [
      "Recommendations for Toy Story:\n"
     ]
    },
    {
     "output_type": "display_data",
     "data": {
      "text/plain": "      movie_id                     title            collection  \\\n2522      3114               Toy Story 2  Toy Story Collection   \n7621     78499               Toy Story 3  Toy Story Collection   \n4306      5690    Grave of the Fireflies                         \n7188     65133   Blackadder Back & Forth                         \n1680      2103                 Tall Tale                         \n1960      2434         Down in the Delta                         \n7221     66246            Uuno Turhapuro        Uuno Turhapuro   \n2389      2956  Someone to Watch Over Me                         \n5407      8199                    Ugetsu                         \n2876      3578                 Gladiator                         \n\n                                            description  \\\n2522  Andy heads off to Cowboy Camp, leaving his toy...   \n7621  Woody, Buzz, and the rest of Andy's toys haven...   \n4306  In the latter part of World War II, a boy and ...   \n7188  It's Millennium Eve and Blackadder is hosting ...   \n1680  A young boy draws on the inspiration of legend...   \n1960  Rosa Lynn sends her druggie daughter Loretta a...   \n7221  Uuno goes with his wife to spend summer holida...   \n2389  In Queens, Mike Keegan is celebrating with his...   \n5407  In the civil wars of 16th century Japan, two a...   \n2876  In the year 180, the death of emperor Marcus A...   \n\n                                 genres  \\\n2522        [animation, comedy, family]   \n7621        [animation, family, comedy]   \n4306            [animation, drama, war]   \n7188                  [comedy, history]   \n1680                        [adventure]   \n1960                            [drama]   \n7221                           [comedy]   \n2389  [crime, drama, romance, thriller]   \n5407          [fantasy, drama, mystery]   \n2876         [action, drama, adventure]   \n\n                                               keywords  \\\n2522  [museum, prosecution, identity_crisis, airplan...   \n7621  [hostage, college, toy, barbie, animation, esc...   \n4306  [japan, brother_sister_relationship, hunger, w...   \n7188                                                 []   \n1680                                                 []   \n1960                                   [woman_director]   \n7221                                                 []   \n2389  [new_york, detective, marriage, murder, social...   \n5407  [japan, based_on_novel, samurai, greed, bigamy...   \n2876  [rome, gladiator, arena, senate, roman_empire,...   \n\n                                                   cast  \\\n2522  [tom_hanks, tim_allen, joan_cusack, kelsey_gra...   \n7621  [tom_hanks, tim_allen, ned_beatty, joan_cusack...   \n4306  [tsutomu_tatsumi, ayano_shiraishi, yoshiko_shi...   \n7188  [rowan_atkinson, tony_robinson, stephen_fry, h...   \n1680  [patrick_swayze, oliver_platt, roger_aaron_bro...   \n1960  [alfre_woodard, al_freeman,_jr., esther_rolle,...   \n7221  [vesa-matti_loiri, marjatta_raita, spede_pasan...   \n2389  [tom_berenger, mimi_rogers, lorraine_bracco, j...   \n5407  [masayuki_mori, machiko_kyô, kinuyo_tanaka, ei...   \n2876  [russell_crowe, joaquin_phoenix, connie_nielse...   \n\n                                                   crew  \n2522  [andrew_stanton, andrew_stanton, lee_unkrich, ...  \n7621  [andrew_stanton, lee_unkrich, lee_unkrich, joh...  \n4306  [isao_takahata, isao_takahata, takeshi_seyama,...  \n7188          [richard_curtis, paul_weiland, ben_elton]  \n1680  [jeremiah_s._chechik, steve_bloom, robert_roda...  \n1960                        [maya_angelou, myron_goble]  \n7221                      [ere_kokkonen, spede_pasanen]  \n2389    [colleen_atwood, ridley_scott, howard_franklin]  \n5407  [masaichi_nagata, fumio_hayasaka, kazuo_miyaga...  \n2876  [ridley_scott, david_franzoni, branko_lustig, ...  ",
      "text/html": "<div>\n<style scoped>\n    .dataframe tbody tr th:only-of-type {\n        vertical-align: middle;\n    }\n\n    .dataframe tbody tr th {\n        vertical-align: top;\n    }\n\n    .dataframe thead th {\n        text-align: right;\n    }\n</style>\n<table border=\"1\" class=\"dataframe\">\n  <thead>\n    <tr style=\"text-align: right;\">\n      <th></th>\n      <th>movie_id</th>\n      <th>title</th>\n      <th>collection</th>\n      <th>description</th>\n      <th>genres</th>\n      <th>keywords</th>\n      <th>cast</th>\n      <th>crew</th>\n    </tr>\n  </thead>\n  <tbody>\n    <tr>\n      <th>2522</th>\n      <td>3114</td>\n      <td>Toy Story 2</td>\n      <td>Toy Story Collection</td>\n      <td>Andy heads off to Cowboy Camp, leaving his toy...</td>\n      <td>[animation, comedy, family]</td>\n      <td>[museum, prosecution, identity_crisis, airplan...</td>\n      <td>[tom_hanks, tim_allen, joan_cusack, kelsey_gra...</td>\n      <td>[andrew_stanton, andrew_stanton, lee_unkrich, ...</td>\n    </tr>\n    <tr>\n      <th>7621</th>\n      <td>78499</td>\n      <td>Toy Story 3</td>\n      <td>Toy Story Collection</td>\n      <td>Woody, Buzz, and the rest of Andy's toys haven...</td>\n      <td>[animation, family, comedy]</td>\n      <td>[hostage, college, toy, barbie, animation, esc...</td>\n      <td>[tom_hanks, tim_allen, ned_beatty, joan_cusack...</td>\n      <td>[andrew_stanton, lee_unkrich, lee_unkrich, joh...</td>\n    </tr>\n    <tr>\n      <th>4306</th>\n      <td>5690</td>\n      <td>Grave of the Fireflies</td>\n      <td></td>\n      <td>In the latter part of World War II, a boy and ...</td>\n      <td>[animation, drama, war]</td>\n      <td>[japan, brother_sister_relationship, hunger, w...</td>\n      <td>[tsutomu_tatsumi, ayano_shiraishi, yoshiko_shi...</td>\n      <td>[isao_takahata, isao_takahata, takeshi_seyama,...</td>\n    </tr>\n    <tr>\n      <th>7188</th>\n      <td>65133</td>\n      <td>Blackadder Back &amp; Forth</td>\n      <td></td>\n      <td>It's Millennium Eve and Blackadder is hosting ...</td>\n      <td>[comedy, history]</td>\n      <td>[]</td>\n      <td>[rowan_atkinson, tony_robinson, stephen_fry, h...</td>\n      <td>[richard_curtis, paul_weiland, ben_elton]</td>\n    </tr>\n    <tr>\n      <th>1680</th>\n      <td>2103</td>\n      <td>Tall Tale</td>\n      <td></td>\n      <td>A young boy draws on the inspiration of legend...</td>\n      <td>[adventure]</td>\n      <td>[]</td>\n      <td>[patrick_swayze, oliver_platt, roger_aaron_bro...</td>\n      <td>[jeremiah_s._chechik, steve_bloom, robert_roda...</td>\n    </tr>\n    <tr>\n      <th>1960</th>\n      <td>2434</td>\n      <td>Down in the Delta</td>\n      <td></td>\n      <td>Rosa Lynn sends her druggie daughter Loretta a...</td>\n      <td>[drama]</td>\n      <td>[woman_director]</td>\n      <td>[alfre_woodard, al_freeman,_jr., esther_rolle,...</td>\n      <td>[maya_angelou, myron_goble]</td>\n    </tr>\n    <tr>\n      <th>7221</th>\n      <td>66246</td>\n      <td>Uuno Turhapuro</td>\n      <td>Uuno Turhapuro</td>\n      <td>Uuno goes with his wife to spend summer holida...</td>\n      <td>[comedy]</td>\n      <td>[]</td>\n      <td>[vesa-matti_loiri, marjatta_raita, spede_pasan...</td>\n      <td>[ere_kokkonen, spede_pasanen]</td>\n    </tr>\n    <tr>\n      <th>2389</th>\n      <td>2956</td>\n      <td>Someone to Watch Over Me</td>\n      <td></td>\n      <td>In Queens, Mike Keegan is celebrating with his...</td>\n      <td>[crime, drama, romance, thriller]</td>\n      <td>[new_york, detective, marriage, murder, social...</td>\n      <td>[tom_berenger, mimi_rogers, lorraine_bracco, j...</td>\n      <td>[colleen_atwood, ridley_scott, howard_franklin]</td>\n    </tr>\n    <tr>\n      <th>5407</th>\n      <td>8199</td>\n      <td>Ugetsu</td>\n      <td></td>\n      <td>In the civil wars of 16th century Japan, two a...</td>\n      <td>[fantasy, drama, mystery]</td>\n      <td>[japan, based_on_novel, samurai, greed, bigamy...</td>\n      <td>[masayuki_mori, machiko_kyô, kinuyo_tanaka, ei...</td>\n      <td>[masaichi_nagata, fumio_hayasaka, kazuo_miyaga...</td>\n    </tr>\n    <tr>\n      <th>2876</th>\n      <td>3578</td>\n      <td>Gladiator</td>\n      <td></td>\n      <td>In the year 180, the death of emperor Marcus A...</td>\n      <td>[action, drama, adventure]</td>\n      <td>[rome, gladiator, arena, senate, roman_empire,...</td>\n      <td>[russell_crowe, joaquin_phoenix, connie_nielse...</td>\n      <td>[ridley_scott, david_franzoni, branko_lustig, ...</td>\n    </tr>\n  </tbody>\n</table>\n</div>"
     },
     "metadata": {}
    }
   ],
   "source": [
    "cbr = AllMetadataBasedRecommender(CountVectorizer)\n",
    "cbr.validate()"
   ]
  },
  {
   "cell_type": "code",
   "execution_count": 55,
   "metadata": {},
   "outputs": [
    {
     "output_type": "stream",
     "name": "stdout",
     "text": [
      "Recommendations for Toy Story:\n"
     ]
    },
    {
     "output_type": "display_data",
     "data": {
      "text/plain": "      movie_id                   title                 collection  \\\n2522      3114             Toy Story 2       Toy Story Collection   \n7621     78499             Toy Story 3       Toy Story Collection   \n8503    106022    Toy Story of Terror!                              \n6259     35836  The 40 Year Old Virgin                              \n4749      6584  What's Up, Tiger Lily?                              \n3825      4886          Monsters, Inc.  Monsters, Inc. Collection   \n910       1103   Rebel Without a Cause                              \n6700     51174            Factory Girl                              \n1619      2041               Condorman                              \n1883      2355            A Bug's Life                              \n\n                                            description  \\\n2522  Andy heads off to Cowboy Camp, leaving his toy...   \n7621  Woody, Buzz, and the rest of Andy's toys haven...   \n8503  What starts out as a fun road trip for the Toy...   \n6259  Andy Stitzer has a pleasant life with a nice a...   \n4749  In comic Woody Allen's film debut, he took the...   \n3825  James Sullivan and Mike Wazowski are monsters,...   \n910   After moving to a new town, troublemaking teen...   \n6700  In the mid-1960s, wealthy debutant Edie Sedgwi...   \n1619  Comic artist and writer Woody performs a simpl...   \n1883  On behalf of \"oppressed bugs everywhere,\" an i...   \n\n                                      genres  \\\n2522             [animation, comedy, family]   \n7621             [animation, family, comedy]   \n8503             [animation, comedy, family]   \n6259                       [comedy, romance]   \n4749                        [action, comedy]   \n3825             [animation, comedy, family]   \n910                                  [drama]   \n6700                                 [drama]   \n1619             [comedy, action, adventure]   \n1883  [adventure, animation, comedy, family]   \n\n                                               keywords  \\\n2522  [museum, prosecution, identity_crisis, airplan...   \n7621  [hostage, college, toy, barbie, animation, esc...   \n8503                           [halloween, toys, short]   \n6259                               [first_time, virgin]   \n4749                                            [spoof]   \n3825  [monster, infant, energy_supply, company, riva...   \n910   [individual, rebel, street_gang, car_race, par...   \n6700  [new_york, alcohol, sex, infidelity, nudity, a...   \n1619                                          [mission]   \n1883  [winter, fight, ant, invention, collector, ant...   \n\n                                                   cast  \\\n2522  [tom_hanks, tim_allen, joan_cusack, kelsey_gra...   \n7621  [tom_hanks, tim_allen, ned_beatty, joan_cusack...   \n8503  [tom_hanks, tim_allen, kristen_schaal, carl_we...   \n6259  [steve_carell, catherine_keener, paul_rudd, ro...   \n4749  [tatsuya_mihashi, akiko_wakabayashi, mie_hama,...   \n3825  [john_goodman, billy_crystal, mary_gibbs, stev...   \n910   [james_dean, natalie_wood, sal_mineo, ann_dora...   \n6700  [sienna_miller, guy_pearce, hayden_christensen...   \n1619  [michael_crawford, oliver_reed, barbara_carrer...   \n1883  [kevin_spacey, julia_louis-dreyfus, hayden_pan...   \n\n                                                   crew  \n2522  [andrew_stanton, andrew_stanton, lee_unkrich, ...  \n7621  [andrew_stanton, lee_unkrich, lee_unkrich, joh...  \n8503  [angus_maclane, john_lasseter, andrew_stanton,...  \n6259  [steve_carell, zachary_woodlee, judd_apatow, j...  \n4749                  [woody_allen, senkichi_taniguchi]  \n3825  [darla_k._anderson, john_lasseter, andrew_stan...  \n910   [nicholas_ray, david_weisbart, nicholas_ray, i...  \n6700  [ed_shearmur, john_dunn, george_hickenlooper, ...  \n1619  [charles_jarrott, marc_stirdivant, henry_manci...  \n1883  [andrew_stanton, andrew_stanton, andrew_stanto...  ",
      "text/html": "<div>\n<style scoped>\n    .dataframe tbody tr th:only-of-type {\n        vertical-align: middle;\n    }\n\n    .dataframe tbody tr th {\n        vertical-align: top;\n    }\n\n    .dataframe thead th {\n        text-align: right;\n    }\n</style>\n<table border=\"1\" class=\"dataframe\">\n  <thead>\n    <tr style=\"text-align: right;\">\n      <th></th>\n      <th>movie_id</th>\n      <th>title</th>\n      <th>collection</th>\n      <th>description</th>\n      <th>genres</th>\n      <th>keywords</th>\n      <th>cast</th>\n      <th>crew</th>\n    </tr>\n  </thead>\n  <tbody>\n    <tr>\n      <th>2522</th>\n      <td>3114</td>\n      <td>Toy Story 2</td>\n      <td>Toy Story Collection</td>\n      <td>Andy heads off to Cowboy Camp, leaving his toy...</td>\n      <td>[animation, comedy, family]</td>\n      <td>[museum, prosecution, identity_crisis, airplan...</td>\n      <td>[tom_hanks, tim_allen, joan_cusack, kelsey_gra...</td>\n      <td>[andrew_stanton, andrew_stanton, lee_unkrich, ...</td>\n    </tr>\n    <tr>\n      <th>7621</th>\n      <td>78499</td>\n      <td>Toy Story 3</td>\n      <td>Toy Story Collection</td>\n      <td>Woody, Buzz, and the rest of Andy's toys haven...</td>\n      <td>[animation, family, comedy]</td>\n      <td>[hostage, college, toy, barbie, animation, esc...</td>\n      <td>[tom_hanks, tim_allen, ned_beatty, joan_cusack...</td>\n      <td>[andrew_stanton, lee_unkrich, lee_unkrich, joh...</td>\n    </tr>\n    <tr>\n      <th>8503</th>\n      <td>106022</td>\n      <td>Toy Story of Terror!</td>\n      <td></td>\n      <td>What starts out as a fun road trip for the Toy...</td>\n      <td>[animation, comedy, family]</td>\n      <td>[halloween, toys, short]</td>\n      <td>[tom_hanks, tim_allen, kristen_schaal, carl_we...</td>\n      <td>[angus_maclane, john_lasseter, andrew_stanton,...</td>\n    </tr>\n    <tr>\n      <th>6259</th>\n      <td>35836</td>\n      <td>The 40 Year Old Virgin</td>\n      <td></td>\n      <td>Andy Stitzer has a pleasant life with a nice a...</td>\n      <td>[comedy, romance]</td>\n      <td>[first_time, virgin]</td>\n      <td>[steve_carell, catherine_keener, paul_rudd, ro...</td>\n      <td>[steve_carell, zachary_woodlee, judd_apatow, j...</td>\n    </tr>\n    <tr>\n      <th>4749</th>\n      <td>6584</td>\n      <td>What's Up, Tiger Lily?</td>\n      <td></td>\n      <td>In comic Woody Allen's film debut, he took the...</td>\n      <td>[action, comedy]</td>\n      <td>[spoof]</td>\n      <td>[tatsuya_mihashi, akiko_wakabayashi, mie_hama,...</td>\n      <td>[woody_allen, senkichi_taniguchi]</td>\n    </tr>\n    <tr>\n      <th>3825</th>\n      <td>4886</td>\n      <td>Monsters, Inc.</td>\n      <td>Monsters, Inc. Collection</td>\n      <td>James Sullivan and Mike Wazowski are monsters,...</td>\n      <td>[animation, comedy, family]</td>\n      <td>[monster, infant, energy_supply, company, riva...</td>\n      <td>[john_goodman, billy_crystal, mary_gibbs, stev...</td>\n      <td>[darla_k._anderson, john_lasseter, andrew_stan...</td>\n    </tr>\n    <tr>\n      <th>910</th>\n      <td>1103</td>\n      <td>Rebel Without a Cause</td>\n      <td></td>\n      <td>After moving to a new town, troublemaking teen...</td>\n      <td>[drama]</td>\n      <td>[individual, rebel, street_gang, car_race, par...</td>\n      <td>[james_dean, natalie_wood, sal_mineo, ann_dora...</td>\n      <td>[nicholas_ray, david_weisbart, nicholas_ray, i...</td>\n    </tr>\n    <tr>\n      <th>6700</th>\n      <td>51174</td>\n      <td>Factory Girl</td>\n      <td></td>\n      <td>In the mid-1960s, wealthy debutant Edie Sedgwi...</td>\n      <td>[drama]</td>\n      <td>[new_york, alcohol, sex, infidelity, nudity, a...</td>\n      <td>[sienna_miller, guy_pearce, hayden_christensen...</td>\n      <td>[ed_shearmur, john_dunn, george_hickenlooper, ...</td>\n    </tr>\n    <tr>\n      <th>1619</th>\n      <td>2041</td>\n      <td>Condorman</td>\n      <td></td>\n      <td>Comic artist and writer Woody performs a simpl...</td>\n      <td>[comedy, action, adventure]</td>\n      <td>[mission]</td>\n      <td>[michael_crawford, oliver_reed, barbara_carrer...</td>\n      <td>[charles_jarrott, marc_stirdivant, henry_manci...</td>\n    </tr>\n    <tr>\n      <th>1883</th>\n      <td>2355</td>\n      <td>A Bug's Life</td>\n      <td></td>\n      <td>On behalf of \"oppressed bugs everywhere,\" an i...</td>\n      <td>[adventure, animation, comedy, family]</td>\n      <td>[winter, fight, ant, invention, collector, ant...</td>\n      <td>[kevin_spacey, julia_louis-dreyfus, hayden_pan...</td>\n      <td>[andrew_stanton, andrew_stanton, andrew_stanto...</td>\n    </tr>\n  </tbody>\n</table>\n</div>"
     },
     "metadata": {}
    }
   ],
   "source": [
    "cbr = AllMetadataBasedRecommender(TfidfVectorizer)\n",
    "cbr.validate()"
   ]
  },
  {
   "source": [
    "### 3.5. Genres, keywords, cast and crew based recommendation"
   ],
   "cell_type": "markdown",
   "metadata": {}
  },
  {
   "cell_type": "code",
   "execution_count": 51,
   "metadata": {},
   "outputs": [],
   "source": [
    "class NoDescriptionBasedRecommender(BinaryRecommender):\n",
    "    # Recommender based on genres, keywords, cast and crew\n",
    "\n",
    "    def __init__(\n",
    "        self,\n",
    "        vectorizer,\n",
    "        movies_data: pd.DataFrame = movies\n",
    "    ):\n",
    "        super().__init__(movies_data)\n",
    "        \n",
    "        vec = vectorizer()\n",
    "        \n",
    "        genres_keywords = (self.movies['genres'] + self.movies['keywords']).apply(lambda x: ' '.join(x))\n",
    "        cast_crew = (self.movies['cast'] + self.movies['crew']).apply(lambda x: ' '.join(x))\n",
    "        data = genres_keywords + ' ' + cast_crew\n",
    "\n",
    "        features_matrix = vec.fit_transform(data)\n",
    "        self.cosine_sim_matrix = cosine_similarity(features_matrix)"
   ]
  },
  {
   "cell_type": "code",
   "execution_count": 52,
   "metadata": {},
   "outputs": [
    {
     "output_type": "stream",
     "name": "stdout",
     "text": [
      "Recommendations for Toy Story:\n"
     ]
    },
    {
     "output_type": "display_data",
     "data": {
      "text/plain": "      movie_id                 title                 collection  \\\n2522      3114           Toy Story 2       Toy Story Collection   \n7621     78499           Toy Story 3       Toy Story Collection   \n8503    106022  Toy Story of Terror!                              \n2751      3429     Creature Comforts                              \n3825      4886        Monsters, Inc.  Monsters, Inc. Collection   \n7037     60069                WALL·E                              \n1883      2355          A Bug's Life                              \n4650      6377          Finding Nemo    Finding Nemo Collection   \n9182    157296          Finding Dory    Finding Nemo Collection   \n8992    134853            Inside Out                              \n\n                                            description  \\\n2522  Andy heads off to Cowboy Camp, leaving his toy...   \n7621  Woody, Buzz, and the rest of Andy's toys haven...   \n8503  What starts out as a fun road trip for the Toy...   \n2751  Interviews with the public are used to put wor...   \n3825  James Sullivan and Mike Wazowski are monsters,...   \n7037  WALL·E is the last robot left on an Earth that...   \n1883  On behalf of \"oppressed bugs everywhere,\" an i...   \n4650  Nemo, an adventurous young clownfish, is unexp...   \n9182  Dory is reunited with her friends Nemo and Mar...   \n8992  Growing up can be a bumpy road, and it's no ex...   \n\n                                      genres  \\\n2522             [animation, comedy, family]   \n7621             [animation, family, comedy]   \n8503             [animation, comedy, family]   \n2751             [animation, comedy, family]   \n3825             [animation, comedy, family]   \n7037                     [animation, family]   \n1883  [adventure, animation, comedy, family]   \n4650                     [animation, family]   \n9182  [adventure, animation, comedy, family]   \n8992      [drama, comedy, animation, family]   \n\n                                               keywords  \\\n2522  [museum, prosecution, identity_crisis, airplan...   \n7621  [hostage, college, toy, barbie, animation, esc...   \n8503                           [halloween, toys, short]   \n2751                                        [animation]   \n3825  [monster, infant, energy_supply, company, riva...   \n7037                                  [romantic_comedy]   \n1883  [winter, fight, ant, invention, collector, ant...   \n4650  [father_son_relationship, harbor, underwater, ...   \n9182  [fish, amnesia, sequel, animation, talking_ani...   \n8992  [dream, cartoon, imaginary_friend, animation, ...   \n\n                                                   cast  \\\n2522  [tom_hanks, tim_allen, joan_cusack, kelsey_gra...   \n7621  [tom_hanks, tim_allen, ned_beatty, joan_cusack...   \n8503  [tom_hanks, tim_allen, kristen_schaal, carl_we...   \n2751                                                 []   \n3825  [john_goodman, billy_crystal, mary_gibbs, stev...   \n7037  [ben_burtt, elissa_knight, jeff_garlin, fred_w...   \n1883  [kevin_spacey, julia_louis-dreyfus, hayden_pan...   \n4650  [albert_brooks, ellen_degeneres, alexander_gou...   \n9182  [ellen_degeneres, albert_brooks, hayden_rolenc...   \n8992  [amy_poehler, phyllis_smith, richard_kind, bil...   \n\n                                                   crew  \n2522  [andrew_stanton, andrew_stanton, lee_unkrich, ...  \n7621  [andrew_stanton, lee_unkrich, lee_unkrich, joh...  \n8503  [angus_maclane, john_lasseter, andrew_stanton,...  \n2751                                        [nick_park]  \n3825  [darla_k._anderson, john_lasseter, andrew_stan...  \n7037  [andrew_stanton, andrew_stanton, andrew_stanto...  \n1883  [andrew_stanton, andrew_stanton, andrew_stanto...  \n4650  [andrew_stanton, andrew_stanton, andrew_stanto...  \n9182  [andrew_stanton, andrew_stanton, andrew_stanto...  \n8992  [pete_docter, jonas_rivera, pete_docter, john_...  ",
      "text/html": "<div>\n<style scoped>\n    .dataframe tbody tr th:only-of-type {\n        vertical-align: middle;\n    }\n\n    .dataframe tbody tr th {\n        vertical-align: top;\n    }\n\n    .dataframe thead th {\n        text-align: right;\n    }\n</style>\n<table border=\"1\" class=\"dataframe\">\n  <thead>\n    <tr style=\"text-align: right;\">\n      <th></th>\n      <th>movie_id</th>\n      <th>title</th>\n      <th>collection</th>\n      <th>description</th>\n      <th>genres</th>\n      <th>keywords</th>\n      <th>cast</th>\n      <th>crew</th>\n    </tr>\n  </thead>\n  <tbody>\n    <tr>\n      <th>2522</th>\n      <td>3114</td>\n      <td>Toy Story 2</td>\n      <td>Toy Story Collection</td>\n      <td>Andy heads off to Cowboy Camp, leaving his toy...</td>\n      <td>[animation, comedy, family]</td>\n      <td>[museum, prosecution, identity_crisis, airplan...</td>\n      <td>[tom_hanks, tim_allen, joan_cusack, kelsey_gra...</td>\n      <td>[andrew_stanton, andrew_stanton, lee_unkrich, ...</td>\n    </tr>\n    <tr>\n      <th>7621</th>\n      <td>78499</td>\n      <td>Toy Story 3</td>\n      <td>Toy Story Collection</td>\n      <td>Woody, Buzz, and the rest of Andy's toys haven...</td>\n      <td>[animation, family, comedy]</td>\n      <td>[hostage, college, toy, barbie, animation, esc...</td>\n      <td>[tom_hanks, tim_allen, ned_beatty, joan_cusack...</td>\n      <td>[andrew_stanton, lee_unkrich, lee_unkrich, joh...</td>\n    </tr>\n    <tr>\n      <th>8503</th>\n      <td>106022</td>\n      <td>Toy Story of Terror!</td>\n      <td></td>\n      <td>What starts out as a fun road trip for the Toy...</td>\n      <td>[animation, comedy, family]</td>\n      <td>[halloween, toys, short]</td>\n      <td>[tom_hanks, tim_allen, kristen_schaal, carl_we...</td>\n      <td>[angus_maclane, john_lasseter, andrew_stanton,...</td>\n    </tr>\n    <tr>\n      <th>2751</th>\n      <td>3429</td>\n      <td>Creature Comforts</td>\n      <td></td>\n      <td>Interviews with the public are used to put wor...</td>\n      <td>[animation, comedy, family]</td>\n      <td>[animation]</td>\n      <td>[]</td>\n      <td>[nick_park]</td>\n    </tr>\n    <tr>\n      <th>3825</th>\n      <td>4886</td>\n      <td>Monsters, Inc.</td>\n      <td>Monsters, Inc. Collection</td>\n      <td>James Sullivan and Mike Wazowski are monsters,...</td>\n      <td>[animation, comedy, family]</td>\n      <td>[monster, infant, energy_supply, company, riva...</td>\n      <td>[john_goodman, billy_crystal, mary_gibbs, stev...</td>\n      <td>[darla_k._anderson, john_lasseter, andrew_stan...</td>\n    </tr>\n    <tr>\n      <th>7037</th>\n      <td>60069</td>\n      <td>WALL·E</td>\n      <td></td>\n      <td>WALL·E is the last robot left on an Earth that...</td>\n      <td>[animation, family]</td>\n      <td>[romantic_comedy]</td>\n      <td>[ben_burtt, elissa_knight, jeff_garlin, fred_w...</td>\n      <td>[andrew_stanton, andrew_stanton, andrew_stanto...</td>\n    </tr>\n    <tr>\n      <th>1883</th>\n      <td>2355</td>\n      <td>A Bug's Life</td>\n      <td></td>\n      <td>On behalf of \"oppressed bugs everywhere,\" an i...</td>\n      <td>[adventure, animation, comedy, family]</td>\n      <td>[winter, fight, ant, invention, collector, ant...</td>\n      <td>[kevin_spacey, julia_louis-dreyfus, hayden_pan...</td>\n      <td>[andrew_stanton, andrew_stanton, andrew_stanto...</td>\n    </tr>\n    <tr>\n      <th>4650</th>\n      <td>6377</td>\n      <td>Finding Nemo</td>\n      <td>Finding Nemo Collection</td>\n      <td>Nemo, an adventurous young clownfish, is unexp...</td>\n      <td>[animation, family]</td>\n      <td>[father_son_relationship, harbor, underwater, ...</td>\n      <td>[albert_brooks, ellen_degeneres, alexander_gou...</td>\n      <td>[andrew_stanton, andrew_stanton, andrew_stanto...</td>\n    </tr>\n    <tr>\n      <th>9182</th>\n      <td>157296</td>\n      <td>Finding Dory</td>\n      <td>Finding Nemo Collection</td>\n      <td>Dory is reunited with her friends Nemo and Mar...</td>\n      <td>[adventure, animation, comedy, family]</td>\n      <td>[fish, amnesia, sequel, animation, talking_ani...</td>\n      <td>[ellen_degeneres, albert_brooks, hayden_rolenc...</td>\n      <td>[andrew_stanton, andrew_stanton, andrew_stanto...</td>\n    </tr>\n    <tr>\n      <th>8992</th>\n      <td>134853</td>\n      <td>Inside Out</td>\n      <td></td>\n      <td>Growing up can be a bumpy road, and it's no ex...</td>\n      <td>[drama, comedy, animation, family]</td>\n      <td>[dream, cartoon, imaginary_friend, animation, ...</td>\n      <td>[amy_poehler, phyllis_smith, richard_kind, bil...</td>\n      <td>[pete_docter, jonas_rivera, pete_docter, john_...</td>\n    </tr>\n  </tbody>\n</table>\n</div>"
     },
     "metadata": {}
    }
   ],
   "source": [
    "cbr = NoDescriptionBasedRecommender(CountVectorizer)\n",
    "cbr.validate()"
   ]
  },
  {
   "cell_type": "code",
   "execution_count": 53,
   "metadata": {},
   "outputs": [
    {
     "output_type": "stream",
     "name": "stdout",
     "text": [
      "Recommendations for Toy Story:\n"
     ]
    },
    {
     "output_type": "display_data",
     "data": {
      "text/plain": "      movie_id                 title                 collection  \\\n2522      3114           Toy Story 2       Toy Story Collection   \n7621     78499           Toy Story 3       Toy Story Collection   \n8503    106022  Toy Story of Terror!                              \n4650      6377          Finding Nemo    Finding Nemo Collection   \n7037     60069                WALL·E                              \n1883      2355          A Bug's Life                              \n3825      4886        Monsters, Inc.  Monsters, Inc. Collection   \n9182    157296          Finding Dory    Finding Nemo Collection   \n6378     42191              Luxo Jr.                              \n8142     95377          One Man Band                              \n\n                                            description  \\\n2522  Andy heads off to Cowboy Camp, leaving his toy...   \n7621  Woody, Buzz, and the rest of Andy's toys haven...   \n8503  What starts out as a fun road trip for the Toy...   \n4650  Nemo, an adventurous young clownfish, is unexp...   \n7037  WALL·E is the last robot left on an Earth that...   \n1883  On behalf of \"oppressed bugs everywhere,\" an i...   \n3825  James Sullivan and Mike Wazowski are monsters,...   \n9182  Dory is reunited with her friends Nemo and Mar...   \n6378  A baby lamp finds a ball to play with and it's...   \n8142  With one coin to make a wish at the piazza fou...   \n\n                                      genres  \\\n2522             [animation, comedy, family]   \n7621             [animation, family, comedy]   \n8503             [animation, comedy, family]   \n4650                     [animation, family]   \n7037                     [animation, family]   \n1883  [adventure, animation, comedy, family]   \n3825             [animation, comedy, family]   \n9182  [adventure, animation, comedy, family]   \n6378                             [animation]   \n8142                     [animation, family]   \n\n                                               keywords  \\\n2522  [museum, prosecution, identity_crisis, airplan...   \n7621  [hostage, college, toy, barbie, animation, esc...   \n8503                           [halloween, toys, short]   \n4650  [father_son_relationship, harbor, underwater, ...   \n7037                                  [romantic_comedy]   \n1883  [winter, fight, ant, invention, collector, ant...   \n3825  [monster, infant, energy_supply, company, riva...   \n9182  [fish, amnesia, sequel, animation, talking_ani...   \n6378  [luxo_lamps, beach_ball, father_and_child, short]   \n8142  [fountain, rivalry, coin, bag_of_money, gold_c...   \n\n                                                   cast  \\\n2522  [tom_hanks, tim_allen, joan_cusack, kelsey_gra...   \n7621  [tom_hanks, tim_allen, ned_beatty, joan_cusack...   \n8503  [tom_hanks, tim_allen, kristen_schaal, carl_we...   \n4650  [albert_brooks, ellen_degeneres, alexander_gou...   \n7037  [ben_burtt, elissa_knight, jeff_garlin, fred_w...   \n1883  [kevin_spacey, julia_louis-dreyfus, hayden_pan...   \n3825  [john_goodman, billy_crystal, mary_gibbs, stev...   \n9182  [ellen_degeneres, albert_brooks, hayden_rolenc...   \n6378                                                 []   \n8142                                                 []   \n\n                                                   crew  \n2522  [andrew_stanton, andrew_stanton, lee_unkrich, ...  \n7621  [andrew_stanton, lee_unkrich, lee_unkrich, joh...  \n8503  [angus_maclane, john_lasseter, andrew_stanton,...  \n4650  [andrew_stanton, andrew_stanton, andrew_stanto...  \n7037  [andrew_stanton, andrew_stanton, andrew_stanto...  \n1883  [andrew_stanton, andrew_stanton, andrew_stanto...  \n3825  [darla_k._anderson, john_lasseter, andrew_stan...  \n9182  [andrew_stanton, andrew_stanton, andrew_stanto...  \n6378      [john_lasseter, john_lasseter, john_lasseter]  \n8142  [john_lasseter, marcia_gwendolyn_jones, angus_...  ",
      "text/html": "<div>\n<style scoped>\n    .dataframe tbody tr th:only-of-type {\n        vertical-align: middle;\n    }\n\n    .dataframe tbody tr th {\n        vertical-align: top;\n    }\n\n    .dataframe thead th {\n        text-align: right;\n    }\n</style>\n<table border=\"1\" class=\"dataframe\">\n  <thead>\n    <tr style=\"text-align: right;\">\n      <th></th>\n      <th>movie_id</th>\n      <th>title</th>\n      <th>collection</th>\n      <th>description</th>\n      <th>genres</th>\n      <th>keywords</th>\n      <th>cast</th>\n      <th>crew</th>\n    </tr>\n  </thead>\n  <tbody>\n    <tr>\n      <th>2522</th>\n      <td>3114</td>\n      <td>Toy Story 2</td>\n      <td>Toy Story Collection</td>\n      <td>Andy heads off to Cowboy Camp, leaving his toy...</td>\n      <td>[animation, comedy, family]</td>\n      <td>[museum, prosecution, identity_crisis, airplan...</td>\n      <td>[tom_hanks, tim_allen, joan_cusack, kelsey_gra...</td>\n      <td>[andrew_stanton, andrew_stanton, lee_unkrich, ...</td>\n    </tr>\n    <tr>\n      <th>7621</th>\n      <td>78499</td>\n      <td>Toy Story 3</td>\n      <td>Toy Story Collection</td>\n      <td>Woody, Buzz, and the rest of Andy's toys haven...</td>\n      <td>[animation, family, comedy]</td>\n      <td>[hostage, college, toy, barbie, animation, esc...</td>\n      <td>[tom_hanks, tim_allen, ned_beatty, joan_cusack...</td>\n      <td>[andrew_stanton, lee_unkrich, lee_unkrich, joh...</td>\n    </tr>\n    <tr>\n      <th>8503</th>\n      <td>106022</td>\n      <td>Toy Story of Terror!</td>\n      <td></td>\n      <td>What starts out as a fun road trip for the Toy...</td>\n      <td>[animation, comedy, family]</td>\n      <td>[halloween, toys, short]</td>\n      <td>[tom_hanks, tim_allen, kristen_schaal, carl_we...</td>\n      <td>[angus_maclane, john_lasseter, andrew_stanton,...</td>\n    </tr>\n    <tr>\n      <th>4650</th>\n      <td>6377</td>\n      <td>Finding Nemo</td>\n      <td>Finding Nemo Collection</td>\n      <td>Nemo, an adventurous young clownfish, is unexp...</td>\n      <td>[animation, family]</td>\n      <td>[father_son_relationship, harbor, underwater, ...</td>\n      <td>[albert_brooks, ellen_degeneres, alexander_gou...</td>\n      <td>[andrew_stanton, andrew_stanton, andrew_stanto...</td>\n    </tr>\n    <tr>\n      <th>7037</th>\n      <td>60069</td>\n      <td>WALL·E</td>\n      <td></td>\n      <td>WALL·E is the last robot left on an Earth that...</td>\n      <td>[animation, family]</td>\n      <td>[romantic_comedy]</td>\n      <td>[ben_burtt, elissa_knight, jeff_garlin, fred_w...</td>\n      <td>[andrew_stanton, andrew_stanton, andrew_stanto...</td>\n    </tr>\n    <tr>\n      <th>1883</th>\n      <td>2355</td>\n      <td>A Bug's Life</td>\n      <td></td>\n      <td>On behalf of \"oppressed bugs everywhere,\" an i...</td>\n      <td>[adventure, animation, comedy, family]</td>\n      <td>[winter, fight, ant, invention, collector, ant...</td>\n      <td>[kevin_spacey, julia_louis-dreyfus, hayden_pan...</td>\n      <td>[andrew_stanton, andrew_stanton, andrew_stanto...</td>\n    </tr>\n    <tr>\n      <th>3825</th>\n      <td>4886</td>\n      <td>Monsters, Inc.</td>\n      <td>Monsters, Inc. Collection</td>\n      <td>James Sullivan and Mike Wazowski are monsters,...</td>\n      <td>[animation, comedy, family]</td>\n      <td>[monster, infant, energy_supply, company, riva...</td>\n      <td>[john_goodman, billy_crystal, mary_gibbs, stev...</td>\n      <td>[darla_k._anderson, john_lasseter, andrew_stan...</td>\n    </tr>\n    <tr>\n      <th>9182</th>\n      <td>157296</td>\n      <td>Finding Dory</td>\n      <td>Finding Nemo Collection</td>\n      <td>Dory is reunited with her friends Nemo and Mar...</td>\n      <td>[adventure, animation, comedy, family]</td>\n      <td>[fish, amnesia, sequel, animation, talking_ani...</td>\n      <td>[ellen_degeneres, albert_brooks, hayden_rolenc...</td>\n      <td>[andrew_stanton, andrew_stanton, andrew_stanto...</td>\n    </tr>\n    <tr>\n      <th>6378</th>\n      <td>42191</td>\n      <td>Luxo Jr.</td>\n      <td></td>\n      <td>A baby lamp finds a ball to play with and it's...</td>\n      <td>[animation]</td>\n      <td>[luxo_lamps, beach_ball, father_and_child, short]</td>\n      <td>[]</td>\n      <td>[john_lasseter, john_lasseter, john_lasseter]</td>\n    </tr>\n    <tr>\n      <th>8142</th>\n      <td>95377</td>\n      <td>One Man Band</td>\n      <td></td>\n      <td>With one coin to make a wish at the piazza fou...</td>\n      <td>[animation, family]</td>\n      <td>[fountain, rivalry, coin, bag_of_money, gold_c...</td>\n      <td>[]</td>\n      <td>[john_lasseter, marcia_gwendolyn_jones, angus_...</td>\n    </tr>\n  </tbody>\n</table>\n</div>"
     },
     "metadata": {}
    }
   ],
   "source": [
    "cbr = NoDescriptionBasedRecommender(TfidfVectorizer)\n",
    "cbr.validate()"
   ]
  },
  {
   "source": [
    "This project is inspired by:  \n",
    "https://github.com/sanchitbhasin/Content-Based-Movie-Recommendation-System/blob/master/movie%20recommendation%20system.ipynb  \n",
    "https://github.com/vjvishaljha/Recommender_Sys/blob/master/Recommender%20System.ipynb\n"
   ],
   "cell_type": "markdown",
   "metadata": {}
  }
 ]
}