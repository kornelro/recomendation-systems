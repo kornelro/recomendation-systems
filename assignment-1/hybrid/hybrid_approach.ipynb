{
 "metadata": {
  "language_info": {
   "codemirror_mode": {
    "name": "ipython",
    "version": 3
   },
   "file_extension": ".py",
   "mimetype": "text/x-python",
   "name": "python",
   "nbconvert_exporter": "python",
   "pygments_lexer": "ipython3",
   "version": "3.8.2-final"
  },
  "orig_nbformat": 2,
  "kernelspec": {
   "name": "python3",
   "display_name": "Python 3.8.2 64-bit",
   "metadata": {
    "interpreter": {
     "hash": "765a27d73be52ab621eab82c24f389a641221a3bd62219a217e58ddcdcfae93a"
    }
   }
  }
 },
 "nbformat": 4,
 "nbformat_minor": 2,
 "cells": [
  {
   "cell_type": "code",
   "execution_count": 1,
   "metadata": {},
   "outputs": [
    {
     "output_type": "execute_result",
     "data": {
      "text/plain": [
       "'/Users/marcelc/Documents/10_sem/pisr/pro/pisr_venv/bin/python'"
      ]
     },
     "metadata": {},
     "execution_count": 1
    }
   ],
   "source": [
    "import sys\n",
    "\n",
    "sys.executable"
   ]
  },
  {
   "cell_type": "code",
   "execution_count": 338,
   "metadata": {},
   "outputs": [],
   "source": [
    "import numpy as np\n",
    "import pandas as pd\n",
    "from ast import literal_eval\n",
    "from sklearn.feature_extraction.text import CountVectorizer, TfidfVectorizer\n",
    "from sklearn.metrics.pairwise import linear_kernel, cosine_similarity\n",
    "from surprise import Dataset, SVD, Reader\n",
    "from surprise.model_selection import cross_validate\n",
    "\n",
    "pd.set_option('display.max_columns', None)"
   ]
  },
  {
   "cell_type": "code",
   "execution_count": 383,
   "metadata": {},
   "outputs": [],
   "source": [
    "credits = pd.read_csv('../data/credits.csv')  # 45_476\n",
    "keywords = pd.read_csv('../data/keywords.csv')  # 46_419\n",
    "links_small = pd.read_csv('../data/links_small.csv')  # 9_125\n",
    "# links = pd.read_csv('../data/links.csv')  # 45_843\n",
    "movies = pd.read_csv('../data/movies_metadata.csv')  # 45_466\n",
    "ratings_small = pd.read_csv('../data/ratings_small.csv')  # 100_004\n",
    "# ratings = pd.read_csv('../data/ratings.csv')  # 26_024_289"
   ]
  },
  {
   "source": [
    "### Credits dataframe preparation"
   ],
   "cell_type": "markdown",
   "metadata": {}
  },
  {
   "cell_type": "code",
   "execution_count": 384,
   "metadata": {},
   "outputs": [],
   "source": [
    "credits['cast'] = credits['cast']\\\n",
    "    .apply(literal_eval)\\\n",
    "    .apply(lambda x: [i['name'].replace(' ', '_').lower() for i in x[:10]])\n",
    "\n",
    "credits['crew'] = credits['crew']\\\n",
    "    .apply(literal_eval)\\\n",
    "    .apply(lambda x: [i['name'].replace(' ', '_').lower() for i in x[:10]])"
   ]
  },
  {
   "cell_type": "code",
   "execution_count": 385,
   "metadata": {},
   "outputs": [
    {
     "output_type": "stream",
     "name": "stdout",
     "text": [
      "<class 'pandas.core.frame.DataFrame'>\nRangeIndex: 45476 entries, 0 to 45475\nData columns (total 3 columns):\n #   Column  Non-Null Count  Dtype \n---  ------  --------------  ----- \n 0   cast    45476 non-null  object\n 1   crew    45476 non-null  object\n 2   id      45476 non-null  int64 \ndtypes: int64(1), object(2)\nmemory usage: 1.0+ MB\nNone\n"
     ]
    },
    {
     "output_type": "execute_result",
     "data": {
      "text/plain": [
       "                                                cast  \\\n",
       "0  [tom_hanks, tim_allen, don_rickles, jim_varney...   \n",
       "1  [robin_williams, jonathan_hyde, kirsten_dunst,...   \n",
       "2  [walter_matthau, jack_lemmon, ann-margret, sop...   \n",
       "3  [whitney_houston, angela_bassett, loretta_devi...   \n",
       "4  [steve_martin, diane_keaton, martin_short, kim...   \n",
       "\n",
       "                                                crew     id  \n",
       "0  [john_lasseter, joss_whedon, andrew_stanton, j...    862  \n",
       "1  [larry_j._franco, jonathan_hensleigh, james_ho...   8844  \n",
       "2  [howard_deutch, mark_steven_johnson, mark_stev...  15602  \n",
       "3  [forest_whitaker, ronald_bass, ronald_bass, ez...  31357  \n",
       "4  [alan_silvestri, elliot_davis, nancy_meyers, n...  11862  "
      ],
      "text/html": "<div>\n<style scoped>\n    .dataframe tbody tr th:only-of-type {\n        vertical-align: middle;\n    }\n\n    .dataframe tbody tr th {\n        vertical-align: top;\n    }\n\n    .dataframe thead th {\n        text-align: right;\n    }\n</style>\n<table border=\"1\" class=\"dataframe\">\n  <thead>\n    <tr style=\"text-align: right;\">\n      <th></th>\n      <th>cast</th>\n      <th>crew</th>\n      <th>id</th>\n    </tr>\n  </thead>\n  <tbody>\n    <tr>\n      <th>0</th>\n      <td>[tom_hanks, tim_allen, don_rickles, jim_varney...</td>\n      <td>[john_lasseter, joss_whedon, andrew_stanton, j...</td>\n      <td>862</td>\n    </tr>\n    <tr>\n      <th>1</th>\n      <td>[robin_williams, jonathan_hyde, kirsten_dunst,...</td>\n      <td>[larry_j._franco, jonathan_hensleigh, james_ho...</td>\n      <td>8844</td>\n    </tr>\n    <tr>\n      <th>2</th>\n      <td>[walter_matthau, jack_lemmon, ann-margret, sop...</td>\n      <td>[howard_deutch, mark_steven_johnson, mark_stev...</td>\n      <td>15602</td>\n    </tr>\n    <tr>\n      <th>3</th>\n      <td>[whitney_houston, angela_bassett, loretta_devi...</td>\n      <td>[forest_whitaker, ronald_bass, ronald_bass, ez...</td>\n      <td>31357</td>\n    </tr>\n    <tr>\n      <th>4</th>\n      <td>[steve_martin, diane_keaton, martin_short, kim...</td>\n      <td>[alan_silvestri, elliot_davis, nancy_meyers, n...</td>\n      <td>11862</td>\n    </tr>\n  </tbody>\n</table>\n</div>"
     },
     "metadata": {},
     "execution_count": 385
    }
   ],
   "source": [
    "print(credits.info())\n",
    "credits.head()"
   ]
  },
  {
   "source": [
    "### Keywords dataframe preparation"
   ],
   "cell_type": "markdown",
   "metadata": {}
  },
  {
   "cell_type": "code",
   "execution_count": 386,
   "metadata": {},
   "outputs": [],
   "source": [
    "keywords['keywords'] = keywords['keywords']\\\n",
    "    .apply(literal_eval)\\\n",
    "    .apply(lambda x: [i['name'].replace(' ', '_').lower() for i in x[:10]])"
   ]
  },
  {
   "cell_type": "code",
   "execution_count": 387,
   "metadata": {},
   "outputs": [
    {
     "output_type": "stream",
     "name": "stdout",
     "text": [
      "<class 'pandas.core.frame.DataFrame'>\nRangeIndex: 46419 entries, 0 to 46418\nData columns (total 2 columns):\n #   Column    Non-Null Count  Dtype \n---  ------    --------------  ----- \n 0   id        46419 non-null  int64 \n 1   keywords  46419 non-null  object\ndtypes: int64(1), object(1)\nmemory usage: 725.4+ KB\nNone\n"
     ]
    },
    {
     "output_type": "execute_result",
     "data": {
      "text/plain": [
       "      id                                           keywords\n",
       "0    862  [jealousy, toy, boy, friendship, friends, riva...\n",
       "1   8844  [board_game, disappearance, based_on_children'...\n",
       "2  15602  [fishing, best_friend, duringcreditsstinger, o...\n",
       "3  31357  [based_on_novel, interracial_relationship, sin...\n",
       "4  11862  [baby, midlife_crisis, confidence, aging, daug..."
      ],
      "text/html": "<div>\n<style scoped>\n    .dataframe tbody tr th:only-of-type {\n        vertical-align: middle;\n    }\n\n    .dataframe tbody tr th {\n        vertical-align: top;\n    }\n\n    .dataframe thead th {\n        text-align: right;\n    }\n</style>\n<table border=\"1\" class=\"dataframe\">\n  <thead>\n    <tr style=\"text-align: right;\">\n      <th></th>\n      <th>id</th>\n      <th>keywords</th>\n    </tr>\n  </thead>\n  <tbody>\n    <tr>\n      <th>0</th>\n      <td>862</td>\n      <td>[jealousy, toy, boy, friendship, friends, riva...</td>\n    </tr>\n    <tr>\n      <th>1</th>\n      <td>8844</td>\n      <td>[board_game, disappearance, based_on_children'...</td>\n    </tr>\n    <tr>\n      <th>2</th>\n      <td>15602</td>\n      <td>[fishing, best_friend, duringcreditsstinger, o...</td>\n    </tr>\n    <tr>\n      <th>3</th>\n      <td>31357</td>\n      <td>[based_on_novel, interracial_relationship, sin...</td>\n    </tr>\n    <tr>\n      <th>4</th>\n      <td>11862</td>\n      <td>[baby, midlife_crisis, confidence, aging, daug...</td>\n    </tr>\n  </tbody>\n</table>\n</div>"
     },
     "metadata": {},
     "execution_count": 387
    }
   ],
   "source": [
    "print(keywords.info())\n",
    "keywords.head()"
   ]
  },
  {
   "source": [
    "### Links dataframe preparation"
   ],
   "cell_type": "markdown",
   "metadata": {}
  },
  {
   "cell_type": "code",
   "execution_count": 388,
   "metadata": {},
   "outputs": [],
   "source": [
    "links_small.columns = ['movie_id', 'imbd_id', 'tmdb_id']\n",
    "links_small = links_small.dropna()\n",
    "\n",
    "links_small['tmdb_id'] = links_small['tmdb_id'].astype('int')\n",
    "links_small['movie_id'] = links_small['movie_id'].astype('int')"
   ]
  },
  {
   "cell_type": "code",
   "execution_count": 389,
   "metadata": {},
   "outputs": [
    {
     "output_type": "stream",
     "name": "stdout",
     "text": [
      "<class 'pandas.core.frame.DataFrame'>\nInt64Index: 9112 entries, 0 to 9124\nData columns (total 3 columns):\n #   Column    Non-Null Count  Dtype\n---  ------    --------------  -----\n 0   movie_id  9112 non-null   int64\n 1   imbd_id   9112 non-null   int64\n 2   tmdb_id   9112 non-null   int64\ndtypes: int64(3)\nmemory usage: 284.8 KB\nNone\n"
     ]
    },
    {
     "output_type": "execute_result",
     "data": {
      "text/plain": [
       "   movie_id  imbd_id  tmdb_id\n",
       "0         1   114709      862\n",
       "1         2   113497     8844\n",
       "2         3   113228    15602\n",
       "3         4   114885    31357\n",
       "4         5   113041    11862"
      ],
      "text/html": "<div>\n<style scoped>\n    .dataframe tbody tr th:only-of-type {\n        vertical-align: middle;\n    }\n\n    .dataframe tbody tr th {\n        vertical-align: top;\n    }\n\n    .dataframe thead th {\n        text-align: right;\n    }\n</style>\n<table border=\"1\" class=\"dataframe\">\n  <thead>\n    <tr style=\"text-align: right;\">\n      <th></th>\n      <th>movie_id</th>\n      <th>imbd_id</th>\n      <th>tmdb_id</th>\n    </tr>\n  </thead>\n  <tbody>\n    <tr>\n      <th>0</th>\n      <td>1</td>\n      <td>114709</td>\n      <td>862</td>\n    </tr>\n    <tr>\n      <th>1</th>\n      <td>2</td>\n      <td>113497</td>\n      <td>8844</td>\n    </tr>\n    <tr>\n      <th>2</th>\n      <td>3</td>\n      <td>113228</td>\n      <td>15602</td>\n    </tr>\n    <tr>\n      <th>3</th>\n      <td>4</td>\n      <td>114885</td>\n      <td>31357</td>\n    </tr>\n    <tr>\n      <th>4</th>\n      <td>5</td>\n      <td>113041</td>\n      <td>11862</td>\n    </tr>\n  </tbody>\n</table>\n</div>"
     },
     "metadata": {},
     "execution_count": 389
    }
   ],
   "source": [
    "print(links_small.info())\n",
    "links_small.head()"
   ]
  },
  {
   "source": [
    "### Movies dataframe preparation"
   ],
   "cell_type": "markdown",
   "metadata": {}
  },
  {
   "cell_type": "code",
   "execution_count": 390,
   "metadata": {},
   "outputs": [],
   "source": [
    "to_drop = list(movies[\n",
    "    movies['id'].isnull()\n",
    "].index)\n",
    "\n",
    "movies = movies.drop(to_drop)\n",
    "movies = movies.drop([19730, 29503, 35587])\n",
    "\n",
    "movies['id'] = movies['id'].astype('int')\n",
    "\n",
    "movies = movies.rename(columns={'id': 'tmdb_id'})\n",
    "\n",
    "movies['genres'] = movies['genres']\\\n",
    "    .apply(literal_eval)\\\n",
    "    .apply(lambda x: [i['name'] for i in x])\n",
    "\n",
    "movies['year'] = movies['release_date']\\\n",
    "    .apply(lambda x: str(x).split('-')[0] if x != np.nan else np.nan)\n",
    "\n",
    "movies['tagline'] = movies['tagline'].fillna('')\n",
    "movies['overview'] = movies['overview'].fillna('')\n",
    "\n",
    "movies['description'] = movies['overview'] + movies['tagline']\n",
    "movies['description'] = movies['description'].fillna('')\n",
    "\n",
    "# # collection column\n",
    "# metadata['belongs_to_collection'].fillna('{\\'name\\': \\'\\'}', inplace=True)\n",
    "# metadata['collection'] = metadata.progress_apply(lambda row: literal_eval(row['belongs_to_collection'])['name'], axis=1)"
   ]
  },
  {
   "cell_type": "code",
   "execution_count": 391,
   "metadata": {},
   "outputs": [
    {
     "output_type": "stream",
     "name": "stdout",
     "text": [
      "<class 'pandas.core.frame.DataFrame'>\nInt64Index: 45463 entries, 0 to 45465\nData columns (total 26 columns):\n #   Column                 Non-Null Count  Dtype  \n---  ------                 --------------  -----  \n 0   adult                  45463 non-null  object \n 1   belongs_to_collection  4491 non-null   object \n 2   budget                 45463 non-null  object \n 3   genres                 45463 non-null  object \n 4   homepage               7779 non-null   object \n 5   tmdb_id                45463 non-null  int64  \n 6   imdb_id                45446 non-null  object \n 7   original_language      45452 non-null  object \n 8   original_title         45463 non-null  object \n 9   overview               45463 non-null  object \n 10  popularity             45460 non-null  object \n 11  poster_path            45077 non-null  object \n 12  production_companies   45460 non-null  object \n 13  production_countries   45460 non-null  object \n 14  release_date           45376 non-null  object \n 15  revenue                45460 non-null  float64\n 16  runtime                45203 non-null  float64\n 17  spoken_languages       45460 non-null  object \n 18  status                 45379 non-null  object \n 19  tagline                45463 non-null  object \n 20  title                  45460 non-null  object \n 21  video                  45460 non-null  object \n 22  vote_average           45460 non-null  float64\n 23  vote_count             45460 non-null  float64\n 24  year                   45463 non-null  object \n 25  description            45463 non-null  object \ndtypes: float64(4), int64(1), object(21)\nmemory usage: 9.4+ MB\nNone\n"
     ]
    },
    {
     "output_type": "execute_result",
     "data": {
      "text/plain": [
       "   adult                              belongs_to_collection    budget  \\\n",
       "0  False  {'id': 10194, 'name': 'Toy Story Collection', ...  30000000   \n",
       "1  False                                                NaN  65000000   \n",
       "2  False  {'id': 119050, 'name': 'Grumpy Old Men Collect...         0   \n",
       "3  False                                                NaN  16000000   \n",
       "4  False  {'id': 96871, 'name': 'Father of the Bride Col...         0   \n",
       "\n",
       "                         genres                              homepage  \\\n",
       "0   [Animation, Comedy, Family]  http://toystory.disney.com/toy-story   \n",
       "1  [Adventure, Fantasy, Family]                                   NaN   \n",
       "2             [Romance, Comedy]                                   NaN   \n",
       "3      [Comedy, Drama, Romance]                                   NaN   \n",
       "4                      [Comedy]                                   NaN   \n",
       "\n",
       "   tmdb_id    imdb_id original_language               original_title  \\\n",
       "0      862  tt0114709                en                    Toy Story   \n",
       "1     8844  tt0113497                en                      Jumanji   \n",
       "2    15602  tt0113228                en             Grumpier Old Men   \n",
       "3    31357  tt0114885                en            Waiting to Exhale   \n",
       "4    11862  tt0113041                en  Father of the Bride Part II   \n",
       "\n",
       "                                            overview popularity  \\\n",
       "0  Led by Woody, Andy's toys live happily in his ...  21.946943   \n",
       "1  When siblings Judy and Peter discover an encha...  17.015539   \n",
       "2  A family wedding reignites the ancient feud be...    11.7129   \n",
       "3  Cheated on, mistreated and stepped on, the wom...   3.859495   \n",
       "4  Just when George Banks has recovered from his ...   8.387519   \n",
       "\n",
       "                        poster_path  \\\n",
       "0  /rhIRbceoE9lR4veEXuwCC2wARtG.jpg   \n",
       "1  /vzmL6fP7aPKNKPRTFnZmiUfciyV.jpg   \n",
       "2  /6ksm1sjKMFLbO7UY2i6G1ju9SML.jpg   \n",
       "3  /16XOMpEaLWkrcPqSQqhTmeJuqQl.jpg   \n",
       "4  /e64sOI48hQXyru7naBFyssKFxVd.jpg   \n",
       "\n",
       "                                production_companies  \\\n",
       "0     [{'name': 'Pixar Animation Studios', 'id': 3}]   \n",
       "1  [{'name': 'TriStar Pictures', 'id': 559}, {'na...   \n",
       "2  [{'name': 'Warner Bros.', 'id': 6194}, {'name'...   \n",
       "3  [{'name': 'Twentieth Century Fox Film Corporat...   \n",
       "4  [{'name': 'Sandollar Productions', 'id': 5842}...   \n",
       "\n",
       "                                production_countries release_date  \\\n",
       "0  [{'iso_3166_1': 'US', 'name': 'United States o...   1995-10-30   \n",
       "1  [{'iso_3166_1': 'US', 'name': 'United States o...   1995-12-15   \n",
       "2  [{'iso_3166_1': 'US', 'name': 'United States o...   1995-12-22   \n",
       "3  [{'iso_3166_1': 'US', 'name': 'United States o...   1995-12-22   \n",
       "4  [{'iso_3166_1': 'US', 'name': 'United States o...   1995-02-10   \n",
       "\n",
       "       revenue  runtime                                   spoken_languages  \\\n",
       "0  373554033.0     81.0           [{'iso_639_1': 'en', 'name': 'English'}]   \n",
       "1  262797249.0    104.0  [{'iso_639_1': 'en', 'name': 'English'}, {'iso...   \n",
       "2          0.0    101.0           [{'iso_639_1': 'en', 'name': 'English'}]   \n",
       "3   81452156.0    127.0           [{'iso_639_1': 'en', 'name': 'English'}]   \n",
       "4   76578911.0    106.0           [{'iso_639_1': 'en', 'name': 'English'}]   \n",
       "\n",
       "     status                                            tagline  \\\n",
       "0  Released                                                      \n",
       "1  Released          Roll the dice and unleash the excitement!   \n",
       "2  Released  Still Yelling. Still Fighting. Still Ready for...   \n",
       "3  Released  Friends are the people who let you be yourself...   \n",
       "4  Released  Just When His World Is Back To Normal... He's ...   \n",
       "\n",
       "                         title  video  vote_average  vote_count  year  \\\n",
       "0                    Toy Story  False           7.7      5415.0  1995   \n",
       "1                      Jumanji  False           6.9      2413.0  1995   \n",
       "2             Grumpier Old Men  False           6.5        92.0  1995   \n",
       "3            Waiting to Exhale  False           6.1        34.0  1995   \n",
       "4  Father of the Bride Part II  False           5.7       173.0  1995   \n",
       "\n",
       "                                         description  \n",
       "0  Led by Woody, Andy's toys live happily in his ...  \n",
       "1  When siblings Judy and Peter discover an encha...  \n",
       "2  A family wedding reignites the ancient feud be...  \n",
       "3  Cheated on, mistreated and stepped on, the wom...  \n",
       "4  Just when George Banks has recovered from his ...  "
      ],
      "text/html": "<div>\n<style scoped>\n    .dataframe tbody tr th:only-of-type {\n        vertical-align: middle;\n    }\n\n    .dataframe tbody tr th {\n        vertical-align: top;\n    }\n\n    .dataframe thead th {\n        text-align: right;\n    }\n</style>\n<table border=\"1\" class=\"dataframe\">\n  <thead>\n    <tr style=\"text-align: right;\">\n      <th></th>\n      <th>adult</th>\n      <th>belongs_to_collection</th>\n      <th>budget</th>\n      <th>genres</th>\n      <th>homepage</th>\n      <th>tmdb_id</th>\n      <th>imdb_id</th>\n      <th>original_language</th>\n      <th>original_title</th>\n      <th>overview</th>\n      <th>popularity</th>\n      <th>poster_path</th>\n      <th>production_companies</th>\n      <th>production_countries</th>\n      <th>release_date</th>\n      <th>revenue</th>\n      <th>runtime</th>\n      <th>spoken_languages</th>\n      <th>status</th>\n      <th>tagline</th>\n      <th>title</th>\n      <th>video</th>\n      <th>vote_average</th>\n      <th>vote_count</th>\n      <th>year</th>\n      <th>description</th>\n    </tr>\n  </thead>\n  <tbody>\n    <tr>\n      <th>0</th>\n      <td>False</td>\n      <td>{'id': 10194, 'name': 'Toy Story Collection', ...</td>\n      <td>30000000</td>\n      <td>[Animation, Comedy, Family]</td>\n      <td>http://toystory.disney.com/toy-story</td>\n      <td>862</td>\n      <td>tt0114709</td>\n      <td>en</td>\n      <td>Toy Story</td>\n      <td>Led by Woody, Andy's toys live happily in his ...</td>\n      <td>21.946943</td>\n      <td>/rhIRbceoE9lR4veEXuwCC2wARtG.jpg</td>\n      <td>[{'name': 'Pixar Animation Studios', 'id': 3}]</td>\n      <td>[{'iso_3166_1': 'US', 'name': 'United States o...</td>\n      <td>1995-10-30</td>\n      <td>373554033.0</td>\n      <td>81.0</td>\n      <td>[{'iso_639_1': 'en', 'name': 'English'}]</td>\n      <td>Released</td>\n      <td></td>\n      <td>Toy Story</td>\n      <td>False</td>\n      <td>7.7</td>\n      <td>5415.0</td>\n      <td>1995</td>\n      <td>Led by Woody, Andy's toys live happily in his ...</td>\n    </tr>\n    <tr>\n      <th>1</th>\n      <td>False</td>\n      <td>NaN</td>\n      <td>65000000</td>\n      <td>[Adventure, Fantasy, Family]</td>\n      <td>NaN</td>\n      <td>8844</td>\n      <td>tt0113497</td>\n      <td>en</td>\n      <td>Jumanji</td>\n      <td>When siblings Judy and Peter discover an encha...</td>\n      <td>17.015539</td>\n      <td>/vzmL6fP7aPKNKPRTFnZmiUfciyV.jpg</td>\n      <td>[{'name': 'TriStar Pictures', 'id': 559}, {'na...</td>\n      <td>[{'iso_3166_1': 'US', 'name': 'United States o...</td>\n      <td>1995-12-15</td>\n      <td>262797249.0</td>\n      <td>104.0</td>\n      <td>[{'iso_639_1': 'en', 'name': 'English'}, {'iso...</td>\n      <td>Released</td>\n      <td>Roll the dice and unleash the excitement!</td>\n      <td>Jumanji</td>\n      <td>False</td>\n      <td>6.9</td>\n      <td>2413.0</td>\n      <td>1995</td>\n      <td>When siblings Judy and Peter discover an encha...</td>\n    </tr>\n    <tr>\n      <th>2</th>\n      <td>False</td>\n      <td>{'id': 119050, 'name': 'Grumpy Old Men Collect...</td>\n      <td>0</td>\n      <td>[Romance, Comedy]</td>\n      <td>NaN</td>\n      <td>15602</td>\n      <td>tt0113228</td>\n      <td>en</td>\n      <td>Grumpier Old Men</td>\n      <td>A family wedding reignites the ancient feud be...</td>\n      <td>11.7129</td>\n      <td>/6ksm1sjKMFLbO7UY2i6G1ju9SML.jpg</td>\n      <td>[{'name': 'Warner Bros.', 'id': 6194}, {'name'...</td>\n      <td>[{'iso_3166_1': 'US', 'name': 'United States o...</td>\n      <td>1995-12-22</td>\n      <td>0.0</td>\n      <td>101.0</td>\n      <td>[{'iso_639_1': 'en', 'name': 'English'}]</td>\n      <td>Released</td>\n      <td>Still Yelling. Still Fighting. Still Ready for...</td>\n      <td>Grumpier Old Men</td>\n      <td>False</td>\n      <td>6.5</td>\n      <td>92.0</td>\n      <td>1995</td>\n      <td>A family wedding reignites the ancient feud be...</td>\n    </tr>\n    <tr>\n      <th>3</th>\n      <td>False</td>\n      <td>NaN</td>\n      <td>16000000</td>\n      <td>[Comedy, Drama, Romance]</td>\n      <td>NaN</td>\n      <td>31357</td>\n      <td>tt0114885</td>\n      <td>en</td>\n      <td>Waiting to Exhale</td>\n      <td>Cheated on, mistreated and stepped on, the wom...</td>\n      <td>3.859495</td>\n      <td>/16XOMpEaLWkrcPqSQqhTmeJuqQl.jpg</td>\n      <td>[{'name': 'Twentieth Century Fox Film Corporat...</td>\n      <td>[{'iso_3166_1': 'US', 'name': 'United States o...</td>\n      <td>1995-12-22</td>\n      <td>81452156.0</td>\n      <td>127.0</td>\n      <td>[{'iso_639_1': 'en', 'name': 'English'}]</td>\n      <td>Released</td>\n      <td>Friends are the people who let you be yourself...</td>\n      <td>Waiting to Exhale</td>\n      <td>False</td>\n      <td>6.1</td>\n      <td>34.0</td>\n      <td>1995</td>\n      <td>Cheated on, mistreated and stepped on, the wom...</td>\n    </tr>\n    <tr>\n      <th>4</th>\n      <td>False</td>\n      <td>{'id': 96871, 'name': 'Father of the Bride Col...</td>\n      <td>0</td>\n      <td>[Comedy]</td>\n      <td>NaN</td>\n      <td>11862</td>\n      <td>tt0113041</td>\n      <td>en</td>\n      <td>Father of the Bride Part II</td>\n      <td>Just when George Banks has recovered from his ...</td>\n      <td>8.387519</td>\n      <td>/e64sOI48hQXyru7naBFyssKFxVd.jpg</td>\n      <td>[{'name': 'Sandollar Productions', 'id': 5842}...</td>\n      <td>[{'iso_3166_1': 'US', 'name': 'United States o...</td>\n      <td>1995-02-10</td>\n      <td>76578911.0</td>\n      <td>106.0</td>\n      <td>[{'iso_639_1': 'en', 'name': 'English'}]</td>\n      <td>Released</td>\n      <td>Just When His World Is Back To Normal... He's ...</td>\n      <td>Father of the Bride Part II</td>\n      <td>False</td>\n      <td>5.7</td>\n      <td>173.0</td>\n      <td>1995</td>\n      <td>Just when George Banks has recovered from his ...</td>\n    </tr>\n  </tbody>\n</table>\n</div>"
     },
     "metadata": {},
     "execution_count": 391
    }
   ],
   "source": [
    "print(movies.info())\n",
    "movies.head()"
   ]
  },
  {
   "cell_type": "code",
   "execution_count": 392,
   "metadata": {},
   "outputs": [
    {
     "output_type": "execute_result",
     "data": {
      "text/plain": [
       "                                                                       0  \\\n",
       "adult                                                              False   \n",
       "belongs_to_collection  {'id': 10194, 'name': 'Toy Story Collection', ...   \n",
       "budget                                                          30000000   \n",
       "genres                                       [Animation, Comedy, Family]   \n",
       "homepage                            http://toystory.disney.com/toy-story   \n",
       "tmdb_id                                                              862   \n",
       "imdb_id                                                        tt0114709   \n",
       "original_language                                                     en   \n",
       "original_title                                                 Toy Story   \n",
       "overview               Led by Woody, Andy's toys live happily in his ...   \n",
       "popularity                                                     21.946943   \n",
       "poster_path                             /rhIRbceoE9lR4veEXuwCC2wARtG.jpg   \n",
       "production_companies      [{'name': 'Pixar Animation Studios', 'id': 3}]   \n",
       "production_countries   [{'iso_3166_1': 'US', 'name': 'United States o...   \n",
       "release_date                                                  1995-10-30   \n",
       "revenue                                                      373554033.0   \n",
       "runtime                                                             81.0   \n",
       "spoken_languages                [{'iso_639_1': 'en', 'name': 'English'}]   \n",
       "status                                                          Released   \n",
       "tagline                                                                    \n",
       "title                                                          Toy Story   \n",
       "video                                                              False   \n",
       "vote_average                                                         7.7   \n",
       "vote_count                                                        5415.0   \n",
       "year                                                                1995   \n",
       "description            Led by Woody, Andy's toys live happily in his ...   \n",
       "\n",
       "                                                                       1  \\\n",
       "adult                                                              False   \n",
       "belongs_to_collection                                                NaN   \n",
       "budget                                                          65000000   \n",
       "genres                                      [Adventure, Fantasy, Family]   \n",
       "homepage                                                             NaN   \n",
       "tmdb_id                                                             8844   \n",
       "imdb_id                                                        tt0113497   \n",
       "original_language                                                     en   \n",
       "original_title                                                   Jumanji   \n",
       "overview               When siblings Judy and Peter discover an encha...   \n",
       "popularity                                                     17.015539   \n",
       "poster_path                             /vzmL6fP7aPKNKPRTFnZmiUfciyV.jpg   \n",
       "production_companies   [{'name': 'TriStar Pictures', 'id': 559}, {'na...   \n",
       "production_countries   [{'iso_3166_1': 'US', 'name': 'United States o...   \n",
       "release_date                                                  1995-12-15   \n",
       "revenue                                                      262797249.0   \n",
       "runtime                                                            104.0   \n",
       "spoken_languages       [{'iso_639_1': 'en', 'name': 'English'}, {'iso...   \n",
       "status                                                          Released   \n",
       "tagline                        Roll the dice and unleash the excitement!   \n",
       "title                                                            Jumanji   \n",
       "video                                                              False   \n",
       "vote_average                                                         6.9   \n",
       "vote_count                                                        2413.0   \n",
       "year                                                                1995   \n",
       "description            When siblings Judy and Peter discover an encha...   \n",
       "\n",
       "                                                                       2  \\\n",
       "adult                                                              False   \n",
       "belongs_to_collection  {'id': 119050, 'name': 'Grumpy Old Men Collect...   \n",
       "budget                                                                 0   \n",
       "genres                                                 [Romance, Comedy]   \n",
       "homepage                                                             NaN   \n",
       "tmdb_id                                                            15602   \n",
       "imdb_id                                                        tt0113228   \n",
       "original_language                                                     en   \n",
       "original_title                                          Grumpier Old Men   \n",
       "overview               A family wedding reignites the ancient feud be...   \n",
       "popularity                                                       11.7129   \n",
       "poster_path                             /6ksm1sjKMFLbO7UY2i6G1ju9SML.jpg   \n",
       "production_companies   [{'name': 'Warner Bros.', 'id': 6194}, {'name'...   \n",
       "production_countries   [{'iso_3166_1': 'US', 'name': 'United States o...   \n",
       "release_date                                                  1995-12-22   \n",
       "revenue                                                              0.0   \n",
       "runtime                                                            101.0   \n",
       "spoken_languages                [{'iso_639_1': 'en', 'name': 'English'}]   \n",
       "status                                                          Released   \n",
       "tagline                Still Yelling. Still Fighting. Still Ready for...   \n",
       "title                                                   Grumpier Old Men   \n",
       "video                                                              False   \n",
       "vote_average                                                         6.5   \n",
       "vote_count                                                          92.0   \n",
       "year                                                                1995   \n",
       "description            A family wedding reignites the ancient feud be...   \n",
       "\n",
       "                                                                       3  \\\n",
       "adult                                                              False   \n",
       "belongs_to_collection                                                NaN   \n",
       "budget                                                          16000000   \n",
       "genres                                          [Comedy, Drama, Romance]   \n",
       "homepage                                                             NaN   \n",
       "tmdb_id                                                            31357   \n",
       "imdb_id                                                        tt0114885   \n",
       "original_language                                                     en   \n",
       "original_title                                         Waiting to Exhale   \n",
       "overview               Cheated on, mistreated and stepped on, the wom...   \n",
       "popularity                                                      3.859495   \n",
       "poster_path                             /16XOMpEaLWkrcPqSQqhTmeJuqQl.jpg   \n",
       "production_companies   [{'name': 'Twentieth Century Fox Film Corporat...   \n",
       "production_countries   [{'iso_3166_1': 'US', 'name': 'United States o...   \n",
       "release_date                                                  1995-12-22   \n",
       "revenue                                                       81452156.0   \n",
       "runtime                                                            127.0   \n",
       "spoken_languages                [{'iso_639_1': 'en', 'name': 'English'}]   \n",
       "status                                                          Released   \n",
       "tagline                Friends are the people who let you be yourself...   \n",
       "title                                                  Waiting to Exhale   \n",
       "video                                                              False   \n",
       "vote_average                                                         6.1   \n",
       "vote_count                                                          34.0   \n",
       "year                                                                1995   \n",
       "description            Cheated on, mistreated and stepped on, the wom...   \n",
       "\n",
       "                                                                       4  \n",
       "adult                                                              False  \n",
       "belongs_to_collection  {'id': 96871, 'name': 'Father of the Bride Col...  \n",
       "budget                                                                 0  \n",
       "genres                                                          [Comedy]  \n",
       "homepage                                                             NaN  \n",
       "tmdb_id                                                            11862  \n",
       "imdb_id                                                        tt0113041  \n",
       "original_language                                                     en  \n",
       "original_title                               Father of the Bride Part II  \n",
       "overview               Just when George Banks has recovered from his ...  \n",
       "popularity                                                      8.387519  \n",
       "poster_path                             /e64sOI48hQXyru7naBFyssKFxVd.jpg  \n",
       "production_companies   [{'name': 'Sandollar Productions', 'id': 5842}...  \n",
       "production_countries   [{'iso_3166_1': 'US', 'name': 'United States o...  \n",
       "release_date                                                  1995-02-10  \n",
       "revenue                                                       76578911.0  \n",
       "runtime                                                            106.0  \n",
       "spoken_languages                [{'iso_639_1': 'en', 'name': 'English'}]  \n",
       "status                                                          Released  \n",
       "tagline                Just When His World Is Back To Normal... He's ...  \n",
       "title                                        Father of the Bride Part II  \n",
       "video                                                              False  \n",
       "vote_average                                                         5.7  \n",
       "vote_count                                                         173.0  \n",
       "year                                                                1995  \n",
       "description            Just when George Banks has recovered from his ...  "
      ],
      "text/html": "<div>\n<style scoped>\n    .dataframe tbody tr th:only-of-type {\n        vertical-align: middle;\n    }\n\n    .dataframe tbody tr th {\n        vertical-align: top;\n    }\n\n    .dataframe thead th {\n        text-align: right;\n    }\n</style>\n<table border=\"1\" class=\"dataframe\">\n  <thead>\n    <tr style=\"text-align: right;\">\n      <th></th>\n      <th>0</th>\n      <th>1</th>\n      <th>2</th>\n      <th>3</th>\n      <th>4</th>\n    </tr>\n  </thead>\n  <tbody>\n    <tr>\n      <th>adult</th>\n      <td>False</td>\n      <td>False</td>\n      <td>False</td>\n      <td>False</td>\n      <td>False</td>\n    </tr>\n    <tr>\n      <th>belongs_to_collection</th>\n      <td>{'id': 10194, 'name': 'Toy Story Collection', ...</td>\n      <td>NaN</td>\n      <td>{'id': 119050, 'name': 'Grumpy Old Men Collect...</td>\n      <td>NaN</td>\n      <td>{'id': 96871, 'name': 'Father of the Bride Col...</td>\n    </tr>\n    <tr>\n      <th>budget</th>\n      <td>30000000</td>\n      <td>65000000</td>\n      <td>0</td>\n      <td>16000000</td>\n      <td>0</td>\n    </tr>\n    <tr>\n      <th>genres</th>\n      <td>[Animation, Comedy, Family]</td>\n      <td>[Adventure, Fantasy, Family]</td>\n      <td>[Romance, Comedy]</td>\n      <td>[Comedy, Drama, Romance]</td>\n      <td>[Comedy]</td>\n    </tr>\n    <tr>\n      <th>homepage</th>\n      <td>http://toystory.disney.com/toy-story</td>\n      <td>NaN</td>\n      <td>NaN</td>\n      <td>NaN</td>\n      <td>NaN</td>\n    </tr>\n    <tr>\n      <th>tmdb_id</th>\n      <td>862</td>\n      <td>8844</td>\n      <td>15602</td>\n      <td>31357</td>\n      <td>11862</td>\n    </tr>\n    <tr>\n      <th>imdb_id</th>\n      <td>tt0114709</td>\n      <td>tt0113497</td>\n      <td>tt0113228</td>\n      <td>tt0114885</td>\n      <td>tt0113041</td>\n    </tr>\n    <tr>\n      <th>original_language</th>\n      <td>en</td>\n      <td>en</td>\n      <td>en</td>\n      <td>en</td>\n      <td>en</td>\n    </tr>\n    <tr>\n      <th>original_title</th>\n      <td>Toy Story</td>\n      <td>Jumanji</td>\n      <td>Grumpier Old Men</td>\n      <td>Waiting to Exhale</td>\n      <td>Father of the Bride Part II</td>\n    </tr>\n    <tr>\n      <th>overview</th>\n      <td>Led by Woody, Andy's toys live happily in his ...</td>\n      <td>When siblings Judy and Peter discover an encha...</td>\n      <td>A family wedding reignites the ancient feud be...</td>\n      <td>Cheated on, mistreated and stepped on, the wom...</td>\n      <td>Just when George Banks has recovered from his ...</td>\n    </tr>\n    <tr>\n      <th>popularity</th>\n      <td>21.946943</td>\n      <td>17.015539</td>\n      <td>11.7129</td>\n      <td>3.859495</td>\n      <td>8.387519</td>\n    </tr>\n    <tr>\n      <th>poster_path</th>\n      <td>/rhIRbceoE9lR4veEXuwCC2wARtG.jpg</td>\n      <td>/vzmL6fP7aPKNKPRTFnZmiUfciyV.jpg</td>\n      <td>/6ksm1sjKMFLbO7UY2i6G1ju9SML.jpg</td>\n      <td>/16XOMpEaLWkrcPqSQqhTmeJuqQl.jpg</td>\n      <td>/e64sOI48hQXyru7naBFyssKFxVd.jpg</td>\n    </tr>\n    <tr>\n      <th>production_companies</th>\n      <td>[{'name': 'Pixar Animation Studios', 'id': 3}]</td>\n      <td>[{'name': 'TriStar Pictures', 'id': 559}, {'na...</td>\n      <td>[{'name': 'Warner Bros.', 'id': 6194}, {'name'...</td>\n      <td>[{'name': 'Twentieth Century Fox Film Corporat...</td>\n      <td>[{'name': 'Sandollar Productions', 'id': 5842}...</td>\n    </tr>\n    <tr>\n      <th>production_countries</th>\n      <td>[{'iso_3166_1': 'US', 'name': 'United States o...</td>\n      <td>[{'iso_3166_1': 'US', 'name': 'United States o...</td>\n      <td>[{'iso_3166_1': 'US', 'name': 'United States o...</td>\n      <td>[{'iso_3166_1': 'US', 'name': 'United States o...</td>\n      <td>[{'iso_3166_1': 'US', 'name': 'United States o...</td>\n    </tr>\n    <tr>\n      <th>release_date</th>\n      <td>1995-10-30</td>\n      <td>1995-12-15</td>\n      <td>1995-12-22</td>\n      <td>1995-12-22</td>\n      <td>1995-02-10</td>\n    </tr>\n    <tr>\n      <th>revenue</th>\n      <td>373554033.0</td>\n      <td>262797249.0</td>\n      <td>0.0</td>\n      <td>81452156.0</td>\n      <td>76578911.0</td>\n    </tr>\n    <tr>\n      <th>runtime</th>\n      <td>81.0</td>\n      <td>104.0</td>\n      <td>101.0</td>\n      <td>127.0</td>\n      <td>106.0</td>\n    </tr>\n    <tr>\n      <th>spoken_languages</th>\n      <td>[{'iso_639_1': 'en', 'name': 'English'}]</td>\n      <td>[{'iso_639_1': 'en', 'name': 'English'}, {'iso...</td>\n      <td>[{'iso_639_1': 'en', 'name': 'English'}]</td>\n      <td>[{'iso_639_1': 'en', 'name': 'English'}]</td>\n      <td>[{'iso_639_1': 'en', 'name': 'English'}]</td>\n    </tr>\n    <tr>\n      <th>status</th>\n      <td>Released</td>\n      <td>Released</td>\n      <td>Released</td>\n      <td>Released</td>\n      <td>Released</td>\n    </tr>\n    <tr>\n      <th>tagline</th>\n      <td></td>\n      <td>Roll the dice and unleash the excitement!</td>\n      <td>Still Yelling. Still Fighting. Still Ready for...</td>\n      <td>Friends are the people who let you be yourself...</td>\n      <td>Just When His World Is Back To Normal... He's ...</td>\n    </tr>\n    <tr>\n      <th>title</th>\n      <td>Toy Story</td>\n      <td>Jumanji</td>\n      <td>Grumpier Old Men</td>\n      <td>Waiting to Exhale</td>\n      <td>Father of the Bride Part II</td>\n    </tr>\n    <tr>\n      <th>video</th>\n      <td>False</td>\n      <td>False</td>\n      <td>False</td>\n      <td>False</td>\n      <td>False</td>\n    </tr>\n    <tr>\n      <th>vote_average</th>\n      <td>7.7</td>\n      <td>6.9</td>\n      <td>6.5</td>\n      <td>6.1</td>\n      <td>5.7</td>\n    </tr>\n    <tr>\n      <th>vote_count</th>\n      <td>5415.0</td>\n      <td>2413.0</td>\n      <td>92.0</td>\n      <td>34.0</td>\n      <td>173.0</td>\n    </tr>\n    <tr>\n      <th>year</th>\n      <td>1995</td>\n      <td>1995</td>\n      <td>1995</td>\n      <td>1995</td>\n      <td>1995</td>\n    </tr>\n    <tr>\n      <th>description</th>\n      <td>Led by Woody, Andy's toys live happily in his ...</td>\n      <td>When siblings Judy and Peter discover an encha...</td>\n      <td>A family wedding reignites the ancient feud be...</td>\n      <td>Cheated on, mistreated and stepped on, the wom...</td>\n      <td>Just when George Banks has recovered from his ...</td>\n    </tr>\n  </tbody>\n</table>\n</div>"
     },
     "metadata": {},
     "execution_count": 392
    }
   ],
   "source": [
    "movies.head().transpose()"
   ]
  },
  {
   "source": [
    "### Ratings dataframe preparation"
   ],
   "cell_type": "markdown",
   "metadata": {}
  },
  {
   "cell_type": "code",
   "execution_count": 393,
   "metadata": {},
   "outputs": [],
   "source": [
    "ratings_small.columns = ['user_id', 'movie_id', 'rating', 'timestamp']"
   ]
  },
  {
   "cell_type": "code",
   "execution_count": 394,
   "metadata": {},
   "outputs": [
    {
     "output_type": "stream",
     "name": "stdout",
     "text": [
      "<class 'pandas.core.frame.DataFrame'>\nRangeIndex: 100004 entries, 0 to 100003\nData columns (total 4 columns):\n #   Column     Non-Null Count   Dtype  \n---  ------     --------------   -----  \n 0   user_id    100004 non-null  int64  \n 1   movie_id   100004 non-null  int64  \n 2   rating     100004 non-null  float64\n 3   timestamp  100004 non-null  int64  \ndtypes: float64(1), int64(3)\nmemory usage: 3.1 MB\nNone\n"
     ]
    },
    {
     "output_type": "execute_result",
     "data": {
      "text/plain": [
       "   user_id  movie_id  rating   timestamp\n",
       "0        1        31     2.5  1260759144\n",
       "1        1      1029     3.0  1260759179\n",
       "2        1      1061     3.0  1260759182\n",
       "3        1      1129     2.0  1260759185\n",
       "4        1      1172     4.0  1260759205"
      ],
      "text/html": "<div>\n<style scoped>\n    .dataframe tbody tr th:only-of-type {\n        vertical-align: middle;\n    }\n\n    .dataframe tbody tr th {\n        vertical-align: top;\n    }\n\n    .dataframe thead th {\n        text-align: right;\n    }\n</style>\n<table border=\"1\" class=\"dataframe\">\n  <thead>\n    <tr style=\"text-align: right;\">\n      <th></th>\n      <th>user_id</th>\n      <th>movie_id</th>\n      <th>rating</th>\n      <th>timestamp</th>\n    </tr>\n  </thead>\n  <tbody>\n    <tr>\n      <th>0</th>\n      <td>1</td>\n      <td>31</td>\n      <td>2.5</td>\n      <td>1260759144</td>\n    </tr>\n    <tr>\n      <th>1</th>\n      <td>1</td>\n      <td>1029</td>\n      <td>3.0</td>\n      <td>1260759179</td>\n    </tr>\n    <tr>\n      <th>2</th>\n      <td>1</td>\n      <td>1061</td>\n      <td>3.0</td>\n      <td>1260759182</td>\n    </tr>\n    <tr>\n      <th>3</th>\n      <td>1</td>\n      <td>1129</td>\n      <td>2.0</td>\n      <td>1260759185</td>\n    </tr>\n    <tr>\n      <th>4</th>\n      <td>1</td>\n      <td>1172</td>\n      <td>4.0</td>\n      <td>1260759205</td>\n    </tr>\n  </tbody>\n</table>\n</div>"
     },
     "metadata": {},
     "execution_count": 394
    }
   ],
   "source": [
    "print(ratings_small.info())\n",
    "ratings_small.head()"
   ]
  },
  {
   "source": [
    "### Simple recomendation"
   ],
   "cell_type": "markdown",
   "metadata": {}
  },
  {
   "source": [
    "IMDB's weighted rating formula:\n",
    "\n",
    "$WR = (\\frac{v}{v + m} . R) + (\\frac{m}{v + m} . C)$\n",
    "```\n",
    "where,\n",
    "    v is the number of votes for the movie\n",
    "    m is the minimum votes required to be listed in the chart\n",
    "    R is the average rating of the movie\n",
    "    C is the mean vote across the whole report\n",
    "```"
   ],
   "cell_type": "markdown",
   "metadata": {}
  },
  {
   "cell_type": "code",
   "execution_count": 395,
   "metadata": {},
   "outputs": [
    {
     "output_type": "stream",
     "name": "stdout",
     "text": [
      "C: 5.618207215134184\nm: 160.0\n"
     ]
    }
   ],
   "source": [
    "# v\n",
    "vote_counts = movies[movies['vote_count'].notnull()]['vote_count'].astype('int')\n",
    "\n",
    "# R\n",
    "vote_averages = movies[movies['vote_average'].notnull()]['vote_average']\n",
    "\n",
    "# C\n",
    "C = vote_averages.mean()\n",
    "\n",
    "# m\n",
    "m = vote_counts.quantile(0.9)\n",
    "\n",
    "# print(f'v: {vote_counts}')\n",
    "# print(f'R: {vote_averages}')\n",
    "print(f'C: {C}')\n",
    "print(f'm: {m}')"
   ]
  },
  {
   "cell_type": "code",
   "execution_count": 396,
   "metadata": {},
   "outputs": [
    {
     "output_type": "execute_result",
     "data": {
      "text/plain": [
       "(4555, 7)"
      ]
     },
     "metadata": {},
     "execution_count": 396
    }
   ],
   "source": [
    "to_recommend = movies[\n",
    "    (movies['vote_count'] >= m) & \n",
    "    (movies['vote_count'].notnull()) & \n",
    "    (movies['vote_average'].notnull())\n",
    "][['title', 'year', 'original_language','vote_count', \n",
    "   'vote_average', 'popularity', 'genres']]\n",
    "\n",
    "to_recommend.rename(columns={'original_language': 'language'}, inplace=True)\n",
    "\n",
    "to_recommend['vote_count'] = to_recommend['vote_count'].astype('int')\n",
    "to_recommend.shape"
   ]
  },
  {
   "cell_type": "code",
   "execution_count": 397,
   "metadata": {},
   "outputs": [],
   "source": [
    "def weighted_rating(x):\n",
    "    v = x['vote_count']\n",
    "    R = x['vote_average']\n",
    "    wr = (v/(v+m) * R) + (m/(m+v) * C)\n",
    "    return wr\n",
    "\n",
    "\n",
    "to_recommend['weighted_rating'] = to_recommend.apply(weighted_rating, axis=1)\n",
    "\n",
    "to_recommend = to_recommend.sort_values('weighted_rating', ascending=False)"
   ]
  },
  {
   "cell_type": "code",
   "execution_count": 398,
   "metadata": {},
   "outputs": [
    {
     "output_type": "execute_result",
     "data": {
      "text/plain": [
       "                                 title  year language  vote_count  \\\n",
       "314           The Shawshank Redemption  1994       en        8358   \n",
       "834                      The Godfather  1972       en        6024   \n",
       "10309      Dilwale Dulhania Le Jayenge  1995       hi         661   \n",
       "12481                  The Dark Knight  2008       en       12269   \n",
       "2843                        Fight Club  1999       en        9678   \n",
       "292                       Pulp Fiction  1994       en        8670   \n",
       "522                   Schindler's List  1993       en        4436   \n",
       "23673                         Whiplash  2014       en        4376   \n",
       "5481                     Spirited Away  2001       ja        3968   \n",
       "2211                 Life Is Beautiful  1997       it        3643   \n",
       "1178            The Godfather: Part II  1974       en        3418   \n",
       "1152   One Flew Over the Cuckoo's Nest  1975       en        3001   \n",
       "351                       Forrest Gump  1994       en        8147   \n",
       "1154           The Empire Strikes Back  1980       en        5998   \n",
       "1176                            Psycho  1960       en        2405   \n",
       "18465                 The Intouchables  2011       fr        5410   \n",
       "40251                       Your Name.  2016       ja        1030   \n",
       "289             Leon: The Professional  1994       fr        4293   \n",
       "3030                    The Green Mile  1999       en        4166   \n",
       "1170                        GoodFellas  1990       en        3211   \n",
       "\n",
       "       vote_average  popularity                                   genres  \\\n",
       "314             8.5   51.645403                           [Drama, Crime]   \n",
       "834             8.5   41.109264                           [Drama, Crime]   \n",
       "10309           9.1   34.457024                 [Comedy, Drama, Romance]   \n",
       "12481           8.3  123.167259         [Drama, Action, Crime, Thriller]   \n",
       "2843            8.3   63.869599                                  [Drama]   \n",
       "292             8.3  140.950236                        [Thriller, Crime]   \n",
       "522             8.3   41.725123                    [Drama, History, War]   \n",
       "23673           8.3    64.29999                                  [Drama]   \n",
       "5481            8.3   41.048867  [Fantasy, Adventure, Animation, Family]   \n",
       "2211            8.3    39.39497                          [Comedy, Drama]   \n",
       "1178            8.3   36.629307                           [Drama, Crime]   \n",
       "1152            8.3   35.529554                                  [Drama]   \n",
       "351             8.2   48.307194                 [Comedy, Drama, Romance]   \n",
       "1154            8.2   19.470959     [Adventure, Action, Science Fiction]   \n",
       "1176            8.3   36.826309                [Drama, Horror, Thriller]   \n",
       "18465           8.2   16.086919                          [Drama, Comedy]   \n",
       "40251           8.5   34.461252              [Romance, Animation, Drama]   \n",
       "289             8.2   20.477329                 [Thriller, Crime, Drama]   \n",
       "3030            8.2    19.96678                  [Fantasy, Drama, Crime]   \n",
       "1170            8.2   15.424092                           [Drama, Crime]   \n",
       "\n",
       "       weighted_rating  \n",
       "314           8.445869  \n",
       "834           8.425439  \n",
       "10309         8.421453  \n",
       "12481         8.265477  \n",
       "2843          8.256385  \n",
       "292           8.251406  \n",
       "522           8.206639  \n",
       "23673         8.205404  \n",
       "5481          8.196055  \n",
       "2211          8.187171  \n",
       "1178          8.180076  \n",
       "1152          8.164256  \n",
       "351           8.150272  \n",
       "1154          8.132919  \n",
       "1176          8.132715  \n",
       "18465         8.125837  \n",
       "40251         8.112532  \n",
       "289           8.107234  \n",
       "3030          8.104511  \n",
       "1170          8.077459  "
      ],
      "text/html": "<div>\n<style scoped>\n    .dataframe tbody tr th:only-of-type {\n        vertical-align: middle;\n    }\n\n    .dataframe tbody tr th {\n        vertical-align: top;\n    }\n\n    .dataframe thead th {\n        text-align: right;\n    }\n</style>\n<table border=\"1\" class=\"dataframe\">\n  <thead>\n    <tr style=\"text-align: right;\">\n      <th></th>\n      <th>title</th>\n      <th>year</th>\n      <th>language</th>\n      <th>vote_count</th>\n      <th>vote_average</th>\n      <th>popularity</th>\n      <th>genres</th>\n      <th>weighted_rating</th>\n    </tr>\n  </thead>\n  <tbody>\n    <tr>\n      <th>314</th>\n      <td>The Shawshank Redemption</td>\n      <td>1994</td>\n      <td>en</td>\n      <td>8358</td>\n      <td>8.5</td>\n      <td>51.645403</td>\n      <td>[Drama, Crime]</td>\n      <td>8.445869</td>\n    </tr>\n    <tr>\n      <th>834</th>\n      <td>The Godfather</td>\n      <td>1972</td>\n      <td>en</td>\n      <td>6024</td>\n      <td>8.5</td>\n      <td>41.109264</td>\n      <td>[Drama, Crime]</td>\n      <td>8.425439</td>\n    </tr>\n    <tr>\n      <th>10309</th>\n      <td>Dilwale Dulhania Le Jayenge</td>\n      <td>1995</td>\n      <td>hi</td>\n      <td>661</td>\n      <td>9.1</td>\n      <td>34.457024</td>\n      <td>[Comedy, Drama, Romance]</td>\n      <td>8.421453</td>\n    </tr>\n    <tr>\n      <th>12481</th>\n      <td>The Dark Knight</td>\n      <td>2008</td>\n      <td>en</td>\n      <td>12269</td>\n      <td>8.3</td>\n      <td>123.167259</td>\n      <td>[Drama, Action, Crime, Thriller]</td>\n      <td>8.265477</td>\n    </tr>\n    <tr>\n      <th>2843</th>\n      <td>Fight Club</td>\n      <td>1999</td>\n      <td>en</td>\n      <td>9678</td>\n      <td>8.3</td>\n      <td>63.869599</td>\n      <td>[Drama]</td>\n      <td>8.256385</td>\n    </tr>\n    <tr>\n      <th>292</th>\n      <td>Pulp Fiction</td>\n      <td>1994</td>\n      <td>en</td>\n      <td>8670</td>\n      <td>8.3</td>\n      <td>140.950236</td>\n      <td>[Thriller, Crime]</td>\n      <td>8.251406</td>\n    </tr>\n    <tr>\n      <th>522</th>\n      <td>Schindler's List</td>\n      <td>1993</td>\n      <td>en</td>\n      <td>4436</td>\n      <td>8.3</td>\n      <td>41.725123</td>\n      <td>[Drama, History, War]</td>\n      <td>8.206639</td>\n    </tr>\n    <tr>\n      <th>23673</th>\n      <td>Whiplash</td>\n      <td>2014</td>\n      <td>en</td>\n      <td>4376</td>\n      <td>8.3</td>\n      <td>64.29999</td>\n      <td>[Drama]</td>\n      <td>8.205404</td>\n    </tr>\n    <tr>\n      <th>5481</th>\n      <td>Spirited Away</td>\n      <td>2001</td>\n      <td>ja</td>\n      <td>3968</td>\n      <td>8.3</td>\n      <td>41.048867</td>\n      <td>[Fantasy, Adventure, Animation, Family]</td>\n      <td>8.196055</td>\n    </tr>\n    <tr>\n      <th>2211</th>\n      <td>Life Is Beautiful</td>\n      <td>1997</td>\n      <td>it</td>\n      <td>3643</td>\n      <td>8.3</td>\n      <td>39.39497</td>\n      <td>[Comedy, Drama]</td>\n      <td>8.187171</td>\n    </tr>\n    <tr>\n      <th>1178</th>\n      <td>The Godfather: Part II</td>\n      <td>1974</td>\n      <td>en</td>\n      <td>3418</td>\n      <td>8.3</td>\n      <td>36.629307</td>\n      <td>[Drama, Crime]</td>\n      <td>8.180076</td>\n    </tr>\n    <tr>\n      <th>1152</th>\n      <td>One Flew Over the Cuckoo's Nest</td>\n      <td>1975</td>\n      <td>en</td>\n      <td>3001</td>\n      <td>8.3</td>\n      <td>35.529554</td>\n      <td>[Drama]</td>\n      <td>8.164256</td>\n    </tr>\n    <tr>\n      <th>351</th>\n      <td>Forrest Gump</td>\n      <td>1994</td>\n      <td>en</td>\n      <td>8147</td>\n      <td>8.2</td>\n      <td>48.307194</td>\n      <td>[Comedy, Drama, Romance]</td>\n      <td>8.150272</td>\n    </tr>\n    <tr>\n      <th>1154</th>\n      <td>The Empire Strikes Back</td>\n      <td>1980</td>\n      <td>en</td>\n      <td>5998</td>\n      <td>8.2</td>\n      <td>19.470959</td>\n      <td>[Adventure, Action, Science Fiction]</td>\n      <td>8.132919</td>\n    </tr>\n    <tr>\n      <th>1176</th>\n      <td>Psycho</td>\n      <td>1960</td>\n      <td>en</td>\n      <td>2405</td>\n      <td>8.3</td>\n      <td>36.826309</td>\n      <td>[Drama, Horror, Thriller]</td>\n      <td>8.132715</td>\n    </tr>\n    <tr>\n      <th>18465</th>\n      <td>The Intouchables</td>\n      <td>2011</td>\n      <td>fr</td>\n      <td>5410</td>\n      <td>8.2</td>\n      <td>16.086919</td>\n      <td>[Drama, Comedy]</td>\n      <td>8.125837</td>\n    </tr>\n    <tr>\n      <th>40251</th>\n      <td>Your Name.</td>\n      <td>2016</td>\n      <td>ja</td>\n      <td>1030</td>\n      <td>8.5</td>\n      <td>34.461252</td>\n      <td>[Romance, Animation, Drama]</td>\n      <td>8.112532</td>\n    </tr>\n    <tr>\n      <th>289</th>\n      <td>Leon: The Professional</td>\n      <td>1994</td>\n      <td>fr</td>\n      <td>4293</td>\n      <td>8.2</td>\n      <td>20.477329</td>\n      <td>[Thriller, Crime, Drama]</td>\n      <td>8.107234</td>\n    </tr>\n    <tr>\n      <th>3030</th>\n      <td>The Green Mile</td>\n      <td>1999</td>\n      <td>en</td>\n      <td>4166</td>\n      <td>8.2</td>\n      <td>19.96678</td>\n      <td>[Fantasy, Drama, Crime]</td>\n      <td>8.104511</td>\n    </tr>\n    <tr>\n      <th>1170</th>\n      <td>GoodFellas</td>\n      <td>1990</td>\n      <td>en</td>\n      <td>3211</td>\n      <td>8.2</td>\n      <td>15.424092</td>\n      <td>[Drama, Crime]</td>\n      <td>8.077459</td>\n    </tr>\n  </tbody>\n</table>\n</div>"
     },
     "metadata": {},
     "execution_count": 398
    }
   ],
   "source": [
    "to_recommend.head(20)"
   ]
  },
  {
   "source": [
    "### Collaborative Filtering"
   ],
   "cell_type": "markdown",
   "metadata": {}
  },
  {
   "cell_type": "code",
   "execution_count": 399,
   "metadata": {},
   "outputs": [
    {
     "output_type": "stream",
     "name": "stdout",
     "text": [
      "Evaluating RMSE, MAE of algorithm SVD on 5 split(s).\n\n                  Fold 1  Fold 2  Fold 3  Fold 4  Fold 5  Mean    Std     \nRMSE (testset)    0.8890  0.9027  0.9017  0.8996  0.8926  0.8971  0.0054  \nMAE (testset)     0.6839  0.6932  0.6918  0.6926  0.6881  0.6899  0.0035  \nFit time          5.06    5.06    5.05    5.05    5.09    5.06    0.01    \nTest time         0.13    0.13    0.13    0.13    0.14    0.13    0.00    \n"
     ]
    },
    {
     "output_type": "execute_result",
     "data": {
      "text/plain": [
       "{'test_rmse': array([0.88900472, 0.90269948, 0.90174487, 0.89956323, 0.89256907]),\n",
       " 'test_mae': array([0.68388952, 0.69320802, 0.69179952, 0.69261517, 0.68812736]),\n",
       " 'fit_time': (5.063357830047607,\n",
       "  5.064008951187134,\n",
       "  5.0544421672821045,\n",
       "  5.052011966705322,\n",
       "  5.090696811676025),\n",
       " 'test_time': (0.13465380668640137,\n",
       "  0.13336610794067383,\n",
       "  0.1346750259399414,\n",
       "  0.1337568759918213,\n",
       "  0.13822484016418457)}"
      ]
     },
     "metadata": {},
     "execution_count": 399
    }
   ],
   "source": [
    "# reader = Reader(rating_scale=(0.5, 5)) \n",
    "reader = Reader()\n",
    "\n",
    "ratings_df = Dataset.load_from_df(ratings_small[['user_id', 'movie_id', 'rating']], reader)\n",
    "\n",
    "svd = SVD()\n",
    "\n",
    "# Run 5-fold cross-validation and print results\n",
    "cross_validate(svd, ratings_df, measures=['RMSE', 'MAE'], cv=5, verbose=True)"
   ]
  },
  {
   "cell_type": "code",
   "execution_count": 400,
   "metadata": {},
   "outputs": [
    {
     "output_type": "execute_result",
     "data": {
      "text/plain": [
       "<surprise.prediction_algorithms.matrix_factorization.SVD at 0x1de531d60>"
      ]
     },
     "metadata": {},
     "execution_count": 400
    }
   ],
   "source": [
    "trainset = ratings_df.build_full_trainset()\n",
    "\n",
    "svd.fit(trainset)"
   ]
  },
  {
   "source": [
    "### Content-based"
   ],
   "cell_type": "markdown",
   "metadata": {}
  },
  {
   "cell_type": "code",
   "execution_count": 401,
   "metadata": {},
   "outputs": [
    {
     "output_type": "execute_result",
     "data": {
      "text/plain": [
       "(9099, 26)"
      ]
     },
     "metadata": {},
     "execution_count": 401
    }
   ],
   "source": [
    "movies_in_links = movies[\n",
    "    movies['tmdb_id'].isin(links_small['tmdb_id'])\n",
    "]\n",
    "\n",
    "movies_in_links.shape"
   ]
  },
  {
   "cell_type": "code",
   "execution_count": 402,
   "metadata": {},
   "outputs": [
    {
     "output_type": "stream",
     "name": "stdout",
     "text": [
      "<class 'pandas.core.frame.DataFrame'>\nInt64Index: 9099 entries, 0 to 45265\nData columns (total 26 columns):\n #   Column                 Non-Null Count  Dtype  \n---  ------                 --------------  -----  \n 0   adult                  9099 non-null   object \n 1   belongs_to_collection  1674 non-null   object \n 2   budget                 9099 non-null   object \n 3   genres                 9099 non-null   object \n 4   homepage               1974 non-null   object \n 5   tmdb_id                9099 non-null   int64  \n 6   imdb_id                9099 non-null   object \n 7   original_language      9099 non-null   object \n 8   original_title         9099 non-null   object \n 9   overview               9099 non-null   object \n 10  popularity             9099 non-null   object \n 11  poster_path            9096 non-null   object \n 12  production_companies   9099 non-null   object \n 13  production_countries   9099 non-null   object \n 14  release_date           9099 non-null   object \n 15  revenue                9099 non-null   float64\n 16  runtime                9099 non-null   float64\n 17  spoken_languages       9099 non-null   object \n 18  status                 9097 non-null   object \n 19  tagline                9099 non-null   object \n 20  title                  9099 non-null   object \n 21  video                  9099 non-null   object \n 22  vote_average           9099 non-null   float64\n 23  vote_count             9099 non-null   float64\n 24  year                   9099 non-null   object \n 25  description            9099 non-null   object \ndtypes: float64(4), int64(1), object(21)\nmemory usage: 1.9+ MB\n"
     ]
    }
   ],
   "source": [
    "movies_in_links.info()"
   ]
  },
  {
   "cell_type": "code",
   "execution_count": 403,
   "metadata": {},
   "outputs": [],
   "source": [
    "tf = TfidfVectorizer(\n",
    "    analyzer='word', \n",
    "    ngram_range=(1, 2), \n",
    "    min_df=0, \n",
    "    stop_words='english'\n",
    ")\n",
    "\n",
    "tfidf_matrix = tf.fit_transform(movies_in_links['description'])"
   ]
  },
  {
   "cell_type": "code",
   "execution_count": 404,
   "metadata": {},
   "outputs": [
    {
     "output_type": "execute_result",
     "data": {
      "text/plain": [
       "(9099, 268124)"
      ]
     },
     "metadata": {},
     "execution_count": 404
    }
   ],
   "source": [
    "tfidf_matrix.shape"
   ]
  },
  {
   "cell_type": "code",
   "execution_count": 405,
   "metadata": {},
   "outputs": [
    {
     "output_type": "execute_result",
     "data": {
      "text/plain": [
       "(9099, 9099)"
      ]
     },
     "metadata": {},
     "execution_count": 405
    }
   ],
   "source": [
    "# http://scikit-learn.org/stable/modules/metrics.html#linear-kernel\n",
    "cosine_sim = linear_kernel(tfidf_matrix, tfidf_matrix)\n",
    "\n",
    "cosine_sim.shape"
   ]
  },
  {
   "cell_type": "code",
   "execution_count": 406,
   "metadata": {},
   "outputs": [
    {
     "output_type": "execute_result",
     "data": {
      "text/plain": [
       "title\n",
       "Toy Story                      0\n",
       "Jumanji                        1\n",
       "Grumpier Old Men               2\n",
       "Waiting to Exhale              3\n",
       "Father of the Bride Part II    4\n",
       "dtype: int64"
      ]
     },
     "metadata": {},
     "execution_count": 406
    }
   ],
   "source": [
    "movies_in_links = movies_in_links.reset_index()\n",
    "titles = movies_in_links['title']\n",
    "indices = pd.Series(movies_in_links.index, index=movies_in_links['title'])\n",
    "\n",
    "indices.head()"
   ]
  },
  {
   "source": [
    "### Hybrid recommendation system"
   ],
   "cell_type": "markdown",
   "metadata": {}
  },
  {
   "cell_type": "code",
   "execution_count": 407,
   "metadata": {},
   "outputs": [],
   "source": [
    "id_map = links_small[['movie_id', 'tmdb_id']]\n",
    "id_map = id_map.merge(movies_in_links[['title', 'tmdb_id']], on='tmdb_id').set_index('title')"
   ]
  },
  {
   "cell_type": "code",
   "execution_count": 409,
   "metadata": {},
   "outputs": [],
   "source": [
    "indices_map = id_map.set_index('tmdb_id')"
   ]
  },
  {
   "cell_type": "code",
   "execution_count": 415,
   "metadata": {},
   "outputs": [],
   "source": [
    "def hybrid(userId, title):\n",
    "    idx = indices[title]\n",
    "    tmdb_id = id_map.loc[title]['tmdb_id']\n",
    "    movie_id = id_map.loc[title]['movie_id']\n",
    "\n",
    "    sim_scores = list(enumerate(cosine_sim[int(idx)]))\n",
    "    sim_scores = sorted(sim_scores, key=lambda x: x[1], reverse=True)\n",
    "    sim_scores = sim_scores[1:26]\n",
    "\n",
    "    movie_indices = [i[0] for i in sim_scores]\n",
    "    movies = movies_in_links.iloc[movie_indices][['title', 'vote_count', 'vote_average', 'release_date', 'tmdb_id']]\n",
    "    movies['est'] = movies['tmdb_id'].apply(lambda x: svd.predict(userId, indices_map.loc[x]['movie_id']).est)\n",
    "    movies = movies.sort_values('est', ascending=False)\n",
    "\n",
    "    return movies.head(10)"
   ]
  },
  {
   "cell_type": "code",
   "execution_count": 430,
   "metadata": {},
   "outputs": [
    {
     "output_type": "execute_result",
     "data": {
      "text/plain": [
       "    user_id  movie_id  rating   timestamp\n",
       "49        3       480     3.0  1048076925\n",
       "50        3       500     2.0  1048076945\n",
       "51        3       527     4.0  1048076900\n",
       "52        3       858     4.0  1048076945\n",
       "53        3      1092     3.0  1048076995\n",
       "54        3      1097     3.0  1048076961\n",
       "55        3      1270     3.0  1048076976\n",
       "56        3      1968     3.0  1048077048\n",
       "57        3      3101     3.0  1048076830\n",
       "58        3      4474     3.0  1048077030"
      ],
      "text/html": "<div>\n<style scoped>\n    .dataframe tbody tr th:only-of-type {\n        vertical-align: middle;\n    }\n\n    .dataframe tbody tr th {\n        vertical-align: top;\n    }\n\n    .dataframe thead th {\n        text-align: right;\n    }\n</style>\n<table border=\"1\" class=\"dataframe\">\n  <thead>\n    <tr style=\"text-align: right;\">\n      <th></th>\n      <th>user_id</th>\n      <th>movie_id</th>\n      <th>rating</th>\n      <th>timestamp</th>\n    </tr>\n  </thead>\n  <tbody>\n    <tr>\n      <th>49</th>\n      <td>3</td>\n      <td>480</td>\n      <td>3.0</td>\n      <td>1048076925</td>\n    </tr>\n    <tr>\n      <th>50</th>\n      <td>3</td>\n      <td>500</td>\n      <td>2.0</td>\n      <td>1048076945</td>\n    </tr>\n    <tr>\n      <th>51</th>\n      <td>3</td>\n      <td>527</td>\n      <td>4.0</td>\n      <td>1048076900</td>\n    </tr>\n    <tr>\n      <th>52</th>\n      <td>3</td>\n      <td>858</td>\n      <td>4.0</td>\n      <td>1048076945</td>\n    </tr>\n    <tr>\n      <th>53</th>\n      <td>3</td>\n      <td>1092</td>\n      <td>3.0</td>\n      <td>1048076995</td>\n    </tr>\n    <tr>\n      <th>54</th>\n      <td>3</td>\n      <td>1097</td>\n      <td>3.0</td>\n      <td>1048076961</td>\n    </tr>\n    <tr>\n      <th>55</th>\n      <td>3</td>\n      <td>1270</td>\n      <td>3.0</td>\n      <td>1048076976</td>\n    </tr>\n    <tr>\n      <th>56</th>\n      <td>3</td>\n      <td>1968</td>\n      <td>3.0</td>\n      <td>1048077048</td>\n    </tr>\n    <tr>\n      <th>57</th>\n      <td>3</td>\n      <td>3101</td>\n      <td>3.0</td>\n      <td>1048076830</td>\n    </tr>\n    <tr>\n      <th>58</th>\n      <td>3</td>\n      <td>4474</td>\n      <td>3.0</td>\n      <td>1048077030</td>\n    </tr>\n  </tbody>\n</table>\n</div>"
     },
     "metadata": {},
     "execution_count": 430
    }
   ],
   "source": [
    "ratings[\n",
    "    ratings['user_id'] == 3\n",
    "]"
   ]
  },
  {
   "cell_type": "code",
   "execution_count": 431,
   "metadata": {},
   "outputs": [
    {
     "output_type": "execute_result",
     "data": {
      "text/plain": [
       "                       title  vote_count  vote_average release_date  tmdb_id  \\\n",
       "865                  Sleeper       206.0           7.0   1973-12-17    11561   \n",
       "889    Rebel Without a Cause       351.0           7.6   1955-10-27      221   \n",
       "1938                 Stepmom       286.0           6.9   1998-12-25     9441   \n",
       "7535             Toy Story 3      4710.0           7.6   2010-06-16    10193   \n",
       "6193  The 40 Year Old Virgin      2020.0           6.2   2005-08-11     6957   \n",
       "4988        Rivers and Tides        13.0           7.3   2001-02-13    30140   \n",
       "2502             Toy Story 2      3914.0           7.3   1999-10-30      863   \n",
       "994                Manhattan       600.0           7.8   1979-04-25      696   \n",
       "6627            Factory Girl        83.0           6.2   2006-12-29    12271   \n",
       "1599               Condorman        37.0           5.6   1981-07-02    19379   \n",
       "\n",
       "           est  \n",
       "865   3.847359  \n",
       "889   3.822656  \n",
       "1938  3.766240  \n",
       "7535  3.748644  \n",
       "6193  3.633117  \n",
       "4988  3.605525  \n",
       "2502  3.569366  \n",
       "994   3.563979  \n",
       "6627  3.490530  \n",
       "1599  3.484505  "
      ],
      "text/html": "<div>\n<style scoped>\n    .dataframe tbody tr th:only-of-type {\n        vertical-align: middle;\n    }\n\n    .dataframe tbody tr th {\n        vertical-align: top;\n    }\n\n    .dataframe thead th {\n        text-align: right;\n    }\n</style>\n<table border=\"1\" class=\"dataframe\">\n  <thead>\n    <tr style=\"text-align: right;\">\n      <th></th>\n      <th>title</th>\n      <th>vote_count</th>\n      <th>vote_average</th>\n      <th>release_date</th>\n      <th>tmdb_id</th>\n      <th>est</th>\n    </tr>\n  </thead>\n  <tbody>\n    <tr>\n      <th>865</th>\n      <td>Sleeper</td>\n      <td>206.0</td>\n      <td>7.0</td>\n      <td>1973-12-17</td>\n      <td>11561</td>\n      <td>3.847359</td>\n    </tr>\n    <tr>\n      <th>889</th>\n      <td>Rebel Without a Cause</td>\n      <td>351.0</td>\n      <td>7.6</td>\n      <td>1955-10-27</td>\n      <td>221</td>\n      <td>3.822656</td>\n    </tr>\n    <tr>\n      <th>1938</th>\n      <td>Stepmom</td>\n      <td>286.0</td>\n      <td>6.9</td>\n      <td>1998-12-25</td>\n      <td>9441</td>\n      <td>3.766240</td>\n    </tr>\n    <tr>\n      <th>7535</th>\n      <td>Toy Story 3</td>\n      <td>4710.0</td>\n      <td>7.6</td>\n      <td>2010-06-16</td>\n      <td>10193</td>\n      <td>3.748644</td>\n    </tr>\n    <tr>\n      <th>6193</th>\n      <td>The 40 Year Old Virgin</td>\n      <td>2020.0</td>\n      <td>6.2</td>\n      <td>2005-08-11</td>\n      <td>6957</td>\n      <td>3.633117</td>\n    </tr>\n    <tr>\n      <th>4988</th>\n      <td>Rivers and Tides</td>\n      <td>13.0</td>\n      <td>7.3</td>\n      <td>2001-02-13</td>\n      <td>30140</td>\n      <td>3.605525</td>\n    </tr>\n    <tr>\n      <th>2502</th>\n      <td>Toy Story 2</td>\n      <td>3914.0</td>\n      <td>7.3</td>\n      <td>1999-10-30</td>\n      <td>863</td>\n      <td>3.569366</td>\n    </tr>\n    <tr>\n      <th>994</th>\n      <td>Manhattan</td>\n      <td>600.0</td>\n      <td>7.8</td>\n      <td>1979-04-25</td>\n      <td>696</td>\n      <td>3.563979</td>\n    </tr>\n    <tr>\n      <th>6627</th>\n      <td>Factory Girl</td>\n      <td>83.0</td>\n      <td>6.2</td>\n      <td>2006-12-29</td>\n      <td>12271</td>\n      <td>3.490530</td>\n    </tr>\n    <tr>\n      <th>1599</th>\n      <td>Condorman</td>\n      <td>37.0</td>\n      <td>5.6</td>\n      <td>1981-07-02</td>\n      <td>19379</td>\n      <td>3.484505</td>\n    </tr>\n  </tbody>\n</table>\n</div>"
     },
     "metadata": {},
     "execution_count": 431
    }
   ],
   "source": [
    "hybrid(3, 'Toy Story')"
   ]
  },
  {
   "cell_type": "code",
   "execution_count": 420,
   "metadata": {},
   "outputs": [
    {
     "output_type": "execute_result",
     "data": {
      "text/plain": [
       "                           title  vote_count  vote_average release_date  \\\n",
       "865                      Sleeper       206.0           7.0   1973-12-17   \n",
       "7535                 Toy Story 3      4710.0           7.6   2010-06-16   \n",
       "994                    Manhattan       600.0           7.8   1979-04-25   \n",
       "2502                 Toy Story 2      3914.0           7.3   1999-10-30   \n",
       "8330  Woody Allen: A Documentary        56.0           7.5   2011-11-20   \n",
       "889        Rebel Without a Cause       351.0           7.6   1955-10-27   \n",
       "4988            Rivers and Tides        13.0           7.3   2001-02-13   \n",
       "7723                Burke & Hare       151.0           6.1   2010-10-29   \n",
       "1938                     Stepmom       286.0           6.9   1998-12-25   \n",
       "6193      The 40 Year Old Virgin      2020.0           6.2   2005-08-11   \n",
       "\n",
       "      tmdb_id       est  \n",
       "865     11561  3.168956  \n",
       "7535    10193  3.116075  \n",
       "994       696  3.070713  \n",
       "2502      863  3.050296  \n",
       "8330    81167  3.032542  \n",
       "889       221  3.005200  \n",
       "4988    30140  2.897252  \n",
       "7723    50204  2.891270  \n",
       "1938     9441  2.872729  \n",
       "6193     6957  2.842066  "
      ],
      "text/html": "<div>\n<style scoped>\n    .dataframe tbody tr th:only-of-type {\n        vertical-align: middle;\n    }\n\n    .dataframe tbody tr th {\n        vertical-align: top;\n    }\n\n    .dataframe thead th {\n        text-align: right;\n    }\n</style>\n<table border=\"1\" class=\"dataframe\">\n  <thead>\n    <tr style=\"text-align: right;\">\n      <th></th>\n      <th>title</th>\n      <th>vote_count</th>\n      <th>vote_average</th>\n      <th>release_date</th>\n      <th>tmdb_id</th>\n      <th>est</th>\n    </tr>\n  </thead>\n  <tbody>\n    <tr>\n      <th>865</th>\n      <td>Sleeper</td>\n      <td>206.0</td>\n      <td>7.0</td>\n      <td>1973-12-17</td>\n      <td>11561</td>\n      <td>3.168956</td>\n    </tr>\n    <tr>\n      <th>7535</th>\n      <td>Toy Story 3</td>\n      <td>4710.0</td>\n      <td>7.6</td>\n      <td>2010-06-16</td>\n      <td>10193</td>\n      <td>3.116075</td>\n    </tr>\n    <tr>\n      <th>994</th>\n      <td>Manhattan</td>\n      <td>600.0</td>\n      <td>7.8</td>\n      <td>1979-04-25</td>\n      <td>696</td>\n      <td>3.070713</td>\n    </tr>\n    <tr>\n      <th>2502</th>\n      <td>Toy Story 2</td>\n      <td>3914.0</td>\n      <td>7.3</td>\n      <td>1999-10-30</td>\n      <td>863</td>\n      <td>3.050296</td>\n    </tr>\n    <tr>\n      <th>8330</th>\n      <td>Woody Allen: A Documentary</td>\n      <td>56.0</td>\n      <td>7.5</td>\n      <td>2011-11-20</td>\n      <td>81167</td>\n      <td>3.032542</td>\n    </tr>\n    <tr>\n      <th>889</th>\n      <td>Rebel Without a Cause</td>\n      <td>351.0</td>\n      <td>7.6</td>\n      <td>1955-10-27</td>\n      <td>221</td>\n      <td>3.005200</td>\n    </tr>\n    <tr>\n      <th>4988</th>\n      <td>Rivers and Tides</td>\n      <td>13.0</td>\n      <td>7.3</td>\n      <td>2001-02-13</td>\n      <td>30140</td>\n      <td>2.897252</td>\n    </tr>\n    <tr>\n      <th>7723</th>\n      <td>Burke &amp; Hare</td>\n      <td>151.0</td>\n      <td>6.1</td>\n      <td>2010-10-29</td>\n      <td>50204</td>\n      <td>2.891270</td>\n    </tr>\n    <tr>\n      <th>1938</th>\n      <td>Stepmom</td>\n      <td>286.0</td>\n      <td>6.9</td>\n      <td>1998-12-25</td>\n      <td>9441</td>\n      <td>2.872729</td>\n    </tr>\n    <tr>\n      <th>6193</th>\n      <td>The 40 Year Old Virgin</td>\n      <td>2020.0</td>\n      <td>6.2</td>\n      <td>2005-08-11</td>\n      <td>6957</td>\n      <td>2.842066</td>\n    </tr>\n  </tbody>\n</table>\n</div>"
     },
     "metadata": {},
     "execution_count": 420
    }
   ],
   "source": [
    "hybrid(1, 'Toy Story')"
   ]
  },
  {
   "cell_type": "code",
   "execution_count": 432,
   "metadata": {},
   "outputs": [
    {
     "output_type": "execute_result",
     "data": {
      "text/plain": [
       "                       title  vote_count  vote_average release_date  tmdb_id  \\\n",
       "2412          American Movie        57.0           7.7   1999-11-05    14242   \n",
       "973   The Godfather: Part II      3418.0           8.3   1974-12-20      240   \n",
       "2192        The Color Purple       345.0           7.7   1985-12-18      873   \n",
       "8387              The Family      1052.0           6.1   2013-09-13   112205   \n",
       "7591                 Machete      1171.0           6.3   2010-09-01    23631   \n",
       "29            Shanghai Triad        17.0           6.5   1995-04-30    37557   \n",
       "3609           Harlem Nights        85.0           5.7   1989-11-17     9085   \n",
       "7760           Henry's Crime       110.0           5.8   2010-01-14    53172   \n",
       "3560       Moon Over Parador        17.0           6.0   1988-09-09    34014   \n",
       "5667                    Fury        38.0           7.5   1936-05-29    14615   \n",
       "\n",
       "           est  \n",
       "2412  4.068001  \n",
       "973   3.879644  \n",
       "2192  3.855531  \n",
       "8387  3.712366  \n",
       "7591  3.711688  \n",
       "29    3.680377  \n",
       "3609  3.550247  \n",
       "7760  3.516939  \n",
       "3560  3.467828  \n",
       "5667  3.464615  "
      ],
      "text/html": "<div>\n<style scoped>\n    .dataframe tbody tr th:only-of-type {\n        vertical-align: middle;\n    }\n\n    .dataframe tbody tr th {\n        vertical-align: top;\n    }\n\n    .dataframe thead th {\n        text-align: right;\n    }\n</style>\n<table border=\"1\" class=\"dataframe\">\n  <thead>\n    <tr style=\"text-align: right;\">\n      <th></th>\n      <th>title</th>\n      <th>vote_count</th>\n      <th>vote_average</th>\n      <th>release_date</th>\n      <th>tmdb_id</th>\n      <th>est</th>\n    </tr>\n  </thead>\n  <tbody>\n    <tr>\n      <th>2412</th>\n      <td>American Movie</td>\n      <td>57.0</td>\n      <td>7.7</td>\n      <td>1999-11-05</td>\n      <td>14242</td>\n      <td>4.068001</td>\n    </tr>\n    <tr>\n      <th>973</th>\n      <td>The Godfather: Part II</td>\n      <td>3418.0</td>\n      <td>8.3</td>\n      <td>1974-12-20</td>\n      <td>240</td>\n      <td>3.879644</td>\n    </tr>\n    <tr>\n      <th>2192</th>\n      <td>The Color Purple</td>\n      <td>345.0</td>\n      <td>7.7</td>\n      <td>1985-12-18</td>\n      <td>873</td>\n      <td>3.855531</td>\n    </tr>\n    <tr>\n      <th>8387</th>\n      <td>The Family</td>\n      <td>1052.0</td>\n      <td>6.1</td>\n      <td>2013-09-13</td>\n      <td>112205</td>\n      <td>3.712366</td>\n    </tr>\n    <tr>\n      <th>7591</th>\n      <td>Machete</td>\n      <td>1171.0</td>\n      <td>6.3</td>\n      <td>2010-09-01</td>\n      <td>23631</td>\n      <td>3.711688</td>\n    </tr>\n    <tr>\n      <th>29</th>\n      <td>Shanghai Triad</td>\n      <td>17.0</td>\n      <td>6.5</td>\n      <td>1995-04-30</td>\n      <td>37557</td>\n      <td>3.680377</td>\n    </tr>\n    <tr>\n      <th>3609</th>\n      <td>Harlem Nights</td>\n      <td>85.0</td>\n      <td>5.7</td>\n      <td>1989-11-17</td>\n      <td>9085</td>\n      <td>3.550247</td>\n    </tr>\n    <tr>\n      <th>7760</th>\n      <td>Henry's Crime</td>\n      <td>110.0</td>\n      <td>5.8</td>\n      <td>2010-01-14</td>\n      <td>53172</td>\n      <td>3.516939</td>\n    </tr>\n    <tr>\n      <th>3560</th>\n      <td>Moon Over Parador</td>\n      <td>17.0</td>\n      <td>6.0</td>\n      <td>1988-09-09</td>\n      <td>34014</td>\n      <td>3.467828</td>\n    </tr>\n    <tr>\n      <th>5667</th>\n      <td>Fury</td>\n      <td>38.0</td>\n      <td>7.5</td>\n      <td>1936-05-29</td>\n      <td>14615</td>\n      <td>3.464615</td>\n    </tr>\n  </tbody>\n</table>\n</div>"
     },
     "metadata": {},
     "execution_count": 432
    }
   ],
   "source": [
    "hybrid(3, 'The Godfather')"
   ]
  },
  {
   "cell_type": "code",
   "execution_count": 422,
   "metadata": {},
   "outputs": [
    {
     "output_type": "execute_result",
     "data": {
      "text/plain": [
       "                       title  vote_count  vote_average release_date  tmdb_id  \\\n",
       "973   The Godfather: Part II      3418.0           8.3   1974-12-20      240   \n",
       "2412          American Movie        57.0           7.7   1999-11-05    14242   \n",
       "2192        The Color Purple       345.0           7.7   1985-12-18      873   \n",
       "5593                  Eulogy        34.0           6.4   2004-10-15    16358   \n",
       "29            Shanghai Triad        17.0           6.5   1995-04-30    37557   \n",
       "8387              The Family      1052.0           6.1   2013-09-13   112205   \n",
       "7591                 Machete      1171.0           6.3   2010-09-01    23631   \n",
       "5406         The Kid Brother        13.0           7.5   1927-01-17    16661   \n",
       "5667                    Fury        38.0           7.5   1936-05-29    14615   \n",
       "4221                 8 Women       197.0           6.9   2002-01-08     1958   \n",
       "\n",
       "           est  \n",
       "973   3.314245  \n",
       "2412  3.270059  \n",
       "2192  3.195360  \n",
       "5593  2.967622  \n",
       "29    2.955071  \n",
       "8387  2.928162  \n",
       "7591  2.859331  \n",
       "5406  2.838179  \n",
       "5667  2.806924  \n",
       "4221  2.766160  "
      ],
      "text/html": "<div>\n<style scoped>\n    .dataframe tbody tr th:only-of-type {\n        vertical-align: middle;\n    }\n\n    .dataframe tbody tr th {\n        vertical-align: top;\n    }\n\n    .dataframe thead th {\n        text-align: right;\n    }\n</style>\n<table border=\"1\" class=\"dataframe\">\n  <thead>\n    <tr style=\"text-align: right;\">\n      <th></th>\n      <th>title</th>\n      <th>vote_count</th>\n      <th>vote_average</th>\n      <th>release_date</th>\n      <th>tmdb_id</th>\n      <th>est</th>\n    </tr>\n  </thead>\n  <tbody>\n    <tr>\n      <th>973</th>\n      <td>The Godfather: Part II</td>\n      <td>3418.0</td>\n      <td>8.3</td>\n      <td>1974-12-20</td>\n      <td>240</td>\n      <td>3.314245</td>\n    </tr>\n    <tr>\n      <th>2412</th>\n      <td>American Movie</td>\n      <td>57.0</td>\n      <td>7.7</td>\n      <td>1999-11-05</td>\n      <td>14242</td>\n      <td>3.270059</td>\n    </tr>\n    <tr>\n      <th>2192</th>\n      <td>The Color Purple</td>\n      <td>345.0</td>\n      <td>7.7</td>\n      <td>1985-12-18</td>\n      <td>873</td>\n      <td>3.195360</td>\n    </tr>\n    <tr>\n      <th>5593</th>\n      <td>Eulogy</td>\n      <td>34.0</td>\n      <td>6.4</td>\n      <td>2004-10-15</td>\n      <td>16358</td>\n      <td>2.967622</td>\n    </tr>\n    <tr>\n      <th>29</th>\n      <td>Shanghai Triad</td>\n      <td>17.0</td>\n      <td>6.5</td>\n      <td>1995-04-30</td>\n      <td>37557</td>\n      <td>2.955071</td>\n    </tr>\n    <tr>\n      <th>8387</th>\n      <td>The Family</td>\n      <td>1052.0</td>\n      <td>6.1</td>\n      <td>2013-09-13</td>\n      <td>112205</td>\n      <td>2.928162</td>\n    </tr>\n    <tr>\n      <th>7591</th>\n      <td>Machete</td>\n      <td>1171.0</td>\n      <td>6.3</td>\n      <td>2010-09-01</td>\n      <td>23631</td>\n      <td>2.859331</td>\n    </tr>\n    <tr>\n      <th>5406</th>\n      <td>The Kid Brother</td>\n      <td>13.0</td>\n      <td>7.5</td>\n      <td>1927-01-17</td>\n      <td>16661</td>\n      <td>2.838179</td>\n    </tr>\n    <tr>\n      <th>5667</th>\n      <td>Fury</td>\n      <td>38.0</td>\n      <td>7.5</td>\n      <td>1936-05-29</td>\n      <td>14615</td>\n      <td>2.806924</td>\n    </tr>\n    <tr>\n      <th>4221</th>\n      <td>8 Women</td>\n      <td>197.0</td>\n      <td>6.9</td>\n      <td>2002-01-08</td>\n      <td>1958</td>\n      <td>2.766160</td>\n    </tr>\n  </tbody>\n</table>\n</div>"
     },
     "metadata": {},
     "execution_count": 422
    }
   ],
   "source": [
    "hybrid(1, 'The Godfather')"
   ]
  },
  {
   "cell_type": "code",
   "execution_count": 421,
   "metadata": {},
   "outputs": [
    {
     "output_type": "execute_result",
     "data": {
      "text/plain": [
       "                                 title  year language  vote_count  \\\n",
       "314           The Shawshank Redemption  1994       en        8358   \n",
       "834                      The Godfather  1972       en        6024   \n",
       "10309      Dilwale Dulhania Le Jayenge  1995       hi         661   \n",
       "12481                  The Dark Knight  2008       en       12269   \n",
       "2843                        Fight Club  1999       en        9678   \n",
       "292                       Pulp Fiction  1994       en        8670   \n",
       "522                   Schindler's List  1993       en        4436   \n",
       "23673                         Whiplash  2014       en        4376   \n",
       "5481                     Spirited Away  2001       ja        3968   \n",
       "2211                 Life Is Beautiful  1997       it        3643   \n",
       "1178            The Godfather: Part II  1974       en        3418   \n",
       "1152   One Flew Over the Cuckoo's Nest  1975       en        3001   \n",
       "351                       Forrest Gump  1994       en        8147   \n",
       "1154           The Empire Strikes Back  1980       en        5998   \n",
       "1176                            Psycho  1960       en        2405   \n",
       "18465                 The Intouchables  2011       fr        5410   \n",
       "40251                       Your Name.  2016       ja        1030   \n",
       "289             Leon: The Professional  1994       fr        4293   \n",
       "3030                    The Green Mile  1999       en        4166   \n",
       "1170                        GoodFellas  1990       en        3211   \n",
       "\n",
       "       vote_average  popularity                                   genres  \\\n",
       "314             8.5   51.645403                           [Drama, Crime]   \n",
       "834             8.5   41.109264                           [Drama, Crime]   \n",
       "10309           9.1   34.457024                 [Comedy, Drama, Romance]   \n",
       "12481           8.3  123.167259         [Drama, Action, Crime, Thriller]   \n",
       "2843            8.3   63.869599                                  [Drama]   \n",
       "292             8.3  140.950236                        [Thriller, Crime]   \n",
       "522             8.3   41.725123                    [Drama, History, War]   \n",
       "23673           8.3    64.29999                                  [Drama]   \n",
       "5481            8.3   41.048867  [Fantasy, Adventure, Animation, Family]   \n",
       "2211            8.3    39.39497                          [Comedy, Drama]   \n",
       "1178            8.3   36.629307                           [Drama, Crime]   \n",
       "1152            8.3   35.529554                                  [Drama]   \n",
       "351             8.2   48.307194                 [Comedy, Drama, Romance]   \n",
       "1154            8.2   19.470959     [Adventure, Action, Science Fiction]   \n",
       "1176            8.3   36.826309                [Drama, Horror, Thriller]   \n",
       "18465           8.2   16.086919                          [Drama, Comedy]   \n",
       "40251           8.5   34.461252              [Romance, Animation, Drama]   \n",
       "289             8.2   20.477329                 [Thriller, Crime, Drama]   \n",
       "3030            8.2    19.96678                  [Fantasy, Drama, Crime]   \n",
       "1170            8.2   15.424092                           [Drama, Crime]   \n",
       "\n",
       "       weighted_rating  \n",
       "314           8.445869  \n",
       "834           8.425439  \n",
       "10309         8.421453  \n",
       "12481         8.265477  \n",
       "2843          8.256385  \n",
       "292           8.251406  \n",
       "522           8.206639  \n",
       "23673         8.205404  \n",
       "5481          8.196055  \n",
       "2211          8.187171  \n",
       "1178          8.180076  \n",
       "1152          8.164256  \n",
       "351           8.150272  \n",
       "1154          8.132919  \n",
       "1176          8.132715  \n",
       "18465         8.125837  \n",
       "40251         8.112532  \n",
       "289           8.107234  \n",
       "3030          8.104511  \n",
       "1170          8.077459  "
      ],
      "text/html": "<div>\n<style scoped>\n    .dataframe tbody tr th:only-of-type {\n        vertical-align: middle;\n    }\n\n    .dataframe tbody tr th {\n        vertical-align: top;\n    }\n\n    .dataframe thead th {\n        text-align: right;\n    }\n</style>\n<table border=\"1\" class=\"dataframe\">\n  <thead>\n    <tr style=\"text-align: right;\">\n      <th></th>\n      <th>title</th>\n      <th>year</th>\n      <th>language</th>\n      <th>vote_count</th>\n      <th>vote_average</th>\n      <th>popularity</th>\n      <th>genres</th>\n      <th>weighted_rating</th>\n    </tr>\n  </thead>\n  <tbody>\n    <tr>\n      <th>314</th>\n      <td>The Shawshank Redemption</td>\n      <td>1994</td>\n      <td>en</td>\n      <td>8358</td>\n      <td>8.5</td>\n      <td>51.645403</td>\n      <td>[Drama, Crime]</td>\n      <td>8.445869</td>\n    </tr>\n    <tr>\n      <th>834</th>\n      <td>The Godfather</td>\n      <td>1972</td>\n      <td>en</td>\n      <td>6024</td>\n      <td>8.5</td>\n      <td>41.109264</td>\n      <td>[Drama, Crime]</td>\n      <td>8.425439</td>\n    </tr>\n    <tr>\n      <th>10309</th>\n      <td>Dilwale Dulhania Le Jayenge</td>\n      <td>1995</td>\n      <td>hi</td>\n      <td>661</td>\n      <td>9.1</td>\n      <td>34.457024</td>\n      <td>[Comedy, Drama, Romance]</td>\n      <td>8.421453</td>\n    </tr>\n    <tr>\n      <th>12481</th>\n      <td>The Dark Knight</td>\n      <td>2008</td>\n      <td>en</td>\n      <td>12269</td>\n      <td>8.3</td>\n      <td>123.167259</td>\n      <td>[Drama, Action, Crime, Thriller]</td>\n      <td>8.265477</td>\n    </tr>\n    <tr>\n      <th>2843</th>\n      <td>Fight Club</td>\n      <td>1999</td>\n      <td>en</td>\n      <td>9678</td>\n      <td>8.3</td>\n      <td>63.869599</td>\n      <td>[Drama]</td>\n      <td>8.256385</td>\n    </tr>\n    <tr>\n      <th>292</th>\n      <td>Pulp Fiction</td>\n      <td>1994</td>\n      <td>en</td>\n      <td>8670</td>\n      <td>8.3</td>\n      <td>140.950236</td>\n      <td>[Thriller, Crime]</td>\n      <td>8.251406</td>\n    </tr>\n    <tr>\n      <th>522</th>\n      <td>Schindler's List</td>\n      <td>1993</td>\n      <td>en</td>\n      <td>4436</td>\n      <td>8.3</td>\n      <td>41.725123</td>\n      <td>[Drama, History, War]</td>\n      <td>8.206639</td>\n    </tr>\n    <tr>\n      <th>23673</th>\n      <td>Whiplash</td>\n      <td>2014</td>\n      <td>en</td>\n      <td>4376</td>\n      <td>8.3</td>\n      <td>64.29999</td>\n      <td>[Drama]</td>\n      <td>8.205404</td>\n    </tr>\n    <tr>\n      <th>5481</th>\n      <td>Spirited Away</td>\n      <td>2001</td>\n      <td>ja</td>\n      <td>3968</td>\n      <td>8.3</td>\n      <td>41.048867</td>\n      <td>[Fantasy, Adventure, Animation, Family]</td>\n      <td>8.196055</td>\n    </tr>\n    <tr>\n      <th>2211</th>\n      <td>Life Is Beautiful</td>\n      <td>1997</td>\n      <td>it</td>\n      <td>3643</td>\n      <td>8.3</td>\n      <td>39.39497</td>\n      <td>[Comedy, Drama]</td>\n      <td>8.187171</td>\n    </tr>\n    <tr>\n      <th>1178</th>\n      <td>The Godfather: Part II</td>\n      <td>1974</td>\n      <td>en</td>\n      <td>3418</td>\n      <td>8.3</td>\n      <td>36.629307</td>\n      <td>[Drama, Crime]</td>\n      <td>8.180076</td>\n    </tr>\n    <tr>\n      <th>1152</th>\n      <td>One Flew Over the Cuckoo's Nest</td>\n      <td>1975</td>\n      <td>en</td>\n      <td>3001</td>\n      <td>8.3</td>\n      <td>35.529554</td>\n      <td>[Drama]</td>\n      <td>8.164256</td>\n    </tr>\n    <tr>\n      <th>351</th>\n      <td>Forrest Gump</td>\n      <td>1994</td>\n      <td>en</td>\n      <td>8147</td>\n      <td>8.2</td>\n      <td>48.307194</td>\n      <td>[Comedy, Drama, Romance]</td>\n      <td>8.150272</td>\n    </tr>\n    <tr>\n      <th>1154</th>\n      <td>The Empire Strikes Back</td>\n      <td>1980</td>\n      <td>en</td>\n      <td>5998</td>\n      <td>8.2</td>\n      <td>19.470959</td>\n      <td>[Adventure, Action, Science Fiction]</td>\n      <td>8.132919</td>\n    </tr>\n    <tr>\n      <th>1176</th>\n      <td>Psycho</td>\n      <td>1960</td>\n      <td>en</td>\n      <td>2405</td>\n      <td>8.3</td>\n      <td>36.826309</td>\n      <td>[Drama, Horror, Thriller]</td>\n      <td>8.132715</td>\n    </tr>\n    <tr>\n      <th>18465</th>\n      <td>The Intouchables</td>\n      <td>2011</td>\n      <td>fr</td>\n      <td>5410</td>\n      <td>8.2</td>\n      <td>16.086919</td>\n      <td>[Drama, Comedy]</td>\n      <td>8.125837</td>\n    </tr>\n    <tr>\n      <th>40251</th>\n      <td>Your Name.</td>\n      <td>2016</td>\n      <td>ja</td>\n      <td>1030</td>\n      <td>8.5</td>\n      <td>34.461252</td>\n      <td>[Romance, Animation, Drama]</td>\n      <td>8.112532</td>\n    </tr>\n    <tr>\n      <th>289</th>\n      <td>Leon: The Professional</td>\n      <td>1994</td>\n      <td>fr</td>\n      <td>4293</td>\n      <td>8.2</td>\n      <td>20.477329</td>\n      <td>[Thriller, Crime, Drama]</td>\n      <td>8.107234</td>\n    </tr>\n    <tr>\n      <th>3030</th>\n      <td>The Green Mile</td>\n      <td>1999</td>\n      <td>en</td>\n      <td>4166</td>\n      <td>8.2</td>\n      <td>19.96678</td>\n      <td>[Fantasy, Drama, Crime]</td>\n      <td>8.104511</td>\n    </tr>\n    <tr>\n      <th>1170</th>\n      <td>GoodFellas</td>\n      <td>1990</td>\n      <td>en</td>\n      <td>3211</td>\n      <td>8.2</td>\n      <td>15.424092</td>\n      <td>[Drama, Crime]</td>\n      <td>8.077459</td>\n    </tr>\n  </tbody>\n</table>\n</div>"
     },
     "metadata": {},
     "execution_count": 421
    }
   ],
   "source": [
    "to_recommend.head(20)"
   ]
  },
  {
   "cell_type": "code",
   "execution_count": null,
   "metadata": {},
   "outputs": [],
   "source": []
  }
 ]
}