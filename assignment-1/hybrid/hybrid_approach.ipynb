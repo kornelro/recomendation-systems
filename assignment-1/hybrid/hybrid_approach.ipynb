{
 "metadata": {
  "language_info": {
   "codemirror_mode": {
    "name": "ipython",
    "version": 3
   },
   "file_extension": ".py",
   "mimetype": "text/x-python",
   "name": "python",
   "nbconvert_exporter": "python",
   "pygments_lexer": "ipython3",
   "version": "3.8.2-final"
  },
  "orig_nbformat": 2,
  "kernelspec": {
   "name": "python3",
   "display_name": "Python 3.8.2 64-bit",
   "metadata": {
    "interpreter": {
     "hash": "765a27d73be52ab621eab82c24f389a641221a3bd62219a217e58ddcdcfae93a"
    }
   }
  }
 },
 "nbformat": 4,
 "nbformat_minor": 2,
 "cells": [
  {
   "cell_type": "code",
   "execution_count": 2,
   "metadata": {},
   "outputs": [
    {
     "output_type": "execute_result",
     "data": {
      "text/plain": [
       "'/Users/marcelc/Documents/10_sem/pisr/pro/pisr_venv/bin/python'"
      ]
     },
     "metadata": {},
     "execution_count": 2
    }
   ],
   "source": [
    "import sys\n",
    "\n",
    "sys.executable"
   ]
  },
  {
   "cell_type": "code",
   "execution_count": 3,
   "metadata": {},
   "outputs": [],
   "source": [
    "import numpy as np\n",
    "import pandas as pd\n",
    "from ast import literal_eval\n",
    "from sklearn.feature_extraction.text import CountVectorizer, TfidfVectorizer\n",
    "from sklearn.metrics.pairwise import linear_kernel, cosine_similarity\n",
    "from surprise import Dataset, SVD, Reader\n",
    "from surprise.model_selection import cross_validate\n",
    "\n",
    "pd.set_option('display.max_columns', None)"
   ]
  },
  {
   "cell_type": "code",
   "execution_count": 70,
   "metadata": {},
   "outputs": [],
   "source": [
    "credits = pd.read_csv('../data/credits.csv')  # 45_476\n",
    "keywords = pd.read_csv('../data/keywords.csv')  # 46_419\n",
    "links_small = pd.read_csv('../data/links_small.csv')  # 9_125\n",
    "# links = pd.read_csv('../data/links.csv')  # 45_843\n",
    "movies = pd.read_csv('../data/movies_metadata.csv')  # 45_466\n",
    "ratings_small = pd.read_csv('../data/ratings_small.csv')  # 100_004\n",
    "# ratings = pd.read_csv('../data/ratings.csv')  # 26_024_289"
   ]
  },
  {
   "source": [
    "### Credits dataframe preparation"
   ],
   "cell_type": "markdown",
   "metadata": {}
  },
  {
   "cell_type": "code",
   "execution_count": 71,
   "metadata": {},
   "outputs": [],
   "source": [
    "credits['cast'] = credits['cast']\\\n",
    "    .apply(literal_eval)\\\n",
    "    .apply(lambda x: [i['name'].replace(' ', '_').lower() for i in x[:10]])\n",
    "\n",
    "credits['crew'] = credits['crew']\\\n",
    "    .apply(literal_eval)\\\n",
    "    .apply(lambda x: [i['name'].replace(' ', '_').lower() for i in x[:10]])\n",
    "\n",
    "credits = credits.rename(columns={'id': 'tmdb_id'})"
   ]
  },
  {
   "cell_type": "code",
   "execution_count": 72,
   "metadata": {},
   "outputs": [
    {
     "output_type": "stream",
     "name": "stdout",
     "text": [
      "<class 'pandas.core.frame.DataFrame'>\nRangeIndex: 45476 entries, 0 to 45475\nData columns (total 3 columns):\n #   Column   Non-Null Count  Dtype \n---  ------   --------------  ----- \n 0   cast     45476 non-null  object\n 1   crew     45476 non-null  object\n 2   tmdb_id  45476 non-null  int64 \ndtypes: int64(1), object(2)\nmemory usage: 1.0+ MB\nNone\n"
     ]
    },
    {
     "output_type": "execute_result",
     "data": {
      "text/plain": [
       "                                                cast  \\\n",
       "0  [tom_hanks, tim_allen, don_rickles, jim_varney...   \n",
       "1  [robin_williams, jonathan_hyde, kirsten_dunst,...   \n",
       "2  [walter_matthau, jack_lemmon, ann-margret, sop...   \n",
       "3  [whitney_houston, angela_bassett, loretta_devi...   \n",
       "4  [steve_martin, diane_keaton, martin_short, kim...   \n",
       "\n",
       "                                                crew  tmdb_id  \n",
       "0  [john_lasseter, joss_whedon, andrew_stanton, j...      862  \n",
       "1  [larry_j._franco, jonathan_hensleigh, james_ho...     8844  \n",
       "2  [howard_deutch, mark_steven_johnson, mark_stev...    15602  \n",
       "3  [forest_whitaker, ronald_bass, ronald_bass, ez...    31357  \n",
       "4  [alan_silvestri, elliot_davis, nancy_meyers, n...    11862  "
      ],
      "text/html": "<div>\n<style scoped>\n    .dataframe tbody tr th:only-of-type {\n        vertical-align: middle;\n    }\n\n    .dataframe tbody tr th {\n        vertical-align: top;\n    }\n\n    .dataframe thead th {\n        text-align: right;\n    }\n</style>\n<table border=\"1\" class=\"dataframe\">\n  <thead>\n    <tr style=\"text-align: right;\">\n      <th></th>\n      <th>cast</th>\n      <th>crew</th>\n      <th>tmdb_id</th>\n    </tr>\n  </thead>\n  <tbody>\n    <tr>\n      <th>0</th>\n      <td>[tom_hanks, tim_allen, don_rickles, jim_varney...</td>\n      <td>[john_lasseter, joss_whedon, andrew_stanton, j...</td>\n      <td>862</td>\n    </tr>\n    <tr>\n      <th>1</th>\n      <td>[robin_williams, jonathan_hyde, kirsten_dunst,...</td>\n      <td>[larry_j._franco, jonathan_hensleigh, james_ho...</td>\n      <td>8844</td>\n    </tr>\n    <tr>\n      <th>2</th>\n      <td>[walter_matthau, jack_lemmon, ann-margret, sop...</td>\n      <td>[howard_deutch, mark_steven_johnson, mark_stev...</td>\n      <td>15602</td>\n    </tr>\n    <tr>\n      <th>3</th>\n      <td>[whitney_houston, angela_bassett, loretta_devi...</td>\n      <td>[forest_whitaker, ronald_bass, ronald_bass, ez...</td>\n      <td>31357</td>\n    </tr>\n    <tr>\n      <th>4</th>\n      <td>[steve_martin, diane_keaton, martin_short, kim...</td>\n      <td>[alan_silvestri, elliot_davis, nancy_meyers, n...</td>\n      <td>11862</td>\n    </tr>\n  </tbody>\n</table>\n</div>"
     },
     "metadata": {},
     "execution_count": 72
    }
   ],
   "source": [
    "print(credits.info())\n",
    "credits.head()"
   ]
  },
  {
   "source": [
    "### Keywords dataframe preparation"
   ],
   "cell_type": "markdown",
   "metadata": {}
  },
  {
   "cell_type": "code",
   "execution_count": 73,
   "metadata": {},
   "outputs": [],
   "source": [
    "keywords['keywords'] = keywords['keywords']\\\n",
    "    .apply(literal_eval)\\\n",
    "    .apply(lambda x: [i['name'].replace(' ', '_').lower() for i in x[:10]])\n",
    "\n",
    "keywords = keywords.rename(columns={'id': 'tmdb_id'})"
   ]
  },
  {
   "cell_type": "code",
   "execution_count": 74,
   "metadata": {},
   "outputs": [
    {
     "output_type": "stream",
     "name": "stdout",
     "text": [
      "<class 'pandas.core.frame.DataFrame'>\nRangeIndex: 46419 entries, 0 to 46418\nData columns (total 2 columns):\n #   Column    Non-Null Count  Dtype \n---  ------    --------------  ----- \n 0   tmdb_id   46419 non-null  int64 \n 1   keywords  46419 non-null  object\ndtypes: int64(1), object(1)\nmemory usage: 725.4+ KB\nNone\n"
     ]
    },
    {
     "output_type": "execute_result",
     "data": {
      "text/plain": [
       "   tmdb_id                                           keywords\n",
       "0      862  [jealousy, toy, boy, friendship, friends, riva...\n",
       "1     8844  [board_game, disappearance, based_on_children'...\n",
       "2    15602  [fishing, best_friend, duringcreditsstinger, o...\n",
       "3    31357  [based_on_novel, interracial_relationship, sin...\n",
       "4    11862  [baby, midlife_crisis, confidence, aging, daug..."
      ],
      "text/html": "<div>\n<style scoped>\n    .dataframe tbody tr th:only-of-type {\n        vertical-align: middle;\n    }\n\n    .dataframe tbody tr th {\n        vertical-align: top;\n    }\n\n    .dataframe thead th {\n        text-align: right;\n    }\n</style>\n<table border=\"1\" class=\"dataframe\">\n  <thead>\n    <tr style=\"text-align: right;\">\n      <th></th>\n      <th>tmdb_id</th>\n      <th>keywords</th>\n    </tr>\n  </thead>\n  <tbody>\n    <tr>\n      <th>0</th>\n      <td>862</td>\n      <td>[jealousy, toy, boy, friendship, friends, riva...</td>\n    </tr>\n    <tr>\n      <th>1</th>\n      <td>8844</td>\n      <td>[board_game, disappearance, based_on_children'...</td>\n    </tr>\n    <tr>\n      <th>2</th>\n      <td>15602</td>\n      <td>[fishing, best_friend, duringcreditsstinger, o...</td>\n    </tr>\n    <tr>\n      <th>3</th>\n      <td>31357</td>\n      <td>[based_on_novel, interracial_relationship, sin...</td>\n    </tr>\n    <tr>\n      <th>4</th>\n      <td>11862</td>\n      <td>[baby, midlife_crisis, confidence, aging, daug...</td>\n    </tr>\n  </tbody>\n</table>\n</div>"
     },
     "metadata": {},
     "execution_count": 74
    }
   ],
   "source": [
    "print(keywords.info())\n",
    "keywords.head()"
   ]
  },
  {
   "source": [
    "### Links dataframe preparation"
   ],
   "cell_type": "markdown",
   "metadata": {}
  },
  {
   "cell_type": "code",
   "execution_count": 76,
   "metadata": {},
   "outputs": [],
   "source": [
    "links_small.columns = ['movie_id', 'imbd_id', 'tmdb_id']\n",
    "links_small = links_small.dropna()\n",
    "\n",
    "links_small['tmdb_id'] = links_small['tmdb_id'].astype('int')\n",
    "links_small['movie_id'] = links_small['movie_id'].astype('int')"
   ]
  },
  {
   "cell_type": "code",
   "execution_count": 77,
   "metadata": {},
   "outputs": [
    {
     "output_type": "stream",
     "name": "stdout",
     "text": [
      "<class 'pandas.core.frame.DataFrame'>\nInt64Index: 9112 entries, 0 to 9124\nData columns (total 3 columns):\n #   Column    Non-Null Count  Dtype\n---  ------    --------------  -----\n 0   movie_id  9112 non-null   int64\n 1   imbd_id   9112 non-null   int64\n 2   tmdb_id   9112 non-null   int64\ndtypes: int64(3)\nmemory usage: 284.8 KB\nNone\n"
     ]
    },
    {
     "output_type": "execute_result",
     "data": {
      "text/plain": [
       "   movie_id  imbd_id  tmdb_id\n",
       "0         1   114709      862\n",
       "1         2   113497     8844\n",
       "2         3   113228    15602\n",
       "3         4   114885    31357\n",
       "4         5   113041    11862"
      ],
      "text/html": "<div>\n<style scoped>\n    .dataframe tbody tr th:only-of-type {\n        vertical-align: middle;\n    }\n\n    .dataframe tbody tr th {\n        vertical-align: top;\n    }\n\n    .dataframe thead th {\n        text-align: right;\n    }\n</style>\n<table border=\"1\" class=\"dataframe\">\n  <thead>\n    <tr style=\"text-align: right;\">\n      <th></th>\n      <th>movie_id</th>\n      <th>imbd_id</th>\n      <th>tmdb_id</th>\n    </tr>\n  </thead>\n  <tbody>\n    <tr>\n      <th>0</th>\n      <td>1</td>\n      <td>114709</td>\n      <td>862</td>\n    </tr>\n    <tr>\n      <th>1</th>\n      <td>2</td>\n      <td>113497</td>\n      <td>8844</td>\n    </tr>\n    <tr>\n      <th>2</th>\n      <td>3</td>\n      <td>113228</td>\n      <td>15602</td>\n    </tr>\n    <tr>\n      <th>3</th>\n      <td>4</td>\n      <td>114885</td>\n      <td>31357</td>\n    </tr>\n    <tr>\n      <th>4</th>\n      <td>5</td>\n      <td>113041</td>\n      <td>11862</td>\n    </tr>\n  </tbody>\n</table>\n</div>"
     },
     "metadata": {},
     "execution_count": 77
    }
   ],
   "source": [
    "print(links_small.info())\n",
    "links_small.head()"
   ]
  },
  {
   "source": [
    "### Movies dataframe preparation"
   ],
   "cell_type": "markdown",
   "metadata": {}
  },
  {
   "cell_type": "code",
   "execution_count": 78,
   "metadata": {},
   "outputs": [],
   "source": [
    "to_drop = list(movies[\n",
    "    movies['id'].isnull()\n",
    "].index)\n",
    "\n",
    "movies = movies.drop(to_drop)\n",
    "movies = movies.drop([19730, 29503, 35587])\n",
    "\n",
    "movies['id'] = movies['id'].astype('int')\n",
    "\n",
    "movies = movies.rename(columns={'id': 'tmdb_id'})\n",
    "\n",
    "movies['genres'] = movies['genres']\\\n",
    "    .apply(literal_eval)\\\n",
    "    .apply(lambda x: [i['name'] for i in x])\n",
    "\n",
    "movies['year'] = movies['release_date']\\\n",
    "    .apply(lambda x: str(x).split('-')[0] if x != np.nan else np.nan)\n",
    "\n",
    "movies['tagline'] = movies['tagline'].fillna('')\n",
    "movies['overview'] = movies['overview'].fillna('')\n",
    "\n",
    "movies['description'] = movies['overview'] + movies['tagline']\n",
    "movies['description'] = movies['description'].fillna('')\n",
    "\n",
    "movies = pd.merge(movies, credits, on='tmdb_id')\n",
    "movies = pd.merge(movies, keywords, on='tmdb_id')\n",
    "\n",
    "movies = movies.drop_duplicates('tmdb_id').shape\n",
    "\n",
    "# metadata['belongs_to_collection'].fillna('{\\'name\\': \\'\\'}', inplace=True)\n",
    "# metadata['collection'] = metadata.progress_apply(lambda row: literal_eval(row['belongs_to_collection'])['name'], axis=1)"
   ]
  },
  {
   "cell_type": "code",
   "execution_count": 142,
   "metadata": {},
   "outputs": [
    {
     "output_type": "stream",
     "name": "stdout",
     "text": [
      "<class 'pandas.core.frame.DataFrame'>\nInt64Index: 45432 entries, 0 to 46627\nData columns (total 29 columns):\n #   Column                 Non-Null Count  Dtype  \n---  ------                 --------------  -----  \n 0   adult                  45432 non-null  object \n 1   belongs_to_collection  4488 non-null   object \n 2   budget                 45432 non-null  object \n 3   genres                 45432 non-null  object \n 4   homepage               7774 non-null   object \n 5   tmdb_id                45432 non-null  int64  \n 6   imdb_id                45415 non-null  object \n 7   original_language      45421 non-null  object \n 8   original_title         45432 non-null  object \n 9   overview               45432 non-null  object \n 10  popularity             45429 non-null  object \n 11  poster_path            45046 non-null  object \n 12  production_companies   45429 non-null  object \n 13  production_countries   45429 non-null  object \n 14  release_date           45345 non-null  object \n 15  revenue                45429 non-null  float64\n 16  runtime                45172 non-null  float64\n 17  spoken_languages       45429 non-null  object \n 18  status                 45348 non-null  object \n 19  tagline                45432 non-null  object \n 20  title                  45429 non-null  object \n 21  video                  45429 non-null  object \n 22  vote_average           45429 non-null  float64\n 23  vote_count             45429 non-null  float64\n 24  year                   45432 non-null  object \n 25  description            45432 non-null  object \n 26  cast                   45432 non-null  object \n 27  crew                   45432 non-null  object \n 28  keywords               45432 non-null  object \ndtypes: float64(4), int64(1), object(24)\nmemory usage: 11.4+ MB\nNone\n"
     ]
    },
    {
     "output_type": "execute_result",
     "data": {
      "text/plain": [
       "   adult                              belongs_to_collection    budget  \\\n",
       "0  False  {'id': 10194, 'name': 'Toy Story Collection', ...  30000000   \n",
       "1  False                                                NaN  65000000   \n",
       "2  False  {'id': 119050, 'name': 'Grumpy Old Men Collect...         0   \n",
       "3  False                                                NaN  16000000   \n",
       "4  False  {'id': 96871, 'name': 'Father of the Bride Col...         0   \n",
       "\n",
       "                         genres                              homepage  \\\n",
       "0   [Animation, Comedy, Family]  http://toystory.disney.com/toy-story   \n",
       "1  [Adventure, Fantasy, Family]                                   NaN   \n",
       "2             [Romance, Comedy]                                   NaN   \n",
       "3      [Comedy, Drama, Romance]                                   NaN   \n",
       "4                      [Comedy]                                   NaN   \n",
       "\n",
       "   tmdb_id    imdb_id original_language               original_title  \\\n",
       "0      862  tt0114709                en                    Toy Story   \n",
       "1     8844  tt0113497                en                      Jumanji   \n",
       "2    15602  tt0113228                en             Grumpier Old Men   \n",
       "3    31357  tt0114885                en            Waiting to Exhale   \n",
       "4    11862  tt0113041                en  Father of the Bride Part II   \n",
       "\n",
       "                                            overview popularity  \\\n",
       "0  Led by Woody, Andy's toys live happily in his ...  21.946943   \n",
       "1  When siblings Judy and Peter discover an encha...  17.015539   \n",
       "2  A family wedding reignites the ancient feud be...    11.7129   \n",
       "3  Cheated on, mistreated and stepped on, the wom...   3.859495   \n",
       "4  Just when George Banks has recovered from his ...   8.387519   \n",
       "\n",
       "                        poster_path  \\\n",
       "0  /rhIRbceoE9lR4veEXuwCC2wARtG.jpg   \n",
       "1  /vzmL6fP7aPKNKPRTFnZmiUfciyV.jpg   \n",
       "2  /6ksm1sjKMFLbO7UY2i6G1ju9SML.jpg   \n",
       "3  /16XOMpEaLWkrcPqSQqhTmeJuqQl.jpg   \n",
       "4  /e64sOI48hQXyru7naBFyssKFxVd.jpg   \n",
       "\n",
       "                                production_companies  \\\n",
       "0     [{'name': 'Pixar Animation Studios', 'id': 3}]   \n",
       "1  [{'name': 'TriStar Pictures', 'id': 559}, {'na...   \n",
       "2  [{'name': 'Warner Bros.', 'id': 6194}, {'name'...   \n",
       "3  [{'name': 'Twentieth Century Fox Film Corporat...   \n",
       "4  [{'name': 'Sandollar Productions', 'id': 5842}...   \n",
       "\n",
       "                                production_countries release_date  \\\n",
       "0  [{'iso_3166_1': 'US', 'name': 'United States o...   1995-10-30   \n",
       "1  [{'iso_3166_1': 'US', 'name': 'United States o...   1995-12-15   \n",
       "2  [{'iso_3166_1': 'US', 'name': 'United States o...   1995-12-22   \n",
       "3  [{'iso_3166_1': 'US', 'name': 'United States o...   1995-12-22   \n",
       "4  [{'iso_3166_1': 'US', 'name': 'United States o...   1995-02-10   \n",
       "\n",
       "       revenue  runtime                                   spoken_languages  \\\n",
       "0  373554033.0     81.0           [{'iso_639_1': 'en', 'name': 'English'}]   \n",
       "1  262797249.0    104.0  [{'iso_639_1': 'en', 'name': 'English'}, {'iso...   \n",
       "2          0.0    101.0           [{'iso_639_1': 'en', 'name': 'English'}]   \n",
       "3   81452156.0    127.0           [{'iso_639_1': 'en', 'name': 'English'}]   \n",
       "4   76578911.0    106.0           [{'iso_639_1': 'en', 'name': 'English'}]   \n",
       "\n",
       "     status                                            tagline  \\\n",
       "0  Released                                                      \n",
       "1  Released          Roll the dice and unleash the excitement!   \n",
       "2  Released  Still Yelling. Still Fighting. Still Ready for...   \n",
       "3  Released  Friends are the people who let you be yourself...   \n",
       "4  Released  Just When His World Is Back To Normal... He's ...   \n",
       "\n",
       "                         title  video  vote_average  vote_count  year  \\\n",
       "0                    Toy Story  False           7.7      5415.0  1995   \n",
       "1                      Jumanji  False           6.9      2413.0  1995   \n",
       "2             Grumpier Old Men  False           6.5        92.0  1995   \n",
       "3            Waiting to Exhale  False           6.1        34.0  1995   \n",
       "4  Father of the Bride Part II  False           5.7       173.0  1995   \n",
       "\n",
       "                                         description  \\\n",
       "0  Led by Woody, Andy's toys live happily in his ...   \n",
       "1  When siblings Judy and Peter discover an encha...   \n",
       "2  A family wedding reignites the ancient feud be...   \n",
       "3  Cheated on, mistreated and stepped on, the wom...   \n",
       "4  Just when George Banks has recovered from his ...   \n",
       "\n",
       "                                                cast  \\\n",
       "0  [tom_hanks, tim_allen, don_rickles, jim_varney...   \n",
       "1  [robin_williams, jonathan_hyde, kirsten_dunst,...   \n",
       "2  [walter_matthau, jack_lemmon, ann-margret, sop...   \n",
       "3  [whitney_houston, angela_bassett, loretta_devi...   \n",
       "4  [steve_martin, diane_keaton, martin_short, kim...   \n",
       "\n",
       "                                                crew  \\\n",
       "0  [john_lasseter, joss_whedon, andrew_stanton, j...   \n",
       "1  [larry_j._franco, jonathan_hensleigh, james_ho...   \n",
       "2  [howard_deutch, mark_steven_johnson, mark_stev...   \n",
       "3  [forest_whitaker, ronald_bass, ronald_bass, ez...   \n",
       "4  [alan_silvestri, elliot_davis, nancy_meyers, n...   \n",
       "\n",
       "                                            keywords  \n",
       "0  [jealousy, toy, boy, friendship, friends, riva...  \n",
       "1  [board_game, disappearance, based_on_children'...  \n",
       "2  [fishing, best_friend, duringcreditsstinger, o...  \n",
       "3  [based_on_novel, interracial_relationship, sin...  \n",
       "4  [baby, midlife_crisis, confidence, aging, daug...  "
      ],
      "text/html": "<div>\n<style scoped>\n    .dataframe tbody tr th:only-of-type {\n        vertical-align: middle;\n    }\n\n    .dataframe tbody tr th {\n        vertical-align: top;\n    }\n\n    .dataframe thead th {\n        text-align: right;\n    }\n</style>\n<table border=\"1\" class=\"dataframe\">\n  <thead>\n    <tr style=\"text-align: right;\">\n      <th></th>\n      <th>adult</th>\n      <th>belongs_to_collection</th>\n      <th>budget</th>\n      <th>genres</th>\n      <th>homepage</th>\n      <th>tmdb_id</th>\n      <th>imdb_id</th>\n      <th>original_language</th>\n      <th>original_title</th>\n      <th>overview</th>\n      <th>popularity</th>\n      <th>poster_path</th>\n      <th>production_companies</th>\n      <th>production_countries</th>\n      <th>release_date</th>\n      <th>revenue</th>\n      <th>runtime</th>\n      <th>spoken_languages</th>\n      <th>status</th>\n      <th>tagline</th>\n      <th>title</th>\n      <th>video</th>\n      <th>vote_average</th>\n      <th>vote_count</th>\n      <th>year</th>\n      <th>description</th>\n      <th>cast</th>\n      <th>crew</th>\n      <th>keywords</th>\n    </tr>\n  </thead>\n  <tbody>\n    <tr>\n      <th>0</th>\n      <td>False</td>\n      <td>{'id': 10194, 'name': 'Toy Story Collection', ...</td>\n      <td>30000000</td>\n      <td>[Animation, Comedy, Family]</td>\n      <td>http://toystory.disney.com/toy-story</td>\n      <td>862</td>\n      <td>tt0114709</td>\n      <td>en</td>\n      <td>Toy Story</td>\n      <td>Led by Woody, Andy's toys live happily in his ...</td>\n      <td>21.946943</td>\n      <td>/rhIRbceoE9lR4veEXuwCC2wARtG.jpg</td>\n      <td>[{'name': 'Pixar Animation Studios', 'id': 3}]</td>\n      <td>[{'iso_3166_1': 'US', 'name': 'United States o...</td>\n      <td>1995-10-30</td>\n      <td>373554033.0</td>\n      <td>81.0</td>\n      <td>[{'iso_639_1': 'en', 'name': 'English'}]</td>\n      <td>Released</td>\n      <td></td>\n      <td>Toy Story</td>\n      <td>False</td>\n      <td>7.7</td>\n      <td>5415.0</td>\n      <td>1995</td>\n      <td>Led by Woody, Andy's toys live happily in his ...</td>\n      <td>[tom_hanks, tim_allen, don_rickles, jim_varney...</td>\n      <td>[john_lasseter, joss_whedon, andrew_stanton, j...</td>\n      <td>[jealousy, toy, boy, friendship, friends, riva...</td>\n    </tr>\n    <tr>\n      <th>1</th>\n      <td>False</td>\n      <td>NaN</td>\n      <td>65000000</td>\n      <td>[Adventure, Fantasy, Family]</td>\n      <td>NaN</td>\n      <td>8844</td>\n      <td>tt0113497</td>\n      <td>en</td>\n      <td>Jumanji</td>\n      <td>When siblings Judy and Peter discover an encha...</td>\n      <td>17.015539</td>\n      <td>/vzmL6fP7aPKNKPRTFnZmiUfciyV.jpg</td>\n      <td>[{'name': 'TriStar Pictures', 'id': 559}, {'na...</td>\n      <td>[{'iso_3166_1': 'US', 'name': 'United States o...</td>\n      <td>1995-12-15</td>\n      <td>262797249.0</td>\n      <td>104.0</td>\n      <td>[{'iso_639_1': 'en', 'name': 'English'}, {'iso...</td>\n      <td>Released</td>\n      <td>Roll the dice and unleash the excitement!</td>\n      <td>Jumanji</td>\n      <td>False</td>\n      <td>6.9</td>\n      <td>2413.0</td>\n      <td>1995</td>\n      <td>When siblings Judy and Peter discover an encha...</td>\n      <td>[robin_williams, jonathan_hyde, kirsten_dunst,...</td>\n      <td>[larry_j._franco, jonathan_hensleigh, james_ho...</td>\n      <td>[board_game, disappearance, based_on_children'...</td>\n    </tr>\n    <tr>\n      <th>2</th>\n      <td>False</td>\n      <td>{'id': 119050, 'name': 'Grumpy Old Men Collect...</td>\n      <td>0</td>\n      <td>[Romance, Comedy]</td>\n      <td>NaN</td>\n      <td>15602</td>\n      <td>tt0113228</td>\n      <td>en</td>\n      <td>Grumpier Old Men</td>\n      <td>A family wedding reignites the ancient feud be...</td>\n      <td>11.7129</td>\n      <td>/6ksm1sjKMFLbO7UY2i6G1ju9SML.jpg</td>\n      <td>[{'name': 'Warner Bros.', 'id': 6194}, {'name'...</td>\n      <td>[{'iso_3166_1': 'US', 'name': 'United States o...</td>\n      <td>1995-12-22</td>\n      <td>0.0</td>\n      <td>101.0</td>\n      <td>[{'iso_639_1': 'en', 'name': 'English'}]</td>\n      <td>Released</td>\n      <td>Still Yelling. Still Fighting. Still Ready for...</td>\n      <td>Grumpier Old Men</td>\n      <td>False</td>\n      <td>6.5</td>\n      <td>92.0</td>\n      <td>1995</td>\n      <td>A family wedding reignites the ancient feud be...</td>\n      <td>[walter_matthau, jack_lemmon, ann-margret, sop...</td>\n      <td>[howard_deutch, mark_steven_johnson, mark_stev...</td>\n      <td>[fishing, best_friend, duringcreditsstinger, o...</td>\n    </tr>\n    <tr>\n      <th>3</th>\n      <td>False</td>\n      <td>NaN</td>\n      <td>16000000</td>\n      <td>[Comedy, Drama, Romance]</td>\n      <td>NaN</td>\n      <td>31357</td>\n      <td>tt0114885</td>\n      <td>en</td>\n      <td>Waiting to Exhale</td>\n      <td>Cheated on, mistreated and stepped on, the wom...</td>\n      <td>3.859495</td>\n      <td>/16XOMpEaLWkrcPqSQqhTmeJuqQl.jpg</td>\n      <td>[{'name': 'Twentieth Century Fox Film Corporat...</td>\n      <td>[{'iso_3166_1': 'US', 'name': 'United States o...</td>\n      <td>1995-12-22</td>\n      <td>81452156.0</td>\n      <td>127.0</td>\n      <td>[{'iso_639_1': 'en', 'name': 'English'}]</td>\n      <td>Released</td>\n      <td>Friends are the people who let you be yourself...</td>\n      <td>Waiting to Exhale</td>\n      <td>False</td>\n      <td>6.1</td>\n      <td>34.0</td>\n      <td>1995</td>\n      <td>Cheated on, mistreated and stepped on, the wom...</td>\n      <td>[whitney_houston, angela_bassett, loretta_devi...</td>\n      <td>[forest_whitaker, ronald_bass, ronald_bass, ez...</td>\n      <td>[based_on_novel, interracial_relationship, sin...</td>\n    </tr>\n    <tr>\n      <th>4</th>\n      <td>False</td>\n      <td>{'id': 96871, 'name': 'Father of the Bride Col...</td>\n      <td>0</td>\n      <td>[Comedy]</td>\n      <td>NaN</td>\n      <td>11862</td>\n      <td>tt0113041</td>\n      <td>en</td>\n      <td>Father of the Bride Part II</td>\n      <td>Just when George Banks has recovered from his ...</td>\n      <td>8.387519</td>\n      <td>/e64sOI48hQXyru7naBFyssKFxVd.jpg</td>\n      <td>[{'name': 'Sandollar Productions', 'id': 5842}...</td>\n      <td>[{'iso_3166_1': 'US', 'name': 'United States o...</td>\n      <td>1995-02-10</td>\n      <td>76578911.0</td>\n      <td>106.0</td>\n      <td>[{'iso_639_1': 'en', 'name': 'English'}]</td>\n      <td>Released</td>\n      <td>Just When His World Is Back To Normal... He's ...</td>\n      <td>Father of the Bride Part II</td>\n      <td>False</td>\n      <td>5.7</td>\n      <td>173.0</td>\n      <td>1995</td>\n      <td>Just when George Banks has recovered from his ...</td>\n      <td>[steve_martin, diane_keaton, martin_short, kim...</td>\n      <td>[alan_silvestri, elliot_davis, nancy_meyers, n...</td>\n      <td>[baby, midlife_crisis, confidence, aging, daug...</td>\n    </tr>\n  </tbody>\n</table>\n</div>"
     },
     "metadata": {},
     "execution_count": 142
    }
   ],
   "source": [
    "print(movies.info())\n",
    "movies.head()"
   ]
  },
  {
   "cell_type": "code",
   "execution_count": 146,
   "metadata": {},
   "outputs": [
    {
     "output_type": "execute_result",
     "data": {
      "text/plain": [
       "                                                                       0  \\\n",
       "adult                                                              False   \n",
       "belongs_to_collection  {'id': 10194, 'name': 'Toy Story Collection', ...   \n",
       "budget                                                          30000000   \n",
       "genres                                       [Animation, Comedy, Family]   \n",
       "homepage                            http://toystory.disney.com/toy-story   \n",
       "tmdb_id                                                              862   \n",
       "imdb_id                                                        tt0114709   \n",
       "original_language                                                     en   \n",
       "original_title                                                 Toy Story   \n",
       "overview               Led by Woody, Andy's toys live happily in his ...   \n",
       "popularity                                                     21.946943   \n",
       "poster_path                             /rhIRbceoE9lR4veEXuwCC2wARtG.jpg   \n",
       "production_companies      [{'name': 'Pixar Animation Studios', 'id': 3}]   \n",
       "production_countries   [{'iso_3166_1': 'US', 'name': 'United States o...   \n",
       "release_date                                                  1995-10-30   \n",
       "revenue                                                      373554033.0   \n",
       "runtime                                                             81.0   \n",
       "spoken_languages                [{'iso_639_1': 'en', 'name': 'English'}]   \n",
       "status                                                          Released   \n",
       "tagline                                                                    \n",
       "title                                                          Toy Story   \n",
       "video                                                              False   \n",
       "vote_average                                                         7.7   \n",
       "vote_count                                                        5415.0   \n",
       "year                                                                1995   \n",
       "description            Led by Woody, Andy's toys live happily in his ...   \n",
       "cast                   [tom_hanks, tim_allen, don_rickles, jim_varney...   \n",
       "crew                   [john_lasseter, joss_whedon, andrew_stanton, j...   \n",
       "keywords               [jealousy, toy, boy, friendship, friends, riva...   \n",
       "\n",
       "                                                                       1  \\\n",
       "adult                                                              False   \n",
       "belongs_to_collection                                                NaN   \n",
       "budget                                                          65000000   \n",
       "genres                                      [Adventure, Fantasy, Family]   \n",
       "homepage                                                             NaN   \n",
       "tmdb_id                                                             8844   \n",
       "imdb_id                                                        tt0113497   \n",
       "original_language                                                     en   \n",
       "original_title                                                   Jumanji   \n",
       "overview               When siblings Judy and Peter discover an encha...   \n",
       "popularity                                                     17.015539   \n",
       "poster_path                             /vzmL6fP7aPKNKPRTFnZmiUfciyV.jpg   \n",
       "production_companies   [{'name': 'TriStar Pictures', 'id': 559}, {'na...   \n",
       "production_countries   [{'iso_3166_1': 'US', 'name': 'United States o...   \n",
       "release_date                                                  1995-12-15   \n",
       "revenue                                                      262797249.0   \n",
       "runtime                                                            104.0   \n",
       "spoken_languages       [{'iso_639_1': 'en', 'name': 'English'}, {'iso...   \n",
       "status                                                          Released   \n",
       "tagline                        Roll the dice and unleash the excitement!   \n",
       "title                                                            Jumanji   \n",
       "video                                                              False   \n",
       "vote_average                                                         6.9   \n",
       "vote_count                                                        2413.0   \n",
       "year                                                                1995   \n",
       "description            When siblings Judy and Peter discover an encha...   \n",
       "cast                   [robin_williams, jonathan_hyde, kirsten_dunst,...   \n",
       "crew                   [larry_j._franco, jonathan_hensleigh, james_ho...   \n",
       "keywords               [board_game, disappearance, based_on_children'...   \n",
       "\n",
       "                                                                       2  \\\n",
       "adult                                                              False   \n",
       "belongs_to_collection  {'id': 119050, 'name': 'Grumpy Old Men Collect...   \n",
       "budget                                                                 0   \n",
       "genres                                                 [Romance, Comedy]   \n",
       "homepage                                                             NaN   \n",
       "tmdb_id                                                            15602   \n",
       "imdb_id                                                        tt0113228   \n",
       "original_language                                                     en   \n",
       "original_title                                          Grumpier Old Men   \n",
       "overview               A family wedding reignites the ancient feud be...   \n",
       "popularity                                                       11.7129   \n",
       "poster_path                             /6ksm1sjKMFLbO7UY2i6G1ju9SML.jpg   \n",
       "production_companies   [{'name': 'Warner Bros.', 'id': 6194}, {'name'...   \n",
       "production_countries   [{'iso_3166_1': 'US', 'name': 'United States o...   \n",
       "release_date                                                  1995-12-22   \n",
       "revenue                                                              0.0   \n",
       "runtime                                                            101.0   \n",
       "spoken_languages                [{'iso_639_1': 'en', 'name': 'English'}]   \n",
       "status                                                          Released   \n",
       "tagline                Still Yelling. Still Fighting. Still Ready for...   \n",
       "title                                                   Grumpier Old Men   \n",
       "video                                                              False   \n",
       "vote_average                                                         6.5   \n",
       "vote_count                                                          92.0   \n",
       "year                                                                1995   \n",
       "description            A family wedding reignites the ancient feud be...   \n",
       "cast                   [walter_matthau, jack_lemmon, ann-margret, sop...   \n",
       "crew                   [howard_deutch, mark_steven_johnson, mark_stev...   \n",
       "keywords               [fishing, best_friend, duringcreditsstinger, o...   \n",
       "\n",
       "                                                                       3  \\\n",
       "adult                                                              False   \n",
       "belongs_to_collection                                                NaN   \n",
       "budget                                                          16000000   \n",
       "genres                                          [Comedy, Drama, Romance]   \n",
       "homepage                                                             NaN   \n",
       "tmdb_id                                                            31357   \n",
       "imdb_id                                                        tt0114885   \n",
       "original_language                                                     en   \n",
       "original_title                                         Waiting to Exhale   \n",
       "overview               Cheated on, mistreated and stepped on, the wom...   \n",
       "popularity                                                      3.859495   \n",
       "poster_path                             /16XOMpEaLWkrcPqSQqhTmeJuqQl.jpg   \n",
       "production_companies   [{'name': 'Twentieth Century Fox Film Corporat...   \n",
       "production_countries   [{'iso_3166_1': 'US', 'name': 'United States o...   \n",
       "release_date                                                  1995-12-22   \n",
       "revenue                                                       81452156.0   \n",
       "runtime                                                            127.0   \n",
       "spoken_languages                [{'iso_639_1': 'en', 'name': 'English'}]   \n",
       "status                                                          Released   \n",
       "tagline                Friends are the people who let you be yourself...   \n",
       "title                                                  Waiting to Exhale   \n",
       "video                                                              False   \n",
       "vote_average                                                         6.1   \n",
       "vote_count                                                          34.0   \n",
       "year                                                                1995   \n",
       "description            Cheated on, mistreated and stepped on, the wom...   \n",
       "cast                   [whitney_houston, angela_bassett, loretta_devi...   \n",
       "crew                   [forest_whitaker, ronald_bass, ronald_bass, ez...   \n",
       "keywords               [based_on_novel, interracial_relationship, sin...   \n",
       "\n",
       "                                                                       4  \n",
       "adult                                                              False  \n",
       "belongs_to_collection  {'id': 96871, 'name': 'Father of the Bride Col...  \n",
       "budget                                                                 0  \n",
       "genres                                                          [Comedy]  \n",
       "homepage                                                             NaN  \n",
       "tmdb_id                                                            11862  \n",
       "imdb_id                                                        tt0113041  \n",
       "original_language                                                     en  \n",
       "original_title                               Father of the Bride Part II  \n",
       "overview               Just when George Banks has recovered from his ...  \n",
       "popularity                                                      8.387519  \n",
       "poster_path                             /e64sOI48hQXyru7naBFyssKFxVd.jpg  \n",
       "production_companies   [{'name': 'Sandollar Productions', 'id': 5842}...  \n",
       "production_countries   [{'iso_3166_1': 'US', 'name': 'United States o...  \n",
       "release_date                                                  1995-02-10  \n",
       "revenue                                                       76578911.0  \n",
       "runtime                                                            106.0  \n",
       "spoken_languages                [{'iso_639_1': 'en', 'name': 'English'}]  \n",
       "status                                                          Released  \n",
       "tagline                Just When His World Is Back To Normal... He's ...  \n",
       "title                                        Father of the Bride Part II  \n",
       "video                                                              False  \n",
       "vote_average                                                         5.7  \n",
       "vote_count                                                         173.0  \n",
       "year                                                                1995  \n",
       "description            Just when George Banks has recovered from his ...  \n",
       "cast                   [steve_martin, diane_keaton, martin_short, kim...  \n",
       "crew                   [alan_silvestri, elliot_davis, nancy_meyers, n...  \n",
       "keywords               [baby, midlife_crisis, confidence, aging, daug...  "
      ],
      "text/html": "<div>\n<style scoped>\n    .dataframe tbody tr th:only-of-type {\n        vertical-align: middle;\n    }\n\n    .dataframe tbody tr th {\n        vertical-align: top;\n    }\n\n    .dataframe thead th {\n        text-align: right;\n    }\n</style>\n<table border=\"1\" class=\"dataframe\">\n  <thead>\n    <tr style=\"text-align: right;\">\n      <th></th>\n      <th>0</th>\n      <th>1</th>\n      <th>2</th>\n      <th>3</th>\n      <th>4</th>\n    </tr>\n  </thead>\n  <tbody>\n    <tr>\n      <th>adult</th>\n      <td>False</td>\n      <td>False</td>\n      <td>False</td>\n      <td>False</td>\n      <td>False</td>\n    </tr>\n    <tr>\n      <th>belongs_to_collection</th>\n      <td>{'id': 10194, 'name': 'Toy Story Collection', ...</td>\n      <td>NaN</td>\n      <td>{'id': 119050, 'name': 'Grumpy Old Men Collect...</td>\n      <td>NaN</td>\n      <td>{'id': 96871, 'name': 'Father of the Bride Col...</td>\n    </tr>\n    <tr>\n      <th>budget</th>\n      <td>30000000</td>\n      <td>65000000</td>\n      <td>0</td>\n      <td>16000000</td>\n      <td>0</td>\n    </tr>\n    <tr>\n      <th>genres</th>\n      <td>[Animation, Comedy, Family]</td>\n      <td>[Adventure, Fantasy, Family]</td>\n      <td>[Romance, Comedy]</td>\n      <td>[Comedy, Drama, Romance]</td>\n      <td>[Comedy]</td>\n    </tr>\n    <tr>\n      <th>homepage</th>\n      <td>http://toystory.disney.com/toy-story</td>\n      <td>NaN</td>\n      <td>NaN</td>\n      <td>NaN</td>\n      <td>NaN</td>\n    </tr>\n    <tr>\n      <th>tmdb_id</th>\n      <td>862</td>\n      <td>8844</td>\n      <td>15602</td>\n      <td>31357</td>\n      <td>11862</td>\n    </tr>\n    <tr>\n      <th>imdb_id</th>\n      <td>tt0114709</td>\n      <td>tt0113497</td>\n      <td>tt0113228</td>\n      <td>tt0114885</td>\n      <td>tt0113041</td>\n    </tr>\n    <tr>\n      <th>original_language</th>\n      <td>en</td>\n      <td>en</td>\n      <td>en</td>\n      <td>en</td>\n      <td>en</td>\n    </tr>\n    <tr>\n      <th>original_title</th>\n      <td>Toy Story</td>\n      <td>Jumanji</td>\n      <td>Grumpier Old Men</td>\n      <td>Waiting to Exhale</td>\n      <td>Father of the Bride Part II</td>\n    </tr>\n    <tr>\n      <th>overview</th>\n      <td>Led by Woody, Andy's toys live happily in his ...</td>\n      <td>When siblings Judy and Peter discover an encha...</td>\n      <td>A family wedding reignites the ancient feud be...</td>\n      <td>Cheated on, mistreated and stepped on, the wom...</td>\n      <td>Just when George Banks has recovered from his ...</td>\n    </tr>\n    <tr>\n      <th>popularity</th>\n      <td>21.946943</td>\n      <td>17.015539</td>\n      <td>11.7129</td>\n      <td>3.859495</td>\n      <td>8.387519</td>\n    </tr>\n    <tr>\n      <th>poster_path</th>\n      <td>/rhIRbceoE9lR4veEXuwCC2wARtG.jpg</td>\n      <td>/vzmL6fP7aPKNKPRTFnZmiUfciyV.jpg</td>\n      <td>/6ksm1sjKMFLbO7UY2i6G1ju9SML.jpg</td>\n      <td>/16XOMpEaLWkrcPqSQqhTmeJuqQl.jpg</td>\n      <td>/e64sOI48hQXyru7naBFyssKFxVd.jpg</td>\n    </tr>\n    <tr>\n      <th>production_companies</th>\n      <td>[{'name': 'Pixar Animation Studios', 'id': 3}]</td>\n      <td>[{'name': 'TriStar Pictures', 'id': 559}, {'na...</td>\n      <td>[{'name': 'Warner Bros.', 'id': 6194}, {'name'...</td>\n      <td>[{'name': 'Twentieth Century Fox Film Corporat...</td>\n      <td>[{'name': 'Sandollar Productions', 'id': 5842}...</td>\n    </tr>\n    <tr>\n      <th>production_countries</th>\n      <td>[{'iso_3166_1': 'US', 'name': 'United States o...</td>\n      <td>[{'iso_3166_1': 'US', 'name': 'United States o...</td>\n      <td>[{'iso_3166_1': 'US', 'name': 'United States o...</td>\n      <td>[{'iso_3166_1': 'US', 'name': 'United States o...</td>\n      <td>[{'iso_3166_1': 'US', 'name': 'United States o...</td>\n    </tr>\n    <tr>\n      <th>release_date</th>\n      <td>1995-10-30</td>\n      <td>1995-12-15</td>\n      <td>1995-12-22</td>\n      <td>1995-12-22</td>\n      <td>1995-02-10</td>\n    </tr>\n    <tr>\n      <th>revenue</th>\n      <td>373554033.0</td>\n      <td>262797249.0</td>\n      <td>0.0</td>\n      <td>81452156.0</td>\n      <td>76578911.0</td>\n    </tr>\n    <tr>\n      <th>runtime</th>\n      <td>81.0</td>\n      <td>104.0</td>\n      <td>101.0</td>\n      <td>127.0</td>\n      <td>106.0</td>\n    </tr>\n    <tr>\n      <th>spoken_languages</th>\n      <td>[{'iso_639_1': 'en', 'name': 'English'}]</td>\n      <td>[{'iso_639_1': 'en', 'name': 'English'}, {'iso...</td>\n      <td>[{'iso_639_1': 'en', 'name': 'English'}]</td>\n      <td>[{'iso_639_1': 'en', 'name': 'English'}]</td>\n      <td>[{'iso_639_1': 'en', 'name': 'English'}]</td>\n    </tr>\n    <tr>\n      <th>status</th>\n      <td>Released</td>\n      <td>Released</td>\n      <td>Released</td>\n      <td>Released</td>\n      <td>Released</td>\n    </tr>\n    <tr>\n      <th>tagline</th>\n      <td></td>\n      <td>Roll the dice and unleash the excitement!</td>\n      <td>Still Yelling. Still Fighting. Still Ready for...</td>\n      <td>Friends are the people who let you be yourself...</td>\n      <td>Just When His World Is Back To Normal... He's ...</td>\n    </tr>\n    <tr>\n      <th>title</th>\n      <td>Toy Story</td>\n      <td>Jumanji</td>\n      <td>Grumpier Old Men</td>\n      <td>Waiting to Exhale</td>\n      <td>Father of the Bride Part II</td>\n    </tr>\n    <tr>\n      <th>video</th>\n      <td>False</td>\n      <td>False</td>\n      <td>False</td>\n      <td>False</td>\n      <td>False</td>\n    </tr>\n    <tr>\n      <th>vote_average</th>\n      <td>7.7</td>\n      <td>6.9</td>\n      <td>6.5</td>\n      <td>6.1</td>\n      <td>5.7</td>\n    </tr>\n    <tr>\n      <th>vote_count</th>\n      <td>5415.0</td>\n      <td>2413.0</td>\n      <td>92.0</td>\n      <td>34.0</td>\n      <td>173.0</td>\n    </tr>\n    <tr>\n      <th>year</th>\n      <td>1995</td>\n      <td>1995</td>\n      <td>1995</td>\n      <td>1995</td>\n      <td>1995</td>\n    </tr>\n    <tr>\n      <th>description</th>\n      <td>Led by Woody, Andy's toys live happily in his ...</td>\n      <td>When siblings Judy and Peter discover an encha...</td>\n      <td>A family wedding reignites the ancient feud be...</td>\n      <td>Cheated on, mistreated and stepped on, the wom...</td>\n      <td>Just when George Banks has recovered from his ...</td>\n    </tr>\n    <tr>\n      <th>cast</th>\n      <td>[tom_hanks, tim_allen, don_rickles, jim_varney...</td>\n      <td>[robin_williams, jonathan_hyde, kirsten_dunst,...</td>\n      <td>[walter_matthau, jack_lemmon, ann-margret, sop...</td>\n      <td>[whitney_houston, angela_bassett, loretta_devi...</td>\n      <td>[steve_martin, diane_keaton, martin_short, kim...</td>\n    </tr>\n    <tr>\n      <th>crew</th>\n      <td>[john_lasseter, joss_whedon, andrew_stanton, j...</td>\n      <td>[larry_j._franco, jonathan_hensleigh, james_ho...</td>\n      <td>[howard_deutch, mark_steven_johnson, mark_stev...</td>\n      <td>[forest_whitaker, ronald_bass, ronald_bass, ez...</td>\n      <td>[alan_silvestri, elliot_davis, nancy_meyers, n...</td>\n    </tr>\n    <tr>\n      <th>keywords</th>\n      <td>[jealousy, toy, boy, friendship, friends, riva...</td>\n      <td>[board_game, disappearance, based_on_children'...</td>\n      <td>[fishing, best_friend, duringcreditsstinger, o...</td>\n      <td>[based_on_novel, interracial_relationship, sin...</td>\n      <td>[baby, midlife_crisis, confidence, aging, daug...</td>\n    </tr>\n  </tbody>\n</table>\n</div>"
     },
     "metadata": {},
     "execution_count": 146
    }
   ],
   "source": [
    "movies.head().transpose()"
   ]
  },
  {
   "source": [
    "### Ratings dataframe preparation"
   ],
   "cell_type": "markdown",
   "metadata": {}
  },
  {
   "cell_type": "code",
   "execution_count": 147,
   "metadata": {},
   "outputs": [],
   "source": [
    "ratings_small.columns = ['user_id', 'movie_id', 'rating', 'timestamp']"
   ]
  },
  {
   "cell_type": "code",
   "execution_count": 148,
   "metadata": {},
   "outputs": [
    {
     "output_type": "stream",
     "name": "stdout",
     "text": [
      "<class 'pandas.core.frame.DataFrame'>\nRangeIndex: 100004 entries, 0 to 100003\nData columns (total 4 columns):\n #   Column     Non-Null Count   Dtype  \n---  ------     --------------   -----  \n 0   user_id    100004 non-null  int64  \n 1   movie_id   100004 non-null  int64  \n 2   rating     100004 non-null  float64\n 3   timestamp  100004 non-null  int64  \ndtypes: float64(1), int64(3)\nmemory usage: 3.1 MB\nNone\n"
     ]
    },
    {
     "output_type": "execute_result",
     "data": {
      "text/plain": [
       "   user_id  movie_id  rating   timestamp\n",
       "0        1        31     2.5  1260759144\n",
       "1        1      1029     3.0  1260759179\n",
       "2        1      1061     3.0  1260759182\n",
       "3        1      1129     2.0  1260759185\n",
       "4        1      1172     4.0  1260759205"
      ],
      "text/html": "<div>\n<style scoped>\n    .dataframe tbody tr th:only-of-type {\n        vertical-align: middle;\n    }\n\n    .dataframe tbody tr th {\n        vertical-align: top;\n    }\n\n    .dataframe thead th {\n        text-align: right;\n    }\n</style>\n<table border=\"1\" class=\"dataframe\">\n  <thead>\n    <tr style=\"text-align: right;\">\n      <th></th>\n      <th>user_id</th>\n      <th>movie_id</th>\n      <th>rating</th>\n      <th>timestamp</th>\n    </tr>\n  </thead>\n  <tbody>\n    <tr>\n      <th>0</th>\n      <td>1</td>\n      <td>31</td>\n      <td>2.5</td>\n      <td>1260759144</td>\n    </tr>\n    <tr>\n      <th>1</th>\n      <td>1</td>\n      <td>1029</td>\n      <td>3.0</td>\n      <td>1260759179</td>\n    </tr>\n    <tr>\n      <th>2</th>\n      <td>1</td>\n      <td>1061</td>\n      <td>3.0</td>\n      <td>1260759182</td>\n    </tr>\n    <tr>\n      <th>3</th>\n      <td>1</td>\n      <td>1129</td>\n      <td>2.0</td>\n      <td>1260759185</td>\n    </tr>\n    <tr>\n      <th>4</th>\n      <td>1</td>\n      <td>1172</td>\n      <td>4.0</td>\n      <td>1260759205</td>\n    </tr>\n  </tbody>\n</table>\n</div>"
     },
     "metadata": {},
     "execution_count": 148
    }
   ],
   "source": [
    "print(ratings_small.info())\n",
    "ratings_small.head()"
   ]
  },
  {
   "source": [
    "### Simple recomendation"
   ],
   "cell_type": "markdown",
   "metadata": {}
  },
  {
   "source": [
    "IMDB's weighted rating formula:\n",
    "\n",
    "$WR = (\\frac{v}{v + m} . R) + (\\frac{m}{v + m} . C)$\n",
    "```\n",
    "where,\n",
    "    v is the number of votes for the movie\n",
    "    m is the minimum votes required to be listed in the chart\n",
    "    R is the average rating of the movie\n",
    "    C is the mean vote across the whole report\n",
    "```"
   ],
   "cell_type": "markdown",
   "metadata": {}
  },
  {
   "cell_type": "code",
   "execution_count": 149,
   "metadata": {},
   "outputs": [
    {
     "output_type": "stream",
     "name": "stdout",
     "text": [
      "C: 5.61845297056946\nm: 160.0\n"
     ]
    }
   ],
   "source": [
    "# v\n",
    "vote_counts = movies[movies['vote_count'].notnull()]['vote_count'].astype('int')\n",
    "\n",
    "# R\n",
    "vote_averages = movies[movies['vote_average'].notnull()]['vote_average']\n",
    "\n",
    "# C\n",
    "C = vote_averages.mean()\n",
    "\n",
    "# m\n",
    "m = vote_counts.quantile(0.9)\n",
    "\n",
    "# print(f'v: {vote_counts}')\n",
    "# print(f'R: {vote_averages}')\n",
    "print(f'C: {C}')\n",
    "print(f'm: {m}')"
   ]
  },
  {
   "cell_type": "code",
   "execution_count": 150,
   "metadata": {},
   "outputs": [
    {
     "output_type": "execute_result",
     "data": {
      "text/plain": [
       "(4551, 7)"
      ]
     },
     "metadata": {},
     "execution_count": 150
    }
   ],
   "source": [
    "to_recommend = movies[\n",
    "    (movies['vote_count'] >= m) & \n",
    "    (movies['vote_count'].notnull()) & \n",
    "    (movies['vote_average'].notnull())\n",
    "][['title', 'year', 'original_language','vote_count', \n",
    "   'vote_average', 'popularity', 'genres']]\n",
    "\n",
    "to_recommend.rename(columns={'original_language': 'language'}, inplace=True)\n",
    "\n",
    "to_recommend['vote_count'] = to_recommend['vote_count'].astype('int')\n",
    "to_recommend.shape"
   ]
  },
  {
   "cell_type": "code",
   "execution_count": 151,
   "metadata": {},
   "outputs": [],
   "source": [
    "def weighted_rating(x):\n",
    "    v = x['vote_count']\n",
    "    R = x['vote_average']\n",
    "    wr = (v/(v+m) * R) + (m/(m+v) * C)\n",
    "    return wr\n",
    "\n",
    "\n",
    "to_recommend['weighted_rating'] = to_recommend.apply(weighted_rating, axis=1)\n",
    "\n",
    "to_recommend = to_recommend.sort_values('weighted_rating', ascending=False)"
   ]
  },
  {
   "cell_type": "code",
   "execution_count": 152,
   "metadata": {},
   "outputs": [
    {
     "output_type": "execute_result",
     "data": {
      "text/plain": [
       "                                 title  year language  vote_count  \\\n",
       "314           The Shawshank Redemption  1994       en        8358   \n",
       "841                      The Godfather  1972       en        6024   \n",
       "10397      Dilwale Dulhania Le Jayenge  1995       hi         661   \n",
       "12589                  The Dark Knight  2008       en       12269   \n",
       "2870                        Fight Club  1999       en        9678   \n",
       "292                       Pulp Fiction  1994       en        8670   \n",
       "522                   Schindler's List  1993       en        4436   \n",
       "23868                         Whiplash  2014       en        4376   \n",
       "5529                     Spirited Away  2001       ja        3968   \n",
       "2231                 Life Is Beautiful  1997       it        3643   \n",
       "1199            The Godfather: Part II  1974       en        3418   \n",
       "1173   One Flew Over the Cuckoo's Nest  1975       en        3001   \n",
       "351                       Forrest Gump  1994       en        8147   \n",
       "1175           The Empire Strikes Back  1980       en        5998   \n",
       "1197                            Psycho  1960       en        2405   \n",
       "18655                 The Intouchables  2011       fr        5410   \n",
       "41418                       Your Name.  2016       ja        1030   \n",
       "289             Leon: The Professional  1994       fr        4293   \n",
       "3057                    The Green Mile  1999       en        4166   \n",
       "1191                        GoodFellas  1990       en        3211   \n",
       "\n",
       "       vote_average  popularity                                   genres  \\\n",
       "314             8.5   51.645403                           [Drama, Crime]   \n",
       "841             8.5   41.109264                           [Drama, Crime]   \n",
       "10397           9.1   34.457024                 [Comedy, Drama, Romance]   \n",
       "12589           8.3  123.167259         [Drama, Action, Crime, Thriller]   \n",
       "2870            8.3   63.869599                                  [Drama]   \n",
       "292             8.3  140.950236                        [Thriller, Crime]   \n",
       "522             8.3   41.725123                    [Drama, History, War]   \n",
       "23868           8.3    64.29999                                  [Drama]   \n",
       "5529            8.3   41.048867  [Fantasy, Adventure, Animation, Family]   \n",
       "2231            8.3    39.39497                          [Comedy, Drama]   \n",
       "1199            8.3   36.629307                           [Drama, Crime]   \n",
       "1173            8.3   35.529554                                  [Drama]   \n",
       "351             8.2   48.307194                 [Comedy, Drama, Romance]   \n",
       "1175            8.2   19.470959     [Adventure, Action, Science Fiction]   \n",
       "1197            8.3   36.826309                [Drama, Horror, Thriller]   \n",
       "18655           8.2   16.086919                          [Drama, Comedy]   \n",
       "41418           8.5   34.461252              [Romance, Animation, Drama]   \n",
       "289             8.2   20.477329                 [Thriller, Crime, Drama]   \n",
       "3057            8.2    19.96678                  [Fantasy, Drama, Crime]   \n",
       "1191            8.2   15.424092                           [Drama, Crime]   \n",
       "\n",
       "       weighted_rating  \n",
       "314           8.445874  \n",
       "841           8.425445  \n",
       "10397         8.421501  \n",
       "12589         8.265480  \n",
       "2870          8.256389  \n",
       "292           8.251410  \n",
       "522           8.206648  \n",
       "23868         8.205413  \n",
       "5529          8.196064  \n",
       "2231          8.187182  \n",
       "1199          8.180087  \n",
       "1173          8.164268  \n",
       "351           8.150277  \n",
       "1175          8.132925  \n",
       "1197          8.132730  \n",
       "18655         8.125844  \n",
       "41418         8.112565  \n",
       "289           8.107243  \n",
       "3057          8.104520  \n",
       "1191          8.077470  "
      ],
      "text/html": "<div>\n<style scoped>\n    .dataframe tbody tr th:only-of-type {\n        vertical-align: middle;\n    }\n\n    .dataframe tbody tr th {\n        vertical-align: top;\n    }\n\n    .dataframe thead th {\n        text-align: right;\n    }\n</style>\n<table border=\"1\" class=\"dataframe\">\n  <thead>\n    <tr style=\"text-align: right;\">\n      <th></th>\n      <th>title</th>\n      <th>year</th>\n      <th>language</th>\n      <th>vote_count</th>\n      <th>vote_average</th>\n      <th>popularity</th>\n      <th>genres</th>\n      <th>weighted_rating</th>\n    </tr>\n  </thead>\n  <tbody>\n    <tr>\n      <th>314</th>\n      <td>The Shawshank Redemption</td>\n      <td>1994</td>\n      <td>en</td>\n      <td>8358</td>\n      <td>8.5</td>\n      <td>51.645403</td>\n      <td>[Drama, Crime]</td>\n      <td>8.445874</td>\n    </tr>\n    <tr>\n      <th>841</th>\n      <td>The Godfather</td>\n      <td>1972</td>\n      <td>en</td>\n      <td>6024</td>\n      <td>8.5</td>\n      <td>41.109264</td>\n      <td>[Drama, Crime]</td>\n      <td>8.425445</td>\n    </tr>\n    <tr>\n      <th>10397</th>\n      <td>Dilwale Dulhania Le Jayenge</td>\n      <td>1995</td>\n      <td>hi</td>\n      <td>661</td>\n      <td>9.1</td>\n      <td>34.457024</td>\n      <td>[Comedy, Drama, Romance]</td>\n      <td>8.421501</td>\n    </tr>\n    <tr>\n      <th>12589</th>\n      <td>The Dark Knight</td>\n      <td>2008</td>\n      <td>en</td>\n      <td>12269</td>\n      <td>8.3</td>\n      <td>123.167259</td>\n      <td>[Drama, Action, Crime, Thriller]</td>\n      <td>8.265480</td>\n    </tr>\n    <tr>\n      <th>2870</th>\n      <td>Fight Club</td>\n      <td>1999</td>\n      <td>en</td>\n      <td>9678</td>\n      <td>8.3</td>\n      <td>63.869599</td>\n      <td>[Drama]</td>\n      <td>8.256389</td>\n    </tr>\n    <tr>\n      <th>292</th>\n      <td>Pulp Fiction</td>\n      <td>1994</td>\n      <td>en</td>\n      <td>8670</td>\n      <td>8.3</td>\n      <td>140.950236</td>\n      <td>[Thriller, Crime]</td>\n      <td>8.251410</td>\n    </tr>\n    <tr>\n      <th>522</th>\n      <td>Schindler's List</td>\n      <td>1993</td>\n      <td>en</td>\n      <td>4436</td>\n      <td>8.3</td>\n      <td>41.725123</td>\n      <td>[Drama, History, War]</td>\n      <td>8.206648</td>\n    </tr>\n    <tr>\n      <th>23868</th>\n      <td>Whiplash</td>\n      <td>2014</td>\n      <td>en</td>\n      <td>4376</td>\n      <td>8.3</td>\n      <td>64.29999</td>\n      <td>[Drama]</td>\n      <td>8.205413</td>\n    </tr>\n    <tr>\n      <th>5529</th>\n      <td>Spirited Away</td>\n      <td>2001</td>\n      <td>ja</td>\n      <td>3968</td>\n      <td>8.3</td>\n      <td>41.048867</td>\n      <td>[Fantasy, Adventure, Animation, Family]</td>\n      <td>8.196064</td>\n    </tr>\n    <tr>\n      <th>2231</th>\n      <td>Life Is Beautiful</td>\n      <td>1997</td>\n      <td>it</td>\n      <td>3643</td>\n      <td>8.3</td>\n      <td>39.39497</td>\n      <td>[Comedy, Drama]</td>\n      <td>8.187182</td>\n    </tr>\n    <tr>\n      <th>1199</th>\n      <td>The Godfather: Part II</td>\n      <td>1974</td>\n      <td>en</td>\n      <td>3418</td>\n      <td>8.3</td>\n      <td>36.629307</td>\n      <td>[Drama, Crime]</td>\n      <td>8.180087</td>\n    </tr>\n    <tr>\n      <th>1173</th>\n      <td>One Flew Over the Cuckoo's Nest</td>\n      <td>1975</td>\n      <td>en</td>\n      <td>3001</td>\n      <td>8.3</td>\n      <td>35.529554</td>\n      <td>[Drama]</td>\n      <td>8.164268</td>\n    </tr>\n    <tr>\n      <th>351</th>\n      <td>Forrest Gump</td>\n      <td>1994</td>\n      <td>en</td>\n      <td>8147</td>\n      <td>8.2</td>\n      <td>48.307194</td>\n      <td>[Comedy, Drama, Romance]</td>\n      <td>8.150277</td>\n    </tr>\n    <tr>\n      <th>1175</th>\n      <td>The Empire Strikes Back</td>\n      <td>1980</td>\n      <td>en</td>\n      <td>5998</td>\n      <td>8.2</td>\n      <td>19.470959</td>\n      <td>[Adventure, Action, Science Fiction]</td>\n      <td>8.132925</td>\n    </tr>\n    <tr>\n      <th>1197</th>\n      <td>Psycho</td>\n      <td>1960</td>\n      <td>en</td>\n      <td>2405</td>\n      <td>8.3</td>\n      <td>36.826309</td>\n      <td>[Drama, Horror, Thriller]</td>\n      <td>8.132730</td>\n    </tr>\n    <tr>\n      <th>18655</th>\n      <td>The Intouchables</td>\n      <td>2011</td>\n      <td>fr</td>\n      <td>5410</td>\n      <td>8.2</td>\n      <td>16.086919</td>\n      <td>[Drama, Comedy]</td>\n      <td>8.125844</td>\n    </tr>\n    <tr>\n      <th>41418</th>\n      <td>Your Name.</td>\n      <td>2016</td>\n      <td>ja</td>\n      <td>1030</td>\n      <td>8.5</td>\n      <td>34.461252</td>\n      <td>[Romance, Animation, Drama]</td>\n      <td>8.112565</td>\n    </tr>\n    <tr>\n      <th>289</th>\n      <td>Leon: The Professional</td>\n      <td>1994</td>\n      <td>fr</td>\n      <td>4293</td>\n      <td>8.2</td>\n      <td>20.477329</td>\n      <td>[Thriller, Crime, Drama]</td>\n      <td>8.107243</td>\n    </tr>\n    <tr>\n      <th>3057</th>\n      <td>The Green Mile</td>\n      <td>1999</td>\n      <td>en</td>\n      <td>4166</td>\n      <td>8.2</td>\n      <td>19.96678</td>\n      <td>[Fantasy, Drama, Crime]</td>\n      <td>8.104520</td>\n    </tr>\n    <tr>\n      <th>1191</th>\n      <td>GoodFellas</td>\n      <td>1990</td>\n      <td>en</td>\n      <td>3211</td>\n      <td>8.2</td>\n      <td>15.424092</td>\n      <td>[Drama, Crime]</td>\n      <td>8.077470</td>\n    </tr>\n  </tbody>\n</table>\n</div>"
     },
     "metadata": {},
     "execution_count": 152
    }
   ],
   "source": [
    "to_recommend.head(20)"
   ]
  },
  {
   "source": [
    "### Collaborative Filtering"
   ],
   "cell_type": "markdown",
   "metadata": {}
  },
  {
   "cell_type": "code",
   "execution_count": 153,
   "metadata": {},
   "outputs": [
    {
     "output_type": "stream",
     "name": "stdout",
     "text": [
      "Evaluating RMSE, MAE of algorithm SVD on 5 split(s).\n\n                  Fold 1  Fold 2  Fold 3  Fold 4  Fold 5  Mean    Std     \nRMSE (testset)    0.8926  0.8982  0.8939  0.9047  0.8902  0.8959  0.0051  \nMAE (testset)     0.6875  0.6944  0.6861  0.6959  0.6856  0.6899  0.0044  \nFit time          5.00    4.92    4.96    5.01    5.06    4.99    0.05    \nTest time         0.14    0.13    0.13    0.14    0.13    0.13    0.00    \n"
     ]
    },
    {
     "output_type": "execute_result",
     "data": {
      "text/plain": [
       "{'test_rmse': array([0.89255349, 0.89818893, 0.89390678, 0.90469343, 0.8901895 ]),\n",
       " 'test_mae': array([0.68751276, 0.69436022, 0.6860504 , 0.69594614, 0.68555857]),\n",
       " 'fit_time': (5.0014848709106445,\n",
       "  4.924375057220459,\n",
       "  4.9615113735198975,\n",
       "  5.008440971374512,\n",
       "  5.059353828430176),\n",
       " 'test_time': (0.13767337799072266,\n",
       "  0.12867379188537598,\n",
       "  0.13202404975891113,\n",
       "  0.13726019859313965,\n",
       "  0.13040566444396973)}"
      ]
     },
     "metadata": {},
     "execution_count": 153
    }
   ],
   "source": [
    "# reader = Reader(rating_scale=(0.5, 5)) \n",
    "reader = Reader()\n",
    "\n",
    "ratings_df = Dataset.load_from_df(ratings_small[['user_id', 'movie_id', 'rating']], reader)\n",
    "\n",
    "svd = SVD()\n",
    "\n",
    "# Run 5-fold cross-validation and print results\n",
    "cross_validate(svd, ratings_df, measures=['RMSE', 'MAE'], cv=5, verbose=True)"
   ]
  },
  {
   "cell_type": "code",
   "execution_count": 154,
   "metadata": {},
   "outputs": [
    {
     "output_type": "execute_result",
     "data": {
      "text/plain": [
       "<surprise.prediction_algorithms.matrix_factorization.SVD at 0x13e1fc130>"
      ]
     },
     "metadata": {},
     "execution_count": 154
    }
   ],
   "source": [
    "trainset = ratings_df.build_full_trainset()\n",
    "\n",
    "svd.fit(trainset)"
   ]
  },
  {
   "source": [
    "### Content-based"
   ],
   "cell_type": "markdown",
   "metadata": {}
  },
  {
   "cell_type": "code",
   "execution_count": 155,
   "metadata": {},
   "outputs": [
    {
     "output_type": "execute_result",
     "data": {
      "text/plain": [
       "(9082, 29)"
      ]
     },
     "metadata": {},
     "execution_count": 155
    }
   ],
   "source": [
    "movies_in_links = movies[\n",
    "    movies['tmdb_id'].isin(links_small['tmdb_id'])\n",
    "]\n",
    "\n",
    "movies_in_links.shape"
   ]
  },
  {
   "cell_type": "code",
   "execution_count": 163,
   "metadata": {},
   "outputs": [
    {
     "output_type": "execute_result",
     "data": {
      "text/plain": [
       "title\n",
       "Toy Story                      0\n",
       "Jumanji                        1\n",
       "Grumpier Old Men               2\n",
       "Waiting to Exhale              3\n",
       "Father of the Bride Part II    4\n",
       "dtype: int64"
      ]
     },
     "metadata": {},
     "execution_count": 163
    }
   ],
   "source": [
    "movies_in_links = movies_in_links.reset_index()\n",
    "titles = movies_in_links['title']\n",
    "indices = pd.Series(movies_in_links.index, index=movies_in_links['title'])\n",
    "\n",
    "indices.head()"
   ]
  },
  {
   "source": [
    "### C-B using movie overviews and taglines (description)"
   ],
   "cell_type": "markdown",
   "metadata": {}
  },
  {
   "cell_type": "code",
   "execution_count": 157,
   "metadata": {},
   "outputs": [],
   "source": [
    "tf = TfidfVectorizer(\n",
    "    analyzer='word', \n",
    "    ngram_range=(1, 2), \n",
    "    min_df=0, \n",
    "    stop_words='english'\n",
    ")\n",
    "\n",
    "tfidf_matrix = tf.fit_transform(movies_in_links['description'])"
   ]
  },
  {
   "cell_type": "code",
   "execution_count": 158,
   "metadata": {},
   "outputs": [
    {
     "output_type": "execute_result",
     "data": {
      "text/plain": [
       "(9082, 268124)"
      ]
     },
     "metadata": {},
     "execution_count": 158
    }
   ],
   "source": [
    "tfidf_matrix.shape"
   ]
  },
  {
   "cell_type": "code",
   "execution_count": 164,
   "metadata": {},
   "outputs": [
    {
     "output_type": "execute_result",
     "data": {
      "text/plain": [
       "(9082, 9082)"
      ]
     },
     "metadata": {},
     "execution_count": 164
    }
   ],
   "source": [
    "# http://scikit-learn.org/stable/modules/metrics.html#linear-kernel\n",
    "cosine_sim_desc = linear_kernel(tfidf_matrix, tfidf_matrix)\n",
    "\n",
    "cosine_sim_desc.shape"
   ]
  },
  {
   "source": [
    "### C-B using movie cast and crew"
   ],
   "cell_type": "markdown",
   "metadata": {}
  },
  {
   "cell_type": "code",
   "execution_count": 161,
   "metadata": {},
   "outputs": [],
   "source": [
    "movies_in_links['cast_crew'] = (movies_in_links['cast'] + movies_in_links['crew']).apply(lambda x: ' '.join(x))"
   ]
  },
  {
   "cell_type": "code",
   "execution_count": 169,
   "metadata": {},
   "outputs": [],
   "source": [
    "tf = TfidfVectorizer(\n",
    "    analyzer='word', \n",
    "    ngram_range=(1, 2), \n",
    "    min_df=0, \n",
    "    stop_words='english'\n",
    ")\n",
    "\n",
    "tfidf_matrix = tf.fit_transform(movies_in_links['cast_crew'])"
   ]
  },
  {
   "cell_type": "code",
   "execution_count": 170,
   "metadata": {},
   "outputs": [
    {
     "output_type": "execute_result",
     "data": {
      "text/plain": [
       "(9082, 9082)"
      ]
     },
     "metadata": {},
     "execution_count": 170
    }
   ],
   "source": [
    "cosine_sim_cc = linear_kernel(tfidf_matrix, tfidf_matrix)\n",
    "\n",
    "cosine_sim_cc.shape"
   ]
  },
  {
   "source": [
    "### Hybrid recommendation system"
   ],
   "cell_type": "markdown",
   "metadata": {}
  },
  {
   "cell_type": "code",
   "execution_count": 171,
   "metadata": {},
   "outputs": [],
   "source": [
    "id_map = links_small[['movie_id', 'tmdb_id']]\n",
    "id_map = id_map.merge(movies_in_links[['title', 'tmdb_id']], on='tmdb_id').set_index('title')"
   ]
  },
  {
   "cell_type": "code",
   "execution_count": 172,
   "metadata": {},
   "outputs": [],
   "source": [
    "indices_map = id_map.set_index('tmdb_id')"
   ]
  },
  {
   "cell_type": "code",
   "execution_count": 173,
   "metadata": {},
   "outputs": [],
   "source": [
    "# cosine_sim = cosine_sim_desc\n",
    "cosine_sim = cosine_sim_cc\n",
    "\n",
    "def hybrid(user_id, title):\n",
    "    idx = indices[title]\n",
    "    tmdb_id = id_map.loc[title]['tmdb_id']\n",
    "    movie_id = id_map.loc[title]['movie_id']\n",
    "\n",
    "    sim_scores = list(enumerate(cosine_sim[int(idx)]))\n",
    "    sim_scores = sorted(sim_scores, key=lambda x: x[1], reverse=True)\n",
    "    sim_scores = sim_scores[1:30]\n",
    "\n",
    "    movie_indices = [i[0] for i in sim_scores]\n",
    "    movies = movies_in_links.iloc[movie_indices][['title', 'genres', 'vote_count', 'vote_average', 'release_date', 'tmdb_id']]\n",
    "    movies['est'] = movies['tmdb_id'].apply(lambda x: svd.predict(user_id, indices_map.loc[x]['movie_id']).est)\n",
    "    movies = movies.sort_values('est', ascending=False)\n",
    "\n",
    "    return movies.head(10)"
   ]
  },
  {
   "cell_type": "code",
   "execution_count": 186,
   "metadata": {},
   "outputs": [
    {
     "output_type": "execute_result",
     "data": {
      "text/plain": [
       "                               title  \\\n",
       "2501                     Toy Story 2   \n",
       "3798                  Monsters, Inc.   \n",
       "7531                     Toy Story 3   \n",
       "6961                          WALL·E   \n",
       "4602                    Finding Nemo   \n",
       "6175                        Serenity   \n",
       "4294            My Dinner with André   \n",
       "7216                              Up   \n",
       "7163  Dr. Horrible's Sing-Along Blog   \n",
       "1862                    A Bug's Life   \n",
       "\n",
       "                                                 genres  \n",
       "2501                        [Animation, Comedy, Family]  \n",
       "3798                        [Animation, Comedy, Family]  \n",
       "7531                        [Animation, Family, Comedy]  \n",
       "6961                                [Animation, Family]  \n",
       "4602                                [Animation, Family]  \n",
       "6175     [Science Fiction, Action, Adventure, Thriller]  \n",
       "4294                                    [Comedy, Drama]  \n",
       "7216             [Animation, Comedy, Family, Adventure]  \n",
       "7163  [Adventure, Action, Comedy, Science Fiction, M...  \n",
       "1862             [Adventure, Animation, Comedy, Family]  "
      ],
      "text/html": "<div>\n<style scoped>\n    .dataframe tbody tr th:only-of-type {\n        vertical-align: middle;\n    }\n\n    .dataframe tbody tr th {\n        vertical-align: top;\n    }\n\n    .dataframe thead th {\n        text-align: right;\n    }\n</style>\n<table border=\"1\" class=\"dataframe\">\n  <thead>\n    <tr style=\"text-align: right;\">\n      <th></th>\n      <th>title</th>\n      <th>genres</th>\n    </tr>\n  </thead>\n  <tbody>\n    <tr>\n      <th>2501</th>\n      <td>Toy Story 2</td>\n      <td>[Animation, Comedy, Family]</td>\n    </tr>\n    <tr>\n      <th>3798</th>\n      <td>Monsters, Inc.</td>\n      <td>[Animation, Comedy, Family]</td>\n    </tr>\n    <tr>\n      <th>7531</th>\n      <td>Toy Story 3</td>\n      <td>[Animation, Family, Comedy]</td>\n    </tr>\n    <tr>\n      <th>6961</th>\n      <td>WALL·E</td>\n      <td>[Animation, Family]</td>\n    </tr>\n    <tr>\n      <th>4602</th>\n      <td>Finding Nemo</td>\n      <td>[Animation, Family]</td>\n    </tr>\n    <tr>\n      <th>6175</th>\n      <td>Serenity</td>\n      <td>[Science Fiction, Action, Adventure, Thriller]</td>\n    </tr>\n    <tr>\n      <th>4294</th>\n      <td>My Dinner with André</td>\n      <td>[Comedy, Drama]</td>\n    </tr>\n    <tr>\n      <th>7216</th>\n      <td>Up</td>\n      <td>[Animation, Comedy, Family, Adventure]</td>\n    </tr>\n    <tr>\n      <th>7163</th>\n      <td>Dr. Horrible's Sing-Along Blog</td>\n      <td>[Adventure, Action, Comedy, Science Fiction, M...</td>\n    </tr>\n    <tr>\n      <th>1862</th>\n      <td>A Bug's Life</td>\n      <td>[Adventure, Animation, Comedy, Family]</td>\n    </tr>\n  </tbody>\n</table>\n</div>"
     },
     "metadata": {},
     "execution_count": 186
    }
   ],
   "source": [
    "hybrid(1, 'Toy Story')[['title', 'genres']]"
   ]
  },
  {
   "cell_type": "code",
   "execution_count": 183,
   "metadata": {},
   "outputs": [
    {
     "output_type": "execute_result",
     "data": {
      "text/plain": [
       "                               title  \\\n",
       "6175                        Serenity   \n",
       "7531                     Toy Story 3   \n",
       "7163  Dr. Horrible's Sing-Along Blog   \n",
       "2501                     Toy Story 2   \n",
       "6961                          WALL·E   \n",
       "4602                    Finding Nemo   \n",
       "7359                   Partly Cloudy   \n",
       "3798                  Monsters, Inc.   \n",
       "7216                              Up   \n",
       "2070                   Goodbye Lover   \n",
       "\n",
       "                                                 genres  \n",
       "6175     [Science Fiction, Action, Adventure, Thriller]  \n",
       "7531                        [Animation, Family, Comedy]  \n",
       "7163  [Adventure, Action, Comedy, Science Fiction, M...  \n",
       "2501                        [Animation, Comedy, Family]  \n",
       "6961                                [Animation, Family]  \n",
       "4602                                [Animation, Family]  \n",
       "7359                                [Animation, Family]  \n",
       "3798                        [Animation, Comedy, Family]  \n",
       "7216             [Animation, Comedy, Family, Adventure]  \n",
       "2070                 [Thriller, Comedy, Crime, Mystery]  "
      ],
      "text/html": "<div>\n<style scoped>\n    .dataframe tbody tr th:only-of-type {\n        vertical-align: middle;\n    }\n\n    .dataframe tbody tr th {\n        vertical-align: top;\n    }\n\n    .dataframe thead th {\n        text-align: right;\n    }\n</style>\n<table border=\"1\" class=\"dataframe\">\n  <thead>\n    <tr style=\"text-align: right;\">\n      <th></th>\n      <th>title</th>\n      <th>genres</th>\n    </tr>\n  </thead>\n  <tbody>\n    <tr>\n      <th>6175</th>\n      <td>Serenity</td>\n      <td>[Science Fiction, Action, Adventure, Thriller]</td>\n    </tr>\n    <tr>\n      <th>7531</th>\n      <td>Toy Story 3</td>\n      <td>[Animation, Family, Comedy]</td>\n    </tr>\n    <tr>\n      <th>7163</th>\n      <td>Dr. Horrible's Sing-Along Blog</td>\n      <td>[Adventure, Action, Comedy, Science Fiction, M...</td>\n    </tr>\n    <tr>\n      <th>2501</th>\n      <td>Toy Story 2</td>\n      <td>[Animation, Comedy, Family]</td>\n    </tr>\n    <tr>\n      <th>6961</th>\n      <td>WALL·E</td>\n      <td>[Animation, Family]</td>\n    </tr>\n    <tr>\n      <th>4602</th>\n      <td>Finding Nemo</td>\n      <td>[Animation, Family]</td>\n    </tr>\n    <tr>\n      <th>7359</th>\n      <td>Partly Cloudy</td>\n      <td>[Animation, Family]</td>\n    </tr>\n    <tr>\n      <th>3798</th>\n      <td>Monsters, Inc.</td>\n      <td>[Animation, Comedy, Family]</td>\n    </tr>\n    <tr>\n      <th>7216</th>\n      <td>Up</td>\n      <td>[Animation, Comedy, Family, Adventure]</td>\n    </tr>\n    <tr>\n      <th>2070</th>\n      <td>Goodbye Lover</td>\n      <td>[Thriller, Comedy, Crime, Mystery]</td>\n    </tr>\n  </tbody>\n</table>\n</div>"
     },
     "metadata": {},
     "execution_count": 183
    }
   ],
   "source": [
    "hybrid(7, 'Toy Story')[['title', 'genres']]"
   ]
  },
  {
   "cell_type": "code",
   "execution_count": 182,
   "metadata": {},
   "outputs": [
    {
     "output_type": "execute_result",
     "data": {
      "text/plain": [
       "                                           title  \\\n",
       "8600                     Guardians of the Galaxy   \n",
       "8749                     Avengers: Age of Ultron   \n",
       "953                                       Aliens   \n",
       "901                                    The Abyss   \n",
       "522                   Terminator 2: Judgment Day   \n",
       "990                               The Terminator   \n",
       "4288                            Galaxy of Terror   \n",
       "7864                                The Avengers   \n",
       "6427  Pirates of the Caribbean: Dead Man's Chest   \n",
       "3338                     Battle Beyond the Stars   \n",
       "\n",
       "                                              genres  \n",
       "8600            [Action, Science Fiction, Adventure]  \n",
       "8749            [Action, Adventure, Science Fiction]  \n",
       "953      [Horror, Action, Thriller, Science Fiction]  \n",
       "901   [Adventure, Action, Thriller, Science Fiction]  \n",
       "522              [Action, Thriller, Science Fiction]  \n",
       "990              [Action, Thriller, Science Fiction]  \n",
       "4288    [Action, Adventure, Horror, Science Fiction]  \n",
       "7864            [Science Fiction, Action, Adventure]  \n",
       "6427                    [Adventure, Fantasy, Action]  \n",
       "3338                               [Science Fiction]  "
      ],
      "text/html": "<div>\n<style scoped>\n    .dataframe tbody tr th:only-of-type {\n        vertical-align: middle;\n    }\n\n    .dataframe tbody tr th {\n        vertical-align: top;\n    }\n\n    .dataframe thead th {\n        text-align: right;\n    }\n</style>\n<table border=\"1\" class=\"dataframe\">\n  <thead>\n    <tr style=\"text-align: right;\">\n      <th></th>\n      <th>title</th>\n      <th>genres</th>\n    </tr>\n  </thead>\n  <tbody>\n    <tr>\n      <th>8600</th>\n      <td>Guardians of the Galaxy</td>\n      <td>[Action, Science Fiction, Adventure]</td>\n    </tr>\n    <tr>\n      <th>8749</th>\n      <td>Avengers: Age of Ultron</td>\n      <td>[Action, Adventure, Science Fiction]</td>\n    </tr>\n    <tr>\n      <th>953</th>\n      <td>Aliens</td>\n      <td>[Horror, Action, Thriller, Science Fiction]</td>\n    </tr>\n    <tr>\n      <th>901</th>\n      <td>The Abyss</td>\n      <td>[Adventure, Action, Thriller, Science Fiction]</td>\n    </tr>\n    <tr>\n      <th>522</th>\n      <td>Terminator 2: Judgment Day</td>\n      <td>[Action, Thriller, Science Fiction]</td>\n    </tr>\n    <tr>\n      <th>990</th>\n      <td>The Terminator</td>\n      <td>[Action, Thriller, Science Fiction]</td>\n    </tr>\n    <tr>\n      <th>4288</th>\n      <td>Galaxy of Terror</td>\n      <td>[Action, Adventure, Horror, Science Fiction]</td>\n    </tr>\n    <tr>\n      <th>7864</th>\n      <td>The Avengers</td>\n      <td>[Science Fiction, Action, Adventure]</td>\n    </tr>\n    <tr>\n      <th>6427</th>\n      <td>Pirates of the Caribbean: Dead Man's Chest</td>\n      <td>[Adventure, Fantasy, Action]</td>\n    </tr>\n    <tr>\n      <th>3338</th>\n      <td>Battle Beyond the Stars</td>\n      <td>[Science Fiction]</td>\n    </tr>\n  </tbody>\n</table>\n</div>"
     },
     "metadata": {},
     "execution_count": 182
    }
   ],
   "source": [
    "hybrid(1, 'Avatar')[['title', 'genres']]"
   ]
  },
  {
   "cell_type": "code",
   "execution_count": 181,
   "metadata": {},
   "outputs": [
    {
     "output_type": "execute_result",
     "data": {
      "text/plain": [
       "                                             title  \\\n",
       "8600                       Guardians of the Galaxy   \n",
       "990                                 The Terminator   \n",
       "953                                         Aliens   \n",
       "522                     Terminator 2: Judgment Day   \n",
       "7864                                  The Avengers   \n",
       "8749                       Avengers: Age of Ultron   \n",
       "6427    Pirates of the Caribbean: Dead Man's Chest   \n",
       "901                                      The Abyss   \n",
       "3338                       Battle Beyond the Stars   \n",
       "6315  The Cutting Edge: The Magic of Movie Editing   \n",
       "\n",
       "                                              genres  \n",
       "8600            [Action, Science Fiction, Adventure]  \n",
       "990              [Action, Thriller, Science Fiction]  \n",
       "953      [Horror, Action, Thriller, Science Fiction]  \n",
       "522              [Action, Thriller, Science Fiction]  \n",
       "7864            [Science Fiction, Action, Adventure]  \n",
       "8749            [Action, Adventure, Science Fiction]  \n",
       "6427                    [Adventure, Fantasy, Action]  \n",
       "901   [Adventure, Action, Thriller, Science Fiction]  \n",
       "3338                               [Science Fiction]  \n",
       "6315                                   [Documentary]  "
      ],
      "text/html": "<div>\n<style scoped>\n    .dataframe tbody tr th:only-of-type {\n        vertical-align: middle;\n    }\n\n    .dataframe tbody tr th {\n        vertical-align: top;\n    }\n\n    .dataframe thead th {\n        text-align: right;\n    }\n</style>\n<table border=\"1\" class=\"dataframe\">\n  <thead>\n    <tr style=\"text-align: right;\">\n      <th></th>\n      <th>title</th>\n      <th>genres</th>\n    </tr>\n  </thead>\n  <tbody>\n    <tr>\n      <th>8600</th>\n      <td>Guardians of the Galaxy</td>\n      <td>[Action, Science Fiction, Adventure]</td>\n    </tr>\n    <tr>\n      <th>990</th>\n      <td>The Terminator</td>\n      <td>[Action, Thriller, Science Fiction]</td>\n    </tr>\n    <tr>\n      <th>953</th>\n      <td>Aliens</td>\n      <td>[Horror, Action, Thriller, Science Fiction]</td>\n    </tr>\n    <tr>\n      <th>522</th>\n      <td>Terminator 2: Judgment Day</td>\n      <td>[Action, Thriller, Science Fiction]</td>\n    </tr>\n    <tr>\n      <th>7864</th>\n      <td>The Avengers</td>\n      <td>[Science Fiction, Action, Adventure]</td>\n    </tr>\n    <tr>\n      <th>8749</th>\n      <td>Avengers: Age of Ultron</td>\n      <td>[Action, Adventure, Science Fiction]</td>\n    </tr>\n    <tr>\n      <th>6427</th>\n      <td>Pirates of the Caribbean: Dead Man's Chest</td>\n      <td>[Adventure, Fantasy, Action]</td>\n    </tr>\n    <tr>\n      <th>901</th>\n      <td>The Abyss</td>\n      <td>[Adventure, Action, Thriller, Science Fiction]</td>\n    </tr>\n    <tr>\n      <th>3338</th>\n      <td>Battle Beyond the Stars</td>\n      <td>[Science Fiction]</td>\n    </tr>\n    <tr>\n      <th>6315</th>\n      <td>The Cutting Edge: The Magic of Movie Editing</td>\n      <td>[Documentary]</td>\n    </tr>\n  </tbody>\n</table>\n</div>"
     },
     "metadata": {},
     "execution_count": 181
    }
   ],
   "source": [
    "hybrid(7, 'Avatar')[['title', 'genres']]"
   ]
  },
  {
   "cell_type": "code",
   "execution_count": 50,
   "metadata": {},
   "outputs": [
    {
     "output_type": "execute_result",
     "data": {
      "text/plain": [
       "                                 title  year language  vote_count  \\\n",
       "314           The Shawshank Redemption  1994       en        8358   \n",
       "834                      The Godfather  1972       en        6024   \n",
       "10309      Dilwale Dulhania Le Jayenge  1995       hi         661   \n",
       "12481                  The Dark Knight  2008       en       12269   \n",
       "2843                        Fight Club  1999       en        9678   \n",
       "292                       Pulp Fiction  1994       en        8670   \n",
       "522                   Schindler's List  1993       en        4436   \n",
       "23673                         Whiplash  2014       en        4376   \n",
       "5481                     Spirited Away  2001       ja        3968   \n",
       "2211                 Life Is Beautiful  1997       it        3643   \n",
       "1178            The Godfather: Part II  1974       en        3418   \n",
       "1152   One Flew Over the Cuckoo's Nest  1975       en        3001   \n",
       "351                       Forrest Gump  1994       en        8147   \n",
       "1154           The Empire Strikes Back  1980       en        5998   \n",
       "1176                            Psycho  1960       en        2405   \n",
       "18465                 The Intouchables  2011       fr        5410   \n",
       "40251                       Your Name.  2016       ja        1030   \n",
       "289             Leon: The Professional  1994       fr        4293   \n",
       "3030                    The Green Mile  1999       en        4166   \n",
       "1170                        GoodFellas  1990       en        3211   \n",
       "\n",
       "       vote_average  popularity                                   genres  \\\n",
       "314             8.5   51.645403                           [Drama, Crime]   \n",
       "834             8.5   41.109264                           [Drama, Crime]   \n",
       "10309           9.1   34.457024                 [Comedy, Drama, Romance]   \n",
       "12481           8.3  123.167259         [Drama, Action, Crime, Thriller]   \n",
       "2843            8.3   63.869599                                  [Drama]   \n",
       "292             8.3  140.950236                        [Thriller, Crime]   \n",
       "522             8.3   41.725123                    [Drama, History, War]   \n",
       "23673           8.3    64.29999                                  [Drama]   \n",
       "5481            8.3   41.048867  [Fantasy, Adventure, Animation, Family]   \n",
       "2211            8.3    39.39497                          [Comedy, Drama]   \n",
       "1178            8.3   36.629307                           [Drama, Crime]   \n",
       "1152            8.3   35.529554                                  [Drama]   \n",
       "351             8.2   48.307194                 [Comedy, Drama, Romance]   \n",
       "1154            8.2   19.470959     [Adventure, Action, Science Fiction]   \n",
       "1176            8.3   36.826309                [Drama, Horror, Thriller]   \n",
       "18465           8.2   16.086919                          [Drama, Comedy]   \n",
       "40251           8.5   34.461252              [Romance, Animation, Drama]   \n",
       "289             8.2   20.477329                 [Thriller, Crime, Drama]   \n",
       "3030            8.2    19.96678                  [Fantasy, Drama, Crime]   \n",
       "1170            8.2   15.424092                           [Drama, Crime]   \n",
       "\n",
       "       weighted_rating  \n",
       "314           8.445869  \n",
       "834           8.425439  \n",
       "10309         8.421453  \n",
       "12481         8.265477  \n",
       "2843          8.256385  \n",
       "292           8.251406  \n",
       "522           8.206639  \n",
       "23673         8.205404  \n",
       "5481          8.196055  \n",
       "2211          8.187171  \n",
       "1178          8.180076  \n",
       "1152          8.164256  \n",
       "351           8.150272  \n",
       "1154          8.132919  \n",
       "1176          8.132715  \n",
       "18465         8.125837  \n",
       "40251         8.112532  \n",
       "289           8.107234  \n",
       "3030          8.104511  \n",
       "1170          8.077459  "
      ],
      "text/html": "<div>\n<style scoped>\n    .dataframe tbody tr th:only-of-type {\n        vertical-align: middle;\n    }\n\n    .dataframe tbody tr th {\n        vertical-align: top;\n    }\n\n    .dataframe thead th {\n        text-align: right;\n    }\n</style>\n<table border=\"1\" class=\"dataframe\">\n  <thead>\n    <tr style=\"text-align: right;\">\n      <th></th>\n      <th>title</th>\n      <th>year</th>\n      <th>language</th>\n      <th>vote_count</th>\n      <th>vote_average</th>\n      <th>popularity</th>\n      <th>genres</th>\n      <th>weighted_rating</th>\n    </tr>\n  </thead>\n  <tbody>\n    <tr>\n      <th>314</th>\n      <td>The Shawshank Redemption</td>\n      <td>1994</td>\n      <td>en</td>\n      <td>8358</td>\n      <td>8.5</td>\n      <td>51.645403</td>\n      <td>[Drama, Crime]</td>\n      <td>8.445869</td>\n    </tr>\n    <tr>\n      <th>834</th>\n      <td>The Godfather</td>\n      <td>1972</td>\n      <td>en</td>\n      <td>6024</td>\n      <td>8.5</td>\n      <td>41.109264</td>\n      <td>[Drama, Crime]</td>\n      <td>8.425439</td>\n    </tr>\n    <tr>\n      <th>10309</th>\n      <td>Dilwale Dulhania Le Jayenge</td>\n      <td>1995</td>\n      <td>hi</td>\n      <td>661</td>\n      <td>9.1</td>\n      <td>34.457024</td>\n      <td>[Comedy, Drama, Romance]</td>\n      <td>8.421453</td>\n    </tr>\n    <tr>\n      <th>12481</th>\n      <td>The Dark Knight</td>\n      <td>2008</td>\n      <td>en</td>\n      <td>12269</td>\n      <td>8.3</td>\n      <td>123.167259</td>\n      <td>[Drama, Action, Crime, Thriller]</td>\n      <td>8.265477</td>\n    </tr>\n    <tr>\n      <th>2843</th>\n      <td>Fight Club</td>\n      <td>1999</td>\n      <td>en</td>\n      <td>9678</td>\n      <td>8.3</td>\n      <td>63.869599</td>\n      <td>[Drama]</td>\n      <td>8.256385</td>\n    </tr>\n    <tr>\n      <th>292</th>\n      <td>Pulp Fiction</td>\n      <td>1994</td>\n      <td>en</td>\n      <td>8670</td>\n      <td>8.3</td>\n      <td>140.950236</td>\n      <td>[Thriller, Crime]</td>\n      <td>8.251406</td>\n    </tr>\n    <tr>\n      <th>522</th>\n      <td>Schindler's List</td>\n      <td>1993</td>\n      <td>en</td>\n      <td>4436</td>\n      <td>8.3</td>\n      <td>41.725123</td>\n      <td>[Drama, History, War]</td>\n      <td>8.206639</td>\n    </tr>\n    <tr>\n      <th>23673</th>\n      <td>Whiplash</td>\n      <td>2014</td>\n      <td>en</td>\n      <td>4376</td>\n      <td>8.3</td>\n      <td>64.29999</td>\n      <td>[Drama]</td>\n      <td>8.205404</td>\n    </tr>\n    <tr>\n      <th>5481</th>\n      <td>Spirited Away</td>\n      <td>2001</td>\n      <td>ja</td>\n      <td>3968</td>\n      <td>8.3</td>\n      <td>41.048867</td>\n      <td>[Fantasy, Adventure, Animation, Family]</td>\n      <td>8.196055</td>\n    </tr>\n    <tr>\n      <th>2211</th>\n      <td>Life Is Beautiful</td>\n      <td>1997</td>\n      <td>it</td>\n      <td>3643</td>\n      <td>8.3</td>\n      <td>39.39497</td>\n      <td>[Comedy, Drama]</td>\n      <td>8.187171</td>\n    </tr>\n    <tr>\n      <th>1178</th>\n      <td>The Godfather: Part II</td>\n      <td>1974</td>\n      <td>en</td>\n      <td>3418</td>\n      <td>8.3</td>\n      <td>36.629307</td>\n      <td>[Drama, Crime]</td>\n      <td>8.180076</td>\n    </tr>\n    <tr>\n      <th>1152</th>\n      <td>One Flew Over the Cuckoo's Nest</td>\n      <td>1975</td>\n      <td>en</td>\n      <td>3001</td>\n      <td>8.3</td>\n      <td>35.529554</td>\n      <td>[Drama]</td>\n      <td>8.164256</td>\n    </tr>\n    <tr>\n      <th>351</th>\n      <td>Forrest Gump</td>\n      <td>1994</td>\n      <td>en</td>\n      <td>8147</td>\n      <td>8.2</td>\n      <td>48.307194</td>\n      <td>[Comedy, Drama, Romance]</td>\n      <td>8.150272</td>\n    </tr>\n    <tr>\n      <th>1154</th>\n      <td>The Empire Strikes Back</td>\n      <td>1980</td>\n      <td>en</td>\n      <td>5998</td>\n      <td>8.2</td>\n      <td>19.470959</td>\n      <td>[Adventure, Action, Science Fiction]</td>\n      <td>8.132919</td>\n    </tr>\n    <tr>\n      <th>1176</th>\n      <td>Psycho</td>\n      <td>1960</td>\n      <td>en</td>\n      <td>2405</td>\n      <td>8.3</td>\n      <td>36.826309</td>\n      <td>[Drama, Horror, Thriller]</td>\n      <td>8.132715</td>\n    </tr>\n    <tr>\n      <th>18465</th>\n      <td>The Intouchables</td>\n      <td>2011</td>\n      <td>fr</td>\n      <td>5410</td>\n      <td>8.2</td>\n      <td>16.086919</td>\n      <td>[Drama, Comedy]</td>\n      <td>8.125837</td>\n    </tr>\n    <tr>\n      <th>40251</th>\n      <td>Your Name.</td>\n      <td>2016</td>\n      <td>ja</td>\n      <td>1030</td>\n      <td>8.5</td>\n      <td>34.461252</td>\n      <td>[Romance, Animation, Drama]</td>\n      <td>8.112532</td>\n    </tr>\n    <tr>\n      <th>289</th>\n      <td>Leon: The Professional</td>\n      <td>1994</td>\n      <td>fr</td>\n      <td>4293</td>\n      <td>8.2</td>\n      <td>20.477329</td>\n      <td>[Thriller, Crime, Drama]</td>\n      <td>8.107234</td>\n    </tr>\n    <tr>\n      <th>3030</th>\n      <td>The Green Mile</td>\n      <td>1999</td>\n      <td>en</td>\n      <td>4166</td>\n      <td>8.2</td>\n      <td>19.96678</td>\n      <td>[Fantasy, Drama, Crime]</td>\n      <td>8.104511</td>\n    </tr>\n    <tr>\n      <th>1170</th>\n      <td>GoodFellas</td>\n      <td>1990</td>\n      <td>en</td>\n      <td>3211</td>\n      <td>8.2</td>\n      <td>15.424092</td>\n      <td>[Drama, Crime]</td>\n      <td>8.077459</td>\n    </tr>\n  </tbody>\n</table>\n</div>"
     },
     "metadata": {},
     "execution_count": 50
    }
   ],
   "source": [
    "to_recommend.head(20)"
   ]
  },
  {
   "cell_type": "code",
   "execution_count": null,
   "metadata": {},
   "outputs": [],
   "source": []
  }
 ]
}